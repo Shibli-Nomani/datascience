{
  "cells": [
    {
      "cell_type": "markdown",
      "metadata": {
        "id": "view-in-github",
        "colab_type": "text"
      },
      "source": [
        "<a href=\"https://colab.research.google.com/github/Shibli-Nomani/datascience/blob/main/HW14_Feature_Selection_and_PCA_with_KNN.ipynb\" target=\"_parent\"><img src=\"https://colab.research.google.com/assets/colab-badge.svg\" alt=\"Open In Colab\"/></a>"
      ]
    },
    {
      "cell_type": "markdown",
      "metadata": {
        "id": "XtbIGKjTVnnC"
      },
      "source": [
        "*Apply all feature selection techniques and PCA separately and then apply knn classifier.\n",
        "compare the results.*"
      ]
    },
    {
      "cell_type": "code",
      "execution_count": null,
      "metadata": {
        "colab": {
          "base_uri": "https://localhost:8080/"
        },
        "id": "xDeiVg-hSynS",
        "outputId": "3d428c3f-6e13-4065-c54e-5ba2574f6315"
      },
      "outputs": [
        {
          "name": "stdout",
          "output_type": "stream",
          "text": [
            "Mounted at /content/gdrive\n"
          ]
        }
      ],
      "source": [
        "from google.colab import drive\n",
        "drive.mount('/content/gdrive')"
      ]
    },
    {
      "cell_type": "code",
      "execution_count": null,
      "metadata": {
        "colab": {
          "base_uri": "https://localhost:8080/",
          "height": 362
        },
        "id": "8UjBRJYWV3xF",
        "outputId": "ff349b99-849a-4a5d-b042-26dfe277304e"
      },
      "outputs": [
        {
          "data": {
            "text/html": [
              "\n",
              "  <div id=\"df-207071a2-b8a1-4f0c-8270-240c69dc1d1e\">\n",
              "    <div class=\"colab-df-container\">\n",
              "      <div>\n",
              "<style scoped>\n",
              "    .dataframe tbody tr th:only-of-type {\n",
              "        vertical-align: middle;\n",
              "    }\n",
              "\n",
              "    .dataframe tbody tr th {\n",
              "        vertical-align: top;\n",
              "    }\n",
              "\n",
              "    .dataframe thead th {\n",
              "        text-align: right;\n",
              "    }\n",
              "</style>\n",
              "<table border=\"1\" class=\"dataframe\">\n",
              "  <thead>\n",
              "    <tr style=\"text-align: right;\">\n",
              "      <th></th>\n",
              "      <th>battery_power</th>\n",
              "      <th>blue</th>\n",
              "      <th>clock_speed</th>\n",
              "      <th>dual_sim</th>\n",
              "      <th>fc</th>\n",
              "      <th>four_g</th>\n",
              "      <th>int_memory</th>\n",
              "      <th>m_dep</th>\n",
              "      <th>mobile_wt</th>\n",
              "      <th>n_cores</th>\n",
              "      <th>...</th>\n",
              "      <th>px_height</th>\n",
              "      <th>px_width</th>\n",
              "      <th>ram</th>\n",
              "      <th>sc_h</th>\n",
              "      <th>sc_w</th>\n",
              "      <th>talk_time</th>\n",
              "      <th>three_g</th>\n",
              "      <th>touch_screen</th>\n",
              "      <th>wifi</th>\n",
              "      <th>price_range</th>\n",
              "    </tr>\n",
              "  </thead>\n",
              "  <tbody>\n",
              "    <tr>\n",
              "      <th>0</th>\n",
              "      <td>772</td>\n",
              "      <td>0</td>\n",
              "      <td>1.1</td>\n",
              "      <td>1</td>\n",
              "      <td>12</td>\n",
              "      <td>0</td>\n",
              "      <td>39</td>\n",
              "      <td>0.8</td>\n",
              "      <td>81</td>\n",
              "      <td>7</td>\n",
              "      <td>...</td>\n",
              "      <td>1314</td>\n",
              "      <td>1854</td>\n",
              "      <td>2819</td>\n",
              "      <td>17</td>\n",
              "      <td>15</td>\n",
              "      <td>3</td>\n",
              "      <td>1</td>\n",
              "      <td>1</td>\n",
              "      <td>0</td>\n",
              "      <td>3</td>\n",
              "    </tr>\n",
              "    <tr>\n",
              "      <th>1</th>\n",
              "      <td>1709</td>\n",
              "      <td>1</td>\n",
              "      <td>2.1</td>\n",
              "      <td>0</td>\n",
              "      <td>1</td>\n",
              "      <td>0</td>\n",
              "      <td>13</td>\n",
              "      <td>1.0</td>\n",
              "      <td>156</td>\n",
              "      <td>2</td>\n",
              "      <td>...</td>\n",
              "      <td>974</td>\n",
              "      <td>1385</td>\n",
              "      <td>3283</td>\n",
              "      <td>17</td>\n",
              "      <td>1</td>\n",
              "      <td>15</td>\n",
              "      <td>1</td>\n",
              "      <td>0</td>\n",
              "      <td>0</td>\n",
              "      <td>3</td>\n",
              "    </tr>\n",
              "    <tr>\n",
              "      <th>2</th>\n",
              "      <td>1949</td>\n",
              "      <td>0</td>\n",
              "      <td>2.6</td>\n",
              "      <td>1</td>\n",
              "      <td>4</td>\n",
              "      <td>0</td>\n",
              "      <td>47</td>\n",
              "      <td>0.3</td>\n",
              "      <td>199</td>\n",
              "      <td>4</td>\n",
              "      <td>...</td>\n",
              "      <td>407</td>\n",
              "      <td>822</td>\n",
              "      <td>1433</td>\n",
              "      <td>11</td>\n",
              "      <td>5</td>\n",
              "      <td>20</td>\n",
              "      <td>0</td>\n",
              "      <td>0</td>\n",
              "      <td>1</td>\n",
              "      <td>1</td>\n",
              "    </tr>\n",
              "    <tr>\n",
              "      <th>3</th>\n",
              "      <td>615</td>\n",
              "      <td>1</td>\n",
              "      <td>2.5</td>\n",
              "      <td>0</td>\n",
              "      <td>0</td>\n",
              "      <td>0</td>\n",
              "      <td>10</td>\n",
              "      <td>0.8</td>\n",
              "      <td>131</td>\n",
              "      <td>6</td>\n",
              "      <td>...</td>\n",
              "      <td>1216</td>\n",
              "      <td>1786</td>\n",
              "      <td>2769</td>\n",
              "      <td>16</td>\n",
              "      <td>8</td>\n",
              "      <td>11</td>\n",
              "      <td>1</td>\n",
              "      <td>0</td>\n",
              "      <td>0</td>\n",
              "      <td>2</td>\n",
              "    </tr>\n",
              "    <tr>\n",
              "      <th>4</th>\n",
              "      <td>1821</td>\n",
              "      <td>1</td>\n",
              "      <td>1.2</td>\n",
              "      <td>0</td>\n",
              "      <td>13</td>\n",
              "      <td>1</td>\n",
              "      <td>44</td>\n",
              "      <td>0.6</td>\n",
              "      <td>141</td>\n",
              "      <td>2</td>\n",
              "      <td>...</td>\n",
              "      <td>1208</td>\n",
              "      <td>1212</td>\n",
              "      <td>1411</td>\n",
              "      <td>8</td>\n",
              "      <td>2</td>\n",
              "      <td>15</td>\n",
              "      <td>1</td>\n",
              "      <td>1</td>\n",
              "      <td>0</td>\n",
              "      <td>1</td>\n",
              "    </tr>\n",
              "    <tr>\n",
              "      <th>5</th>\n",
              "      <td>1859</td>\n",
              "      <td>0</td>\n",
              "      <td>0.5</td>\n",
              "      <td>1</td>\n",
              "      <td>3</td>\n",
              "      <td>0</td>\n",
              "      <td>22</td>\n",
              "      <td>0.7</td>\n",
              "      <td>164</td>\n",
              "      <td>1</td>\n",
              "      <td>...</td>\n",
              "      <td>1004</td>\n",
              "      <td>1654</td>\n",
              "      <td>1067</td>\n",
              "      <td>17</td>\n",
              "      <td>1</td>\n",
              "      <td>10</td>\n",
              "      <td>1</td>\n",
              "      <td>0</td>\n",
              "      <td>0</td>\n",
              "      <td>1</td>\n",
              "    </tr>\n",
              "    <tr>\n",
              "      <th>6</th>\n",
              "      <td>1821</td>\n",
              "      <td>0</td>\n",
              "      <td>1.7</td>\n",
              "      <td>0</td>\n",
              "      <td>4</td>\n",
              "      <td>1</td>\n",
              "      <td>10</td>\n",
              "      <td>0.8</td>\n",
              "      <td>139</td>\n",
              "      <td>8</td>\n",
              "      <td>...</td>\n",
              "      <td>381</td>\n",
              "      <td>1018</td>\n",
              "      <td>3220</td>\n",
              "      <td>13</td>\n",
              "      <td>8</td>\n",
              "      <td>18</td>\n",
              "      <td>1</td>\n",
              "      <td>0</td>\n",
              "      <td>1</td>\n",
              "      <td>3</td>\n",
              "    </tr>\n",
              "  </tbody>\n",
              "</table>\n",
              "<p>7 rows × 21 columns</p>\n",
              "</div>\n",
              "      <button class=\"colab-df-convert\" onclick=\"convertToInteractive('df-207071a2-b8a1-4f0c-8270-240c69dc1d1e')\"\n",
              "              title=\"Convert this dataframe to an interactive table.\"\n",
              "              style=\"display:none;\">\n",
              "        \n",
              "  <svg xmlns=\"http://www.w3.org/2000/svg\" height=\"24px\"viewBox=\"0 0 24 24\"\n",
              "       width=\"24px\">\n",
              "    <path d=\"M0 0h24v24H0V0z\" fill=\"none\"/>\n",
              "    <path d=\"M18.56 5.44l.94 2.06.94-2.06 2.06-.94-2.06-.94-.94-2.06-.94 2.06-2.06.94zm-11 1L8.5 8.5l.94-2.06 2.06-.94-2.06-.94L8.5 2.5l-.94 2.06-2.06.94zm10 10l.94 2.06.94-2.06 2.06-.94-2.06-.94-.94-2.06-.94 2.06-2.06.94z\"/><path d=\"M17.41 7.96l-1.37-1.37c-.4-.4-.92-.59-1.43-.59-.52 0-1.04.2-1.43.59L10.3 9.45l-7.72 7.72c-.78.78-.78 2.05 0 2.83L4 21.41c.39.39.9.59 1.41.59.51 0 1.02-.2 1.41-.59l7.78-7.78 2.81-2.81c.8-.78.8-2.07 0-2.86zM5.41 20L4 18.59l7.72-7.72 1.47 1.35L5.41 20z\"/>\n",
              "  </svg>\n",
              "      </button>\n",
              "      \n",
              "  <style>\n",
              "    .colab-df-container {\n",
              "      display:flex;\n",
              "      flex-wrap:wrap;\n",
              "      gap: 12px;\n",
              "    }\n",
              "\n",
              "    .colab-df-convert {\n",
              "      background-color: #E8F0FE;\n",
              "      border: none;\n",
              "      border-radius: 50%;\n",
              "      cursor: pointer;\n",
              "      display: none;\n",
              "      fill: #1967D2;\n",
              "      height: 32px;\n",
              "      padding: 0 0 0 0;\n",
              "      width: 32px;\n",
              "    }\n",
              "\n",
              "    .colab-df-convert:hover {\n",
              "      background-color: #E2EBFA;\n",
              "      box-shadow: 0px 1px 2px rgba(60, 64, 67, 0.3), 0px 1px 3px 1px rgba(60, 64, 67, 0.15);\n",
              "      fill: #174EA6;\n",
              "    }\n",
              "\n",
              "    [theme=dark] .colab-df-convert {\n",
              "      background-color: #3B4455;\n",
              "      fill: #D2E3FC;\n",
              "    }\n",
              "\n",
              "    [theme=dark] .colab-df-convert:hover {\n",
              "      background-color: #434B5C;\n",
              "      box-shadow: 0px 1px 3px 1px rgba(0, 0, 0, 0.15);\n",
              "      filter: drop-shadow(0px 1px 2px rgba(0, 0, 0, 0.3));\n",
              "      fill: #FFFFFF;\n",
              "    }\n",
              "  </style>\n",
              "\n",
              "      <script>\n",
              "        const buttonEl =\n",
              "          document.querySelector('#df-207071a2-b8a1-4f0c-8270-240c69dc1d1e button.colab-df-convert');\n",
              "        buttonEl.style.display =\n",
              "          google.colab.kernel.accessAllowed ? 'block' : 'none';\n",
              "\n",
              "        async function convertToInteractive(key) {\n",
              "          const element = document.querySelector('#df-207071a2-b8a1-4f0c-8270-240c69dc1d1e');\n",
              "          const dataTable =\n",
              "            await google.colab.kernel.invokeFunction('convertToInteractive',\n",
              "                                                     [key], {});\n",
              "          if (!dataTable) return;\n",
              "\n",
              "          const docLinkHtml = 'Like what you see? Visit the ' +\n",
              "            '<a target=\"_blank\" href=https://colab.research.google.com/notebooks/data_table.ipynb>data table notebook</a>'\n",
              "            + ' to learn more about interactive tables.';\n",
              "          element.innerHTML = '';\n",
              "          dataTable['output_type'] = 'display_data';\n",
              "          await google.colab.output.renderOutput(dataTable, element);\n",
              "          const docLink = document.createElement('div');\n",
              "          docLink.innerHTML = docLinkHtml;\n",
              "          element.appendChild(docLink);\n",
              "        }\n",
              "      </script>\n",
              "    </div>\n",
              "  </div>\n",
              "  "
            ],
            "text/plain": [
              "   battery_power  blue  clock_speed  dual_sim  fc  four_g  int_memory  m_dep  \\\n",
              "0            772     0          1.1         1  12       0          39    0.8   \n",
              "1           1709     1          2.1         0   1       0          13    1.0   \n",
              "2           1949     0          2.6         1   4       0          47    0.3   \n",
              "3            615     1          2.5         0   0       0          10    0.8   \n",
              "4           1821     1          1.2         0  13       1          44    0.6   \n",
              "5           1859     0          0.5         1   3       0          22    0.7   \n",
              "6           1821     0          1.7         0   4       1          10    0.8   \n",
              "\n",
              "   mobile_wt  n_cores  ...  px_height  px_width   ram  sc_h  sc_w  talk_time  \\\n",
              "0         81        7  ...       1314      1854  2819    17    15          3   \n",
              "1        156        2  ...        974      1385  3283    17     1         15   \n",
              "2        199        4  ...        407       822  1433    11     5         20   \n",
              "3        131        6  ...       1216      1786  2769    16     8         11   \n",
              "4        141        2  ...       1208      1212  1411     8     2         15   \n",
              "5        164        1  ...       1004      1654  1067    17     1         10   \n",
              "6        139        8  ...        381      1018  3220    13     8         18   \n",
              "\n",
              "   three_g  touch_screen  wifi  price_range  \n",
              "0        1             1     0            3  \n",
              "1        1             0     0            3  \n",
              "2        0             0     1            1  \n",
              "3        1             0     0            2  \n",
              "4        1             1     0            1  \n",
              "5        1             0     0            1  \n",
              "6        1             0     1            3  \n",
              "\n",
              "[7 rows x 21 columns]"
            ]
          },
          "execution_count": 3,
          "metadata": {},
          "output_type": "execute_result"
        }
      ],
      "source": [
        "import pandas as pd # data frame library\n",
        "import numpy as np\n",
        "import seaborn as sns # data visialization library\n",
        "import matplotlib.pyplot as plt\n",
        "%matplotlib inline\n",
        "path='/content/gdrive/MyDrive/AIQUEST ML Course/Feature selection and PCA/mobile data.csv'\n",
        "df=pd.read_csv(path)\n",
        "df.head(7)"
      ]
    },
    {
      "cell_type": "code",
      "execution_count": null,
      "metadata": {
        "colab": {
          "base_uri": "https://localhost:8080/"
        },
        "id": "lmFXNfdkWPIu",
        "outputId": "af902790-ecd7-4158-e7ae-444d942acf73"
      },
      "outputs": [
        {
          "data": {
            "text/plain": [
              "(2000, 21)"
            ]
          },
          "execution_count": 4,
          "metadata": {},
          "output_type": "execute_result"
        }
      ],
      "source": [
        "df.shape"
      ]
    },
    {
      "cell_type": "code",
      "execution_count": null,
      "metadata": {
        "colab": {
          "base_uri": "https://localhost:8080/"
        },
        "id": "z8iLj8XcWTY4",
        "outputId": "088485b6-600f-48d0-ff0c-9b7b8e85a9d5"
      },
      "outputs": [
        {
          "name": "stdout",
          "output_type": "stream",
          "text": [
            "<class 'pandas.core.frame.DataFrame'>\n",
            "RangeIndex: 2000 entries, 0 to 1999\n",
            "Data columns (total 21 columns):\n",
            " #   Column         Non-Null Count  Dtype  \n",
            "---  ------         --------------  -----  \n",
            " 0   battery_power  2000 non-null   int64  \n",
            " 1   blue           2000 non-null   int64  \n",
            " 2   clock_speed    2000 non-null   float64\n",
            " 3   dual_sim       2000 non-null   int64  \n",
            " 4   fc             2000 non-null   int64  \n",
            " 5   four_g         2000 non-null   int64  \n",
            " 6   int_memory     2000 non-null   int64  \n",
            " 7   m_dep          2000 non-null   float64\n",
            " 8   mobile_wt      2000 non-null   int64  \n",
            " 9   n_cores        2000 non-null   int64  \n",
            " 10  pc             2000 non-null   int64  \n",
            " 11  px_height      2000 non-null   int64  \n",
            " 12  px_width       2000 non-null   int64  \n",
            " 13  ram            2000 non-null   int64  \n",
            " 14  sc_h           2000 non-null   int64  \n",
            " 15  sc_w           2000 non-null   int64  \n",
            " 16  talk_time      2000 non-null   int64  \n",
            " 17  three_g        2000 non-null   int64  \n",
            " 18  touch_screen   2000 non-null   int64  \n",
            " 19  wifi           2000 non-null   int64  \n",
            " 20  price_range    2000 non-null   int64  \n",
            "dtypes: float64(2), int64(19)\n",
            "memory usage: 328.2 KB\n"
          ]
        }
      ],
      "source": [
        "df.info()"
      ]
    },
    {
      "cell_type": "code",
      "execution_count": null,
      "metadata": {
        "colab": {
          "base_uri": "https://localhost:8080/"
        },
        "id": "0QNS6BvpWej7",
        "outputId": "fd394a29-0880-4f3e-c355-764770fed643"
      },
      "outputs": [
        {
          "data": {
            "text/plain": [
              "battery_power    0\n",
              "blue             0\n",
              "clock_speed      0\n",
              "dual_sim         0\n",
              "fc               0\n",
              "four_g           0\n",
              "int_memory       0\n",
              "m_dep            0\n",
              "mobile_wt        0\n",
              "n_cores          0\n",
              "pc               0\n",
              "px_height        0\n",
              "px_width         0\n",
              "ram              0\n",
              "sc_h             0\n",
              "sc_w             0\n",
              "talk_time        0\n",
              "three_g          0\n",
              "touch_screen     0\n",
              "wifi             0\n",
              "price_range      0\n",
              "dtype: int64"
            ]
          },
          "execution_count": 6,
          "metadata": {},
          "output_type": "execute_result"
        }
      ],
      "source": [
        "df.isnull().sum()"
      ]
    },
    {
      "cell_type": "code",
      "execution_count": null,
      "metadata": {
        "colab": {
          "base_uri": "https://localhost:8080/"
        },
        "id": "pVuFjyo8XOZY",
        "outputId": "eff67bbf-a097-43da-8c9c-b4b42fc6425f"
      },
      "outputs": [
        {
          "data": {
            "text/plain": [
              "3    501\n",
              "1    501\n",
              "0    500\n",
              "2    498\n",
              "Name: price_range, dtype: int64"
            ]
          },
          "execution_count": 7,
          "metadata": {},
          "output_type": "execute_result"
        }
      ],
      "source": [
        "#Total No of per Unique value in a Column and data balance check\n",
        "df['price_range'].value_counts()"
      ]
    },
    {
      "cell_type": "markdown",
      "metadata": {
        "id": "cnqQbdBYdThp"
      },
      "source": [
        "Encoding Dataset"
      ]
    },
    {
      "cell_type": "code",
      "execution_count": null,
      "metadata": {
        "id": "QOuufzQxdR-Z"
      },
      "outputs": [],
      "source": [
        "from sklearn.preprocessing import LabelEncoder\n",
        "le=LabelEncoder()\n"
      ]
    },
    {
      "cell_type": "code",
      "execution_count": null,
      "metadata": {
        "id": "lHgCz5zydiRK"
      },
      "outputs": [],
      "source": [
        "import numpy as np\n",
        "from pandas.core.dtypes.common import is_numeric_dtype\n",
        "for column in df.columns:\n",
        "  if is_numeric_dtype(df[column]):\n",
        "    continue\n",
        "  else:\n",
        "    df[column]=le.fit_transform(df[column])"
      ]
    },
    {
      "cell_type": "code",
      "execution_count": null,
      "metadata": {
        "colab": {
          "base_uri": "https://localhost:8080/",
          "height": 237
        },
        "id": "DVj3b2IgdniU",
        "outputId": "0c27ffdc-e460-4602-8a37-0ceed342e31d"
      },
      "outputs": [
        {
          "data": {
            "text/html": [
              "\n",
              "  <div id=\"df-383aa396-8bd9-404c-8d80-c31627a767f0\">\n",
              "    <div class=\"colab-df-container\">\n",
              "      <div>\n",
              "<style scoped>\n",
              "    .dataframe tbody tr th:only-of-type {\n",
              "        vertical-align: middle;\n",
              "    }\n",
              "\n",
              "    .dataframe tbody tr th {\n",
              "        vertical-align: top;\n",
              "    }\n",
              "\n",
              "    .dataframe thead th {\n",
              "        text-align: right;\n",
              "    }\n",
              "</style>\n",
              "<table border=\"1\" class=\"dataframe\">\n",
              "  <thead>\n",
              "    <tr style=\"text-align: right;\">\n",
              "      <th></th>\n",
              "      <th>battery_power</th>\n",
              "      <th>blue</th>\n",
              "      <th>clock_speed</th>\n",
              "      <th>dual_sim</th>\n",
              "      <th>fc</th>\n",
              "      <th>four_g</th>\n",
              "      <th>int_memory</th>\n",
              "      <th>m_dep</th>\n",
              "      <th>mobile_wt</th>\n",
              "      <th>n_cores</th>\n",
              "      <th>...</th>\n",
              "      <th>px_height</th>\n",
              "      <th>px_width</th>\n",
              "      <th>ram</th>\n",
              "      <th>sc_h</th>\n",
              "      <th>sc_w</th>\n",
              "      <th>talk_time</th>\n",
              "      <th>three_g</th>\n",
              "      <th>touch_screen</th>\n",
              "      <th>wifi</th>\n",
              "      <th>price_range</th>\n",
              "    </tr>\n",
              "  </thead>\n",
              "  <tbody>\n",
              "    <tr>\n",
              "      <th>0</th>\n",
              "      <td>772</td>\n",
              "      <td>0</td>\n",
              "      <td>1.1</td>\n",
              "      <td>1</td>\n",
              "      <td>12</td>\n",
              "      <td>0</td>\n",
              "      <td>39</td>\n",
              "      <td>0.8</td>\n",
              "      <td>81</td>\n",
              "      <td>7</td>\n",
              "      <td>...</td>\n",
              "      <td>1314</td>\n",
              "      <td>1854</td>\n",
              "      <td>2819</td>\n",
              "      <td>17</td>\n",
              "      <td>15</td>\n",
              "      <td>3</td>\n",
              "      <td>1</td>\n",
              "      <td>1</td>\n",
              "      <td>0</td>\n",
              "      <td>3</td>\n",
              "    </tr>\n",
              "    <tr>\n",
              "      <th>1</th>\n",
              "      <td>1709</td>\n",
              "      <td>1</td>\n",
              "      <td>2.1</td>\n",
              "      <td>0</td>\n",
              "      <td>1</td>\n",
              "      <td>0</td>\n",
              "      <td>13</td>\n",
              "      <td>1.0</td>\n",
              "      <td>156</td>\n",
              "      <td>2</td>\n",
              "      <td>...</td>\n",
              "      <td>974</td>\n",
              "      <td>1385</td>\n",
              "      <td>3283</td>\n",
              "      <td>17</td>\n",
              "      <td>1</td>\n",
              "      <td>15</td>\n",
              "      <td>1</td>\n",
              "      <td>0</td>\n",
              "      <td>0</td>\n",
              "      <td>3</td>\n",
              "    </tr>\n",
              "    <tr>\n",
              "      <th>2</th>\n",
              "      <td>1949</td>\n",
              "      <td>0</td>\n",
              "      <td>2.6</td>\n",
              "      <td>1</td>\n",
              "      <td>4</td>\n",
              "      <td>0</td>\n",
              "      <td>47</td>\n",
              "      <td>0.3</td>\n",
              "      <td>199</td>\n",
              "      <td>4</td>\n",
              "      <td>...</td>\n",
              "      <td>407</td>\n",
              "      <td>822</td>\n",
              "      <td>1433</td>\n",
              "      <td>11</td>\n",
              "      <td>5</td>\n",
              "      <td>20</td>\n",
              "      <td>0</td>\n",
              "      <td>0</td>\n",
              "      <td>1</td>\n",
              "      <td>1</td>\n",
              "    </tr>\n",
              "  </tbody>\n",
              "</table>\n",
              "<p>3 rows × 21 columns</p>\n",
              "</div>\n",
              "      <button class=\"colab-df-convert\" onclick=\"convertToInteractive('df-383aa396-8bd9-404c-8d80-c31627a767f0')\"\n",
              "              title=\"Convert this dataframe to an interactive table.\"\n",
              "              style=\"display:none;\">\n",
              "        \n",
              "  <svg xmlns=\"http://www.w3.org/2000/svg\" height=\"24px\"viewBox=\"0 0 24 24\"\n",
              "       width=\"24px\">\n",
              "    <path d=\"M0 0h24v24H0V0z\" fill=\"none\"/>\n",
              "    <path d=\"M18.56 5.44l.94 2.06.94-2.06 2.06-.94-2.06-.94-.94-2.06-.94 2.06-2.06.94zm-11 1L8.5 8.5l.94-2.06 2.06-.94-2.06-.94L8.5 2.5l-.94 2.06-2.06.94zm10 10l.94 2.06.94-2.06 2.06-.94-2.06-.94-.94-2.06-.94 2.06-2.06.94z\"/><path d=\"M17.41 7.96l-1.37-1.37c-.4-.4-.92-.59-1.43-.59-.52 0-1.04.2-1.43.59L10.3 9.45l-7.72 7.72c-.78.78-.78 2.05 0 2.83L4 21.41c.39.39.9.59 1.41.59.51 0 1.02-.2 1.41-.59l7.78-7.78 2.81-2.81c.8-.78.8-2.07 0-2.86zM5.41 20L4 18.59l7.72-7.72 1.47 1.35L5.41 20z\"/>\n",
              "  </svg>\n",
              "      </button>\n",
              "      \n",
              "  <style>\n",
              "    .colab-df-container {\n",
              "      display:flex;\n",
              "      flex-wrap:wrap;\n",
              "      gap: 12px;\n",
              "    }\n",
              "\n",
              "    .colab-df-convert {\n",
              "      background-color: #E8F0FE;\n",
              "      border: none;\n",
              "      border-radius: 50%;\n",
              "      cursor: pointer;\n",
              "      display: none;\n",
              "      fill: #1967D2;\n",
              "      height: 32px;\n",
              "      padding: 0 0 0 0;\n",
              "      width: 32px;\n",
              "    }\n",
              "\n",
              "    .colab-df-convert:hover {\n",
              "      background-color: #E2EBFA;\n",
              "      box-shadow: 0px 1px 2px rgba(60, 64, 67, 0.3), 0px 1px 3px 1px rgba(60, 64, 67, 0.15);\n",
              "      fill: #174EA6;\n",
              "    }\n",
              "\n",
              "    [theme=dark] .colab-df-convert {\n",
              "      background-color: #3B4455;\n",
              "      fill: #D2E3FC;\n",
              "    }\n",
              "\n",
              "    [theme=dark] .colab-df-convert:hover {\n",
              "      background-color: #434B5C;\n",
              "      box-shadow: 0px 1px 3px 1px rgba(0, 0, 0, 0.15);\n",
              "      filter: drop-shadow(0px 1px 2px rgba(0, 0, 0, 0.3));\n",
              "      fill: #FFFFFF;\n",
              "    }\n",
              "  </style>\n",
              "\n",
              "      <script>\n",
              "        const buttonEl =\n",
              "          document.querySelector('#df-383aa396-8bd9-404c-8d80-c31627a767f0 button.colab-df-convert');\n",
              "        buttonEl.style.display =\n",
              "          google.colab.kernel.accessAllowed ? 'block' : 'none';\n",
              "\n",
              "        async function convertToInteractive(key) {\n",
              "          const element = document.querySelector('#df-383aa396-8bd9-404c-8d80-c31627a767f0');\n",
              "          const dataTable =\n",
              "            await google.colab.kernel.invokeFunction('convertToInteractive',\n",
              "                                                     [key], {});\n",
              "          if (!dataTable) return;\n",
              "\n",
              "          const docLinkHtml = 'Like what you see? Visit the ' +\n",
              "            '<a target=\"_blank\" href=https://colab.research.google.com/notebooks/data_table.ipynb>data table notebook</a>'\n",
              "            + ' to learn more about interactive tables.';\n",
              "          element.innerHTML = '';\n",
              "          dataTable['output_type'] = 'display_data';\n",
              "          await google.colab.output.renderOutput(dataTable, element);\n",
              "          const docLink = document.createElement('div');\n",
              "          docLink.innerHTML = docLinkHtml;\n",
              "          element.appendChild(docLink);\n",
              "        }\n",
              "      </script>\n",
              "    </div>\n",
              "  </div>\n",
              "  "
            ],
            "text/plain": [
              "   battery_power  blue  clock_speed  dual_sim  fc  four_g  int_memory  m_dep  \\\n",
              "0            772     0          1.1         1  12       0          39    0.8   \n",
              "1           1709     1          2.1         0   1       0          13    1.0   \n",
              "2           1949     0          2.6         1   4       0          47    0.3   \n",
              "\n",
              "   mobile_wt  n_cores  ...  px_height  px_width   ram  sc_h  sc_w  talk_time  \\\n",
              "0         81        7  ...       1314      1854  2819    17    15          3   \n",
              "1        156        2  ...        974      1385  3283    17     1         15   \n",
              "2        199        4  ...        407       822  1433    11     5         20   \n",
              "\n",
              "   three_g  touch_screen  wifi  price_range  \n",
              "0        1             1     0            3  \n",
              "1        1             0     0            3  \n",
              "2        0             0     1            1  \n",
              "\n",
              "[3 rows x 21 columns]"
            ]
          },
          "execution_count": 10,
          "metadata": {},
          "output_type": "execute_result"
        }
      ],
      "source": [
        "df.head(3)"
      ]
    },
    {
      "cell_type": "code",
      "execution_count": null,
      "metadata": {
        "colab": {
          "base_uri": "https://localhost:8080/"
        },
        "id": "_HIdwWz1Yb1S",
        "outputId": "8c046ffe-3286-4f73-9a4d-0a3f3043f9d9"
      },
      "outputs": [
        {
          "data": {
            "text/plain": [
              "3    501\n",
              "1    501\n",
              "0    500\n",
              "2    498\n",
              "Name: price_range, dtype: int64"
            ]
          },
          "execution_count": 11,
          "metadata": {},
          "output_type": "execute_result"
        }
      ],
      "source": [
        "#Target\n",
        "y=df['price_range']\n",
        "y.value_counts()"
      ]
    },
    {
      "cell_type": "code",
      "execution_count": null,
      "metadata": {
        "colab": {
          "base_uri": "https://localhost:8080/",
          "height": 207
        },
        "id": "PLsWAfs-YzWG",
        "outputId": "f5025b27-e1c7-49d8-a0a9-d9dc4ed3ce7c"
      },
      "outputs": [
        {
          "data": {
            "text/html": [
              "\n",
              "  <div id=\"df-81982585-d41e-4bb3-ad71-9192c88bf267\">\n",
              "    <div class=\"colab-df-container\">\n",
              "      <div>\n",
              "<style scoped>\n",
              "    .dataframe tbody tr th:only-of-type {\n",
              "        vertical-align: middle;\n",
              "    }\n",
              "\n",
              "    .dataframe tbody tr th {\n",
              "        vertical-align: top;\n",
              "    }\n",
              "\n",
              "    .dataframe thead th {\n",
              "        text-align: right;\n",
              "    }\n",
              "</style>\n",
              "<table border=\"1\" class=\"dataframe\">\n",
              "  <thead>\n",
              "    <tr style=\"text-align: right;\">\n",
              "      <th></th>\n",
              "      <th>battery_power</th>\n",
              "      <th>blue</th>\n",
              "      <th>clock_speed</th>\n",
              "      <th>dual_sim</th>\n",
              "      <th>fc</th>\n",
              "      <th>four_g</th>\n",
              "      <th>int_memory</th>\n",
              "      <th>m_dep</th>\n",
              "      <th>mobile_wt</th>\n",
              "      <th>n_cores</th>\n",
              "      <th>pc</th>\n",
              "      <th>px_height</th>\n",
              "      <th>px_width</th>\n",
              "      <th>ram</th>\n",
              "      <th>sc_h</th>\n",
              "      <th>sc_w</th>\n",
              "      <th>talk_time</th>\n",
              "      <th>three_g</th>\n",
              "      <th>touch_screen</th>\n",
              "      <th>wifi</th>\n",
              "    </tr>\n",
              "  </thead>\n",
              "  <tbody>\n",
              "    <tr>\n",
              "      <th>0</th>\n",
              "      <td>772</td>\n",
              "      <td>0</td>\n",
              "      <td>1.1</td>\n",
              "      <td>1</td>\n",
              "      <td>12</td>\n",
              "      <td>0</td>\n",
              "      <td>39</td>\n",
              "      <td>0.8</td>\n",
              "      <td>81</td>\n",
              "      <td>7</td>\n",
              "      <td>14</td>\n",
              "      <td>1314</td>\n",
              "      <td>1854</td>\n",
              "      <td>2819</td>\n",
              "      <td>17</td>\n",
              "      <td>15</td>\n",
              "      <td>3</td>\n",
              "      <td>1</td>\n",
              "      <td>1</td>\n",
              "      <td>0</td>\n",
              "    </tr>\n",
              "    <tr>\n",
              "      <th>1</th>\n",
              "      <td>1709</td>\n",
              "      <td>1</td>\n",
              "      <td>2.1</td>\n",
              "      <td>0</td>\n",
              "      <td>1</td>\n",
              "      <td>0</td>\n",
              "      <td>13</td>\n",
              "      <td>1.0</td>\n",
              "      <td>156</td>\n",
              "      <td>2</td>\n",
              "      <td>2</td>\n",
              "      <td>974</td>\n",
              "      <td>1385</td>\n",
              "      <td>3283</td>\n",
              "      <td>17</td>\n",
              "      <td>1</td>\n",
              "      <td>15</td>\n",
              "      <td>1</td>\n",
              "      <td>0</td>\n",
              "      <td>0</td>\n",
              "    </tr>\n",
              "    <tr>\n",
              "      <th>2</th>\n",
              "      <td>1949</td>\n",
              "      <td>0</td>\n",
              "      <td>2.6</td>\n",
              "      <td>1</td>\n",
              "      <td>4</td>\n",
              "      <td>0</td>\n",
              "      <td>47</td>\n",
              "      <td>0.3</td>\n",
              "      <td>199</td>\n",
              "      <td>4</td>\n",
              "      <td>7</td>\n",
              "      <td>407</td>\n",
              "      <td>822</td>\n",
              "      <td>1433</td>\n",
              "      <td>11</td>\n",
              "      <td>5</td>\n",
              "      <td>20</td>\n",
              "      <td>0</td>\n",
              "      <td>0</td>\n",
              "      <td>1</td>\n",
              "    </tr>\n",
              "  </tbody>\n",
              "</table>\n",
              "</div>\n",
              "      <button class=\"colab-df-convert\" onclick=\"convertToInteractive('df-81982585-d41e-4bb3-ad71-9192c88bf267')\"\n",
              "              title=\"Convert this dataframe to an interactive table.\"\n",
              "              style=\"display:none;\">\n",
              "        \n",
              "  <svg xmlns=\"http://www.w3.org/2000/svg\" height=\"24px\"viewBox=\"0 0 24 24\"\n",
              "       width=\"24px\">\n",
              "    <path d=\"M0 0h24v24H0V0z\" fill=\"none\"/>\n",
              "    <path d=\"M18.56 5.44l.94 2.06.94-2.06 2.06-.94-2.06-.94-.94-2.06-.94 2.06-2.06.94zm-11 1L8.5 8.5l.94-2.06 2.06-.94-2.06-.94L8.5 2.5l-.94 2.06-2.06.94zm10 10l.94 2.06.94-2.06 2.06-.94-2.06-.94-.94-2.06-.94 2.06-2.06.94z\"/><path d=\"M17.41 7.96l-1.37-1.37c-.4-.4-.92-.59-1.43-.59-.52 0-1.04.2-1.43.59L10.3 9.45l-7.72 7.72c-.78.78-.78 2.05 0 2.83L4 21.41c.39.39.9.59 1.41.59.51 0 1.02-.2 1.41-.59l7.78-7.78 2.81-2.81c.8-.78.8-2.07 0-2.86zM5.41 20L4 18.59l7.72-7.72 1.47 1.35L5.41 20z\"/>\n",
              "  </svg>\n",
              "      </button>\n",
              "      \n",
              "  <style>\n",
              "    .colab-df-container {\n",
              "      display:flex;\n",
              "      flex-wrap:wrap;\n",
              "      gap: 12px;\n",
              "    }\n",
              "\n",
              "    .colab-df-convert {\n",
              "      background-color: #E8F0FE;\n",
              "      border: none;\n",
              "      border-radius: 50%;\n",
              "      cursor: pointer;\n",
              "      display: none;\n",
              "      fill: #1967D2;\n",
              "      height: 32px;\n",
              "      padding: 0 0 0 0;\n",
              "      width: 32px;\n",
              "    }\n",
              "\n",
              "    .colab-df-convert:hover {\n",
              "      background-color: #E2EBFA;\n",
              "      box-shadow: 0px 1px 2px rgba(60, 64, 67, 0.3), 0px 1px 3px 1px rgba(60, 64, 67, 0.15);\n",
              "      fill: #174EA6;\n",
              "    }\n",
              "\n",
              "    [theme=dark] .colab-df-convert {\n",
              "      background-color: #3B4455;\n",
              "      fill: #D2E3FC;\n",
              "    }\n",
              "\n",
              "    [theme=dark] .colab-df-convert:hover {\n",
              "      background-color: #434B5C;\n",
              "      box-shadow: 0px 1px 3px 1px rgba(0, 0, 0, 0.15);\n",
              "      filter: drop-shadow(0px 1px 2px rgba(0, 0, 0, 0.3));\n",
              "      fill: #FFFFFF;\n",
              "    }\n",
              "  </style>\n",
              "\n",
              "      <script>\n",
              "        const buttonEl =\n",
              "          document.querySelector('#df-81982585-d41e-4bb3-ad71-9192c88bf267 button.colab-df-convert');\n",
              "        buttonEl.style.display =\n",
              "          google.colab.kernel.accessAllowed ? 'block' : 'none';\n",
              "\n",
              "        async function convertToInteractive(key) {\n",
              "          const element = document.querySelector('#df-81982585-d41e-4bb3-ad71-9192c88bf267');\n",
              "          const dataTable =\n",
              "            await google.colab.kernel.invokeFunction('convertToInteractive',\n",
              "                                                     [key], {});\n",
              "          if (!dataTable) return;\n",
              "\n",
              "          const docLinkHtml = 'Like what you see? Visit the ' +\n",
              "            '<a target=\"_blank\" href=https://colab.research.google.com/notebooks/data_table.ipynb>data table notebook</a>'\n",
              "            + ' to learn more about interactive tables.';\n",
              "          element.innerHTML = '';\n",
              "          dataTable['output_type'] = 'display_data';\n",
              "          await google.colab.output.renderOutput(dataTable, element);\n",
              "          const docLink = document.createElement('div');\n",
              "          docLink.innerHTML = docLinkHtml;\n",
              "          element.appendChild(docLink);\n",
              "        }\n",
              "      </script>\n",
              "    </div>\n",
              "  </div>\n",
              "  "
            ],
            "text/plain": [
              "   battery_power  blue  clock_speed  dual_sim  fc  four_g  int_memory  m_dep  \\\n",
              "0            772     0          1.1         1  12       0          39    0.8   \n",
              "1           1709     1          2.1         0   1       0          13    1.0   \n",
              "2           1949     0          2.6         1   4       0          47    0.3   \n",
              "\n",
              "   mobile_wt  n_cores  pc  px_height  px_width   ram  sc_h  sc_w  talk_time  \\\n",
              "0         81        7  14       1314      1854  2819    17    15          3   \n",
              "1        156        2   2        974      1385  3283    17     1         15   \n",
              "2        199        4   7        407       822  1433    11     5         20   \n",
              "\n",
              "   three_g  touch_screen  wifi  \n",
              "0        1             1     0  \n",
              "1        1             0     0  \n",
              "2        0             0     1  "
            ]
          },
          "execution_count": 12,
          "metadata": {},
          "output_type": "execute_result"
        }
      ],
      "source": [
        "#Features\n",
        "X=df.copy()\n",
        "X=df.drop('price_range', axis=1)\n",
        "X.head(3)"
      ]
    },
    {
      "cell_type": "markdown",
      "metadata": {
        "id": "2UOA2NcLZ8_p"
      },
      "source": [
        "# 1. Extra Tree Classifier"
      ]
    },
    {
      "cell_type": "code",
      "execution_count": null,
      "metadata": {
        "id": "62riAITwZsFw"
      },
      "outputs": [],
      "source": [
        "from sklearn.ensemble import ExtraTreesClassifier # Decison tree"
      ]
    },
    {
      "cell_type": "code",
      "execution_count": null,
      "metadata": {
        "id": "839ad0c8"
      },
      "outputs": [],
      "source": [
        "extr = ExtraTreesClassifier()"
      ]
    },
    {
      "cell_type": "code",
      "execution_count": null,
      "metadata": {
        "colab": {
          "base_uri": "https://localhost:8080/"
        },
        "id": "884817b6",
        "outputId": "b5e370b0-3ec5-4fd5-90c3-c55a1117874d"
      },
      "outputs": [
        {
          "data": {
            "text/plain": [
              "ExtraTreesClassifier()"
            ]
          },
          "execution_count": 15,
          "metadata": {},
          "output_type": "execute_result"
        }
      ],
      "source": [
        "extr.fit(X,y)"
      ]
    },
    {
      "cell_type": "code",
      "execution_count": null,
      "metadata": {
        "colab": {
          "base_uri": "https://localhost:8080/"
        },
        "id": "84fdbe68",
        "outputId": "ab21b835-31ea-4e9a-d048-ed9698377f0c"
      },
      "outputs": [
        {
          "data": {
            "text/plain": [
              "array([0.06146402, 0.0195634 , 0.0337996 , 0.01931106, 0.03326061,\n",
              "       0.01748485, 0.03586394, 0.03383953, 0.03680979, 0.03370771,\n",
              "       0.03453316, 0.0459363 , 0.04930875, 0.38826796, 0.03491036,\n",
              "       0.03467547, 0.0349897 , 0.01427153, 0.01778394, 0.02021831])"
            ]
          },
          "execution_count": 16,
          "metadata": {},
          "output_type": "execute_result"
        }
      ],
      "source": [
        "feature_importance = extr.feature_importances_\n",
        "feature_importance #info gain"
      ]
    },
    {
      "cell_type": "code",
      "execution_count": null,
      "metadata": {
        "colab": {
          "base_uri": "https://localhost:8080/",
          "height": 269
        },
        "id": "fbe79778",
        "outputId": "0f52fefa-fdfd-47ff-dc54-63efe89449d0"
      },
      "outputs": [
        {
          "data": {
            "text/html": [
              "\n",
              "  <div id=\"df-9add52c8-1d75-4e65-ab0d-f6b2192ed233\">\n",
              "    <div class=\"colab-df-container\">\n",
              "      <div>\n",
              "<style scoped>\n",
              "    .dataframe tbody tr th:only-of-type {\n",
              "        vertical-align: middle;\n",
              "    }\n",
              "\n",
              "    .dataframe tbody tr th {\n",
              "        vertical-align: top;\n",
              "    }\n",
              "\n",
              "    .dataframe thead th {\n",
              "        text-align: right;\n",
              "    }\n",
              "</style>\n",
              "<table border=\"1\" class=\"dataframe\">\n",
              "  <thead>\n",
              "    <tr style=\"text-align: right;\">\n",
              "      <th></th>\n",
              "      <th>Gain_Output</th>\n",
              "    </tr>\n",
              "  </thead>\n",
              "  <tbody>\n",
              "    <tr>\n",
              "      <th>0</th>\n",
              "      <td>0.061464</td>\n",
              "    </tr>\n",
              "    <tr>\n",
              "      <th>1</th>\n",
              "      <td>0.019563</td>\n",
              "    </tr>\n",
              "    <tr>\n",
              "      <th>2</th>\n",
              "      <td>0.033800</td>\n",
              "    </tr>\n",
              "    <tr>\n",
              "      <th>3</th>\n",
              "      <td>0.019311</td>\n",
              "    </tr>\n",
              "    <tr>\n",
              "      <th>4</th>\n",
              "      <td>0.033261</td>\n",
              "    </tr>\n",
              "    <tr>\n",
              "      <th>5</th>\n",
              "      <td>0.017485</td>\n",
              "    </tr>\n",
              "    <tr>\n",
              "      <th>6</th>\n",
              "      <td>0.035864</td>\n",
              "    </tr>\n",
              "  </tbody>\n",
              "</table>\n",
              "</div>\n",
              "      <button class=\"colab-df-convert\" onclick=\"convertToInteractive('df-9add52c8-1d75-4e65-ab0d-f6b2192ed233')\"\n",
              "              title=\"Convert this dataframe to an interactive table.\"\n",
              "              style=\"display:none;\">\n",
              "        \n",
              "  <svg xmlns=\"http://www.w3.org/2000/svg\" height=\"24px\"viewBox=\"0 0 24 24\"\n",
              "       width=\"24px\">\n",
              "    <path d=\"M0 0h24v24H0V0z\" fill=\"none\"/>\n",
              "    <path d=\"M18.56 5.44l.94 2.06.94-2.06 2.06-.94-2.06-.94-.94-2.06-.94 2.06-2.06.94zm-11 1L8.5 8.5l.94-2.06 2.06-.94-2.06-.94L8.5 2.5l-.94 2.06-2.06.94zm10 10l.94 2.06.94-2.06 2.06-.94-2.06-.94-.94-2.06-.94 2.06-2.06.94z\"/><path d=\"M17.41 7.96l-1.37-1.37c-.4-.4-.92-.59-1.43-.59-.52 0-1.04.2-1.43.59L10.3 9.45l-7.72 7.72c-.78.78-.78 2.05 0 2.83L4 21.41c.39.39.9.59 1.41.59.51 0 1.02-.2 1.41-.59l7.78-7.78 2.81-2.81c.8-.78.8-2.07 0-2.86zM5.41 20L4 18.59l7.72-7.72 1.47 1.35L5.41 20z\"/>\n",
              "  </svg>\n",
              "      </button>\n",
              "      \n",
              "  <style>\n",
              "    .colab-df-container {\n",
              "      display:flex;\n",
              "      flex-wrap:wrap;\n",
              "      gap: 12px;\n",
              "    }\n",
              "\n",
              "    .colab-df-convert {\n",
              "      background-color: #E8F0FE;\n",
              "      border: none;\n",
              "      border-radius: 50%;\n",
              "      cursor: pointer;\n",
              "      display: none;\n",
              "      fill: #1967D2;\n",
              "      height: 32px;\n",
              "      padding: 0 0 0 0;\n",
              "      width: 32px;\n",
              "    }\n",
              "\n",
              "    .colab-df-convert:hover {\n",
              "      background-color: #E2EBFA;\n",
              "      box-shadow: 0px 1px 2px rgba(60, 64, 67, 0.3), 0px 1px 3px 1px rgba(60, 64, 67, 0.15);\n",
              "      fill: #174EA6;\n",
              "    }\n",
              "\n",
              "    [theme=dark] .colab-df-convert {\n",
              "      background-color: #3B4455;\n",
              "      fill: #D2E3FC;\n",
              "    }\n",
              "\n",
              "    [theme=dark] .colab-df-convert:hover {\n",
              "      background-color: #434B5C;\n",
              "      box-shadow: 0px 1px 3px 1px rgba(0, 0, 0, 0.15);\n",
              "      filter: drop-shadow(0px 1px 2px rgba(0, 0, 0, 0.3));\n",
              "      fill: #FFFFFF;\n",
              "    }\n",
              "  </style>\n",
              "\n",
              "      <script>\n",
              "        const buttonEl =\n",
              "          document.querySelector('#df-9add52c8-1d75-4e65-ab0d-f6b2192ed233 button.colab-df-convert');\n",
              "        buttonEl.style.display =\n",
              "          google.colab.kernel.accessAllowed ? 'block' : 'none';\n",
              "\n",
              "        async function convertToInteractive(key) {\n",
              "          const element = document.querySelector('#df-9add52c8-1d75-4e65-ab0d-f6b2192ed233');\n",
              "          const dataTable =\n",
              "            await google.colab.kernel.invokeFunction('convertToInteractive',\n",
              "                                                     [key], {});\n",
              "          if (!dataTable) return;\n",
              "\n",
              "          const docLinkHtml = 'Like what you see? Visit the ' +\n",
              "            '<a target=\"_blank\" href=https://colab.research.google.com/notebooks/data_table.ipynb>data table notebook</a>'\n",
              "            + ' to learn more about interactive tables.';\n",
              "          element.innerHTML = '';\n",
              "          dataTable['output_type'] = 'display_data';\n",
              "          await google.colab.output.renderOutput(dataTable, element);\n",
              "          const docLink = document.createElement('div');\n",
              "          docLink.innerHTML = docLinkHtml;\n",
              "          element.appendChild(docLink);\n",
              "        }\n",
              "      </script>\n",
              "    </div>\n",
              "  </div>\n",
              "  "
            ],
            "text/plain": [
              "   Gain_Output\n",
              "0     0.061464\n",
              "1     0.019563\n",
              "2     0.033800\n",
              "3     0.019311\n",
              "4     0.033261\n",
              "5     0.017485\n",
              "6     0.035864"
            ]
          },
          "execution_count": 17,
          "metadata": {},
          "output_type": "execute_result"
        }
      ],
      "source": [
        "imp = pd.DataFrame(feature_importance, columns=['Gain_Output'])\n",
        "imp.head(7)"
      ]
    },
    {
      "cell_type": "code",
      "execution_count": null,
      "metadata": {
        "colab": {
          "base_uri": "https://localhost:8080/",
          "height": 363
        },
        "id": "43ed5be0",
        "outputId": "ace55634-8b97-4d8e-b942-cba9656c2007"
      },
      "outputs": [
        {
          "data": {
            "text/html": [
              "\n",
              "  <div id=\"df-c4a5863c-7501-4d63-b543-b90f55f3d820\">\n",
              "    <div class=\"colab-df-container\">\n",
              "      <div>\n",
              "<style scoped>\n",
              "    .dataframe tbody tr th:only-of-type {\n",
              "        vertical-align: middle;\n",
              "    }\n",
              "\n",
              "    .dataframe tbody tr th {\n",
              "        vertical-align: top;\n",
              "    }\n",
              "\n",
              "    .dataframe thead th {\n",
              "        text-align: right;\n",
              "    }\n",
              "</style>\n",
              "<table border=\"1\" class=\"dataframe\">\n",
              "  <thead>\n",
              "    <tr style=\"text-align: right;\">\n",
              "      <th></th>\n",
              "      <th>Feature_Names</th>\n",
              "    </tr>\n",
              "  </thead>\n",
              "  <tbody>\n",
              "    <tr>\n",
              "      <th>0</th>\n",
              "      <td>battery_power</td>\n",
              "    </tr>\n",
              "    <tr>\n",
              "      <th>1</th>\n",
              "      <td>blue</td>\n",
              "    </tr>\n",
              "    <tr>\n",
              "      <th>2</th>\n",
              "      <td>clock_speed</td>\n",
              "    </tr>\n",
              "    <tr>\n",
              "      <th>3</th>\n",
              "      <td>dual_sim</td>\n",
              "    </tr>\n",
              "    <tr>\n",
              "      <th>4</th>\n",
              "      <td>fc</td>\n",
              "    </tr>\n",
              "    <tr>\n",
              "      <th>5</th>\n",
              "      <td>four_g</td>\n",
              "    </tr>\n",
              "    <tr>\n",
              "      <th>6</th>\n",
              "      <td>int_memory</td>\n",
              "    </tr>\n",
              "    <tr>\n",
              "      <th>7</th>\n",
              "      <td>m_dep</td>\n",
              "    </tr>\n",
              "    <tr>\n",
              "      <th>8</th>\n",
              "      <td>mobile_wt</td>\n",
              "    </tr>\n",
              "    <tr>\n",
              "      <th>9</th>\n",
              "      <td>n_cores</td>\n",
              "    </tr>\n",
              "  </tbody>\n",
              "</table>\n",
              "</div>\n",
              "      <button class=\"colab-df-convert\" onclick=\"convertToInteractive('df-c4a5863c-7501-4d63-b543-b90f55f3d820')\"\n",
              "              title=\"Convert this dataframe to an interactive table.\"\n",
              "              style=\"display:none;\">\n",
              "        \n",
              "  <svg xmlns=\"http://www.w3.org/2000/svg\" height=\"24px\"viewBox=\"0 0 24 24\"\n",
              "       width=\"24px\">\n",
              "    <path d=\"M0 0h24v24H0V0z\" fill=\"none\"/>\n",
              "    <path d=\"M18.56 5.44l.94 2.06.94-2.06 2.06-.94-2.06-.94-.94-2.06-.94 2.06-2.06.94zm-11 1L8.5 8.5l.94-2.06 2.06-.94-2.06-.94L8.5 2.5l-.94 2.06-2.06.94zm10 10l.94 2.06.94-2.06 2.06-.94-2.06-.94-.94-2.06-.94 2.06-2.06.94z\"/><path d=\"M17.41 7.96l-1.37-1.37c-.4-.4-.92-.59-1.43-.59-.52 0-1.04.2-1.43.59L10.3 9.45l-7.72 7.72c-.78.78-.78 2.05 0 2.83L4 21.41c.39.39.9.59 1.41.59.51 0 1.02-.2 1.41-.59l7.78-7.78 2.81-2.81c.8-.78.8-2.07 0-2.86zM5.41 20L4 18.59l7.72-7.72 1.47 1.35L5.41 20z\"/>\n",
              "  </svg>\n",
              "      </button>\n",
              "      \n",
              "  <style>\n",
              "    .colab-df-container {\n",
              "      display:flex;\n",
              "      flex-wrap:wrap;\n",
              "      gap: 12px;\n",
              "    }\n",
              "\n",
              "    .colab-df-convert {\n",
              "      background-color: #E8F0FE;\n",
              "      border: none;\n",
              "      border-radius: 50%;\n",
              "      cursor: pointer;\n",
              "      display: none;\n",
              "      fill: #1967D2;\n",
              "      height: 32px;\n",
              "      padding: 0 0 0 0;\n",
              "      width: 32px;\n",
              "    }\n",
              "\n",
              "    .colab-df-convert:hover {\n",
              "      background-color: #E2EBFA;\n",
              "      box-shadow: 0px 1px 2px rgba(60, 64, 67, 0.3), 0px 1px 3px 1px rgba(60, 64, 67, 0.15);\n",
              "      fill: #174EA6;\n",
              "    }\n",
              "\n",
              "    [theme=dark] .colab-df-convert {\n",
              "      background-color: #3B4455;\n",
              "      fill: #D2E3FC;\n",
              "    }\n",
              "\n",
              "    [theme=dark] .colab-df-convert:hover {\n",
              "      background-color: #434B5C;\n",
              "      box-shadow: 0px 1px 3px 1px rgba(0, 0, 0, 0.15);\n",
              "      filter: drop-shadow(0px 1px 2px rgba(0, 0, 0, 0.3));\n",
              "      fill: #FFFFFF;\n",
              "    }\n",
              "  </style>\n",
              "\n",
              "      <script>\n",
              "        const buttonEl =\n",
              "          document.querySelector('#df-c4a5863c-7501-4d63-b543-b90f55f3d820 button.colab-df-convert');\n",
              "        buttonEl.style.display =\n",
              "          google.colab.kernel.accessAllowed ? 'block' : 'none';\n",
              "\n",
              "        async function convertToInteractive(key) {\n",
              "          const element = document.querySelector('#df-c4a5863c-7501-4d63-b543-b90f55f3d820');\n",
              "          const dataTable =\n",
              "            await google.colab.kernel.invokeFunction('convertToInteractive',\n",
              "                                                     [key], {});\n",
              "          if (!dataTable) return;\n",
              "\n",
              "          const docLinkHtml = 'Like what you see? Visit the ' +\n",
              "            '<a target=\"_blank\" href=https://colab.research.google.com/notebooks/data_table.ipynb>data table notebook</a>'\n",
              "            + ' to learn more about interactive tables.';\n",
              "          element.innerHTML = '';\n",
              "          dataTable['output_type'] = 'display_data';\n",
              "          await google.colab.output.renderOutput(dataTable, element);\n",
              "          const docLink = document.createElement('div');\n",
              "          docLink.innerHTML = docLinkHtml;\n",
              "          element.appendChild(docLink);\n",
              "        }\n",
              "      </script>\n",
              "    </div>\n",
              "  </div>\n",
              "  "
            ],
            "text/plain": [
              "   Feature_Names\n",
              "0  battery_power\n",
              "1           blue\n",
              "2    clock_speed\n",
              "3       dual_sim\n",
              "4             fc\n",
              "5         four_g\n",
              "6     int_memory\n",
              "7          m_dep\n",
              "8      mobile_wt\n",
              "9        n_cores"
            ]
          },
          "execution_count": 18,
          "metadata": {},
          "output_type": "execute_result"
        }
      ],
      "source": [
        "#Make the column names of X into row wise\n",
        "cols = pd.DataFrame(X.columns, columns=['Feature_Names'])\n",
        "cols.head(10)"
      ]
    },
    {
      "cell_type": "code",
      "execution_count": null,
      "metadata": {
        "colab": {
          "base_uri": "https://localhost:8080/",
          "height": 676
        },
        "id": "KsR5-5lKa6jC",
        "outputId": "b50a009d-6a9b-4920-b6e8-c0b467a5c4b4"
      },
      "outputs": [
        {
          "data": {
            "text/html": [
              "\n",
              "  <div id=\"df-26a0d6eb-7581-4720-a4b1-aee3b07fdc5e\">\n",
              "    <div class=\"colab-df-container\">\n",
              "      <div>\n",
              "<style scoped>\n",
              "    .dataframe tbody tr th:only-of-type {\n",
              "        vertical-align: middle;\n",
              "    }\n",
              "\n",
              "    .dataframe tbody tr th {\n",
              "        vertical-align: top;\n",
              "    }\n",
              "\n",
              "    .dataframe thead th {\n",
              "        text-align: right;\n",
              "    }\n",
              "</style>\n",
              "<table border=\"1\" class=\"dataframe\">\n",
              "  <thead>\n",
              "    <tr style=\"text-align: right;\">\n",
              "      <th></th>\n",
              "      <th>Feature_Names</th>\n",
              "      <th>Gain_Output</th>\n",
              "    </tr>\n",
              "  </thead>\n",
              "  <tbody>\n",
              "    <tr>\n",
              "      <th>0</th>\n",
              "      <td>battery_power</td>\n",
              "      <td>0.061464</td>\n",
              "    </tr>\n",
              "    <tr>\n",
              "      <th>1</th>\n",
              "      <td>blue</td>\n",
              "      <td>0.019563</td>\n",
              "    </tr>\n",
              "    <tr>\n",
              "      <th>2</th>\n",
              "      <td>clock_speed</td>\n",
              "      <td>0.033800</td>\n",
              "    </tr>\n",
              "    <tr>\n",
              "      <th>3</th>\n",
              "      <td>dual_sim</td>\n",
              "      <td>0.019311</td>\n",
              "    </tr>\n",
              "    <tr>\n",
              "      <th>4</th>\n",
              "      <td>fc</td>\n",
              "      <td>0.033261</td>\n",
              "    </tr>\n",
              "    <tr>\n",
              "      <th>5</th>\n",
              "      <td>four_g</td>\n",
              "      <td>0.017485</td>\n",
              "    </tr>\n",
              "    <tr>\n",
              "      <th>6</th>\n",
              "      <td>int_memory</td>\n",
              "      <td>0.035864</td>\n",
              "    </tr>\n",
              "    <tr>\n",
              "      <th>7</th>\n",
              "      <td>m_dep</td>\n",
              "      <td>0.033840</td>\n",
              "    </tr>\n",
              "    <tr>\n",
              "      <th>8</th>\n",
              "      <td>mobile_wt</td>\n",
              "      <td>0.036810</td>\n",
              "    </tr>\n",
              "    <tr>\n",
              "      <th>9</th>\n",
              "      <td>n_cores</td>\n",
              "      <td>0.033708</td>\n",
              "    </tr>\n",
              "    <tr>\n",
              "      <th>10</th>\n",
              "      <td>pc</td>\n",
              "      <td>0.034533</td>\n",
              "    </tr>\n",
              "    <tr>\n",
              "      <th>11</th>\n",
              "      <td>px_height</td>\n",
              "      <td>0.045936</td>\n",
              "    </tr>\n",
              "    <tr>\n",
              "      <th>12</th>\n",
              "      <td>px_width</td>\n",
              "      <td>0.049309</td>\n",
              "    </tr>\n",
              "    <tr>\n",
              "      <th>13</th>\n",
              "      <td>ram</td>\n",
              "      <td>0.388268</td>\n",
              "    </tr>\n",
              "    <tr>\n",
              "      <th>14</th>\n",
              "      <td>sc_h</td>\n",
              "      <td>0.034910</td>\n",
              "    </tr>\n",
              "    <tr>\n",
              "      <th>15</th>\n",
              "      <td>sc_w</td>\n",
              "      <td>0.034675</td>\n",
              "    </tr>\n",
              "    <tr>\n",
              "      <th>16</th>\n",
              "      <td>talk_time</td>\n",
              "      <td>0.034990</td>\n",
              "    </tr>\n",
              "    <tr>\n",
              "      <th>17</th>\n",
              "      <td>three_g</td>\n",
              "      <td>0.014272</td>\n",
              "    </tr>\n",
              "    <tr>\n",
              "      <th>18</th>\n",
              "      <td>touch_screen</td>\n",
              "      <td>0.017784</td>\n",
              "    </tr>\n",
              "    <tr>\n",
              "      <th>19</th>\n",
              "      <td>wifi</td>\n",
              "      <td>0.020218</td>\n",
              "    </tr>\n",
              "  </tbody>\n",
              "</table>\n",
              "</div>\n",
              "      <button class=\"colab-df-convert\" onclick=\"convertToInteractive('df-26a0d6eb-7581-4720-a4b1-aee3b07fdc5e')\"\n",
              "              title=\"Convert this dataframe to an interactive table.\"\n",
              "              style=\"display:none;\">\n",
              "        \n",
              "  <svg xmlns=\"http://www.w3.org/2000/svg\" height=\"24px\"viewBox=\"0 0 24 24\"\n",
              "       width=\"24px\">\n",
              "    <path d=\"M0 0h24v24H0V0z\" fill=\"none\"/>\n",
              "    <path d=\"M18.56 5.44l.94 2.06.94-2.06 2.06-.94-2.06-.94-.94-2.06-.94 2.06-2.06.94zm-11 1L8.5 8.5l.94-2.06 2.06-.94-2.06-.94L8.5 2.5l-.94 2.06-2.06.94zm10 10l.94 2.06.94-2.06 2.06-.94-2.06-.94-.94-2.06-.94 2.06-2.06.94z\"/><path d=\"M17.41 7.96l-1.37-1.37c-.4-.4-.92-.59-1.43-.59-.52 0-1.04.2-1.43.59L10.3 9.45l-7.72 7.72c-.78.78-.78 2.05 0 2.83L4 21.41c.39.39.9.59 1.41.59.51 0 1.02-.2 1.41-.59l7.78-7.78 2.81-2.81c.8-.78.8-2.07 0-2.86zM5.41 20L4 18.59l7.72-7.72 1.47 1.35L5.41 20z\"/>\n",
              "  </svg>\n",
              "      </button>\n",
              "      \n",
              "  <style>\n",
              "    .colab-df-container {\n",
              "      display:flex;\n",
              "      flex-wrap:wrap;\n",
              "      gap: 12px;\n",
              "    }\n",
              "\n",
              "    .colab-df-convert {\n",
              "      background-color: #E8F0FE;\n",
              "      border: none;\n",
              "      border-radius: 50%;\n",
              "      cursor: pointer;\n",
              "      display: none;\n",
              "      fill: #1967D2;\n",
              "      height: 32px;\n",
              "      padding: 0 0 0 0;\n",
              "      width: 32px;\n",
              "    }\n",
              "\n",
              "    .colab-df-convert:hover {\n",
              "      background-color: #E2EBFA;\n",
              "      box-shadow: 0px 1px 2px rgba(60, 64, 67, 0.3), 0px 1px 3px 1px rgba(60, 64, 67, 0.15);\n",
              "      fill: #174EA6;\n",
              "    }\n",
              "\n",
              "    [theme=dark] .colab-df-convert {\n",
              "      background-color: #3B4455;\n",
              "      fill: #D2E3FC;\n",
              "    }\n",
              "\n",
              "    [theme=dark] .colab-df-convert:hover {\n",
              "      background-color: #434B5C;\n",
              "      box-shadow: 0px 1px 3px 1px rgba(0, 0, 0, 0.15);\n",
              "      filter: drop-shadow(0px 1px 2px rgba(0, 0, 0, 0.3));\n",
              "      fill: #FFFFFF;\n",
              "    }\n",
              "  </style>\n",
              "\n",
              "      <script>\n",
              "        const buttonEl =\n",
              "          document.querySelector('#df-26a0d6eb-7581-4720-a4b1-aee3b07fdc5e button.colab-df-convert');\n",
              "        buttonEl.style.display =\n",
              "          google.colab.kernel.accessAllowed ? 'block' : 'none';\n",
              "\n",
              "        async function convertToInteractive(key) {\n",
              "          const element = document.querySelector('#df-26a0d6eb-7581-4720-a4b1-aee3b07fdc5e');\n",
              "          const dataTable =\n",
              "            await google.colab.kernel.invokeFunction('convertToInteractive',\n",
              "                                                     [key], {});\n",
              "          if (!dataTable) return;\n",
              "\n",
              "          const docLinkHtml = 'Like what you see? Visit the ' +\n",
              "            '<a target=\"_blank\" href=https://colab.research.google.com/notebooks/data_table.ipynb>data table notebook</a>'\n",
              "            + ' to learn more about interactive tables.';\n",
              "          element.innerHTML = '';\n",
              "          dataTable['output_type'] = 'display_data';\n",
              "          await google.colab.output.renderOutput(dataTable, element);\n",
              "          const docLink = document.createElement('div');\n",
              "          docLink.innerHTML = docLinkHtml;\n",
              "          element.appendChild(docLink);\n",
              "        }\n",
              "      </script>\n",
              "    </div>\n",
              "  </div>\n",
              "  "
            ],
            "text/plain": [
              "    Feature_Names  Gain_Output\n",
              "0   battery_power     0.061464\n",
              "1            blue     0.019563\n",
              "2     clock_speed     0.033800\n",
              "3        dual_sim     0.019311\n",
              "4              fc     0.033261\n",
              "5          four_g     0.017485\n",
              "6      int_memory     0.035864\n",
              "7           m_dep     0.033840\n",
              "8       mobile_wt     0.036810\n",
              "9         n_cores     0.033708\n",
              "10             pc     0.034533\n",
              "11      px_height     0.045936\n",
              "12       px_width     0.049309\n",
              "13            ram     0.388268\n",
              "14           sc_h     0.034910\n",
              "15           sc_w     0.034675\n",
              "16      talk_time     0.034990\n",
              "17        three_g     0.014272\n",
              "18   touch_screen     0.017784\n",
              "19           wifi     0.020218"
            ]
          },
          "execution_count": 19,
          "metadata": {},
          "output_type": "execute_result"
        }
      ],
      "source": [
        "gains = pd.concat([cols,imp],axis=1)\n",
        "gains"
      ]
    },
    {
      "cell_type": "code",
      "execution_count": null,
      "metadata": {
        "id": "QetHPFVscbk9"
      },
      "outputs": [],
      "source": [
        "Top20 = gains.nlargest(20,'Gain_Output')\n"
      ]
    },
    {
      "cell_type": "code",
      "execution_count": null,
      "metadata": {
        "colab": {
          "base_uri": "https://localhost:8080/",
          "height": 286
        },
        "id": "6ab7ec4b",
        "outputId": "da57c505-6894-47da-8ee9-2f8be3ef6354"
      },
      "outputs": [
        {
          "data": {
            "text/plain": [
              "<matplotlib.axes._subplots.AxesSubplot at 0x7f764114c9d0>"
            ]
          },
          "execution_count": 21,
          "metadata": {},
          "output_type": "execute_result"
        },
        {
          "data": {
            "image/png": "[encoded data removed]",
            "text/plain": [
              "<Figure size 432x288 with 1 Axes>"
            ]
          },
          "metadata": {},
          "output_type": "display_data"
        }
      ],
      "source": [
        "Top20.plot(kind='bar',color=['Blue']) # bar mean horizontal"
      ]
    },
    {
      "cell_type": "code",
      "execution_count": null,
      "metadata": {
        "colab": {
          "base_uri": "https://localhost:8080/",
          "height": 425
        },
        "id": "be75xkxHcvid",
        "outputId": "4f6b8811-8d79-4d58-9e78-e5b5ef358eb1"
      },
      "outputs": [
        {
          "data": {
            "text/html": [
              "\n",
              "  <div id=\"df-4c1bcdfc-00f5-4f82-bb21-22083dd344cc\">\n",
              "    <div class=\"colab-df-container\">\n",
              "      <div>\n",
              "<style scoped>\n",
              "    .dataframe tbody tr th:only-of-type {\n",
              "        vertical-align: middle;\n",
              "    }\n",
              "\n",
              "    .dataframe tbody tr th {\n",
              "        vertical-align: top;\n",
              "    }\n",
              "\n",
              "    .dataframe thead th {\n",
              "        text-align: right;\n",
              "    }\n",
              "</style>\n",
              "<table border=\"1\" class=\"dataframe\">\n",
              "  <thead>\n",
              "    <tr style=\"text-align: right;\">\n",
              "      <th></th>\n",
              "      <th>Feature_Names</th>\n",
              "      <th>Gain_Output</th>\n",
              "    </tr>\n",
              "  </thead>\n",
              "  <tbody>\n",
              "    <tr>\n",
              "      <th>13</th>\n",
              "      <td>ram</td>\n",
              "      <td>0.388268</td>\n",
              "    </tr>\n",
              "    <tr>\n",
              "      <th>0</th>\n",
              "      <td>battery_power</td>\n",
              "      <td>0.061464</td>\n",
              "    </tr>\n",
              "    <tr>\n",
              "      <th>12</th>\n",
              "      <td>px_width</td>\n",
              "      <td>0.049309</td>\n",
              "    </tr>\n",
              "    <tr>\n",
              "      <th>11</th>\n",
              "      <td>px_height</td>\n",
              "      <td>0.045936</td>\n",
              "    </tr>\n",
              "    <tr>\n",
              "      <th>8</th>\n",
              "      <td>mobile_wt</td>\n",
              "      <td>0.036810</td>\n",
              "    </tr>\n",
              "    <tr>\n",
              "      <th>6</th>\n",
              "      <td>int_memory</td>\n",
              "      <td>0.035864</td>\n",
              "    </tr>\n",
              "    <tr>\n",
              "      <th>16</th>\n",
              "      <td>talk_time</td>\n",
              "      <td>0.034990</td>\n",
              "    </tr>\n",
              "    <tr>\n",
              "      <th>14</th>\n",
              "      <td>sc_h</td>\n",
              "      <td>0.034910</td>\n",
              "    </tr>\n",
              "    <tr>\n",
              "      <th>15</th>\n",
              "      <td>sc_w</td>\n",
              "      <td>0.034675</td>\n",
              "    </tr>\n",
              "    <tr>\n",
              "      <th>10</th>\n",
              "      <td>pc</td>\n",
              "      <td>0.034533</td>\n",
              "    </tr>\n",
              "    <tr>\n",
              "      <th>7</th>\n",
              "      <td>m_dep</td>\n",
              "      <td>0.033840</td>\n",
              "    </tr>\n",
              "    <tr>\n",
              "      <th>2</th>\n",
              "      <td>clock_speed</td>\n",
              "      <td>0.033800</td>\n",
              "    </tr>\n",
              "  </tbody>\n",
              "</table>\n",
              "</div>\n",
              "      <button class=\"colab-df-convert\" onclick=\"convertToInteractive('df-4c1bcdfc-00f5-4f82-bb21-22083dd344cc')\"\n",
              "              title=\"Convert this dataframe to an interactive table.\"\n",
              "              style=\"display:none;\">\n",
              "        \n",
              "  <svg xmlns=\"http://www.w3.org/2000/svg\" height=\"24px\"viewBox=\"0 0 24 24\"\n",
              "       width=\"24px\">\n",
              "    <path d=\"M0 0h24v24H0V0z\" fill=\"none\"/>\n",
              "    <path d=\"M18.56 5.44l.94 2.06.94-2.06 2.06-.94-2.06-.94-.94-2.06-.94 2.06-2.06.94zm-11 1L8.5 8.5l.94-2.06 2.06-.94-2.06-.94L8.5 2.5l-.94 2.06-2.06.94zm10 10l.94 2.06.94-2.06 2.06-.94-2.06-.94-.94-2.06-.94 2.06-2.06.94z\"/><path d=\"M17.41 7.96l-1.37-1.37c-.4-.4-.92-.59-1.43-.59-.52 0-1.04.2-1.43.59L10.3 9.45l-7.72 7.72c-.78.78-.78 2.05 0 2.83L4 21.41c.39.39.9.59 1.41.59.51 0 1.02-.2 1.41-.59l7.78-7.78 2.81-2.81c.8-.78.8-2.07 0-2.86zM5.41 20L4 18.59l7.72-7.72 1.47 1.35L5.41 20z\"/>\n",
              "  </svg>\n",
              "      </button>\n",
              "      \n",
              "  <style>\n",
              "    .colab-df-container {\n",
              "      display:flex;\n",
              "      flex-wrap:wrap;\n",
              "      gap: 12px;\n",
              "    }\n",
              "\n",
              "    .colab-df-convert {\n",
              "      background-color: #E8F0FE;\n",
              "      border: none;\n",
              "      border-radius: 50%;\n",
              "      cursor: pointer;\n",
              "      display: none;\n",
              "      fill: #1967D2;\n",
              "      height: 32px;\n",
              "      padding: 0 0 0 0;\n",
              "      width: 32px;\n",
              "    }\n",
              "\n",
              "    .colab-df-convert:hover {\n",
              "      background-color: #E2EBFA;\n",
              "      box-shadow: 0px 1px 2px rgba(60, 64, 67, 0.3), 0px 1px 3px 1px rgba(60, 64, 67, 0.15);\n",
              "      fill: #174EA6;\n",
              "    }\n",
              "\n",
              "    [theme=dark] .colab-df-convert {\n",
              "      background-color: #3B4455;\n",
              "      fill: #D2E3FC;\n",
              "    }\n",
              "\n",
              "    [theme=dark] .colab-df-convert:hover {\n",
              "      background-color: #434B5C;\n",
              "      box-shadow: 0px 1px 3px 1px rgba(0, 0, 0, 0.15);\n",
              "      filter: drop-shadow(0px 1px 2px rgba(0, 0, 0, 0.3));\n",
              "      fill: #FFFFFF;\n",
              "    }\n",
              "  </style>\n",
              "\n",
              "      <script>\n",
              "        const buttonEl =\n",
              "          document.querySelector('#df-4c1bcdfc-00f5-4f82-bb21-22083dd344cc button.colab-df-convert');\n",
              "        buttonEl.style.display =\n",
              "          google.colab.kernel.accessAllowed ? 'block' : 'none';\n",
              "\n",
              "        async function convertToInteractive(key) {\n",
              "          const element = document.querySelector('#df-4c1bcdfc-00f5-4f82-bb21-22083dd344cc');\n",
              "          const dataTable =\n",
              "            await google.colab.kernel.invokeFunction('convertToInteractive',\n",
              "                                                     [key], {});\n",
              "          if (!dataTable) return;\n",
              "\n",
              "          const docLinkHtml = 'Like what you see? Visit the ' +\n",
              "            '<a target=\"_blank\" href=https://colab.research.google.com/notebooks/data_table.ipynb>data table notebook</a>'\n",
              "            + ' to learn more about interactive tables.';\n",
              "          element.innerHTML = '';\n",
              "          dataTable['output_type'] = 'display_data';\n",
              "          await google.colab.output.renderOutput(dataTable, element);\n",
              "          const docLink = document.createElement('div');\n",
              "          docLink.innerHTML = docLinkHtml;\n",
              "          element.appendChild(docLink);\n",
              "        }\n",
              "      </script>\n",
              "    </div>\n",
              "  </div>\n",
              "  "
            ],
            "text/plain": [
              "    Feature_Names  Gain_Output\n",
              "13            ram     0.388268\n",
              "0   battery_power     0.061464\n",
              "12       px_width     0.049309\n",
              "11      px_height     0.045936\n",
              "8       mobile_wt     0.036810\n",
              "6      int_memory     0.035864\n",
              "16      talk_time     0.034990\n",
              "14           sc_h     0.034910\n",
              "15           sc_w     0.034675\n",
              "10             pc     0.034533\n",
              "7           m_dep     0.033840\n",
              "2     clock_speed     0.033800"
            ]
          },
          "execution_count": 22,
          "metadata": {},
          "output_type": "execute_result"
        }
      ],
      "source": [
        "Top12=gains.nlargest(12,'Gain_Output')\n",
        "Top12"
      ]
    },
    {
      "cell_type": "code",
      "execution_count": null,
      "metadata": {
        "colab": {
          "base_uri": "https://localhost:8080/",
          "height": 286
        },
        "id": "qA485TD3dYb1",
        "outputId": "bb4db147-e1cc-45bc-e142-f5c396aa680f"
      },
      "outputs": [
        {
          "data": {
            "text/plain": [
              "<matplotlib.axes._subplots.AxesSubplot at 0x7f7641037590>"
            ]
          },
          "execution_count": 23,
          "metadata": {},
          "output_type": "execute_result"
        },
        {
          "data": {
            "image/png": "[encoded data removed]",
            "text/plain": [
              "<Figure size 432x288 with 1 Axes>"
            ]
          },
          "metadata": {},
          "output_type": "display_data"
        }
      ],
      "source": [
        "Top12.plot(kind='bar',color=['Blue']) # bar mean horizontal"
      ]
    },
    {
      "cell_type": "code",
      "execution_count": null,
      "metadata": {
        "colab": {
          "base_uri": "https://localhost:8080/",
          "height": 454
        },
        "id": "0b29ca18",
        "outputId": "084c3f1c-e056-44d7-c7cf-b7db58c185c9"
      },
      "outputs": [
        {
          "data": {
            "text/plain": [
              "<matplotlib.axes._subplots.AxesSubplot at 0x7f7640b1f650>"
            ]
          },
          "execution_count": 24,
          "metadata": {},
          "output_type": "execute_result"
        },
        {
          "data": {
            "image/png": "[encoded data removed]",
            "text/plain": [
              "<Figure size 720x432 with 1 Axes>"
            ]
          },
          "metadata": {},
          "output_type": "display_data"
        }
      ],
      "source": [
        "features = pd.Series(extr.feature_importances_, index = X.columns)\n",
        "plt.figure(figsize=(10,6))\n",
        "features.nlargest(12).plot(kind='bar', color='cyan')\n",
        "#plt.savefig('score1.png')"
      ]
    },
    {
      "cell_type": "code",
      "execution_count": null,
      "metadata": {
        "colab": {
          "base_uri": "https://localhost:8080/",
          "height": 1000
        },
        "id": "PI4SDw5ZgMDB",
        "outputId": "4b5b17d8-f597-4d85-bfd4-0b0984e664f6"
      },
      "outputs": [
        {
          "data": {
            "text/plain": [
              "<matplotlib.axes._subplots.AxesSubplot at 0x7f7640b1fcd0>"
            ]
          },
          "execution_count": 25,
          "metadata": {},
          "output_type": "execute_result"
        },
        {
          "data": {
            "image/png": "[encoded data removed]",
            "text/plain": [
              "<Figure size 1440x1440 with 2 Axes>"
            ]
          },
          "metadata": {},
          "output_type": "display_data"
        }
      ],
      "source": [
        "feature_names = X.columns #features name\n",
        "colname = X.corr().index #features name\n",
        "plt.figure(figsize=(20,20))\n",
        "sns.heatmap(df[colname].corr(),annot=True)"
      ]
    },
    {
      "cell_type": "markdown",
      "metadata": {
        "id": "Jw6cvF80wdOC"
      },
      "source": [
        "#2. SELECT K- Best"
      ]
    },
    {
      "cell_type": "code",
      "execution_count": null,
      "metadata": {
        "id": "dtgTBh4cwdOD"
      },
      "outputs": [],
      "source": [
        "Xkbest = X.copy()\n",
        "ykbest = y.copy()"
      ]
    },
    {
      "cell_type": "code",
      "execution_count": null,
      "metadata": {
        "id": "C8acw8n4wdOF"
      },
      "outputs": [],
      "source": [
        "from sklearn.feature_selection import SelectKBest, f_classif, chi2, f_regression #chi2 only when features are non negative"
      ]
    },
    {
      "cell_type": "code",
      "execution_count": null,
      "metadata": {
        "id": "GZIzn47EwdOG"
      },
      "outputs": [],
      "source": [
        "kbest = SelectKBest(score_func=f_classif)"
      ]
    },
    {
      "cell_type": "code",
      "execution_count": null,
      "metadata": {
        "id": "U4wNemibwdOI"
      },
      "outputs": [],
      "source": [
        "feature_value = kbest.fit(Xkbest,ykbest)"
      ]
    },
    {
      "cell_type": "code",
      "execution_count": null,
      "metadata": {
        "colab": {
          "base_uri": "https://localhost:8080/",
          "height": 676
        },
        "id": "DAF45a0AwdOJ",
        "outputId": "e04525e5-5a85-42c5-87d8-97ace3f845bf"
      },
      "outputs": [
        {
          "data": {
            "text/html": [
              "\n",
              "  <div id=\"df-8d38fd76-f41d-4aeb-bddb-19fee108a119\">\n",
              "    <div class=\"colab-df-container\">\n",
              "      <div>\n",
              "<style scoped>\n",
              "    .dataframe tbody tr th:only-of-type {\n",
              "        vertical-align: middle;\n",
              "    }\n",
              "\n",
              "    .dataframe tbody tr th {\n",
              "        vertical-align: top;\n",
              "    }\n",
              "\n",
              "    .dataframe thead th {\n",
              "        text-align: right;\n",
              "    }\n",
              "</style>\n",
              "<table border=\"1\" class=\"dataframe\">\n",
              "  <thead>\n",
              "    <tr style=\"text-align: right;\">\n",
              "      <th></th>\n",
              "      <th>Feature_Values</th>\n",
              "    </tr>\n",
              "  </thead>\n",
              "  <tbody>\n",
              "    <tr>\n",
              "      <th>0</th>\n",
              "      <td>31.190873</td>\n",
              "    </tr>\n",
              "    <tr>\n",
              "      <th>1</th>\n",
              "      <td>0.459678</td>\n",
              "    </tr>\n",
              "    <tr>\n",
              "      <th>2</th>\n",
              "      <td>0.613019</td>\n",
              "    </tr>\n",
              "    <tr>\n",
              "      <th>3</th>\n",
              "      <td>0.489493</td>\n",
              "    </tr>\n",
              "    <tr>\n",
              "      <th>4</th>\n",
              "      <td>0.830396</td>\n",
              "    </tr>\n",
              "    <tr>\n",
              "      <th>5</th>\n",
              "      <td>1.167108</td>\n",
              "    </tr>\n",
              "    <tr>\n",
              "      <th>6</th>\n",
              "      <td>2.965758</td>\n",
              "    </tr>\n",
              "    <tr>\n",
              "      <th>7</th>\n",
              "      <td>1.644102</td>\n",
              "    </tr>\n",
              "    <tr>\n",
              "      <th>8</th>\n",
              "      <td>3.625213</td>\n",
              "    </tr>\n",
              "    <tr>\n",
              "      <th>9</th>\n",
              "      <td>2.582847</td>\n",
              "    </tr>\n",
              "    <tr>\n",
              "      <th>10</th>\n",
              "      <td>0.874296</td>\n",
              "    </tr>\n",
              "    <tr>\n",
              "      <th>11</th>\n",
              "      <td>19.547371</td>\n",
              "    </tr>\n",
              "    <tr>\n",
              "      <th>12</th>\n",
              "      <td>22.520097</td>\n",
              "    </tr>\n",
              "    <tr>\n",
              "      <th>13</th>\n",
              "      <td>3526.232362</td>\n",
              "    </tr>\n",
              "    <tr>\n",
              "      <th>14</th>\n",
              "      <td>2.203504</td>\n",
              "    </tr>\n",
              "    <tr>\n",
              "      <th>15</th>\n",
              "      <td>1.597310</td>\n",
              "    </tr>\n",
              "    <tr>\n",
              "      <th>16</th>\n",
              "      <td>1.666576</td>\n",
              "    </tr>\n",
              "    <tr>\n",
              "      <th>17</th>\n",
              "      <td>0.439621</td>\n",
              "    </tr>\n",
              "    <tr>\n",
              "      <th>18</th>\n",
              "      <td>1.458911</td>\n",
              "    </tr>\n",
              "    <tr>\n",
              "      <th>19</th>\n",
              "      <td>0.261677</td>\n",
              "    </tr>\n",
              "  </tbody>\n",
              "</table>\n",
              "</div>\n",
              "      <button class=\"colab-df-convert\" onclick=\"convertToInteractive('df-8d38fd76-f41d-4aeb-bddb-19fee108a119')\"\n",
              "              title=\"Convert this dataframe to an interactive table.\"\n",
              "              style=\"display:none;\">\n",
              "        \n",
              "  <svg xmlns=\"http://www.w3.org/2000/svg\" height=\"24px\"viewBox=\"0 0 24 24\"\n",
              "       width=\"24px\">\n",
              "    <path d=\"M0 0h24v24H0V0z\" fill=\"none\"/>\n",
              "    <path d=\"M18.56 5.44l.94 2.06.94-2.06 2.06-.94-2.06-.94-.94-2.06-.94 2.06-2.06.94zm-11 1L8.5 8.5l.94-2.06 2.06-.94-2.06-.94L8.5 2.5l-.94 2.06-2.06.94zm10 10l.94 2.06.94-2.06 2.06-.94-2.06-.94-.94-2.06-.94 2.06-2.06.94z\"/><path d=\"M17.41 7.96l-1.37-1.37c-.4-.4-.92-.59-1.43-.59-.52 0-1.04.2-1.43.59L10.3 9.45l-7.72 7.72c-.78.78-.78 2.05 0 2.83L4 21.41c.39.39.9.59 1.41.59.51 0 1.02-.2 1.41-.59l7.78-7.78 2.81-2.81c.8-.78.8-2.07 0-2.86zM5.41 20L4 18.59l7.72-7.72 1.47 1.35L5.41 20z\"/>\n",
              "  </svg>\n",
              "      </button>\n",
              "      \n",
              "  <style>\n",
              "    .colab-df-container {\n",
              "      display:flex;\n",
              "      flex-wrap:wrap;\n",
              "      gap: 12px;\n",
              "    }\n",
              "\n",
              "    .colab-df-convert {\n",
              "      background-color: #E8F0FE;\n",
              "      border: none;\n",
              "      border-radius: 50%;\n",
              "      cursor: pointer;\n",
              "      display: none;\n",
              "      fill: #1967D2;\n",
              "      height: 32px;\n",
              "      padding: 0 0 0 0;\n",
              "      width: 32px;\n",
              "    }\n",
              "\n",
              "    .colab-df-convert:hover {\n",
              "      background-color: #E2EBFA;\n",
              "      box-shadow: 0px 1px 2px rgba(60, 64, 67, 0.3), 0px 1px 3px 1px rgba(60, 64, 67, 0.15);\n",
              "      fill: #174EA6;\n",
              "    }\n",
              "\n",
              "    [theme=dark] .colab-df-convert {\n",
              "      background-color: #3B4455;\n",
              "      fill: #D2E3FC;\n",
              "    }\n",
              "\n",
              "    [theme=dark] .colab-df-convert:hover {\n",
              "      background-color: #434B5C;\n",
              "      box-shadow: 0px 1px 3px 1px rgba(0, 0, 0, 0.15);\n",
              "      filter: drop-shadow(0px 1px 2px rgba(0, 0, 0, 0.3));\n",
              "      fill: #FFFFFF;\n",
              "    }\n",
              "  </style>\n",
              "\n",
              "      <script>\n",
              "        const buttonEl =\n",
              "          document.querySelector('#df-8d38fd76-f41d-4aeb-bddb-19fee108a119 button.colab-df-convert');\n",
              "        buttonEl.style.display =\n",
              "          google.colab.kernel.accessAllowed ? 'block' : 'none';\n",
              "\n",
              "        async function convertToInteractive(key) {\n",
              "          const element = document.querySelector('#df-8d38fd76-f41d-4aeb-bddb-19fee108a119');\n",
              "          const dataTable =\n",
              "            await google.colab.kernel.invokeFunction('convertToInteractive',\n",
              "                                                     [key], {});\n",
              "          if (!dataTable) return;\n",
              "\n",
              "          const docLinkHtml = 'Like what you see? Visit the ' +\n",
              "            '<a target=\"_blank\" href=https://colab.research.google.com/notebooks/data_table.ipynb>data table notebook</a>'\n",
              "            + ' to learn more about interactive tables.';\n",
              "          element.innerHTML = '';\n",
              "          dataTable['output_type'] = 'display_data';\n",
              "          await google.colab.output.renderOutput(dataTable, element);\n",
              "          const docLink = document.createElement('div');\n",
              "          docLink.innerHTML = docLinkHtml;\n",
              "          element.appendChild(docLink);\n",
              "        }\n",
              "      </script>\n",
              "    </div>\n",
              "  </div>\n",
              "  "
            ],
            "text/plain": [
              "    Feature_Values\n",
              "0        31.190873\n",
              "1         0.459678\n",
              "2         0.613019\n",
              "3         0.489493\n",
              "4         0.830396\n",
              "5         1.167108\n",
              "6         2.965758\n",
              "7         1.644102\n",
              "8         3.625213\n",
              "9         2.582847\n",
              "10        0.874296\n",
              "11       19.547371\n",
              "12       22.520097\n",
              "13     3526.232362\n",
              "14        2.203504\n",
              "15        1.597310\n",
              "16        1.666576\n",
              "17        0.439621\n",
              "18        1.458911\n",
              "19        0.261677"
            ]
          },
          "execution_count": 30,
          "metadata": {},
          "output_type": "execute_result"
        }
      ],
      "source": [
        "cols = pd.DataFrame(feature_value.scores_ , columns=['Feature_Values'])\n",
        "cols.head(27)"
      ]
    },
    {
      "cell_type": "code",
      "execution_count": null,
      "metadata": {
        "colab": {
          "base_uri": "https://localhost:8080/"
        },
        "id": "jRTUvnPewdOL",
        "outputId": "729e7428-629e-41ea-ce90-4cb0fc229ba2"
      },
      "outputs": [
        {
          "data": {
            "text/plain": [
              "array([3.11908732e+01, 4.59678478e-01, 6.13019154e-01, 4.89492949e-01,\n",
              "       8.30396133e-01, 1.16710790e+00, 2.96575777e+00, 1.64410175e+00,\n",
              "       3.62521255e+00, 2.58284723e+00, 8.74295515e-01, 1.95473713e+01,\n",
              "       2.25200970e+01, 3.52623236e+03, 2.20350431e+00, 1.59731005e+00,\n",
              "       1.66657575e+00, 4.39621377e-01, 1.45891088e+00, 2.61677203e-01])"
            ]
          },
          "execution_count": 31,
          "metadata": {},
          "output_type": "execute_result"
        }
      ],
      "source": [
        "feature_value.scores_"
      ]
    },
    {
      "cell_type": "code",
      "execution_count": null,
      "metadata": {
        "colab": {
          "base_uri": "https://localhost:8080/"
        },
        "id": "d9azN658wdOM",
        "outputId": "40c18871-d880-43ae-8651-3112013724cb"
      },
      "outputs": [
        {
          "data": {
            "text/plain": [
              "Index(['battery_power', 'blue', 'clock_speed', 'dual_sim', 'fc', 'four_g',\n",
              "       'int_memory', 'm_dep', 'mobile_wt', 'n_cores', 'pc', 'px_height',\n",
              "       'px_width', 'ram', 'sc_h', 'sc_w', 'talk_time', 'three_g',\n",
              "       'touch_screen', 'wifi'],\n",
              "      dtype='object')"
            ]
          },
          "execution_count": 32,
          "metadata": {},
          "output_type": "execute_result"
        }
      ],
      "source": [
        "X.columns"
      ]
    },
    {
      "cell_type": "code",
      "execution_count": null,
      "metadata": {
        "colab": {
          "base_uri": "https://localhost:8080/",
          "height": 676
        },
        "id": "u6X6Stl_wdOO",
        "outputId": "aaf5f820-8cd2-465b-b11a-6b41720d3db5"
      },
      "outputs": [
        {
          "data": {
            "text/html": [
              "\n",
              "  <div id=\"df-c6c1ac1a-db16-4e84-abbe-e2d943cae3ee\">\n",
              "    <div class=\"colab-df-container\">\n",
              "      <div>\n",
              "<style scoped>\n",
              "    .dataframe tbody tr th:only-of-type {\n",
              "        vertical-align: middle;\n",
              "    }\n",
              "\n",
              "    .dataframe tbody tr th {\n",
              "        vertical-align: top;\n",
              "    }\n",
              "\n",
              "    .dataframe thead th {\n",
              "        text-align: right;\n",
              "    }\n",
              "</style>\n",
              "<table border=\"1\" class=\"dataframe\">\n",
              "  <thead>\n",
              "    <tr style=\"text-align: right;\">\n",
              "      <th></th>\n",
              "      <th>Feature_Names</th>\n",
              "    </tr>\n",
              "  </thead>\n",
              "  <tbody>\n",
              "    <tr>\n",
              "      <th>0</th>\n",
              "      <td>battery_power</td>\n",
              "    </tr>\n",
              "    <tr>\n",
              "      <th>1</th>\n",
              "      <td>blue</td>\n",
              "    </tr>\n",
              "    <tr>\n",
              "      <th>2</th>\n",
              "      <td>clock_speed</td>\n",
              "    </tr>\n",
              "    <tr>\n",
              "      <th>3</th>\n",
              "      <td>dual_sim</td>\n",
              "    </tr>\n",
              "    <tr>\n",
              "      <th>4</th>\n",
              "      <td>fc</td>\n",
              "    </tr>\n",
              "    <tr>\n",
              "      <th>5</th>\n",
              "      <td>four_g</td>\n",
              "    </tr>\n",
              "    <tr>\n",
              "      <th>6</th>\n",
              "      <td>int_memory</td>\n",
              "    </tr>\n",
              "    <tr>\n",
              "      <th>7</th>\n",
              "      <td>m_dep</td>\n",
              "    </tr>\n",
              "    <tr>\n",
              "      <th>8</th>\n",
              "      <td>mobile_wt</td>\n",
              "    </tr>\n",
              "    <tr>\n",
              "      <th>9</th>\n",
              "      <td>n_cores</td>\n",
              "    </tr>\n",
              "    <tr>\n",
              "      <th>10</th>\n",
              "      <td>pc</td>\n",
              "    </tr>\n",
              "    <tr>\n",
              "      <th>11</th>\n",
              "      <td>px_height</td>\n",
              "    </tr>\n",
              "    <tr>\n",
              "      <th>12</th>\n",
              "      <td>px_width</td>\n",
              "    </tr>\n",
              "    <tr>\n",
              "      <th>13</th>\n",
              "      <td>ram</td>\n",
              "    </tr>\n",
              "    <tr>\n",
              "      <th>14</th>\n",
              "      <td>sc_h</td>\n",
              "    </tr>\n",
              "    <tr>\n",
              "      <th>15</th>\n",
              "      <td>sc_w</td>\n",
              "    </tr>\n",
              "    <tr>\n",
              "      <th>16</th>\n",
              "      <td>talk_time</td>\n",
              "    </tr>\n",
              "    <tr>\n",
              "      <th>17</th>\n",
              "      <td>three_g</td>\n",
              "    </tr>\n",
              "    <tr>\n",
              "      <th>18</th>\n",
              "      <td>touch_screen</td>\n",
              "    </tr>\n",
              "    <tr>\n",
              "      <th>19</th>\n",
              "      <td>wifi</td>\n",
              "    </tr>\n",
              "  </tbody>\n",
              "</table>\n",
              "</div>\n",
              "      <button class=\"colab-df-convert\" onclick=\"convertToInteractive('df-c6c1ac1a-db16-4e84-abbe-e2d943cae3ee')\"\n",
              "              title=\"Convert this dataframe to an interactive table.\"\n",
              "              style=\"display:none;\">\n",
              "        \n",
              "  <svg xmlns=\"http://www.w3.org/2000/svg\" height=\"24px\"viewBox=\"0 0 24 24\"\n",
              "       width=\"24px\">\n",
              "    <path d=\"M0 0h24v24H0V0z\" fill=\"none\"/>\n",
              "    <path d=\"M18.56 5.44l.94 2.06.94-2.06 2.06-.94-2.06-.94-.94-2.06-.94 2.06-2.06.94zm-11 1L8.5 8.5l.94-2.06 2.06-.94-2.06-.94L8.5 2.5l-.94 2.06-2.06.94zm10 10l.94 2.06.94-2.06 2.06-.94-2.06-.94-.94-2.06-.94 2.06-2.06.94z\"/><path d=\"M17.41 7.96l-1.37-1.37c-.4-.4-.92-.59-1.43-.59-.52 0-1.04.2-1.43.59L10.3 9.45l-7.72 7.72c-.78.78-.78 2.05 0 2.83L4 21.41c.39.39.9.59 1.41.59.51 0 1.02-.2 1.41-.59l7.78-7.78 2.81-2.81c.8-.78.8-2.07 0-2.86zM5.41 20L4 18.59l7.72-7.72 1.47 1.35L5.41 20z\"/>\n",
              "  </svg>\n",
              "      </button>\n",
              "      \n",
              "  <style>\n",
              "    .colab-df-container {\n",
              "      display:flex;\n",
              "      flex-wrap:wrap;\n",
              "      gap: 12px;\n",
              "    }\n",
              "\n",
              "    .colab-df-convert {\n",
              "      background-color: #E8F0FE;\n",
              "      border: none;\n",
              "      border-radius: 50%;\n",
              "      cursor: pointer;\n",
              "      display: none;\n",
              "      fill: #1967D2;\n",
              "      height: 32px;\n",
              "      padding: 0 0 0 0;\n",
              "      width: 32px;\n",
              "    }\n",
              "\n",
              "    .colab-df-convert:hover {\n",
              "      background-color: #E2EBFA;\n",
              "      box-shadow: 0px 1px 2px rgba(60, 64, 67, 0.3), 0px 1px 3px 1px rgba(60, 64, 67, 0.15);\n",
              "      fill: #174EA6;\n",
              "    }\n",
              "\n",
              "    [theme=dark] .colab-df-convert {\n",
              "      background-color: #3B4455;\n",
              "      fill: #D2E3FC;\n",
              "    }\n",
              "\n",
              "    [theme=dark] .colab-df-convert:hover {\n",
              "      background-color: #434B5C;\n",
              "      box-shadow: 0px 1px 3px 1px rgba(0, 0, 0, 0.15);\n",
              "      filter: drop-shadow(0px 1px 2px rgba(0, 0, 0, 0.3));\n",
              "      fill: #FFFFFF;\n",
              "    }\n",
              "  </style>\n",
              "\n",
              "      <script>\n",
              "        const buttonEl =\n",
              "          document.querySelector('#df-c6c1ac1a-db16-4e84-abbe-e2d943cae3ee button.colab-df-convert');\n",
              "        buttonEl.style.display =\n",
              "          google.colab.kernel.accessAllowed ? 'block' : 'none';\n",
              "\n",
              "        async function convertToInteractive(key) {\n",
              "          const element = document.querySelector('#df-c6c1ac1a-db16-4e84-abbe-e2d943cae3ee');\n",
              "          const dataTable =\n",
              "            await google.colab.kernel.invokeFunction('convertToInteractive',\n",
              "                                                     [key], {});\n",
              "          if (!dataTable) return;\n",
              "\n",
              "          const docLinkHtml = 'Like what you see? Visit the ' +\n",
              "            '<a target=\"_blank\" href=https://colab.research.google.com/notebooks/data_table.ipynb>data table notebook</a>'\n",
              "            + ' to learn more about interactive tables.';\n",
              "          element.innerHTML = '';\n",
              "          dataTable['output_type'] = 'display_data';\n",
              "          await google.colab.output.renderOutput(dataTable, element);\n",
              "          const docLink = document.createElement('div');\n",
              "          docLink.innerHTML = docLinkHtml;\n",
              "          element.appendChild(docLink);\n",
              "        }\n",
              "      </script>\n",
              "    </div>\n",
              "  </div>\n",
              "  "
            ],
            "text/plain": [
              "    Feature_Names\n",
              "0   battery_power\n",
              "1            blue\n",
              "2     clock_speed\n",
              "3        dual_sim\n",
              "4              fc\n",
              "5          four_g\n",
              "6      int_memory\n",
              "7           m_dep\n",
              "8       mobile_wt\n",
              "9         n_cores\n",
              "10             pc\n",
              "11      px_height\n",
              "12       px_width\n",
              "13            ram\n",
              "14           sc_h\n",
              "15           sc_w\n",
              "16      talk_time\n",
              "17        three_g\n",
              "18   touch_screen\n",
              "19           wifi"
            ]
          },
          "execution_count": 33,
          "metadata": {},
          "output_type": "execute_result"
        }
      ],
      "source": [
        "col2 = pd.DataFrame(X.columns, columns=['Feature_Names'])\n",
        "col2.head(22)"
      ]
    },
    {
      "cell_type": "code",
      "execution_count": null,
      "metadata": {
        "colab": {
          "base_uri": "https://localhost:8080/",
          "height": 676
        },
        "id": "tvjanibqwdOQ",
        "outputId": "4de3fafc-c2db-4f7f-8d7a-a2d6ecd6526a"
      },
      "outputs": [
        {
          "data": {
            "text/html": [
              "\n",
              "  <div id=\"df-16f9f743-d30a-43e5-b29e-e27f16d4cb90\">\n",
              "    <div class=\"colab-df-container\">\n",
              "      <div>\n",
              "<style scoped>\n",
              "    .dataframe tbody tr th:only-of-type {\n",
              "        vertical-align: middle;\n",
              "    }\n",
              "\n",
              "    .dataframe tbody tr th {\n",
              "        vertical-align: top;\n",
              "    }\n",
              "\n",
              "    .dataframe thead th {\n",
              "        text-align: right;\n",
              "    }\n",
              "</style>\n",
              "<table border=\"1\" class=\"dataframe\">\n",
              "  <thead>\n",
              "    <tr style=\"text-align: right;\">\n",
              "      <th></th>\n",
              "      <th>Feature_Names</th>\n",
              "      <th>Feature_Values</th>\n",
              "    </tr>\n",
              "  </thead>\n",
              "  <tbody>\n",
              "    <tr>\n",
              "      <th>0</th>\n",
              "      <td>battery_power</td>\n",
              "      <td>31.190873</td>\n",
              "    </tr>\n",
              "    <tr>\n",
              "      <th>1</th>\n",
              "      <td>blue</td>\n",
              "      <td>0.459678</td>\n",
              "    </tr>\n",
              "    <tr>\n",
              "      <th>2</th>\n",
              "      <td>clock_speed</td>\n",
              "      <td>0.613019</td>\n",
              "    </tr>\n",
              "    <tr>\n",
              "      <th>3</th>\n",
              "      <td>dual_sim</td>\n",
              "      <td>0.489493</td>\n",
              "    </tr>\n",
              "    <tr>\n",
              "      <th>4</th>\n",
              "      <td>fc</td>\n",
              "      <td>0.830396</td>\n",
              "    </tr>\n",
              "    <tr>\n",
              "      <th>5</th>\n",
              "      <td>four_g</td>\n",
              "      <td>1.167108</td>\n",
              "    </tr>\n",
              "    <tr>\n",
              "      <th>6</th>\n",
              "      <td>int_memory</td>\n",
              "      <td>2.965758</td>\n",
              "    </tr>\n",
              "    <tr>\n",
              "      <th>7</th>\n",
              "      <td>m_dep</td>\n",
              "      <td>1.644102</td>\n",
              "    </tr>\n",
              "    <tr>\n",
              "      <th>8</th>\n",
              "      <td>mobile_wt</td>\n",
              "      <td>3.625213</td>\n",
              "    </tr>\n",
              "    <tr>\n",
              "      <th>9</th>\n",
              "      <td>n_cores</td>\n",
              "      <td>2.582847</td>\n",
              "    </tr>\n",
              "    <tr>\n",
              "      <th>10</th>\n",
              "      <td>pc</td>\n",
              "      <td>0.874296</td>\n",
              "    </tr>\n",
              "    <tr>\n",
              "      <th>11</th>\n",
              "      <td>px_height</td>\n",
              "      <td>19.547371</td>\n",
              "    </tr>\n",
              "    <tr>\n",
              "      <th>12</th>\n",
              "      <td>px_width</td>\n",
              "      <td>22.520097</td>\n",
              "    </tr>\n",
              "    <tr>\n",
              "      <th>13</th>\n",
              "      <td>ram</td>\n",
              "      <td>3526.232362</td>\n",
              "    </tr>\n",
              "    <tr>\n",
              "      <th>14</th>\n",
              "      <td>sc_h</td>\n",
              "      <td>2.203504</td>\n",
              "    </tr>\n",
              "    <tr>\n",
              "      <th>15</th>\n",
              "      <td>sc_w</td>\n",
              "      <td>1.597310</td>\n",
              "    </tr>\n",
              "    <tr>\n",
              "      <th>16</th>\n",
              "      <td>talk_time</td>\n",
              "      <td>1.666576</td>\n",
              "    </tr>\n",
              "    <tr>\n",
              "      <th>17</th>\n",
              "      <td>three_g</td>\n",
              "      <td>0.439621</td>\n",
              "    </tr>\n",
              "    <tr>\n",
              "      <th>18</th>\n",
              "      <td>touch_screen</td>\n",
              "      <td>1.458911</td>\n",
              "    </tr>\n",
              "    <tr>\n",
              "      <th>19</th>\n",
              "      <td>wifi</td>\n",
              "      <td>0.261677</td>\n",
              "    </tr>\n",
              "  </tbody>\n",
              "</table>\n",
              "</div>\n",
              "      <button class=\"colab-df-convert\" onclick=\"convertToInteractive('df-16f9f743-d30a-43e5-b29e-e27f16d4cb90')\"\n",
              "              title=\"Convert this dataframe to an interactive table.\"\n",
              "              style=\"display:none;\">\n",
              "        \n",
              "  <svg xmlns=\"http://www.w3.org/2000/svg\" height=\"24px\"viewBox=\"0 0 24 24\"\n",
              "       width=\"24px\">\n",
              "    <path d=\"M0 0h24v24H0V0z\" fill=\"none\"/>\n",
              "    <path d=\"M18.56 5.44l.94 2.06.94-2.06 2.06-.94-2.06-.94-.94-2.06-.94 2.06-2.06.94zm-11 1L8.5 8.5l.94-2.06 2.06-.94-2.06-.94L8.5 2.5l-.94 2.06-2.06.94zm10 10l.94 2.06.94-2.06 2.06-.94-2.06-.94-.94-2.06-.94 2.06-2.06.94z\"/><path d=\"M17.41 7.96l-1.37-1.37c-.4-.4-.92-.59-1.43-.59-.52 0-1.04.2-1.43.59L10.3 9.45l-7.72 7.72c-.78.78-.78 2.05 0 2.83L4 21.41c.39.39.9.59 1.41.59.51 0 1.02-.2 1.41-.59l7.78-7.78 2.81-2.81c.8-.78.8-2.07 0-2.86zM5.41 20L4 18.59l7.72-7.72 1.47 1.35L5.41 20z\"/>\n",
              "  </svg>\n",
              "      </button>\n",
              "      \n",
              "  <style>\n",
              "    .colab-df-container {\n",
              "      display:flex;\n",
              "      flex-wrap:wrap;\n",
              "      gap: 12px;\n",
              "    }\n",
              "\n",
              "    .colab-df-convert {\n",
              "      background-color: #E8F0FE;\n",
              "      border: none;\n",
              "      border-radius: 50%;\n",
              "      cursor: pointer;\n",
              "      display: none;\n",
              "      fill: #1967D2;\n",
              "      height: 32px;\n",
              "      padding: 0 0 0 0;\n",
              "      width: 32px;\n",
              "    }\n",
              "\n",
              "    .colab-df-convert:hover {\n",
              "      background-color: #E2EBFA;\n",
              "      box-shadow: 0px 1px 2px rgba(60, 64, 67, 0.3), 0px 1px 3px 1px rgba(60, 64, 67, 0.15);\n",
              "      fill: #174EA6;\n",
              "    }\n",
              "\n",
              "    [theme=dark] .colab-df-convert {\n",
              "      background-color: #3B4455;\n",
              "      fill: #D2E3FC;\n",
              "    }\n",
              "\n",
              "    [theme=dark] .colab-df-convert:hover {\n",
              "      background-color: #434B5C;\n",
              "      box-shadow: 0px 1px 3px 1px rgba(0, 0, 0, 0.15);\n",
              "      filter: drop-shadow(0px 1px 2px rgba(0, 0, 0, 0.3));\n",
              "      fill: #FFFFFF;\n",
              "    }\n",
              "  </style>\n",
              "\n",
              "      <script>\n",
              "        const buttonEl =\n",
              "          document.querySelector('#df-16f9f743-d30a-43e5-b29e-e27f16d4cb90 button.colab-df-convert');\n",
              "        buttonEl.style.display =\n",
              "          google.colab.kernel.accessAllowed ? 'block' : 'none';\n",
              "\n",
              "        async function convertToInteractive(key) {\n",
              "          const element = document.querySelector('#df-16f9f743-d30a-43e5-b29e-e27f16d4cb90');\n",
              "          const dataTable =\n",
              "            await google.colab.kernel.invokeFunction('convertToInteractive',\n",
              "                                                     [key], {});\n",
              "          if (!dataTable) return;\n",
              "\n",
              "          const docLinkHtml = 'Like what you see? Visit the ' +\n",
              "            '<a target=\"_blank\" href=https://colab.research.google.com/notebooks/data_table.ipynb>data table notebook</a>'\n",
              "            + ' to learn more about interactive tables.';\n",
              "          element.innerHTML = '';\n",
              "          dataTable['output_type'] = 'display_data';\n",
              "          await google.colab.output.renderOutput(dataTable, element);\n",
              "          const docLink = document.createElement('div');\n",
              "          docLink.innerHTML = docLinkHtml;\n",
              "          element.appendChild(docLink);\n",
              "        }\n",
              "      </script>\n",
              "    </div>\n",
              "  </div>\n",
              "  "
            ],
            "text/plain": [
              "    Feature_Names  Feature_Values\n",
              "0   battery_power       31.190873\n",
              "1            blue        0.459678\n",
              "2     clock_speed        0.613019\n",
              "3        dual_sim        0.489493\n",
              "4              fc        0.830396\n",
              "5          four_g        1.167108\n",
              "6      int_memory        2.965758\n",
              "7           m_dep        1.644102\n",
              "8       mobile_wt        3.625213\n",
              "9         n_cores        2.582847\n",
              "10             pc        0.874296\n",
              "11      px_height       19.547371\n",
              "12       px_width       22.520097\n",
              "13            ram     3526.232362\n",
              "14           sc_h        2.203504\n",
              "15           sc_w        1.597310\n",
              "16      talk_time        1.666576\n",
              "17        three_g        0.439621\n",
              "18   touch_screen        1.458911\n",
              "19           wifi        0.261677"
            ]
          },
          "execution_count": 34,
          "metadata": {},
          "output_type": "execute_result"
        }
      ],
      "source": [
        "scores_value = pd.concat([col2,cols],axis=1)\n",
        "scores_value"
      ]
    },
    {
      "cell_type": "code",
      "execution_count": null,
      "metadata": {
        "colab": {
          "base_uri": "https://localhost:8080/",
          "height": 676
        },
        "id": "rSN5cL7FwdOS",
        "outputId": "27228714-49b6-4575-ab03-863da642d74b"
      },
      "outputs": [
        {
          "data": {
            "text/html": [
              "\n",
              "  <div id=\"df-8be9b036-915c-4ef0-aa53-1578deac4581\">\n",
              "    <div class=\"colab-df-container\">\n",
              "      <div>\n",
              "<style scoped>\n",
              "    .dataframe tbody tr th:only-of-type {\n",
              "        vertical-align: middle;\n",
              "    }\n",
              "\n",
              "    .dataframe tbody tr th {\n",
              "        vertical-align: top;\n",
              "    }\n",
              "\n",
              "    .dataframe thead th {\n",
              "        text-align: right;\n",
              "    }\n",
              "</style>\n",
              "<table border=\"1\" class=\"dataframe\">\n",
              "  <thead>\n",
              "    <tr style=\"text-align: right;\">\n",
              "      <th></th>\n",
              "      <th>Feature_Names</th>\n",
              "      <th>Feature_Values</th>\n",
              "    </tr>\n",
              "  </thead>\n",
              "  <tbody>\n",
              "    <tr>\n",
              "      <th>13</th>\n",
              "      <td>ram</td>\n",
              "      <td>3526.232362</td>\n",
              "    </tr>\n",
              "    <tr>\n",
              "      <th>0</th>\n",
              "      <td>battery_power</td>\n",
              "      <td>31.190873</td>\n",
              "    </tr>\n",
              "    <tr>\n",
              "      <th>12</th>\n",
              "      <td>px_width</td>\n",
              "      <td>22.520097</td>\n",
              "    </tr>\n",
              "    <tr>\n",
              "      <th>11</th>\n",
              "      <td>px_height</td>\n",
              "      <td>19.547371</td>\n",
              "    </tr>\n",
              "    <tr>\n",
              "      <th>8</th>\n",
              "      <td>mobile_wt</td>\n",
              "      <td>3.625213</td>\n",
              "    </tr>\n",
              "    <tr>\n",
              "      <th>6</th>\n",
              "      <td>int_memory</td>\n",
              "      <td>2.965758</td>\n",
              "    </tr>\n",
              "    <tr>\n",
              "      <th>9</th>\n",
              "      <td>n_cores</td>\n",
              "      <td>2.582847</td>\n",
              "    </tr>\n",
              "    <tr>\n",
              "      <th>14</th>\n",
              "      <td>sc_h</td>\n",
              "      <td>2.203504</td>\n",
              "    </tr>\n",
              "    <tr>\n",
              "      <th>16</th>\n",
              "      <td>talk_time</td>\n",
              "      <td>1.666576</td>\n",
              "    </tr>\n",
              "    <tr>\n",
              "      <th>7</th>\n",
              "      <td>m_dep</td>\n",
              "      <td>1.644102</td>\n",
              "    </tr>\n",
              "    <tr>\n",
              "      <th>15</th>\n",
              "      <td>sc_w</td>\n",
              "      <td>1.597310</td>\n",
              "    </tr>\n",
              "    <tr>\n",
              "      <th>18</th>\n",
              "      <td>touch_screen</td>\n",
              "      <td>1.458911</td>\n",
              "    </tr>\n",
              "    <tr>\n",
              "      <th>5</th>\n",
              "      <td>four_g</td>\n",
              "      <td>1.167108</td>\n",
              "    </tr>\n",
              "    <tr>\n",
              "      <th>10</th>\n",
              "      <td>pc</td>\n",
              "      <td>0.874296</td>\n",
              "    </tr>\n",
              "    <tr>\n",
              "      <th>4</th>\n",
              "      <td>fc</td>\n",
              "      <td>0.830396</td>\n",
              "    </tr>\n",
              "    <tr>\n",
              "      <th>2</th>\n",
              "      <td>clock_speed</td>\n",
              "      <td>0.613019</td>\n",
              "    </tr>\n",
              "    <tr>\n",
              "      <th>3</th>\n",
              "      <td>dual_sim</td>\n",
              "      <td>0.489493</td>\n",
              "    </tr>\n",
              "    <tr>\n",
              "      <th>1</th>\n",
              "      <td>blue</td>\n",
              "      <td>0.459678</td>\n",
              "    </tr>\n",
              "    <tr>\n",
              "      <th>17</th>\n",
              "      <td>three_g</td>\n",
              "      <td>0.439621</td>\n",
              "    </tr>\n",
              "    <tr>\n",
              "      <th>19</th>\n",
              "      <td>wifi</td>\n",
              "      <td>0.261677</td>\n",
              "    </tr>\n",
              "  </tbody>\n",
              "</table>\n",
              "</div>\n",
              "      <button class=\"colab-df-convert\" onclick=\"convertToInteractive('df-8be9b036-915c-4ef0-aa53-1578deac4581')\"\n",
              "              title=\"Convert this dataframe to an interactive table.\"\n",
              "              style=\"display:none;\">\n",
              "        \n",
              "  <svg xmlns=\"http://www.w3.org/2000/svg\" height=\"24px\"viewBox=\"0 0 24 24\"\n",
              "       width=\"24px\">\n",
              "    <path d=\"M0 0h24v24H0V0z\" fill=\"none\"/>\n",
              "    <path d=\"M18.56 5.44l.94 2.06.94-2.06 2.06-.94-2.06-.94-.94-2.06-.94 2.06-2.06.94zm-11 1L8.5 8.5l.94-2.06 2.06-.94-2.06-.94L8.5 2.5l-.94 2.06-2.06.94zm10 10l.94 2.06.94-2.06 2.06-.94-2.06-.94-.94-2.06-.94 2.06-2.06.94z\"/><path d=\"M17.41 7.96l-1.37-1.37c-.4-.4-.92-.59-1.43-.59-.52 0-1.04.2-1.43.59L10.3 9.45l-7.72 7.72c-.78.78-.78 2.05 0 2.83L4 21.41c.39.39.9.59 1.41.59.51 0 1.02-.2 1.41-.59l7.78-7.78 2.81-2.81c.8-.78.8-2.07 0-2.86zM5.41 20L4 18.59l7.72-7.72 1.47 1.35L5.41 20z\"/>\n",
              "  </svg>\n",
              "      </button>\n",
              "      \n",
              "  <style>\n",
              "    .colab-df-container {\n",
              "      display:flex;\n",
              "      flex-wrap:wrap;\n",
              "      gap: 12px;\n",
              "    }\n",
              "\n",
              "    .colab-df-convert {\n",
              "      background-color: #E8F0FE;\n",
              "      border: none;\n",
              "      border-radius: 50%;\n",
              "      cursor: pointer;\n",
              "      display: none;\n",
              "      fill: #1967D2;\n",
              "      height: 32px;\n",
              "      padding: 0 0 0 0;\n",
              "      width: 32px;\n",
              "    }\n",
              "\n",
              "    .colab-df-convert:hover {\n",
              "      background-color: #E2EBFA;\n",
              "      box-shadow: 0px 1px 2px rgba(60, 64, 67, 0.3), 0px 1px 3px 1px rgba(60, 64, 67, 0.15);\n",
              "      fill: #174EA6;\n",
              "    }\n",
              "\n",
              "    [theme=dark] .colab-df-convert {\n",
              "      background-color: #3B4455;\n",
              "      fill: #D2E3FC;\n",
              "    }\n",
              "\n",
              "    [theme=dark] .colab-df-convert:hover {\n",
              "      background-color: #434B5C;\n",
              "      box-shadow: 0px 1px 3px 1px rgba(0, 0, 0, 0.15);\n",
              "      filter: drop-shadow(0px 1px 2px rgba(0, 0, 0, 0.3));\n",
              "      fill: #FFFFFF;\n",
              "    }\n",
              "  </style>\n",
              "\n",
              "      <script>\n",
              "        const buttonEl =\n",
              "          document.querySelector('#df-8be9b036-915c-4ef0-aa53-1578deac4581 button.colab-df-convert');\n",
              "        buttonEl.style.display =\n",
              "          google.colab.kernel.accessAllowed ? 'block' : 'none';\n",
              "\n",
              "        async function convertToInteractive(key) {\n",
              "          const element = document.querySelector('#df-8be9b036-915c-4ef0-aa53-1578deac4581');\n",
              "          const dataTable =\n",
              "            await google.colab.kernel.invokeFunction('convertToInteractive',\n",
              "                                                     [key], {});\n",
              "          if (!dataTable) return;\n",
              "\n",
              "          const docLinkHtml = 'Like what you see? Visit the ' +\n",
              "            '<a target=\"_blank\" href=https://colab.research.google.com/notebooks/data_table.ipynb>data table notebook</a>'\n",
              "            + ' to learn more about interactive tables.';\n",
              "          element.innerHTML = '';\n",
              "          dataTable['output_type'] = 'display_data';\n",
              "          await google.colab.output.renderOutput(dataTable, element);\n",
              "          const docLink = document.createElement('div');\n",
              "          docLink.innerHTML = docLinkHtml;\n",
              "          element.appendChild(docLink);\n",
              "        }\n",
              "      </script>\n",
              "    </div>\n",
              "  </div>\n",
              "  "
            ],
            "text/plain": [
              "    Feature_Names  Feature_Values\n",
              "13            ram     3526.232362\n",
              "0   battery_power       31.190873\n",
              "12       px_width       22.520097\n",
              "11      px_height       19.547371\n",
              "8       mobile_wt        3.625213\n",
              "6      int_memory        2.965758\n",
              "9         n_cores        2.582847\n",
              "14           sc_h        2.203504\n",
              "16      talk_time        1.666576\n",
              "7           m_dep        1.644102\n",
              "15           sc_w        1.597310\n",
              "18   touch_screen        1.458911\n",
              "5          four_g        1.167108\n",
              "10             pc        0.874296\n",
              "4              fc        0.830396\n",
              "2     clock_speed        0.613019\n",
              "3        dual_sim        0.489493\n",
              "1            blue        0.459678\n",
              "17        three_g        0.439621\n",
              "19           wifi        0.261677"
            ]
          },
          "execution_count": 35,
          "metadata": {},
          "output_type": "execute_result"
        }
      ],
      "source": [
        "Xkbest1 = scores_value.nlargest(20,'Feature_Values')\n",
        "Xkbest1 "
      ]
    },
    {
      "cell_type": "markdown",
      "metadata": {
        "id": "YaWo08USQjoK"
      },
      "source": [
        ""
      ]
    },
    {
      "cell_type": "markdown",
      "metadata": {
        "id": "fCQCiUy7WjIm"
      },
      "source": [
        "# 3. Priciple Component Analysis (PCA)"
      ]
    },
    {
      "cell_type": "code",
      "execution_count": null,
      "metadata": {
        "colab": {
          "base_uri": "https://localhost:8080/",
          "height": 237
        },
        "id": "Yi9xSvsRXK12",
        "outputId": "e82afda2-0b58-41e5-9d24-c13c01c8d755"
      },
      "outputs": [
        {
          "data": {
            "text/html": [
              "\n",
              "  <div id=\"df-98d7ae8e-b6d4-4122-a256-2278e7cfb2df\">\n",
              "    <div class=\"colab-df-container\">\n",
              "      <div>\n",
              "<style scoped>\n",
              "    .dataframe tbody tr th:only-of-type {\n",
              "        vertical-align: middle;\n",
              "    }\n",
              "\n",
              "    .dataframe tbody tr th {\n",
              "        vertical-align: top;\n",
              "    }\n",
              "\n",
              "    .dataframe thead th {\n",
              "        text-align: right;\n",
              "    }\n",
              "</style>\n",
              "<table border=\"1\" class=\"dataframe\">\n",
              "  <thead>\n",
              "    <tr style=\"text-align: right;\">\n",
              "      <th></th>\n",
              "      <th>battery_power</th>\n",
              "      <th>blue</th>\n",
              "      <th>clock_speed</th>\n",
              "      <th>dual_sim</th>\n",
              "      <th>fc</th>\n",
              "      <th>four_g</th>\n",
              "      <th>int_memory</th>\n",
              "      <th>m_dep</th>\n",
              "      <th>mobile_wt</th>\n",
              "      <th>n_cores</th>\n",
              "      <th>...</th>\n",
              "      <th>px_height</th>\n",
              "      <th>px_width</th>\n",
              "      <th>ram</th>\n",
              "      <th>sc_h</th>\n",
              "      <th>sc_w</th>\n",
              "      <th>talk_time</th>\n",
              "      <th>three_g</th>\n",
              "      <th>touch_screen</th>\n",
              "      <th>wifi</th>\n",
              "      <th>price_range</th>\n",
              "    </tr>\n",
              "  </thead>\n",
              "  <tbody>\n",
              "    <tr>\n",
              "      <th>0</th>\n",
              "      <td>772</td>\n",
              "      <td>0</td>\n",
              "      <td>1.1</td>\n",
              "      <td>1</td>\n",
              "      <td>12</td>\n",
              "      <td>0</td>\n",
              "      <td>39</td>\n",
              "      <td>0.8</td>\n",
              "      <td>81</td>\n",
              "      <td>7</td>\n",
              "      <td>...</td>\n",
              "      <td>1314</td>\n",
              "      <td>1854</td>\n",
              "      <td>2819</td>\n",
              "      <td>17</td>\n",
              "      <td>15</td>\n",
              "      <td>3</td>\n",
              "      <td>1</td>\n",
              "      <td>1</td>\n",
              "      <td>0</td>\n",
              "      <td>3</td>\n",
              "    </tr>\n",
              "    <tr>\n",
              "      <th>1</th>\n",
              "      <td>1709</td>\n",
              "      <td>1</td>\n",
              "      <td>2.1</td>\n",
              "      <td>0</td>\n",
              "      <td>1</td>\n",
              "      <td>0</td>\n",
              "      <td>13</td>\n",
              "      <td>1.0</td>\n",
              "      <td>156</td>\n",
              "      <td>2</td>\n",
              "      <td>...</td>\n",
              "      <td>974</td>\n",
              "      <td>1385</td>\n",
              "      <td>3283</td>\n",
              "      <td>17</td>\n",
              "      <td>1</td>\n",
              "      <td>15</td>\n",
              "      <td>1</td>\n",
              "      <td>0</td>\n",
              "      <td>0</td>\n",
              "      <td>3</td>\n",
              "    </tr>\n",
              "    <tr>\n",
              "      <th>2</th>\n",
              "      <td>1949</td>\n",
              "      <td>0</td>\n",
              "      <td>2.6</td>\n",
              "      <td>1</td>\n",
              "      <td>4</td>\n",
              "      <td>0</td>\n",
              "      <td>47</td>\n",
              "      <td>0.3</td>\n",
              "      <td>199</td>\n",
              "      <td>4</td>\n",
              "      <td>...</td>\n",
              "      <td>407</td>\n",
              "      <td>822</td>\n",
              "      <td>1433</td>\n",
              "      <td>11</td>\n",
              "      <td>5</td>\n",
              "      <td>20</td>\n",
              "      <td>0</td>\n",
              "      <td>0</td>\n",
              "      <td>1</td>\n",
              "      <td>1</td>\n",
              "    </tr>\n",
              "  </tbody>\n",
              "</table>\n",
              "<p>3 rows × 21 columns</p>\n",
              "</div>\n",
              "      <button class=\"colab-df-convert\" onclick=\"convertToInteractive('df-98d7ae8e-b6d4-4122-a256-2278e7cfb2df')\"\n",
              "              title=\"Convert this dataframe to an interactive table.\"\n",
              "              style=\"display:none;\">\n",
              "        \n",
              "  <svg xmlns=\"http://www.w3.org/2000/svg\" height=\"24px\"viewBox=\"0 0 24 24\"\n",
              "       width=\"24px\">\n",
              "    <path d=\"M0 0h24v24H0V0z\" fill=\"none\"/>\n",
              "    <path d=\"M18.56 5.44l.94 2.06.94-2.06 2.06-.94-2.06-.94-.94-2.06-.94 2.06-2.06.94zm-11 1L8.5 8.5l.94-2.06 2.06-.94-2.06-.94L8.5 2.5l-.94 2.06-2.06.94zm10 10l.94 2.06.94-2.06 2.06-.94-2.06-.94-.94-2.06-.94 2.06-2.06.94z\"/><path d=\"M17.41 7.96l-1.37-1.37c-.4-.4-.92-.59-1.43-.59-.52 0-1.04.2-1.43.59L10.3 9.45l-7.72 7.72c-.78.78-.78 2.05 0 2.83L4 21.41c.39.39.9.59 1.41.59.51 0 1.02-.2 1.41-.59l7.78-7.78 2.81-2.81c.8-.78.8-2.07 0-2.86zM5.41 20L4 18.59l7.72-7.72 1.47 1.35L5.41 20z\"/>\n",
              "  </svg>\n",
              "      </button>\n",
              "      \n",
              "  <style>\n",
              "    .colab-df-container {\n",
              "      display:flex;\n",
              "      flex-wrap:wrap;\n",
              "      gap: 12px;\n",
              "    }\n",
              "\n",
              "    .colab-df-convert {\n",
              "      background-color: #E8F0FE;\n",
              "      border: none;\n",
              "      border-radius: 50%;\n",
              "      cursor: pointer;\n",
              "      display: none;\n",
              "      fill: #1967D2;\n",
              "      height: 32px;\n",
              "      padding: 0 0 0 0;\n",
              "      width: 32px;\n",
              "    }\n",
              "\n",
              "    .colab-df-convert:hover {\n",
              "      background-color: #E2EBFA;\n",
              "      box-shadow: 0px 1px 2px rgba(60, 64, 67, 0.3), 0px 1px 3px 1px rgba(60, 64, 67, 0.15);\n",
              "      fill: #174EA6;\n",
              "    }\n",
              "\n",
              "    [theme=dark] .colab-df-convert {\n",
              "      background-color: #3B4455;\n",
              "      fill: #D2E3FC;\n",
              "    }\n",
              "\n",
              "    [theme=dark] .colab-df-convert:hover {\n",
              "      background-color: #434B5C;\n",
              "      box-shadow: 0px 1px 3px 1px rgba(0, 0, 0, 0.15);\n",
              "      filter: drop-shadow(0px 1px 2px rgba(0, 0, 0, 0.3));\n",
              "      fill: #FFFFFF;\n",
              "    }\n",
              "  </style>\n",
              "\n",
              "      <script>\n",
              "        const buttonEl =\n",
              "          document.querySelector('#df-98d7ae8e-b6d4-4122-a256-2278e7cfb2df button.colab-df-convert');\n",
              "        buttonEl.style.display =\n",
              "          google.colab.kernel.accessAllowed ? 'block' : 'none';\n",
              "\n",
              "        async function convertToInteractive(key) {\n",
              "          const element = document.querySelector('#df-98d7ae8e-b6d4-4122-a256-2278e7cfb2df');\n",
              "          const dataTable =\n",
              "            await google.colab.kernel.invokeFunction('convertToInteractive',\n",
              "                                                     [key], {});\n",
              "          if (!dataTable) return;\n",
              "\n",
              "          const docLinkHtml = 'Like what you see? Visit the ' +\n",
              "            '<a target=\"_blank\" href=https://colab.research.google.com/notebooks/data_table.ipynb>data table notebook</a>'\n",
              "            + ' to learn more about interactive tables.';\n",
              "          element.innerHTML = '';\n",
              "          dataTable['output_type'] = 'display_data';\n",
              "          await google.colab.output.renderOutput(dataTable, element);\n",
              "          const docLink = document.createElement('div');\n",
              "          docLink.innerHTML = docLinkHtml;\n",
              "          element.appendChild(docLink);\n",
              "        }\n",
              "      </script>\n",
              "    </div>\n",
              "  </div>\n",
              "  "
            ],
            "text/plain": [
              "   battery_power  blue  clock_speed  dual_sim  fc  four_g  int_memory  m_dep  \\\n",
              "0            772     0          1.1         1  12       0          39    0.8   \n",
              "1           1709     1          2.1         0   1       0          13    1.0   \n",
              "2           1949     0          2.6         1   4       0          47    0.3   \n",
              "\n",
              "   mobile_wt  n_cores  ...  px_height  px_width   ram  sc_h  sc_w  talk_time  \\\n",
              "0         81        7  ...       1314      1854  2819    17    15          3   \n",
              "1        156        2  ...        974      1385  3283    17     1         15   \n",
              "2        199        4  ...        407       822  1433    11     5         20   \n",
              "\n",
              "   three_g  touch_screen  wifi  price_range  \n",
              "0        1             1     0            3  \n",
              "1        1             0     0            3  \n",
              "2        0             0     1            1  \n",
              "\n",
              "[3 rows x 21 columns]"
            ]
          },
          "execution_count": 36,
          "metadata": {},
          "output_type": "execute_result"
        }
      ],
      "source": [
        "df1=df.copy()\n",
        "df1.head(3)"
      ]
    },
    {
      "cell_type": "code",
      "execution_count": null,
      "metadata": {
        "colab": {
          "base_uri": "https://localhost:8080/"
        },
        "id": "N3eiCgkmXQm9",
        "outputId": "6390861e-e84f-4e65-ada9-99f4d3489208"
      },
      "outputs": [
        {
          "data": {
            "text/plain": [
              "(2000,)"
            ]
          },
          "execution_count": 37,
          "metadata": {},
          "output_type": "execute_result"
        }
      ],
      "source": [
        "#Target\n",
        "y_p = df1['price_range']\n",
        "y_p.shape"
      ]
    },
    {
      "cell_type": "code",
      "execution_count": null,
      "metadata": {
        "colab": {
          "base_uri": "https://localhost:8080/"
        },
        "id": "rrisWwiGhpyF",
        "outputId": "115aacfd-ffbf-4019-98ef-7ecaef23032e"
      },
      "outputs": [
        {
          "data": {
            "text/plain": [
              "array([3, 1, 2, 0])"
            ]
          },
          "execution_count": 38,
          "metadata": {},
          "output_type": "execute_result"
        }
      ],
      "source": [
        "y_p.unique()"
      ]
    },
    {
      "cell_type": "code",
      "execution_count": null,
      "metadata": {
        "colab": {
          "base_uri": "https://localhost:8080/"
        },
        "id": "EYI6OH0rb73Z",
        "outputId": "25cf0ccb-0141-430c-939b-8c320e65d8b9"
      },
      "outputs": [
        {
          "data": {
            "text/plain": [
              "(2000, 20)"
            ]
          },
          "execution_count": 39,
          "metadata": {},
          "output_type": "execute_result"
        }
      ],
      "source": [
        "#Features\n",
        "X_p=df1.copy()\n",
        "X_p=df1.drop(['price_range'], axis=1)\n",
        "X_p.shape"
      ]
    },
    {
      "cell_type": "markdown",
      "metadata": {
        "id": "Ap4gB2r9cmFS"
      },
      "source": [
        "**Feature Scaling MinMaxScaler**"
      ]
    },
    {
      "cell_type": "code",
      "execution_count": null,
      "metadata": {
        "id": "sjpCr6nGciIm"
      },
      "outputs": [],
      "source": [
        "from sklearn.preprocessing import MinMaxScaler "
      ]
    },
    {
      "cell_type": "code",
      "execution_count": null,
      "metadata": {
        "id": "mcvommASc7Fh"
      },
      "outputs": [],
      "source": [
        "mms = MinMaxScaler() #feature_range=(2,5)"
      ]
    },
    {
      "cell_type": "code",
      "execution_count": null,
      "metadata": {
        "colab": {
          "base_uri": "https://localhost:8080/"
        },
        "id": "QdSoE6vme-Lg",
        "outputId": "c03aeee7-aa07-45d4-9280-dd2e40edade6"
      },
      "outputs": [
        {
          "data": {
            "text/plain": [
              "array([[0.18102872, 0.        , 0.24      , ..., 1.        , 1.        ,\n",
              "        0.        ],\n",
              "       [0.80694723, 1.        , 0.64      , ..., 1.        , 0.        ,\n",
              "        0.        ],\n",
              "       [0.96726787, 0.        , 0.84      , ..., 0.        , 0.        ,\n",
              "        1.        ],\n",
              "       ...,\n",
              "       [0.94188377, 0.        , 0.16      , ..., 1.        , 1.        ,\n",
              "        0.        ],\n",
              "       [0.6753507 , 0.        , 0.16      , ..., 1.        , 1.        ,\n",
              "        1.        ],\n",
              "       [0.00601202, 1.        , 0.6       , ..., 1.        , 1.        ,\n",
              "        1.        ]])"
            ]
          },
          "execution_count": 42,
          "metadata": {},
          "output_type": "execute_result"
        }
      ],
      "source": [
        "X_psc= mms.fit_transform(X_p)\n",
        "X_psc"
      ]
    },
    {
      "cell_type": "code",
      "execution_count": null,
      "metadata": {
        "id": "szwBojikhHAm"
      },
      "outputs": [],
      "source": [
        "from sklearn.decomposition import PCA\n",
        "pca = PCA(n_components=3)\n",
        "X_pca = pca.fit_transform(X_psc)"
      ]
    },
    {
      "cell_type": "code",
      "execution_count": null,
      "metadata": {
        "colab": {
          "base_uri": "https://localhost:8080/"
        },
        "id": "Xw0bjX9WhYVr",
        "outputId": "334e60cd-6e3f-4b77-be05-44861167f5ea"
      },
      "outputs": [
        {
          "data": {
            "text/plain": [
              "array([[ 0.21013682,  0.09365927, -0.00939606],\n",
              "       [ 0.28964244, -0.00931825,  0.80472548],\n",
              "       [ 0.93142056, -0.12108688, -0.69991195],\n",
              "       ...,\n",
              "       [-0.56819056,  0.03089002,  0.06931789],\n",
              "       [-0.56440374,  0.76750206, -0.43332802],\n",
              "       [-0.51460336, -0.65430398, -0.38176906]])"
            ]
          },
          "execution_count": 44,
          "metadata": {},
          "output_type": "execute_result"
        }
      ],
      "source": [
        "X_pca"
      ]
    },
    {
      "cell_type": "code",
      "execution_count": null,
      "metadata": {
        "colab": {
          "base_uri": "https://localhost:8080/"
        },
        "id": "bRe5132Chdab",
        "outputId": "2936022c-7d2e-4b48-a9e7-4806976e849a"
      },
      "outputs": [
        {
          "data": {
            "text/plain": [
              "(2000, 3)"
            ]
          },
          "execution_count": 45,
          "metadata": {},
          "output_type": "execute_result"
        }
      ],
      "source": [
        "X_pca.shape"
      ]
    },
    {
      "cell_type": "code",
      "execution_count": null,
      "metadata": {
        "colab": {
          "base_uri": "https://localhost:8080/",
          "height": 423
        },
        "id": "AlYr0s7Nhx74",
        "outputId": "1e7fed57-7ecd-47d8-b81c-766a380f62eb"
      },
      "outputs": [
        {
          "data": {
            "text/html": [
              "\n",
              "  <div id=\"df-db0a0f9d-0452-4883-9a7c-6c852baed873\">\n",
              "    <div class=\"colab-df-container\">\n",
              "      <div>\n",
              "<style scoped>\n",
              "    .dataframe tbody tr th:only-of-type {\n",
              "        vertical-align: middle;\n",
              "    }\n",
              "\n",
              "    .dataframe tbody tr th {\n",
              "        vertical-align: top;\n",
              "    }\n",
              "\n",
              "    .dataframe thead th {\n",
              "        text-align: right;\n",
              "    }\n",
              "</style>\n",
              "<table border=\"1\" class=\"dataframe\">\n",
              "  <thead>\n",
              "    <tr style=\"text-align: right;\">\n",
              "      <th></th>\n",
              "      <th>pca1</th>\n",
              "      <th>pca</th>\n",
              "      <th>pca3</th>\n",
              "    </tr>\n",
              "  </thead>\n",
              "  <tbody>\n",
              "    <tr>\n",
              "      <th>0</th>\n",
              "      <td>0.210137</td>\n",
              "      <td>0.093659</td>\n",
              "      <td>-0.009396</td>\n",
              "    </tr>\n",
              "    <tr>\n",
              "      <th>1</th>\n",
              "      <td>0.289642</td>\n",
              "      <td>-0.009318</td>\n",
              "      <td>0.804725</td>\n",
              "    </tr>\n",
              "    <tr>\n",
              "      <th>2</th>\n",
              "      <td>0.931421</td>\n",
              "      <td>-0.121087</td>\n",
              "      <td>-0.699912</td>\n",
              "    </tr>\n",
              "    <tr>\n",
              "      <th>3</th>\n",
              "      <td>0.301120</td>\n",
              "      <td>-0.012146</td>\n",
              "      <td>0.770595</td>\n",
              "    </tr>\n",
              "    <tr>\n",
              "      <th>4</th>\n",
              "      <td>-0.542869</td>\n",
              "      <td>0.172006</td>\n",
              "      <td>0.817067</td>\n",
              "    </tr>\n",
              "    <tr>\n",
              "      <th>...</th>\n",
              "      <td>...</td>\n",
              "      <td>...</td>\n",
              "      <td>...</td>\n",
              "    </tr>\n",
              "    <tr>\n",
              "      <th>1995</th>\n",
              "      <td>-0.523498</td>\n",
              "      <td>-0.547916</td>\n",
              "      <td>0.462669</td>\n",
              "    </tr>\n",
              "    <tr>\n",
              "      <th>1996</th>\n",
              "      <td>0.293865</td>\n",
              "      <td>-0.560989</td>\n",
              "      <td>-0.381690</td>\n",
              "    </tr>\n",
              "    <tr>\n",
              "      <th>1997</th>\n",
              "      <td>-0.568191</td>\n",
              "      <td>0.030890</td>\n",
              "      <td>0.069318</td>\n",
              "    </tr>\n",
              "    <tr>\n",
              "      <th>1998</th>\n",
              "      <td>-0.564404</td>\n",
              "      <td>0.767502</td>\n",
              "      <td>-0.433328</td>\n",
              "    </tr>\n",
              "    <tr>\n",
              "      <th>1999</th>\n",
              "      <td>-0.514603</td>\n",
              "      <td>-0.654304</td>\n",
              "      <td>-0.381769</td>\n",
              "    </tr>\n",
              "  </tbody>\n",
              "</table>\n",
              "<p>2000 rows × 3 columns</p>\n",
              "</div>\n",
              "      <button class=\"colab-df-convert\" onclick=\"convertToInteractive('df-db0a0f9d-0452-4883-9a7c-6c852baed873')\"\n",
              "              title=\"Convert this dataframe to an interactive table.\"\n",
              "              style=\"display:none;\">\n",
              "        \n",
              "  <svg xmlns=\"http://www.w3.org/2000/svg\" height=\"24px\"viewBox=\"0 0 24 24\"\n",
              "       width=\"24px\">\n",
              "    <path d=\"M0 0h24v24H0V0z\" fill=\"none\"/>\n",
              "    <path d=\"M18.56 5.44l.94 2.06.94-2.06 2.06-.94-2.06-.94-.94-2.06-.94 2.06-2.06.94zm-11 1L8.5 8.5l.94-2.06 2.06-.94-2.06-.94L8.5 2.5l-.94 2.06-2.06.94zm10 10l.94 2.06.94-2.06 2.06-.94-2.06-.94-.94-2.06-.94 2.06-2.06.94z\"/><path d=\"M17.41 7.96l-1.37-1.37c-.4-.4-.92-.59-1.43-.59-.52 0-1.04.2-1.43.59L10.3 9.45l-7.72 7.72c-.78.78-.78 2.05 0 2.83L4 21.41c.39.39.9.59 1.41.59.51 0 1.02-.2 1.41-.59l7.78-7.78 2.81-2.81c.8-.78.8-2.07 0-2.86zM5.41 20L4 18.59l7.72-7.72 1.47 1.35L5.41 20z\"/>\n",
              "  </svg>\n",
              "      </button>\n",
              "      \n",
              "  <style>\n",
              "    .colab-df-container {\n",
              "      display:flex;\n",
              "      flex-wrap:wrap;\n",
              "      gap: 12px;\n",
              "    }\n",
              "\n",
              "    .colab-df-convert {\n",
              "      background-color: #E8F0FE;\n",
              "      border: none;\n",
              "      border-radius: 50%;\n",
              "      cursor: pointer;\n",
              "      display: none;\n",
              "      fill: #1967D2;\n",
              "      height: 32px;\n",
              "      padding: 0 0 0 0;\n",
              "      width: 32px;\n",
              "    }\n",
              "\n",
              "    .colab-df-convert:hover {\n",
              "      background-color: #E2EBFA;\n",
              "      box-shadow: 0px 1px 2px rgba(60, 64, 67, 0.3), 0px 1px 3px 1px rgba(60, 64, 67, 0.15);\n",
              "      fill: #174EA6;\n",
              "    }\n",
              "\n",
              "    [theme=dark] .colab-df-convert {\n",
              "      background-color: #3B4455;\n",
              "      fill: #D2E3FC;\n",
              "    }\n",
              "\n",
              "    [theme=dark] .colab-df-convert:hover {\n",
              "      background-color: #434B5C;\n",
              "      box-shadow: 0px 1px 3px 1px rgba(0, 0, 0, 0.15);\n",
              "      filter: drop-shadow(0px 1px 2px rgba(0, 0, 0, 0.3));\n",
              "      fill: #FFFFFF;\n",
              "    }\n",
              "  </style>\n",
              "\n",
              "      <script>\n",
              "        const buttonEl =\n",
              "          document.querySelector('#df-db0a0f9d-0452-4883-9a7c-6c852baed873 button.colab-df-convert');\n",
              "        buttonEl.style.display =\n",
              "          google.colab.kernel.accessAllowed ? 'block' : 'none';\n",
              "\n",
              "        async function convertToInteractive(key) {\n",
              "          const element = document.querySelector('#df-db0a0f9d-0452-4883-9a7c-6c852baed873');\n",
              "          const dataTable =\n",
              "            await google.colab.kernel.invokeFunction('convertToInteractive',\n",
              "                                                     [key], {});\n",
              "          if (!dataTable) return;\n",
              "\n",
              "          const docLinkHtml = 'Like what you see? Visit the ' +\n",
              "            '<a target=\"_blank\" href=https://colab.research.google.com/notebooks/data_table.ipynb>data table notebook</a>'\n",
              "            + ' to learn more about interactive tables.';\n",
              "          element.innerHTML = '';\n",
              "          dataTable['output_type'] = 'display_data';\n",
              "          await google.colab.output.renderOutput(dataTable, element);\n",
              "          const docLink = document.createElement('div');\n",
              "          docLink.innerHTML = docLinkHtml;\n",
              "          element.appendChild(docLink);\n",
              "        }\n",
              "      </script>\n",
              "    </div>\n",
              "  </div>\n",
              "  "
            ],
            "text/plain": [
              "          pca1       pca      pca3\n",
              "0     0.210137  0.093659 -0.009396\n",
              "1     0.289642 -0.009318  0.804725\n",
              "2     0.931421 -0.121087 -0.699912\n",
              "3     0.301120 -0.012146  0.770595\n",
              "4    -0.542869  0.172006  0.817067\n",
              "...        ...       ...       ...\n",
              "1995 -0.523498 -0.547916  0.462669\n",
              "1996  0.293865 -0.560989 -0.381690\n",
              "1997 -0.568191  0.030890  0.069318\n",
              "1998 -0.564404  0.767502 -0.433328\n",
              "1999 -0.514603 -0.654304 -0.381769\n",
              "\n",
              "[2000 rows x 3 columns]"
            ]
          },
          "execution_count": 46,
          "metadata": {},
          "output_type": "execute_result"
        }
      ],
      "source": [
        "#New Features after PCA (reducing the no of cols)\n",
        "features = pd.DataFrame(X_pca, columns=['pca1','pca','pca3'])\n",
        "features"
      ]
    },
    {
      "cell_type": "code",
      "execution_count": null,
      "metadata": {
        "colab": {
          "base_uri": "https://localhost:8080/"
        },
        "id": "d2ZUuexdiQw4",
        "outputId": "3fd495c4-71c9-4936-8750-4b7620499385"
      },
      "outputs": [
        {
          "data": {
            "text/html": [
              "<html>\n",
              "<head><meta charset=\"utf-8\" /></head>\n",
              "<body>\n",
              "    <div>            <script src=\"https://cdnjs.cloudflare.com/ajax/libs/mathjax/2.7.5/MathJax.js?config=TeX-AMS-MML_SVG\"></script><script type=\"text/javascript\">if (window.MathJax) {MathJax.Hub.Config({SVG: {font: \"STIX-Web\"}});}</script>                <script type=\"text/javascript\">window.PlotlyConfig = {MathJaxConfig: 'local'};</script>\n",
              "        <script src=\"https://cdn.plot.ly/plotly-2.8.3.min.js\"></script>                <div id=\"70d174af-335d-4275-ace5-cc04d5c565a9\" class=\"plotly-graph-div\" style=\"height:525px; width:100%;\"></div>            <script type=\"text/javascript\">                                    window.PLOTLYENV=window.PLOTLYENV || {};                                    if (document.getElementById(\"70d174af-335d-4275-ace5-cc04d5c565a9\")) {                    Plotly.newPlot(                        \"70d174af-335d-4275-ace5-cc04d5c565a9\",                        [{\"hovertemplate\":\"pca1=%{marker.color}<br>pca=%{y}<br>pca3=%{z}<extra></extra>\",\"legendgroup\":\"\",\"marker\":{\"color\":[0.21013681670260034,0.28964243933878303,0.9314205592681477,0.3011200574874733,-0.5428686316028115,0.2469767861533433,-0.49528241248862354,0.22237319606059383,0.2949078803836407,-0.5129490086092529,0.9270396095570221,-0.5136207422118452,0.25784325891437954,0.31956138110741433,-0.5541357615014257,0.2161308736899962,-0.501426104457061,-0.5526760959192206,0.24031332550133325,0.8777235009814895,-0.5526760959192206,0.24031332550133325,0.8777235009814895,-0.4582670246664505,-0.516794095769485,-0.526398628013866,-0.47824325381606353,-0.5875549314902646,-0.5423893725057862,0.2734785157054858,0.8988601417843746,0.27103129163204787,-0.5730031024329093,-0.5217031146884651,0.3280392433989881,0.30939349997153676,0.31876636698008864,-0.552095243430854,-0.48786036669120103,0.2113385460315585,0.28690061691556423,-0.5409764307156595,-0.5672275747118183,-0.5966588519628211,-0.524803899641176,0.8716494314724149,0.28985730997151954,-0.465274306351499,-0.4484255362758483,0.8917518714336156,-0.4250159434313949,0.8442599280779577,-0.5544218650935305,-0.5057757630091747,0.8805307895554291,-0.5163302778937698,0.32184948491375825,-0.48337409021635397,0.8453731913068269,-0.5542020839517185,0.2492298898979081,-0.5152901844317191,-0.5246220473182887,-0.5597801720622796,-0.48528867656994473,-0.5587346719998278,-0.570146477452667,0.8286302894844036,0.27546198274233497,-0.5649420249219527,-0.5455164186472197,-0.4719491688545889,-0.5607820013564433,0.2302057351654131,0.8803899387708626,-0.47828874208961625,-0.5413013708820934,0.9052679922368613,-0.47203387166184274,0.8710726201032198,-0.5498423690308228,-0.5268634639188019,0.8796275840362193,0.2598006302191143,-0.48122753598808865,0.9105944904216016,0.8849424534915784,-0.4799034565660618,0.2407561823360147,0.293007309537498,-0.5500414229571107,-0.5162512422651319,-0.5423642279331942,-0.49261700893295324,0.8130374192288747,0.2655237135368003,-0.574770009057452,-0.528389610456613,0.8444227744117407,0.2646621410038047,-0.5169478675544648,-0.49161853542696327,0.24455955367036653,-0.5125771480795663,-0.5193049302116144,-0.4987543798545735,0.8683102344834926,0.30672490533363694,0.24027852666064206,0.23943852381460587,-0.5433126623934112,0.8935795027312597,-0.5762693607115621,0.25429282647554075,-0.4914972281821468,-0.5126011532135388,0.26884927709033485,-0.5429773172060489,0.8393854142060069,0.25422586510096123,0.8557355787904543,-0.552224933202694,0.8426083663644479,-0.543033753888573,-0.5168229133167765,0.8660872541896532,-0.4460154604272931,-0.5306938206553007,0.2802235327273647,-0.5847499781828112,0.2900054686311563,0.2867362813723715,0.22342805364318277,0.28842307609132456,0.9009572679286818,0.8855339270804206,0.29957812661834643,-0.5611726288097693,-0.5409859953045503,0.868448408284659,-0.510217599973709,-0.530691830530555,-0.5400950915299201,0.29753544643959406,-0.5742497988504505,-0.5408021313989774,0.8494322767328639,-0.5099576998253447,0.855760211794794,-0.531686890077761,-0.51876650087601,0.8723890974153241,-0.4822009734348582,-0.6002756685273275,0.8642309701024417,-0.5786164469810118,-0.5056694906523317,-0.5519222501444219,0.9051183035177897,0.862378299411847,-0.5186216810542773,0.2767444409833708,-0.5491369664490902,0.2391024199271955,-0.4908588544492585,-0.5078957712172548,-0.511457223112811,-0.502693846278465,-0.5467047793241187,0.30903665493347665,-0.5329907541594595,-0.5528278663855702,-0.5138843261451419,-0.5377697329457352,-0.5202773707671248,-0.5135037853137939,0.8614862336936361,0.27193445966262164,-0.5597923644272036,0.9590906058246165,-0.5107401740523051,0.29753502492870515,0.8687341334472282,0.30922089788360185,0.2228160663901059,-0.5231814976144047,-0.5276600146542905,-0.540948048801231,-0.5794836536743406,0.2467112978070336,0.22264164498180308,-0.5113463700046131,-0.5339274207015241,-0.5500947857802603,0.22419549468673178,-0.5943699665688404,-0.5399159779680969,-0.5302855643611021,0.22324804198611392,-0.5272313491990688,-0.5028605946436758,-0.47476690007207945,-0.5326480027113372,0.2982673388736377,0.2750718259743574,-0.5117147079073611,-0.49590925734224356,0.9111396005100636,-0.5438535472808834,-0.5818898909160607,0.296544358398793,0.31790876441367905,0.9106714489816828,-0.5880779663144694,-0.5741619659374886,-0.5598571826447316,-0.48558216533379484,-0.5504586471984142,-0.531022443207507,0.795853654645961,-0.4864410918363122,-0.553130981676942,0.9024850962176983,-0.5093110403905557,0.8870444696100617,-0.5507119947613968,-0.4970715211625147,0.8855136715320845,-0.5330232410738486,0.8448584570169357,0.8573228622980874,0.8547612813314172,-0.5221576792267855,0.24393478036097804,-0.5804132064330253,-0.5627902708836806,0.28610658411094547,-0.49350578437811327,0.2907142403647836,0.24220910406023355,-0.49515243252080765,0.3065648029540327,-0.5234593856304344,0.26163479521675775,-0.5117319337905383,0.30582253318692343,0.9120858055948152,-0.6063323017283038,0.31865754811972186,-0.5014891729674639,0.8704449789084752,0.8260924782405626,-0.47589367544244193,0.24914142326427072,0.9068622811038527,-0.5061578344702364,-0.5348496246104457,0.26846381048222456,-0.5502919557199423,-0.5175721776058781,-0.5074626726484818,0.2810236189205912,-0.5315978749872213,0.8421761975553864,0.3032504541392099,-0.5387796086765653,-0.5860983489248685,-0.5329078644791899,0.2723208687411548,0.8595669206623078,-0.6014605767484492,-0.5587762363592629,-0.5547763462895631,0.3005878881345829,-0.5484215691208277,0.24708145346559537,-0.5695543963782739,-0.5126229398810129,-0.5003060079383488,0.90504079552678,-0.510180594928772,-0.4924024836083886,-0.48306733232048255,-0.5159367214943471,0.3021765058083742,-0.540181254587799,0.9113682002218554,-0.5678593680049601,-0.5072740051482469,0.9379606621443275,0.8919035255318746,0.9067810281982015,0.28107629728934347,-0.5698876159513548,-0.5697248526646113,-0.49131886135937136,0.8762894133314715,0.30354893167687164,0.834143126984532,-0.47121940781828187,0.2594683908796184,0.8912686303966998,-0.49746842017695564,0.8808806058324626,-0.540681465542965,0.2290408768383983,-0.564345611491886,0.9043490613132834,0.9123145368112409,0.3141155204344637,0.841629175608493,0.869264039057209,-0.5091851412621546,-0.5556595797221221,0.9090007423117927,0.26636326418175027,-0.5820179481629787,-0.4885443076595675,-0.5710399054498705,0.2962475339593154,-0.5707177222324242,-0.5401256391603997,0.8415327437289303,-0.5383619262850554,-0.4889399095658298,0.8642182800675745,0.8874677471056496,0.8166448705156218,0.8562702599059655,0.8611851525464026,0.8151982210240974,-0.5065167224297471,-0.5563759631035862,-0.5225618011358525,0.9062432924694138,0.8038379998763044,0.2537935086846056,-0.5969631402612214,-0.5888537753040147,-0.5366303756739046,0.2848785652713471,-0.48208401139965235,0.3116920562643919,0.9130718558273382,0.8847788905674395,-0.49912922259143483,-0.504311312772418,-0.4617661020082555,-0.5237633008238524,0.920466070455977,-0.47588786780029346,0.8977332325620391,0.8766827564097042,-0.546109585939992,-0.4567583246534381,-0.5193432477972367,0.8695815582772488,-0.4885652212271887,-0.5117410485988348,-0.48891806162631657,0.8464197656238046,-0.5672527883682301,0.8545725912707931,-0.5048202713833111,0.8730165312268586,-0.5379144681963578,0.2551342347877023,0.27822782220248865,-0.5555375420899914,-0.5734072251968138,0.8832971938412968,-0.5374624676395432,-0.4731829719880647,0.8748093614543705,-0.49060467755592696,0.3106005457572828,0.25119742195948164,-0.5289321453763056,0.8970851028511887,-0.49812211124629285,0.9477898839927155,0.22585382347180719,-0.482944615546099,-0.4910589100853999,-0.5209599186405689,-0.5439369796579188,-0.5437888572137815,0.8427972668843613,0.2246997266816404,0.2765561590214412,0.8877225658489524,0.843617172131333,0.8607556960359174,-0.5528770773943691,-0.5544248993995198,-0.5318494542687514,-0.5254645323362327,0.2515894747242282,-0.486879623111426,-0.5497818473414198,-0.5499062280046919,-0.49088081279476814,0.23908227940211346,-0.4937874892169313,-0.5194869151090848,0.22679761266853182,0.8859479125381072,-0.474451076756593,-0.49713986848918357,0.30751280252594365,-0.5244614569868512,-0.5452275450529042,0.9224832812079979,0.902956592553416,0.30611527335049404,-0.4478422415450382,0.8715609530475935,-0.5309648510454638,-0.5922613252864829,0.21144530188759952,0.3304409595293154,0.2165723595373632,-0.5365060544997621,0.8771380472910717,0.8871092694127951,-0.49103446244750676,0.32638467890818146,-0.4946024515601921,-0.574480173999219,-0.46987027693659844,-0.5198464918638114,0.90522094191866,-0.5043268776887859,-0.5162700520726072,0.2650068762420533,0.24363440125141808,-0.5619392222146665,0.24521363032576723,-0.5553561501208076,0.8256387818642287,0.9255472160050287,0.26234572550446345,0.9034522816385189,0.8310986854949074,-0.5201634376988772,0.8865164792593158,-0.5332175499160423,0.27624722100383464,-0.5051302069265403,0.9218635994818976,-0.5640824432875876,-0.4815324723837698,-0.5343904106316181,-0.5591196992710974,0.2474929078235109,-0.5529585665292424,0.9042798992897695,0.23529236932917194,0.2312487079887027,-0.5493012090542064,-0.47621319773745857,0.2612503532954098,-0.5768926427810708,0.8546443234934422,-0.4818426003926377,-0.5287941720337647,-0.5499933143838934,0.23359363527613033,-0.5361447149584292,0.8657892397302337,0.886019675240947,0.8578914448738143,-0.5400285545717127,-0.5415583415494902,0.8574540771248008,0.24001666871706712,-0.5885611366496959,0.8838999723127428,0.8473290220014095,0.31353309476003927,-0.47147864666127937,-0.6035456655030865,0.9213800091801868,-0.5505446256123144,0.2591915822244729,-0.5188247578108106,-0.4847653374863789,-0.4532683120178416,0.8509437425998586,-0.5394877501183506,0.3368066216826918,-0.5530509674107122,0.27097519056480657,0.8799088773036993,0.2514662131413114,0.2675869463427611,0.9033636310403932,0.28161473349664246,-0.48048356504153117,0.26055553056053854,0.9464084599741339,-0.4657329509701726,-0.4946325826520888,-0.5567745877994429,0.2493408555757766,0.8310461943428697,-0.4673380010541917,0.8562973665389272,0.8790379147127723,0.3224967948801609,-0.5563078951062858,0.9575778048953549,0.3294862752739261,-0.5014539298442418,-0.4992695509635112,0.8491011909665414,-0.5285322783200387,0.21839016532104355,0.8897452443927638,-0.5131262776497961,-0.4925202083010438,-0.4831833811057822,-0.5296722895683603,0.8380393695944081,-0.5419936167923772,-0.47700035093792265,-0.49500681449625517,0.2301417159505902,-0.5483531953881281,-0.5852113671998375,-0.539729377967053,0.25232007865582806,0.2894638492204929,0.2976810618577014,0.29903615289577534,0.2381047308949759,-0.5050945745705401,0.8949977206187623,0.29069249363455596,0.859055582722563,0.2923296004825405,-0.5215000282386278,0.29580782675260076,-0.49270138453585904,-0.5875066287540995,-0.5339582882655882,-0.5416461980586587,0.8719329044950042,-0.5192505739549202,-0.5025413140618674,0.924166338796934,0.29778277841671535,0.2370707687372623,-0.5407985422186656,-0.5431065393645292,0.8941378903769923,-0.5256460948779242,0.21695724959351131,0.8636581251330607,0.25002867604230394,0.9012202096711864,0.8892912503146739,-0.49197721951294604,0.8341048994194471,0.8626587772795299,0.8968814548187815,0.24425427825434148,0.8697385771907152,0.8699604585011714,-0.5419839114483883,-0.514237195686417,-0.5597335880619029,-0.5694316361967975,-0.48833438021006886,0.2674689490926859,0.2553063011951085,0.27986839722785967,0.8813848417705478,-0.5149822437423598,0.26298669990094437,-0.5244921087741629,-0.5702548370269971,-0.4951532444112207,-0.5462715384180913,0.8644670304834776,-0.4670857615855332,-0.5157024420196832,0.28039609753548556,0.8983306019723905,0.8506757083600544,0.8729285552641086,-0.48719911021627604,0.8864264070231154,-0.5271048498592331,0.30008155934843034,0.8677058988464128,0.24057567402830876,0.2537654097703072,-0.5142710081576031,-0.5085627439287138,0.25499417670681185,-0.49816982030866447,0.8943608816831716,0.31483993414113554,-0.5486300902887102,-0.5494947484399225,-0.5364758884286919,-0.5403115987038158,-0.5341544888896365,-0.5577049030971133,0.8968243468474345,0.8736741183356072,-0.5277116141593958,0.28817914119733146,0.8955880338073673,0.8517118145062708,0.8834606111936767,0.2711372366923592,0.32559068568751426,0.3105097091940577,0.3521771170845554,-0.5732264556397506,-0.5690904494703288,-0.452022808867723,-0.5327875044489101,-0.5198886722254461,-0.4615544469113871,0.8804394878973478,-0.5487735349614072,0.2670498806876785,0.30865099217866904,-0.5224797178614347,-0.5441229246056911,0.23325512011264812,0.2860592681934109,0.2764841822975309,0.8954598352627351,-0.521082819873018,0.24320327708621073,-0.5384014522946049,0.8450852828464248,0.3024903293146681,-0.5498591578643557,0.8918317195048614,-0.5234369501549929,0.9551764836315244,-0.5469284050316003,-0.4925267113317972,0.26570335345522744,0.8884135144305478,0.9250913610846675,-0.522465853048878,0.33031162913968865,0.24235015384300015,-0.544836203744814,-0.4656488848680289,0.3097174635135932,-0.5803266867388804,-0.5585432818099322,-0.5017044714934399,0.25010380527232495,-0.542665983865651,-0.5522163860398588,-0.5361735536449961,-0.5644723324203567,-0.5479754324350928,0.9299082857809448,0.23955962846271314,0.2735312006313622,-0.5400148225021522,0.24876629564413844,-0.569449707387032,0.8675871313287201,0.8457359172326078,-0.5105998991452674,-0.5281161170217279,-0.5619686874580508,-0.5897864395790015,0.2577018134180763,0.3199458058525806,-0.47339193649591815,-0.59044976841759,-0.5050458041692572,0.32636935227698805,-0.5388534674772124,0.8536734905818232,-0.5244828005060829,0.8731880800210756,-0.5289778972533399,-0.5244197806732088,-0.5090558780062133,0.846632436787312,0.8664895382809547,-0.48898393584520494,0.8762853317313452,-0.4814484901722026,0.2702966037833276,0.28069475893740437,0.8336723638196764,-0.5009692333111391,-0.524666309255802,0.8239116205854248,-0.5742806514930798,-0.5645202464178869,0.936336591426984,0.26727977839825834,0.24163317237142307,-0.5267948910777457,0.8954249297451775,-0.5647056934574931,0.27394693930558567,-0.5204162689012057,0.23919110565161397,-0.528915557746024,-0.47881424573573206,0.8312308358986683,-0.4703930973817769,-0.5662906812409116,0.27448734647737805,-0.49515858217279574,-0.5262763728223483,0.2727339809768561,0.8324959139817113,0.8347540103316018,0.8583727051792635,0.8814703153217027,-0.5354598232005814,0.2525503621834488,0.8703590762794234,0.2851677383230644,-0.5348172201054783,0.8485482222553047,-0.554106791809809,-0.4411880141458671,0.23030597267818118,0.8525070645796521,0.9245649746196689,0.2504548215857732,-0.44940320055552757,-0.5507819197999954,0.9112089241702852,0.8695428136267563,0.20515663523351607,-0.5517300504408809,-0.44731432911094354,0.28644290622255786,-0.5513256784542953,-0.5149582249062779,0.22154679253283713,0.9228615262510365,0.2657464003888633,0.3177561301218202,0.2865783257748187,-0.5010007101940567,0.8992048506352648,0.9078777727145051,-0.5636391802641969,0.8489710953154104,-0.5292080465098683,-0.5030394824899825,-0.5354907784325801,-0.501929625042689,0.2712288698688616,0.2796921234314279,-0.4727137514178019,-0.580528135970831,0.89298717533576,0.2876113683164476,0.27505467212182066,-0.5020339467681484,-0.529500430358054,-0.5367763072515437,-0.5443525805468186,-0.5972366840283327,0.30810526007909783,-0.5153202621709464,-0.5284273801318773,-0.5648432907842339,-0.5136593233880954,-0.46319428070285174,-0.5382359554268502,0.8735744351062764,-0.5518302070734977,0.9187171960750218,0.2151396445253142,0.8228781845139341,-0.5211657916177199,-0.5028282264666272,-0.5720834065016978,-0.5417441578181691,0.8839830413228583,-0.5400630921710808,-0.5090465689635868,-0.4922283729788113,0.8950095742094015,-0.5688274644802815,0.32629909776943183,-0.5342344653861067,-0.510835825663515,0.2753283861168255,-0.5355603324314376,0.19678985955309147,-0.49799039072779805,0.26156169293122405,-0.5612773146150687,0.9063515351540598,0.2805362982881984,-0.5534577656927117,-0.5209956457255073,0.8451325492318039,-0.4693931546675998,0.8037861438361218,0.28311567547000827,0.8686911635006346,0.8622867462345898,0.8763126432383366,0.8658207070922129,0.22982090327656737,0.8869854352190532,-0.5057640428386984,-0.5876588178242872,-0.511615318435994,0.2830546399487312,-0.5383619991012301,0.9345706092156928,0.24302828758083567,-0.49283001986103653,-0.5556571762888299,-0.5584399693733532,0.8649042979045024,-0.5298101102883891,0.8986301376890041,-0.525432614883268,0.8661666977178045,-0.4768476244644356,0.2449387185105589,0.8692033428471858,0.2938866730386707,0.8916073183836947,-0.5489441350164541,-0.5203368188577835,0.8586529381785211,-0.5779226566545426,0.9017770083298418,0.2474629799910183,0.30785588061010893,0.8859869247829119,-0.535830057296804,0.8531526727392833,-0.5626977551478775,-0.563530371692486,-0.5023246329132983,0.29343280431393426,-0.4808409297423334,-0.5504640577704178,-0.5195190701050529,0.32539664975069066,0.8573187069340525,0.8498778818565155,0.22542829408235543,-0.5163157250297201,0.8867084469092186,-0.4967445368376981,-0.555340391410539,0.24475037842543063,0.8873043422926663,-0.4653686422882932,-0.49758439965277546,0.8974167558405344,-0.5178910087225734,0.31139665676553413,-0.5205081202301035,-0.5430067309610005,-0.5117494195206623,0.22800433425900962,-0.5754705238768623,-0.5086060694262499,0.22982280347178005,-0.4692795074310284,0.2828316914866036,-0.47729006015396,-0.5740102279785558,-0.4632607504318542,0.8342388265730035,0.8897207331739213,0.9377778152207349,-0.5474723502520165,0.8834312340675686,0.27771224008974965,0.8542048050073514,0.8183376394103574,-0.5258681125082411,0.2259366405537204,-0.5416073843272667,0.23347910959090243,-0.4489615766723553,0.29519140128576643,0.23027964229602108,0.32697784439051614,-0.541535729309167,0.8519219681004111,-0.5129235631557151,-0.48676451355911127,-0.48964544343386557,0.8566866746370313,0.2484842070045303,-0.5443911601640248,0.9166033451694053,-0.5588138707736092,0.2671852048798777,0.29234338599052534,0.8903662725534204,-0.5058340026969586,-0.5206285366131833,0.32347409162214635,-0.5416012335792305,0.26890399334492787,-0.5450293659986418,-0.5069848302916047,-0.5405419787829239,0.9188373865310662,0.919452859259292,0.87319888529753,0.8856976118337586,-0.533168397217689,-0.5391451154799848,0.9137353657242367,0.26265852031240666,0.339915623643905,-0.5025672771748513,-0.4881564412855359,0.22013123085028552,-0.5806129131211367,0.8686802331186384,-0.519300694313154,0.21754500627247406,0.2569486276872633,0.2481747299828783,-0.5211333769672616,0.2380367555509891,-0.5415300311988023,-0.5634424708722864,-0.557859858487269,0.8383703142414285,-0.5441209825743651,-0.5553535638096122,-0.5134285635543999,0.25291849325123944,-0.6012938933289556,0.9158779607360977,-0.5168625294558921,-0.5637304944215162,0.8915015883447913,-0.4645958767688527,-0.47964409083294857,-0.5627513762464361,-0.5322366582714815,-0.45610310032136886,0.8715822787662113,0.27153561049263364,0.25747651591311876,-0.49353493219578265,0.8840005760862366,-0.5137826553333791,0.9033319811871314,0.8693805471758754,0.9031775200433177,-0.53150413288425,0.21324577015294796,-0.47742336527981094,-0.4914877276540375,-0.5008479196579658,-0.604381828710326,0.8774696523820847,0.8892094595555308,-0.5135969382354352,-0.5575635119376531,-0.48733530037036843,0.8254749723099423,-0.45914548721933657,0.8003994141787283,-0.5101961862922926,-0.5845536279770452,0.24811260891728787,-0.49541088414980516,0.21633297650948147,-0.49645095488588026,-0.5624594453823706,-0.48437173343890777,0.26517358916261086,0.9497755075137677,0.32965806073065806,0.8485129493474486,0.8604978439066217,0.24390512859911673,0.23824064848583698,-0.5637033536809055,-0.5722088830304883,-0.5056863666469634,0.8957261944946154,-0.5789572630200392,0.8799023048095875,0.2860490809940786,0.31634395843904206,0.28113747372258047,0.9309701740777411,0.27213931635330235,-0.5216113462921816,0.8850465353711805,0.277325819797128,0.8689056379660149,0.8780486222440347,-0.5050989605686774,0.26973667138525,-0.5631474436533213,0.8407752079280003,-0.43005198949251255,-0.5845370761720399,0.9180476538117768,-0.5075046446481049,-0.5346443469512199,0.8217906249342721,-0.595351839760296,0.244091867163043,0.830130068064148,0.9421617329237321,-0.5429322127439749,0.8572489455002972,-0.5919483507350944,-0.4938345688899444,0.30990936186808554,0.8555757354038448,-0.5703640945585914,0.288504570110055,0.918828575033703,0.8343676379712731,0.8460084693537485,-0.5540184634098645,0.819768730634413,-0.5031477208258559,-0.5627534499601669,-0.5234762329986216,-0.5050141851729355,-0.5281226942385678,0.9480611094426311,0.8460943715187885,0.28116916998342606,0.8661368289970368,0.8624564467413733,-0.5249012236487515,-0.5339586942900311,-0.5572129857937064,0.23786452119200116,-0.5135526894233347,0.2992681349024535,0.869535369506996,0.8593990898337395,-0.5636847889016983,-0.5255972466548913,-0.5024903010573901,0.25402009848383544,0.3046100215970603,-0.48050588946759687,0.24633589375339532,0.2785605928515854,0.8054919984570332,0.23996115774912138,-0.5524086434054953,0.2260619687841922,0.9085853663768122,0.8853406058878596,0.2797069115165759,-0.5867918279150552,0.26190827018126467,-0.529292469738396,-0.5540286508649834,-0.5300717783790286,0.29408416568275064,0.8502198168898835,0.8590206949661146,0.884918413395854,0.8438885325111141,0.32816968898668203,0.26118685672583747,0.22246760287371922,-0.564937689718554,-0.5210401286997246,0.28153692492186344,-0.5123932913093345,-0.5454525756686103,0.24891760914558467,-0.5178576433577349,-0.49656441165050663,0.31313004547832846,0.26532528455946597,-0.481166033292319,-0.5250529092251089,-0.5688668364561527,0.8591900143060919,-0.6043484524658796,0.22406699568104807,-0.5385910934363406,0.2822786679348475,0.8841781190487291,-0.4728399827825838,0.892068145063631,0.23587655702829308,0.9347841964859427,0.8477156419623543,0.8750523439140827,0.2671942261176584,-0.5231822901618559,0.23876654573656078,0.8639923100657272,0.8727055806216862,0.9105054795708916,-0.5081078175392575,-0.5807871517727837,-0.5367553955007887,-0.5637692107129235,0.8491567806970068,-0.5148715101302046,-0.5305475343322955,0.3133693785752543,-0.4696902182019204,0.3093667372770512,-0.5131268662847378,0.7732680242217465,0.24853459953202015,-0.5412191612337028,0.933494206581033,-0.4790781259003002,0.3182492073316252,-0.5118500497408608,0.915774063038808,0.20368046520133387,0.32871509520182757,0.8783484931287069,0.8654943542997916,0.21339734427728968,0.798662558264784,0.22091601672078315,0.257269064511859,-0.4805231329096583,-0.5021724977816866,-0.5547796271689005,-0.4958528100540684,-0.44930658458178396,-0.4999271607564762,-0.5380907586748745,-0.5445805702796703,-0.4990182378154363,0.9222000394787147,-0.5432113648545752,0.25166495742612915,-0.5281895201328413,0.829839744558899,0.28451329555486826,-0.5117876020666169,0.3206424928390705,-0.5240251873983145,0.2213376888722362,0.2956239145417347,0.9362418788919132,-0.4934139656790601,-0.49872789382752886,-0.5173492324815913,-0.544912693072373,0.9068145502499745,-0.5468949839852121,0.2899574185096751,0.30992956557358897,-0.5393302196141261,-0.4731490186940553,0.27391435818115056,0.2972722314165811,-0.5190165674015192,-0.48766843907293267,0.25332142952753806,-0.6075397945409483,-0.5111800022145385,0.8350107247874197,-0.5614655399864297,-0.5195957741495235,-0.505903743592458,-0.5045105734383324,0.8795456990699617,0.2256937423079674,-0.4809863355567519,-0.5095123952632047,0.8469962434397231,-0.500651665926339,-0.5043455741818892,0.23089840815675114,0.918842354928527,-0.47519363476955384,0.2871068616633796,0.291415758219818,0.2595813873662515,-0.5780828711857326,0.8201633080290271,0.28312022750028715,-0.48246779373105786,-0.5586291023138195,-0.5148816269009787,-0.5270371813560942,0.93076914873753,0.8661847453582724,-0.47381385187206365,-0.6169120982037585,-0.5024134482212183,-0.5185627652793963,-0.5554455730054606,0.239372974583176,0.8590214708200439,-0.5127020874873249,-0.5175078470382448,-0.4803460514365518,0.8875752221988609,-0.5395838479731179,0.31596873065389264,0.2620023631081566,0.2220660171095431,-0.5472584202096317,-0.539907091976919,-0.49865079327977135,0.9414032472749924,-0.5105373223332283,-0.5223721125097722,0.8879211809485963,-0.5358520028688047,0.8501770321462752,0.8686752038749481,0.8697423186863376,-0.5575200769983764,0.26305032303134696,-0.4854833712362809,-0.5165447048870024,-0.5602903769874817,0.893566936170817,-0.555294642107236,-0.5474925575496065,-0.4773185106626308,-0.49986213929588413,0.23342734907874507,0.26626820267736856,-0.5075076437549366,0.25351361562878394,-0.5314448784735357,0.2917765515156059,-0.5570260422074313,0.8319882016125679,-0.5685491008871499,0.3343059567563159,0.2245471194183675,-0.5406632102377724,0.2585539350727605,0.8552119892813856,0.2164754201091164,0.8383372224755545,0.24566184980951938,-0.5854278440624964,-0.49769245297399556,0.8583528782186054,-0.5483779586993264,-0.482712803624629,-0.522607616099073,-0.572555398270026,-0.5372684735608623,-0.5133728377227488,0.9210199722955348,-0.492407945159569,-0.5384240457102001,-0.48511663454351117,-0.5370162913424267,-0.5168979660816143,-0.4830146668221798,0.24384363366361378,0.8423143930370702,0.8315901479379814,-0.5401415753728871,-0.580363694587398,-0.5359090578566749,-0.562764266318748,-0.5271820145097839,-0.5507359800649341,-0.5618985978136672,-0.5055822255078208,-0.45050041706090427,0.2809195702409654,-0.49942463155932354,-0.45757050468341826,-0.5351798531400075,0.8594348908709545,-0.5458146487622816,0.25041431479654697,-0.48490653984230747,0.2433850843362595,0.2905272082109864,0.2482704689595896,-0.515566489014196,0.8296426335092572,0.25136395533786293,-0.48262130007149184,0.2970575041465229,-0.47590217134872864,-0.5045005417254396,-0.4998255776127689,-0.5307411787756049,-0.48529146000864887,-0.5131839395752462,-0.5290344782971996,-0.5269652725463679,-0.5411034636077372,-0.521526156194896,0.28705688400455487,-0.4856931485656844,-0.5165307710168698,-0.5809986532630312,0.27873889828506315,-0.5275024520701311,-0.5247772071677466,0.8411345715314206,0.21815137208448507,-0.49122475314619357,0.8360126831181969,0.9112771900860588,0.2683810088327353,-0.5230184796802305,0.3296961222864242,0.9017469928625896,-0.5481349624356294,-0.5007066809909659,0.24811661340390564,0.26228241051695567,-0.4539290908013209,-0.5330117865474837,0.8745898137982319,0.8796738382557946,-0.527805845397254,-0.5711200255031814,0.8493643091492515,0.890325299421779,-0.5382711174986172,0.27272063649566386,-0.5650203891936901,-0.4697328998030517,-0.5663188114816523,-0.5557425895780512,-0.5648726179244807,-0.5658890765470906,-0.47112876990319763,0.8222945757048068,-0.5146454220471735,0.24801069858203062,-0.5087302626393113,0.23315083552997803,0.3171221138159868,0.33588599533151775,-0.4881569136947999,-0.5202171532859675,-0.4970114371306956,-0.5616689178717564,0.7854656662230314,0.2270277725314476,-0.5369936530350988,-0.5539773374767607,-0.5149877001578331,0.9318538831908975,-0.5998152181308448,-0.560795417629605,-0.47063171240026064,-0.44351822925606865,0.2531923624045418,-0.5702087627325516,-0.5244272601146365,0.2335880310320118,0.27860434806393963,-0.5270941637505437,0.8367743793088094,0.25148257058897727,0.8658248874134387,0.8900307515777649,0.26609357712817333,0.3165170288641064,0.82819066888534,0.2913684094027367,-0.46434682085134704,-0.5511656157374233,0.25260727699099395,-0.5223450071504104,0.9231867836449473,0.8771606141946885,0.8940355690599306,-0.5117154946205934,0.3057716612828729,-0.5524351055264619,-0.5072341762785417,-0.5422806053077454,-0.5528822894459433,-0.5582367046844787,-0.5253585458113803,0.23031069310642802,-0.5089551551595539,0.8911667085407295,0.9001059243650879,0.8990708929740276,-0.5873278974621106,-0.491893374195163,-0.4736695954122014,-0.5322767249867355,0.842918666811178,-0.5978293463316698,-0.495427356038049,0.9185363893070643,-0.5594074055983618,0.26110235520464353,0.24770716024163753,0.22262510012892095,0.8909213998221396,0.8942831818341044,-0.48977750248228863,0.2844956377739159,-0.6003896741524167,-0.5068011257747053,0.9331636039656301,0.9069456667113515,0.310878670554095,0.30860727582223263,0.83166432031055,-0.5049386327503709,-0.5413444691955126,-0.510769404514333,-0.5220479571249398,0.3054766658050805,0.8557956123236398,0.9550233034457659,0.8589234828625887,-0.5726338501270385,-0.49911573423075406,-0.5636963504028898,-0.47274159474450056,0.8308490452650902,-0.498172944014738,0.9036808377817565,-0.5589332155763018,0.8887202312451613,-0.449029911380728,-0.4830743448235545,0.8549703633533567,-0.5543503077614449,-0.4879250688653823,0.8519733516911201,0.8559848990966682,-0.5342205930610616,-0.49574993593274885,0.8878826520152041,0.8572572208253892,-0.5472774898217877,0.8570352198862541,0.8993834884047341,-0.5692233320485982,0.22710336323657856,0.3026727678940424,-0.537372529512872,0.8430330418179552,-0.46776360717537435,-0.4815358426760721,-0.5152232640343469,-0.566840312213368,-0.4821639654050262,-0.5159674024664737,0.8749056150745272,-0.582902038216264,0.9247088656671197,-0.5309269819236412,0.20058628932867859,0.2790218894567822,-0.5461821264715709,-0.4890307204956797,0.2525394018900721,-0.5692120029918093,-0.4817081586170659,0.2258279017694508,0.259585959911612,0.2991757985023161,-0.5538805557213408,0.27185596638584286,0.27737408452623896,-0.47240762921610013,0.8244338100321962,-0.5303878118363538,-0.5250584470735132,-0.5082473440017027,-0.4695320775951063,-0.5509597564224814,-0.5316965755397224,0.3146298399776114,0.2066665729273891,-0.5616729708910164,0.22714242763150536,-0.5283701434302244,0.2748824624407265,0.2465408905895468,-0.5126302096642592,-0.4810086760488226,-0.49205422860415204,-0.5186411440351814,0.3270295251623083,0.31367992307362647,-0.4637833553420645,0.2307131430045047,0.881201924396294,-0.5211877965271631,-0.5822198301904906,-0.5317055070565853,-0.4820849416477281,0.8421226791767905,-0.5095527061841334,0.3064892461306438,0.8134626782850692,0.29809577533901727,-0.501513062624396,-0.583219652079565,0.23921226896470402,-0.5378130213368258,-0.5396363098448949,-0.4735998953320639,-0.47228231864418446,0.890974085315656,-0.470404877420318,0.3179348952694957,0.9205847938193008,-0.5693954857168974,0.30981207744666184,-0.5561435460667555,0.8626639425097256,0.22623777902350642,0.8830884036166571,0.27018264861529434,0.26249046741454524,-0.5681294051949615,-0.5494996030731618,-0.5758489602784309,0.2818933534340492,-0.5907760941874266,0.8489298199116644,-0.5295416588454387,-0.559463494141743,-0.5287148565049696,-0.4938725361337383,0.27929480023633163,0.8642089051897216,-0.5640201114672433,-0.4878585727890557,0.22531512089118091,-0.46881436074580574,0.842455654603069,-0.49162558572877285,-0.5260068029184769,-0.529978187130451,-0.5554779977097022,0.22196951073464674,-0.49994983526636955,0.2883940853530328,-0.5242255299673506,0.2413362887387937,0.23870062964351338,0.307765919741304,-0.553884581843991,-0.5360211733247818,-0.5681860730197358,0.8954018650111011,-0.5186289119184329,0.26045037617335154,0.3207891865709318,-0.5130264388219016,0.8238270966630253,-0.5933577588912577,-0.5571461199653753,-0.5445639144819397,0.8842699518403286,0.918169734742548,-0.5947685051674154,0.9343645694768009,0.22221542078462186,0.8846215345552249,-0.5936677365243792,0.8506843311889121,0.2577745091504398,-0.4947667921982664,0.8172096526315756,0.8660063482762781,-0.5427612530624008,-0.5302128954596097,-0.47182376815765054,-0.5279578317912603,0.29111878902068344,0.28164235317795383,0.27236717210531747,0.28708061566692356,-0.5280482307729845,-0.5467507226740442,-0.507648705647506,0.9230387752780229,0.8628439711235286,0.8553274289403743,-0.49289738034011027,-0.5373784920362389,-0.5003505652199044,-0.5542730395631688,0.8386635446760377,0.2049599559629375,0.24219363535452493,0.2589587580752732,-0.5102692297713995,-0.5448934572933469,0.2667817967393557,0.24203881481913572,0.28781793463031735,-0.48661539183520525,0.9257820906960483,-0.5669372264805379,0.24864142688315183,-0.4427224132975236,-0.4785641296528721,-0.584884859149382,0.9042719762976298,-0.5083890535222642,0.2587454575297995,-0.5524922430719981,-0.49549546722929855,0.8572414129069396,-0.5531772309398659,-0.5367046173875234,-0.5069409640018081,-0.5932248546209252,-0.5447541221037872,0.8442195531634151,-0.5523693205615169,0.9731262110823842,0.31238052775867975,-0.530869074739996,-0.4968647352156575,-0.5495853191490739,-0.568123858722831,-0.5597276068254926,-0.5308332779168965,-0.49385815013030215,0.8715839901831306,0.8515248526590586,0.19546393492968264,-0.45533161014803397,0.8979514013970765,0.9207061602363574,0.9752650067715042,-0.49843628465312506,-0.5322587838962121,-0.5256156269730358,0.9250101549099377,-0.49740518470487716,0.1969571000438951,0.8509576135954241,0.9171462393343559,-0.51518473821964,-0.48397191353181673,-0.5331577741108966,-0.6110231003580954,0.27566811625939175,-0.554395512582061,-0.49336378321502744,-0.5450008873865756,-0.4633734465292289,-0.49898744116788035,0.8855982092190815,-0.4424351686291555,0.24679071408970096,-0.48270771844881566,-0.545063482989441,0.3221476341302269,-0.537295738967778,0.8795422554192831,-0.4882573682532964,0.9167134113102356,-0.5174293446592027,-0.4943654450918393,-0.48184328741446714,0.8806686580616191,-0.5029978032498958,0.8832805084621487,-0.5191300289150016,-0.5038736660443709,-0.5684462525402655,-0.5794767524012244,-0.5745520170003395,-0.5140811710788006,-0.5102421737601465,-0.48079795091356176,0.3168343179400002,0.2569923346953433,-0.5399848199952935,-0.469557929506044,0.3352991670313942,0.8712697681923981,-0.48840676156573154,-0.49942030410359967,0.8497111181769827,0.2369328749766433,0.3023153985177078,-0.5218936858786714,-0.5613054168920618,-0.57482608660926,0.8968193956466437,-0.5284196429892055,-0.540480137524309,-0.5835223776205364,0.9001387908971639,0.8994947442207655,0.8848553168622455,-0.48152244947320305,-0.5722601442271478,0.8587060070337361,-0.4802761910440055,0.2934562290426628,-0.5334720933823791,0.27536988959093595,0.30691932976684033,-0.5771185313033993,-0.47345270617473767,0.22496161522153488,-0.5544240527410388,-0.49093842711159136,-0.4952758358826543,-0.45729664458387176,-0.5719885686146027,-0.5055127127617178,0.8833333694705223,-0.5596157297262437,-0.5396693435091119,-0.5369811363029664,0.2785587283316044,0.3101016811974456,0.2861296102349604,0.904344411485281,-0.5025334981906762,-0.5089863529695178,-0.5231829528925317,-0.5796398441330601,-0.5613161865693832,-0.5553836379586699,-0.5599669616582428,0.9117950537580578,0.8352185362346551,0.2773480041086139,-0.5242887792012402,-0.5388250719776453,0.8896095745309919,-0.5350148877390977,-0.558450986437783,-0.4891880743130497,0.844129005026856,-0.5439155669885422,0.31339188590219724,0.8648179843766568,-0.5070089858416696,0.9223911184002564,0.9351781483985092,0.27602180187348585,-0.5318953981190476,0.3105577696757866,0.29287268458965904,-0.5271944823306621,-0.5606433627180539,-0.4910638990144956,0.9396931742073423,-0.46577537356245013,0.8822802022382867,0.9044683556115126,0.8682860491151605,0.8686382697947653,0.8472080985265926,-0.5628060747237157,-0.48737484074979126,-0.5269961862161221,-0.5685816396251921,-0.5348542959145189,-0.47744862668646965,-0.538607625474996,-0.5485919944330092,0.855074708034375,-0.4794416676006116,-0.5602825458241496,0.22832378487726945,0.3144475146672123,-0.5330771377862025,0.8628829728653878,-0.5165266823082205,0.3090991653371613,0.848490076677483,-0.5295193220772448,0.2543526139280786,0.2563109285829671,-0.5502802753854321,0.24077117224937838,-0.43808924872137894,0.8709274154419521,0.8600343198954762,0.26850640515762464,0.20547752783269949,0.9288701423033927,0.8942018068165694,-0.5076730783094497,0.21267388935708054,0.8975292027523354,-0.5479491684605156,0.915656950174891,-0.4987639582163026,-0.5246853835062955,0.3239761100223645,-0.482161575528602,-0.49744487385305497,-0.5284357249609567,-0.5335731446075759,0.8549195816241353,-0.6077374993132592,0.8792682376672574,0.29207846883775096,-0.5547511325128951,0.27139595286779394,-0.4901794746632162,-0.4669681292568595,-0.48736875925462886,0.8794147105947638,-0.5106511118832925,-0.48297528849156895,-0.5576532796515844,-0.5747490326712488,-0.5082005698625233,-0.5549895056812807,-0.5796493242551217,0.8328019661727032,0.9043520821409556,-0.4898147437714621,0.2793855263463792,0.2753017782304894,-0.5468475304212888,-0.47915980522487917,0.8560250111124134,-0.4955259792975003,0.8052940950844231,-0.5379984939074189,-0.5015855164360137,-0.5071180066528093,0.8588634911468617,0.8567365196848138,-0.46301380569570244,0.27587609197542057,-0.5284848924290103,0.23904174669188316,-0.5551252221136606,-0.5659534518469022,0.8383221723037628,0.292058131474842,-0.5940977662414686,0.32784690681774276,-0.5120627164417961,0.9070734226171535,0.30282419316036946,-0.48973303287029507,-0.5218710998020291,0.9230250698436944,0.25334593216200574,-0.5708006885179999,0.24534617433634615,-0.4408363771509847,0.8838914283579385,-0.5718746200111379,0.8589711389245108,0.24615764809281132,-0.5656460371823422,-0.5185271219301044,0.24091502545959192,-0.5190675678801485,0.8889836910158596,0.8687191488652735,0.8740941408000812,0.866551947174035,0.2849709005060792,-0.49869754975023545,-0.46823835123682944,-0.5367595744237572,0.8455717928168514,-0.5251908438377102,-0.49835503852489,0.32308371319627993,0.33282974516047137,-0.5951573345180604,0.2433534377327185,-0.5190896144226391,0.8842214249345449,-0.5076185527422475,0.2916595894795094,0.27977255485425817,0.9251117813600849,-0.5484100995625071,0.3216924545202756,-0.5269377200157931,0.8798642323388255,0.2631346629893958,0.24176871167040925,0.8997387329556992,0.2541098038847522,-0.540348252285528,0.22833006691243185,-0.5308899507144872,0.2152853020206838,-0.48150053071685667,-0.562445871322579,-0.4960700197405008,-0.49566458620314835,-0.5375374605221969,0.8852550553745843,-0.5126425633385369,-0.524038983901274,-0.5322682841537152,0.264209013843729,-0.5580713181343748,-0.5447128776529757,-0.5481772492553925,-0.5316803330674875,-0.4788529534966171,-0.5325890319905296,-0.5155955742941505,-0.5350288300093445,0.8023608889755857,-0.5474068669282749,0.8735118090961621,0.9034776825312942,-0.4979048755662776,-0.4849770047469562,-0.6056846547230352,0.8985809633890578,-0.4916686041352138,0.27801945088745933,-0.5358044556097835,-0.489656150425187,0.8609791055763885,-0.5729432592663708,0.8484121449423168,0.26376545210762953,-0.5525554535083876,0.2563912049072624,0.30526000434964407,-0.5074978663895452,0.9327216450255142,-0.45550259659375486,0.8440114547753934,0.24117485016654963,0.9093562971332357,0.23933417573997465,0.8809885889364237,0.3316806850996451,0.2558832532044854,0.2963082261591679,0.2486680258521587,-0.4786432053521697,0.8762874188446929,0.842883749012895,-0.532097724373464,-0.5546672107942301,0.21788471833329745,-0.5148178015780465,-0.5726614580988504,0.31687303069016876,-0.5370863786941943,0.29415182782745336,0.2560765491277797,-0.5652892889782273,-0.48785631649008515,-0.5598932545180948,-0.5002334536514347,0.8930113442408405,0.8276576468450512,0.8511286887547415,0.2896482540814324,0.2518063714705187,-0.504157488308695,-0.5792700893254611,0.8925915091158972,0.854313161556271,-0.5041613192618838,-0.5578015749175373,0.2965365608177736,0.2215472394387693,0.17419730400493263,-0.5234983598640346,0.2938651239551077,-0.5681905620469943,-0.5644037387582638,-0.5146033635332696],\"coloraxis\":\"coloraxis\",\"symbol\":\"circle\"},\"mode\":\"markers\",\"name\":\"\",\"scene\":\"scene\",\"showlegend\":false,\"x\":[0.21013681670260034,0.28964243933878303,0.9314205592681477,0.3011200574874733,-0.5428686316028115,0.2469767861533433,-0.49528241248862354,0.22237319606059383,0.2949078803836407,-0.5129490086092529,0.9270396095570221,-0.5136207422118452,0.25784325891437954,0.31956138110741433,-0.5541357615014257,0.2161308736899962,-0.501426104457061,-0.5526760959192206,0.24031332550133325,0.8777235009814895,-0.5526760959192206,0.24031332550133325,0.8777235009814895,-0.4582670246664505,-0.516794095769485,-0.526398628013866,-0.47824325381606353,-0.5875549314902646,-0.5423893725057862,0.2734785157054858,0.8988601417843746,0.27103129163204787,-0.5730031024329093,-0.5217031146884651,0.3280392433989881,0.30939349997153676,0.31876636698008864,-0.552095243430854,-0.48786036669120103,0.2113385460315585,0.28690061691556423,-0.5409764307156595,-0.5672275747118183,-0.5966588519628211,-0.524803899641176,0.8716494314724149,0.28985730997151954,-0.465274306351499,-0.4484255362758483,0.8917518714336156,-0.4250159434313949,0.8442599280779577,-0.5544218650935305,-0.5057757630091747,0.8805307895554291,-0.5163302778937698,0.32184948491375825,-0.48337409021635397,0.8453731913068269,-0.5542020839517185,0.2492298898979081,-0.5152901844317191,-0.5246220473182887,-0.5597801720622796,-0.48528867656994473,-0.5587346719998278,-0.570146477452667,0.8286302894844036,0.27546198274233497,-0.5649420249219527,-0.5455164186472197,-0.4719491688545889,-0.5607820013564433,0.2302057351654131,0.8803899387708626,-0.47828874208961625,-0.5413013708820934,0.9052679922368613,-0.47203387166184274,0.8710726201032198,-0.5498423690308228,-0.5268634639188019,0.8796275840362193,0.2598006302191143,-0.48122753598808865,0.9105944904216016,0.8849424534915784,-0.4799034565660618,0.2407561823360147,0.293007309537498,-0.5500414229571107,-0.5162512422651319,-0.5423642279331942,-0.49261700893295324,0.8130374192288747,0.2655237135368003,-0.574770009057452,-0.528389610456613,0.8444227744117407,0.2646621410038047,-0.5169478675544648,-0.49161853542696327,0.24455955367036653,-0.5125771480795663,-0.5193049302116144,-0.4987543798545735,0.8683102344834926,0.30672490533363694,0.24027852666064206,0.23943852381460587,-0.5433126623934112,0.8935795027312597,-0.5762693607115621,0.25429282647554075,-0.4914972281821468,-0.5126011532135388,0.26884927709033485,-0.5429773172060489,0.8393854142060069,0.25422586510096123,0.8557355787904543,-0.552224933202694,0.8426083663644479,-0.543033753888573,-0.5168229133167765,0.8660872541896532,-0.4460154604272931,-0.5306938206553007,0.2802235327273647,-0.5847499781828112,0.2900054686311563,0.2867362813723715,0.22342805364318277,0.28842307609132456,0.9009572679286818,0.8855339270804206,0.29957812661834643,-0.5611726288097693,-0.5409859953045503,0.868448408284659,-0.510217599973709,-0.530691830530555,-0.5400950915299201,0.29753544643959406,-0.5742497988504505,-0.5408021313989774,0.8494322767328639,-0.5099576998253447,0.855760211794794,-0.531686890077761,-0.51876650087601,0.8723890974153241,-0.4822009734348582,-0.6002756685273275,0.8642309701024417,-0.5786164469810118,-0.5056694906523317,-0.5519222501444219,0.9051183035177897,0.862378299411847,-0.5186216810542773,0.2767444409833708,-0.5491369664490902,0.2391024199271955,-0.4908588544492585,-0.5078957712172548,-0.511457223112811,-0.502693846278465,-0.5467047793241187,0.30903665493347665,-0.5329907541594595,-0.5528278663855702,-0.5138843261451419,-0.5377697329457352,-0.5202773707671248,-0.5135037853137939,0.8614862336936361,0.27193445966262164,-0.5597923644272036,0.9590906058246165,-0.5107401740523051,0.29753502492870515,0.8687341334472282,0.30922089788360185,0.2228160663901059,-0.5231814976144047,-0.5276600146542905,-0.540948048801231,-0.5794836536743406,0.2467112978070336,0.22264164498180308,-0.5113463700046131,-0.5339274207015241,-0.5500947857802603,0.22419549468673178,-0.5943699665688404,-0.5399159779680969,-0.5302855643611021,0.22324804198611392,-0.5272313491990688,-0.5028605946436758,-0.47476690007207945,-0.5326480027113372,0.2982673388736377,0.2750718259743574,-0.5117147079073611,-0.49590925734224356,0.9111396005100636,-0.5438535472808834,-0.5818898909160607,0.296544358398793,0.31790876441367905,0.9106714489816828,-0.5880779663144694,-0.5741619659374886,-0.5598571826447316,-0.48558216533379484,-0.5504586471984142,-0.531022443207507,0.795853654645961,-0.4864410918363122,-0.553130981676942,0.9024850962176983,-0.5093110403905557,0.8870444696100617,-0.5507119947613968,-0.4970715211625147,0.8855136715320845,-0.5330232410738486,0.8448584570169357,0.8573228622980874,0.8547612813314172,-0.5221576792267855,0.24393478036097804,-0.5804132064330253,-0.5627902708836806,0.28610658411094547,-0.49350578437811327,0.2907142403647836,0.24220910406023355,-0.49515243252080765,0.3065648029540327,-0.5234593856304344,0.26163479521675775,-0.5117319337905383,0.30582253318692343,0.9120858055948152,-0.6063323017283038,0.31865754811972186,-0.5014891729674639,0.8704449789084752,0.8260924782405626,-0.47589367544244193,0.24914142326427072,0.9068622811038527,-0.5061578344702364,-0.5348496246104457,0.26846381048222456,-0.5502919557199423,-0.5175721776058781,-0.5074626726484818,0.2810236189205912,-0.5315978749872213,0.8421761975553864,0.3032504541392099,-0.5387796086765653,-0.5860983489248685,-0.5329078644791899,0.2723208687411548,0.8595669206623078,-0.6014605767484492,-0.5587762363592629,-0.5547763462895631,0.3005878881345829,-0.5484215691208277,0.24708145346559537,-0.5695543963782739,-0.5126229398810129,-0.5003060079383488,0.90504079552678,-0.510180594928772,-0.4924024836083886,-0.48306733232048255,-0.5159367214943471,0.3021765058083742,-0.540181254587799,0.9113682002218554,-0.5678593680049601,-0.5072740051482469,0.9379606621443275,0.8919035255318746,0.9067810281982015,0.28107629728934347,-0.5698876159513548,-0.5697248526646113,-0.49131886135937136,0.8762894133314715,0.30354893167687164,0.834143126984532,-0.47121940781828187,0.2594683908796184,0.8912686303966998,-0.49746842017695564,0.8808806058324626,-0.540681465542965,0.2290408768383983,-0.564345611491886,0.9043490613132834,0.9123145368112409,0.3141155204344637,0.841629175608493,0.869264039057209,-0.5091851412621546,-0.5556595797221221,0.9090007423117927,0.26636326418175027,-0.5820179481629787,-0.4885443076595675,-0.5710399054498705,0.2962475339593154,-0.5707177222324242,-0.5401256391603997,0.8415327437289303,-0.5383619262850554,-0.4889399095658298,0.8642182800675745,0.8874677471056496,0.8166448705156218,0.8562702599059655,0.8611851525464026,0.8151982210240974,-0.5065167224297471,-0.5563759631035862,-0.5225618011358525,0.9062432924694138,0.8038379998763044,0.2537935086846056,-0.5969631402612214,-0.5888537753040147,-0.5366303756739046,0.2848785652713471,-0.48208401139965235,0.3116920562643919,0.9130718558273382,0.8847788905674395,-0.49912922259143483,-0.504311312772418,-0.4617661020082555,-0.5237633008238524,0.920466070455977,-0.47588786780029346,0.8977332325620391,0.8766827564097042,-0.546109585939992,-0.4567583246534381,-0.5193432477972367,0.8695815582772488,-0.4885652212271887,-0.5117410485988348,-0.48891806162631657,0.8464197656238046,-0.5672527883682301,0.8545725912707931,-0.5048202713833111,0.8730165312268586,-0.5379144681963578,0.2551342347877023,0.27822782220248865,-0.5555375420899914,-0.5734072251968138,0.8832971938412968,-0.5374624676395432,-0.4731829719880647,0.8748093614543705,-0.49060467755592696,0.3106005457572828,0.25119742195948164,-0.5289321453763056,0.8970851028511887,-0.49812211124629285,0.9477898839927155,0.22585382347180719,-0.482944615546099,-0.4910589100853999,-0.5209599186405689,-0.5439369796579188,-0.5437888572137815,0.8427972668843613,0.2246997266816404,0.2765561590214412,0.8877225658489524,0.843617172131333,0.8607556960359174,-0.5528770773943691,-0.5544248993995198,-0.5318494542687514,-0.5254645323362327,0.2515894747242282,-0.486879623111426,-0.5497818473414198,-0.5499062280046919,-0.49088081279476814,0.23908227940211346,-0.4937874892169313,-0.5194869151090848,0.22679761266853182,0.8859479125381072,-0.474451076756593,-0.49713986848918357,0.30751280252594365,-0.5244614569868512,-0.5452275450529042,0.9224832812079979,0.902956592553416,0.30611527335049404,-0.4478422415450382,0.8715609530475935,-0.5309648510454638,-0.5922613252864829,0.21144530188759952,0.3304409595293154,0.2165723595373632,-0.5365060544997621,0.8771380472910717,0.8871092694127951,-0.49103446244750676,0.32638467890818146,-0.4946024515601921,-0.574480173999219,-0.46987027693659844,-0.5198464918638114,0.90522094191866,-0.5043268776887859,-0.5162700520726072,0.2650068762420533,0.24363440125141808,-0.5619392222146665,0.24521363032576723,-0.5553561501208076,0.8256387818642287,0.9255472160050287,0.26234572550446345,0.9034522816385189,0.8310986854949074,-0.5201634376988772,0.8865164792593158,-0.5332175499160423,0.27624722100383464,-0.5051302069265403,0.9218635994818976,-0.5640824432875876,-0.4815324723837698,-0.5343904106316181,-0.5591196992710974,0.2474929078235109,-0.5529585665292424,0.9042798992897695,0.23529236932917194,0.2312487079887027,-0.5493012090542064,-0.47621319773745857,0.2612503532954098,-0.5768926427810708,0.8546443234934422,-0.4818426003926377,-0.5287941720337647,-0.5499933143838934,0.23359363527613033,-0.5361447149584292,0.8657892397302337,0.886019675240947,0.8578914448738143,-0.5400285545717127,-0.5415583415494902,0.8574540771248008,0.24001666871706712,-0.5885611366496959,0.8838999723127428,0.8473290220014095,0.31353309476003927,-0.47147864666127937,-0.6035456655030865,0.9213800091801868,-0.5505446256123144,0.2591915822244729,-0.5188247578108106,-0.4847653374863789,-0.4532683120178416,0.8509437425998586,-0.5394877501183506,0.3368066216826918,-0.5530509674107122,0.27097519056480657,0.8799088773036993,0.2514662131413114,0.2675869463427611,0.9033636310403932,0.28161473349664246,-0.48048356504153117,0.26055553056053854,0.9464084599741339,-0.4657329509701726,-0.4946325826520888,-0.5567745877994429,0.2493408555757766,0.8310461943428697,-0.4673380010541917,0.8562973665389272,0.8790379147127723,0.3224967948801609,-0.5563078951062858,0.9575778048953549,0.3294862752739261,-0.5014539298442418,-0.4992695509635112,0.8491011909665414,-0.5285322783200387,0.21839016532104355,0.8897452443927638,-0.5131262776497961,-0.4925202083010438,-0.4831833811057822,-0.5296722895683603,0.8380393695944081,-0.5419936167923772,-0.47700035093792265,-0.49500681449625517,0.2301417159505902,-0.5483531953881281,-0.5852113671998375,-0.539729377967053,0.25232007865582806,0.2894638492204929,0.2976810618577014,0.29903615289577534,0.2381047308949759,-0.5050945745705401,0.8949977206187623,0.29069249363455596,0.859055582722563,0.2923296004825405,-0.5215000282386278,0.29580782675260076,-0.49270138453585904,-0.5875066287540995,-0.5339582882655882,-0.5416461980586587,0.8719329044950042,-0.5192505739549202,-0.5025413140618674,0.924166338796934,0.29778277841671535,0.2370707687372623,-0.5407985422186656,-0.5431065393645292,0.8941378903769923,-0.5256460948779242,0.21695724959351131,0.8636581251330607,0.25002867604230394,0.9012202096711864,0.8892912503146739,-0.49197721951294604,0.8341048994194471,0.8626587772795299,0.8968814548187815,0.24425427825434148,0.8697385771907152,0.8699604585011714,-0.5419839114483883,-0.514237195686417,-0.5597335880619029,-0.5694316361967975,-0.48833438021006886,0.2674689490926859,0.2553063011951085,0.27986839722785967,0.8813848417705478,-0.5149822437423598,0.26298669990094437,-0.5244921087741629,-0.5702548370269971,-0.4951532444112207,-0.5462715384180913,0.8644670304834776,-0.4670857615855332,-0.5157024420196832,0.28039609753548556,0.8983306019723905,0.8506757083600544,0.8729285552641086,-0.48719911021627604,0.8864264070231154,-0.5271048498592331,0.30008155934843034,0.8677058988464128,0.24057567402830876,0.2537654097703072,-0.5142710081576031,-0.5085627439287138,0.25499417670681185,-0.49816982030866447,0.8943608816831716,0.31483993414113554,-0.5486300902887102,-0.5494947484399225,-0.5364758884286919,-0.5403115987038158,-0.5341544888896365,-0.5577049030971133,0.8968243468474345,0.8736741183356072,-0.5277116141593958,0.28817914119733146,0.8955880338073673,0.8517118145062708,0.8834606111936767,0.2711372366923592,0.32559068568751426,0.3105097091940577,0.3521771170845554,-0.5732264556397506,-0.5690904494703288,-0.452022808867723,-0.5327875044489101,-0.5198886722254461,-0.4615544469113871,0.8804394878973478,-0.5487735349614072,0.2670498806876785,0.30865099217866904,-0.5224797178614347,-0.5441229246056911,0.23325512011264812,0.2860592681934109,0.2764841822975309,0.8954598352627351,-0.521082819873018,0.24320327708621073,-0.5384014522946049,0.8450852828464248,0.3024903293146681,-0.5498591578643557,0.8918317195048614,-0.5234369501549929,0.9551764836315244,-0.5469284050316003,-0.4925267113317972,0.26570335345522744,0.8884135144305478,0.9250913610846675,-0.522465853048878,0.33031162913968865,0.24235015384300015,-0.544836203744814,-0.4656488848680289,0.3097174635135932,-0.5803266867388804,-0.5585432818099322,-0.5017044714934399,0.25010380527232495,-0.542665983865651,-0.5522163860398588,-0.5361735536449961,-0.5644723324203567,-0.5479754324350928,0.9299082857809448,0.23955962846271314,0.2735312006313622,-0.5400148225021522,0.24876629564413844,-0.569449707387032,0.8675871313287201,0.8457359172326078,-0.5105998991452674,-0.5281161170217279,-0.5619686874580508,-0.5897864395790015,0.2577018134180763,0.3199458058525806,-0.47339193649591815,-0.59044976841759,-0.5050458041692572,0.32636935227698805,-0.5388534674772124,0.8536734905818232,-0.5244828005060829,0.8731880800210756,-0.5289778972533399,-0.5244197806732088,-0.5090558780062133,0.846632436787312,0.8664895382809547,-0.48898393584520494,0.8762853317313452,-0.4814484901722026,0.2702966037833276,0.28069475893740437,0.8336723638196764,-0.5009692333111391,-0.524666309255802,0.8239116205854248,-0.5742806514930798,-0.5645202464178869,0.936336591426984,0.26727977839825834,0.24163317237142307,-0.5267948910777457,0.8954249297451775,-0.5647056934574931,0.27394693930558567,-0.5204162689012057,0.23919110565161397,-0.528915557746024,-0.47881424573573206,0.8312308358986683,-0.4703930973817769,-0.5662906812409116,0.27448734647737805,-0.49515858217279574,-0.5262763728223483,0.2727339809768561,0.8324959139817113,0.8347540103316018,0.8583727051792635,0.8814703153217027,-0.5354598232005814,0.2525503621834488,0.8703590762794234,0.2851677383230644,-0.5348172201054783,0.8485482222553047,-0.554106791809809,-0.4411880141458671,0.23030597267818118,0.8525070645796521,0.9245649746196689,0.2504548215857732,-0.44940320055552757,-0.5507819197999954,0.9112089241702852,0.8695428136267563,0.20515663523351607,-0.5517300504408809,-0.44731432911094354,0.28644290622255786,-0.5513256784542953,-0.5149582249062779,0.22154679253283713,0.9228615262510365,0.2657464003888633,0.3177561301218202,0.2865783257748187,-0.5010007101940567,0.8992048506352648,0.9078777727145051,-0.5636391802641969,0.8489710953154104,-0.5292080465098683,-0.5030394824899825,-0.5354907784325801,-0.501929625042689,0.2712288698688616,0.2796921234314279,-0.4727137514178019,-0.580528135970831,0.89298717533576,0.2876113683164476,0.27505467212182066,-0.5020339467681484,-0.529500430358054,-0.5367763072515437,-0.5443525805468186,-0.5972366840283327,0.30810526007909783,-0.5153202621709464,-0.5284273801318773,-0.5648432907842339,-0.5136593233880954,-0.46319428070285174,-0.5382359554268502,0.8735744351062764,-0.5518302070734977,0.9187171960750218,0.2151396445253142,0.8228781845139341,-0.5211657916177199,-0.5028282264666272,-0.5720834065016978,-0.5417441578181691,0.8839830413228583,-0.5400630921710808,-0.5090465689635868,-0.4922283729788113,0.8950095742094015,-0.5688274644802815,0.32629909776943183,-0.5342344653861067,-0.510835825663515,0.2753283861168255,-0.5355603324314376,0.19678985955309147,-0.49799039072779805,0.26156169293122405,-0.5612773146150687,0.9063515351540598,0.2805362982881984,-0.5534577656927117,-0.5209956457255073,0.8451325492318039,-0.4693931546675998,0.8037861438361218,0.28311567547000827,0.8686911635006346,0.8622867462345898,0.8763126432383366,0.8658207070922129,0.22982090327656737,0.8869854352190532,-0.5057640428386984,-0.5876588178242872,-0.511615318435994,0.2830546399487312,-0.5383619991012301,0.9345706092156928,0.24302828758083567,-0.49283001986103653,-0.5556571762888299,-0.5584399693733532,0.8649042979045024,-0.5298101102883891,0.8986301376890041,-0.525432614883268,0.8661666977178045,-0.4768476244644356,0.2449387185105589,0.8692033428471858,0.2938866730386707,0.8916073183836947,-0.5489441350164541,-0.5203368188577835,0.8586529381785211,-0.5779226566545426,0.9017770083298418,0.2474629799910183,0.30785588061010893,0.8859869247829119,-0.535830057296804,0.8531526727392833,-0.5626977551478775,-0.563530371692486,-0.5023246329132983,0.29343280431393426,-0.4808409297423334,-0.5504640577704178,-0.5195190701050529,0.32539664975069066,0.8573187069340525,0.8498778818565155,0.22542829408235543,-0.5163157250297201,0.8867084469092186,-0.4967445368376981,-0.555340391410539,0.24475037842543063,0.8873043422926663,-0.4653686422882932,-0.49758439965277546,0.8974167558405344,-0.5178910087225734,0.31139665676553413,-0.5205081202301035,-0.5430067309610005,-0.5117494195206623,0.22800433425900962,-0.5754705238768623,-0.5086060694262499,0.22982280347178005,-0.4692795074310284,0.2828316914866036,-0.47729006015396,-0.5740102279785558,-0.4632607504318542,0.8342388265730035,0.8897207331739213,0.9377778152207349,-0.5474723502520165,0.8834312340675686,0.27771224008974965,0.8542048050073514,0.8183376394103574,-0.5258681125082411,0.2259366405537204,-0.5416073843272667,0.23347910959090243,-0.4489615766723553,0.29519140128576643,0.23027964229602108,0.32697784439051614,-0.541535729309167,0.8519219681004111,-0.5129235631557151,-0.48676451355911127,-0.48964544343386557,0.8566866746370313,0.2484842070045303,-0.5443911601640248,0.9166033451694053,-0.5588138707736092,0.2671852048798777,0.29234338599052534,0.8903662725534204,-0.5058340026969586,-0.5206285366131833,0.32347409162214635,-0.5416012335792305,0.26890399334492787,-0.5450293659986418,-0.5069848302916047,-0.5405419787829239,0.9188373865310662,0.919452859259292,0.87319888529753,0.8856976118337586,-0.533168397217689,-0.5391451154799848,0.9137353657242367,0.26265852031240666,0.339915623643905,-0.5025672771748513,-0.4881564412855359,0.22013123085028552,-0.5806129131211367,0.8686802331186384,-0.519300694313154,0.21754500627247406,0.2569486276872633,0.2481747299828783,-0.5211333769672616,0.2380367555509891,-0.5415300311988023,-0.5634424708722864,-0.557859858487269,0.8383703142414285,-0.5441209825743651,-0.5553535638096122,-0.5134285635543999,0.25291849325123944,-0.6012938933289556,0.9158779607360977,-0.5168625294558921,-0.5637304944215162,0.8915015883447913,-0.4645958767688527,-0.47964409083294857,-0.5627513762464361,-0.5322366582714815,-0.45610310032136886,0.8715822787662113,0.27153561049263364,0.25747651591311876,-0.49353493219578265,0.8840005760862366,-0.5137826553333791,0.9033319811871314,0.8693805471758754,0.9031775200433177,-0.53150413288425,0.21324577015294796,-0.47742336527981094,-0.4914877276540375,-0.5008479196579658,-0.604381828710326,0.8774696523820847,0.8892094595555308,-0.5135969382354352,-0.5575635119376531,-0.48733530037036843,0.8254749723099423,-0.45914548721933657,0.8003994141787283,-0.5101961862922926,-0.5845536279770452,0.24811260891728787,-0.49541088414980516,0.21633297650948147,-0.49645095488588026,-0.5624594453823706,-0.48437173343890777,0.26517358916261086,0.9497755075137677,0.32965806073065806,0.8485129493474486,0.8604978439066217,0.24390512859911673,0.23824064848583698,-0.5637033536809055,-0.5722088830304883,-0.5056863666469634,0.8957261944946154,-0.5789572630200392,0.8799023048095875,0.2860490809940786,0.31634395843904206,0.28113747372258047,0.9309701740777411,0.27213931635330235,-0.5216113462921816,0.8850465353711805,0.277325819797128,0.8689056379660149,0.8780486222440347,-0.5050989605686774,0.26973667138525,-0.5631474436533213,0.8407752079280003,-0.43005198949251255,-0.5845370761720399,0.9180476538117768,-0.5075046446481049,-0.5346443469512199,0.8217906249342721,-0.595351839760296,0.244091867163043,0.830130068064148,0.9421617329237321,-0.5429322127439749,0.8572489455002972,-0.5919483507350944,-0.4938345688899444,0.30990936186808554,0.8555757354038448,-0.5703640945585914,0.288504570110055,0.918828575033703,0.8343676379712731,0.8460084693537485,-0.5540184634098645,0.819768730634413,-0.5031477208258559,-0.5627534499601669,-0.5234762329986216,-0.5050141851729355,-0.5281226942385678,0.9480611094426311,0.8460943715187885,0.28116916998342606,0.8661368289970368,0.8624564467413733,-0.5249012236487515,-0.5339586942900311,-0.5572129857937064,0.23786452119200116,-0.5135526894233347,0.2992681349024535,0.869535369506996,0.8593990898337395,-0.5636847889016983,-0.5255972466548913,-0.5024903010573901,0.25402009848383544,0.3046100215970603,-0.48050588946759687,0.24633589375339532,0.2785605928515854,0.8054919984570332,0.23996115774912138,-0.5524086434054953,0.2260619687841922,0.9085853663768122,0.8853406058878596,0.2797069115165759,-0.5867918279150552,0.26190827018126467,-0.529292469738396,-0.5540286508649834,-0.5300717783790286,0.29408416568275064,0.8502198168898835,0.8590206949661146,0.884918413395854,0.8438885325111141,0.32816968898668203,0.26118685672583747,0.22246760287371922,-0.564937689718554,-0.5210401286997246,0.28153692492186344,-0.5123932913093345,-0.5454525756686103,0.24891760914558467,-0.5178576433577349,-0.49656441165050663,0.31313004547832846,0.26532528455946597,-0.481166033292319,-0.5250529092251089,-0.5688668364561527,0.8591900143060919,-0.6043484524658796,0.22406699568104807,-0.5385910934363406,0.2822786679348475,0.8841781190487291,-0.4728399827825838,0.892068145063631,0.23587655702829308,0.9347841964859427,0.8477156419623543,0.8750523439140827,0.2671942261176584,-0.5231822901618559,0.23876654573656078,0.8639923100657272,0.8727055806216862,0.9105054795708916,-0.5081078175392575,-0.5807871517727837,-0.5367553955007887,-0.5637692107129235,0.8491567806970068,-0.5148715101302046,-0.5305475343322955,0.3133693785752543,-0.4696902182019204,0.3093667372770512,-0.5131268662847378,0.7732680242217465,0.24853459953202015,-0.5412191612337028,0.933494206581033,-0.4790781259003002,0.3182492073316252,-0.5118500497408608,0.915774063038808,0.20368046520133387,0.32871509520182757,0.8783484931287069,0.8654943542997916,0.21339734427728968,0.798662558264784,0.22091601672078315,0.257269064511859,-0.4805231329096583,-0.5021724977816866,-0.5547796271689005,-0.4958528100540684,-0.44930658458178396,-0.4999271607564762,-0.5380907586748745,-0.5445805702796703,-0.4990182378154363,0.9222000394787147,-0.5432113648545752,0.25166495742612915,-0.5281895201328413,0.829839744558899,0.28451329555486826,-0.5117876020666169,0.3206424928390705,-0.5240251873983145,0.2213376888722362,0.2956239145417347,0.9362418788919132,-0.4934139656790601,-0.49872789382752886,-0.5173492324815913,-0.544912693072373,0.9068145502499745,-0.5468949839852121,0.2899574185096751,0.30992956557358897,-0.5393302196141261,-0.4731490186940553,0.27391435818115056,0.2972722314165811,-0.5190165674015192,-0.48766843907293267,0.25332142952753806,-0.6075397945409483,-0.5111800022145385,0.8350107247874197,-0.5614655399864297,-0.5195957741495235,-0.505903743592458,-0.5045105734383324,0.8795456990699617,0.2256937423079674,-0.4809863355567519,-0.5095123952632047,0.8469962434397231,-0.500651665926339,-0.5043455741818892,0.23089840815675114,0.918842354928527,-0.47519363476955384,0.2871068616633796,0.291415758219818,0.2595813873662515,-0.5780828711857326,0.8201633080290271,0.28312022750028715,-0.48246779373105786,-0.5586291023138195,-0.5148816269009787,-0.5270371813560942,0.93076914873753,0.8661847453582724,-0.47381385187206365,-0.6169120982037585,-0.5024134482212183,-0.5185627652793963,-0.5554455730054606,0.239372974583176,0.8590214708200439,-0.5127020874873249,-0.5175078470382448,-0.4803460514365518,0.8875752221988609,-0.5395838479731179,0.31596873065389264,0.2620023631081566,0.2220660171095431,-0.5472584202096317,-0.539907091976919,-0.49865079327977135,0.9414032472749924,-0.5105373223332283,-0.5223721125097722,0.8879211809485963,-0.5358520028688047,0.8501770321462752,0.8686752038749481,0.8697423186863376,-0.5575200769983764,0.26305032303134696,-0.4854833712362809,-0.5165447048870024,-0.5602903769874817,0.893566936170817,-0.555294642107236,-0.5474925575496065,-0.4773185106626308,-0.49986213929588413,0.23342734907874507,0.26626820267736856,-0.5075076437549366,0.25351361562878394,-0.5314448784735357,0.2917765515156059,-0.5570260422074313,0.8319882016125679,-0.5685491008871499,0.3343059567563159,0.2245471194183675,-0.5406632102377724,0.2585539350727605,0.8552119892813856,0.2164754201091164,0.8383372224755545,0.24566184980951938,-0.5854278440624964,-0.49769245297399556,0.8583528782186054,-0.5483779586993264,-0.482712803624629,-0.522607616099073,-0.572555398270026,-0.5372684735608623,-0.5133728377227488,0.9210199722955348,-0.492407945159569,-0.5384240457102001,-0.48511663454351117,-0.5370162913424267,-0.5168979660816143,-0.4830146668221798,0.24384363366361378,0.8423143930370702,0.8315901479379814,-0.5401415753728871,-0.580363694587398,-0.5359090578566749,-0.562764266318748,-0.5271820145097839,-0.5507359800649341,-0.5618985978136672,-0.5055822255078208,-0.45050041706090427,0.2809195702409654,-0.49942463155932354,-0.45757050468341826,-0.5351798531400075,0.8594348908709545,-0.5458146487622816,0.25041431479654697,-0.48490653984230747,0.2433850843362595,0.2905272082109864,0.2482704689595896,-0.515566489014196,0.8296426335092572,0.25136395533786293,-0.48262130007149184,0.2970575041465229,-0.47590217134872864,-0.5045005417254396,-0.4998255776127689,-0.5307411787756049,-0.48529146000864887,-0.5131839395752462,-0.5290344782971996,-0.5269652725463679,-0.5411034636077372,-0.521526156194896,0.28705688400455487,-0.4856931485656844,-0.5165307710168698,-0.5809986532630312,0.27873889828506315,-0.5275024520701311,-0.5247772071677466,0.8411345715314206,0.21815137208448507,-0.49122475314619357,0.8360126831181969,0.9112771900860588,0.2683810088327353,-0.5230184796802305,0.3296961222864242,0.9017469928625896,-0.5481349624356294,-0.5007066809909659,0.24811661340390564,0.26228241051695567,-0.4539290908013209,-0.5330117865474837,0.8745898137982319,0.8796738382557946,-0.527805845397254,-0.5711200255031814,0.8493643091492515,0.890325299421779,-0.5382711174986172,0.27272063649566386,-0.5650203891936901,-0.4697328998030517,-0.5663188114816523,-0.5557425895780512,-0.5648726179244807,-0.5658890765470906,-0.47112876990319763,0.8222945757048068,-0.5146454220471735,0.24801069858203062,-0.5087302626393113,0.23315083552997803,0.3171221138159868,0.33588599533151775,-0.4881569136947999,-0.5202171532859675,-0.4970114371306956,-0.5616689178717564,0.7854656662230314,0.2270277725314476,-0.5369936530350988,-0.5539773374767607,-0.5149877001578331,0.9318538831908975,-0.5998152181308448,-0.560795417629605,-0.47063171240026064,-0.44351822925606865,0.2531923624045418,-0.5702087627325516,-0.5244272601146365,0.2335880310320118,0.27860434806393963,-0.5270941637505437,0.8367743793088094,0.25148257058897727,0.8658248874134387,0.8900307515777649,0.26609357712817333,0.3165170288641064,0.82819066888534,0.2913684094027367,-0.46434682085134704,-0.5511656157374233,0.25260727699099395,-0.5223450071504104,0.9231867836449473,0.8771606141946885,0.8940355690599306,-0.5117154946205934,0.3057716612828729,-0.5524351055264619,-0.5072341762785417,-0.5422806053077454,-0.5528822894459433,-0.5582367046844787,-0.5253585458113803,0.23031069310642802,-0.5089551551595539,0.8911667085407295,0.9001059243650879,0.8990708929740276,-0.5873278974621106,-0.491893374195163,-0.4736695954122014,-0.5322767249867355,0.842918666811178,-0.5978293463316698,-0.495427356038049,0.9185363893070643,-0.5594074055983618,0.26110235520464353,0.24770716024163753,0.22262510012892095,0.8909213998221396,0.8942831818341044,-0.48977750248228863,0.2844956377739159,-0.6003896741524167,-0.5068011257747053,0.9331636039656301,0.9069456667113515,0.310878670554095,0.30860727582223263,0.83166432031055,-0.5049386327503709,-0.5413444691955126,-0.510769404514333,-0.5220479571249398,0.3054766658050805,0.8557956123236398,0.9550233034457659,0.8589234828625887,-0.5726338501270385,-0.49911573423075406,-0.5636963504028898,-0.47274159474450056,0.8308490452650902,-0.498172944014738,0.9036808377817565,-0.5589332155763018,0.8887202312451613,-0.449029911380728,-0.4830743448235545,0.8549703633533567,-0.5543503077614449,-0.4879250688653823,0.8519733516911201,0.8559848990966682,-0.5342205930610616,-0.49574993593274885,0.8878826520152041,0.8572572208253892,-0.5472774898217877,0.8570352198862541,0.8993834884047341,-0.5692233320485982,0.22710336323657856,0.3026727678940424,-0.537372529512872,0.8430330418179552,-0.46776360717537435,-0.4815358426760721,-0.5152232640343469,-0.566840312213368,-0.4821639654050262,-0.5159674024664737,0.8749056150745272,-0.582902038216264,0.9247088656671197,-0.5309269819236412,0.20058628932867859,0.2790218894567822,-0.5461821264715709,-0.4890307204956797,0.2525394018900721,-0.5692120029918093,-0.4817081586170659,0.2258279017694508,0.259585959911612,0.2991757985023161,-0.5538805557213408,0.27185596638584286,0.27737408452623896,-0.47240762921610013,0.8244338100321962,-0.5303878118363538,-0.5250584470735132,-0.5082473440017027,-0.4695320775951063,-0.5509597564224814,-0.5316965755397224,0.3146298399776114,0.2066665729273891,-0.5616729708910164,0.22714242763150536,-0.5283701434302244,0.2748824624407265,0.2465408905895468,-0.5126302096642592,-0.4810086760488226,-0.49205422860415204,-0.5186411440351814,0.3270295251623083,0.31367992307362647,-0.4637833553420645,0.2307131430045047,0.881201924396294,-0.5211877965271631,-0.5822198301904906,-0.5317055070565853,-0.4820849416477281,0.8421226791767905,-0.5095527061841334,0.3064892461306438,0.8134626782850692,0.29809577533901727,-0.501513062624396,-0.583219652079565,0.23921226896470402,-0.5378130213368258,-0.5396363098448949,-0.4735998953320639,-0.47228231864418446,0.890974085315656,-0.470404877420318,0.3179348952694957,0.9205847938193008,-0.5693954857168974,0.30981207744666184,-0.5561435460667555,0.8626639425097256,0.22623777902350642,0.8830884036166571,0.27018264861529434,0.26249046741454524,-0.5681294051949615,-0.5494996030731618,-0.5758489602784309,0.2818933534340492,-0.5907760941874266,0.8489298199116644,-0.5295416588454387,-0.559463494141743,-0.5287148565049696,-0.4938725361337383,0.27929480023633163,0.8642089051897216,-0.5640201114672433,-0.4878585727890557,0.22531512089118091,-0.46881436074580574,0.842455654603069,-0.49162558572877285,-0.5260068029184769,-0.529978187130451,-0.5554779977097022,0.22196951073464674,-0.49994983526636955,0.2883940853530328,-0.5242255299673506,0.2413362887387937,0.23870062964351338,0.307765919741304,-0.553884581843991,-0.5360211733247818,-0.5681860730197358,0.8954018650111011,-0.5186289119184329,0.26045037617335154,0.3207891865709318,-0.5130264388219016,0.8238270966630253,-0.5933577588912577,-0.5571461199653753,-0.5445639144819397,0.8842699518403286,0.918169734742548,-0.5947685051674154,0.9343645694768009,0.22221542078462186,0.8846215345552249,-0.5936677365243792,0.8506843311889121,0.2577745091504398,-0.4947667921982664,0.8172096526315756,0.8660063482762781,-0.5427612530624008,-0.5302128954596097,-0.47182376815765054,-0.5279578317912603,0.29111878902068344,0.28164235317795383,0.27236717210531747,0.28708061566692356,-0.5280482307729845,-0.5467507226740442,-0.507648705647506,0.9230387752780229,0.8628439711235286,0.8553274289403743,-0.49289738034011027,-0.5373784920362389,-0.5003505652199044,-0.5542730395631688,0.8386635446760377,0.2049599559629375,0.24219363535452493,0.2589587580752732,-0.5102692297713995,-0.5448934572933469,0.2667817967393557,0.24203881481913572,0.28781793463031735,-0.48661539183520525,0.9257820906960483,-0.5669372264805379,0.24864142688315183,-0.4427224132975236,-0.4785641296528721,-0.584884859149382,0.9042719762976298,-0.5083890535222642,0.2587454575297995,-0.5524922430719981,-0.49549546722929855,0.8572414129069396,-0.5531772309398659,-0.5367046173875234,-0.5069409640018081,-0.5932248546209252,-0.5447541221037872,0.8442195531634151,-0.5523693205615169,0.9731262110823842,0.31238052775867975,-0.530869074739996,-0.4968647352156575,-0.5495853191490739,-0.568123858722831,-0.5597276068254926,-0.5308332779168965,-0.49385815013030215,0.8715839901831306,0.8515248526590586,0.19546393492968264,-0.45533161014803397,0.8979514013970765,0.9207061602363574,0.9752650067715042,-0.49843628465312506,-0.5322587838962121,-0.5256156269730358,0.9250101549099377,-0.49740518470487716,0.1969571000438951,0.8509576135954241,0.9171462393343559,-0.51518473821964,-0.48397191353181673,-0.5331577741108966,-0.6110231003580954,0.27566811625939175,-0.554395512582061,-0.49336378321502744,-0.5450008873865756,-0.4633734465292289,-0.49898744116788035,0.8855982092190815,-0.4424351686291555,0.24679071408970096,-0.48270771844881566,-0.545063482989441,0.3221476341302269,-0.537295738967778,0.8795422554192831,-0.4882573682532964,0.9167134113102356,-0.5174293446592027,-0.4943654450918393,-0.48184328741446714,0.8806686580616191,-0.5029978032498958,0.8832805084621487,-0.5191300289150016,-0.5038736660443709,-0.5684462525402655,-0.5794767524012244,-0.5745520170003395,-0.5140811710788006,-0.5102421737601465,-0.48079795091356176,0.3168343179400002,0.2569923346953433,-0.5399848199952935,-0.469557929506044,0.3352991670313942,0.8712697681923981,-0.48840676156573154,-0.49942030410359967,0.8497111181769827,0.2369328749766433,0.3023153985177078,-0.5218936858786714,-0.5613054168920618,-0.57482608660926,0.8968193956466437,-0.5284196429892055,-0.540480137524309,-0.5835223776205364,0.9001387908971639,0.8994947442207655,0.8848553168622455,-0.48152244947320305,-0.5722601442271478,0.8587060070337361,-0.4802761910440055,0.2934562290426628,-0.5334720933823791,0.27536988959093595,0.30691932976684033,-0.5771185313033993,-0.47345270617473767,0.22496161522153488,-0.5544240527410388,-0.49093842711159136,-0.4952758358826543,-0.45729664458387176,-0.5719885686146027,-0.5055127127617178,0.8833333694705223,-0.5596157297262437,-0.5396693435091119,-0.5369811363029664,0.2785587283316044,0.3101016811974456,0.2861296102349604,0.904344411485281,-0.5025334981906762,-0.5089863529695178,-0.5231829528925317,-0.5796398441330601,-0.5613161865693832,-0.5553836379586699,-0.5599669616582428,0.9117950537580578,0.8352185362346551,0.2773480041086139,-0.5242887792012402,-0.5388250719776453,0.8896095745309919,-0.5350148877390977,-0.558450986437783,-0.4891880743130497,0.844129005026856,-0.5439155669885422,0.31339188590219724,0.8648179843766568,-0.5070089858416696,0.9223911184002564,0.9351781483985092,0.27602180187348585,-0.5318953981190476,0.3105577696757866,0.29287268458965904,-0.5271944823306621,-0.5606433627180539,-0.4910638990144956,0.9396931742073423,-0.46577537356245013,0.8822802022382867,0.9044683556115126,0.8682860491151605,0.8686382697947653,0.8472080985265926,-0.5628060747237157,-0.48737484074979126,-0.5269961862161221,-0.5685816396251921,-0.5348542959145189,-0.47744862668646965,-0.538607625474996,-0.5485919944330092,0.855074708034375,-0.4794416676006116,-0.5602825458241496,0.22832378487726945,0.3144475146672123,-0.5330771377862025,0.8628829728653878,-0.5165266823082205,0.3090991653371613,0.848490076677483,-0.5295193220772448,0.2543526139280786,0.2563109285829671,-0.5502802753854321,0.24077117224937838,-0.43808924872137894,0.8709274154419521,0.8600343198954762,0.26850640515762464,0.20547752783269949,0.9288701423033927,0.8942018068165694,-0.5076730783094497,0.21267388935708054,0.8975292027523354,-0.5479491684605156,0.915656950174891,-0.4987639582163026,-0.5246853835062955,0.3239761100223645,-0.482161575528602,-0.49744487385305497,-0.5284357249609567,-0.5335731446075759,0.8549195816241353,-0.6077374993132592,0.8792682376672574,0.29207846883775096,-0.5547511325128951,0.27139595286779394,-0.4901794746632162,-0.4669681292568595,-0.48736875925462886,0.8794147105947638,-0.5106511118832925,-0.48297528849156895,-0.5576532796515844,-0.5747490326712488,-0.5082005698625233,-0.5549895056812807,-0.5796493242551217,0.8328019661727032,0.9043520821409556,-0.4898147437714621,0.2793855263463792,0.2753017782304894,-0.5468475304212888,-0.47915980522487917,0.8560250111124134,-0.4955259792975003,0.8052940950844231,-0.5379984939074189,-0.5015855164360137,-0.5071180066528093,0.8588634911468617,0.8567365196848138,-0.46301380569570244,0.27587609197542057,-0.5284848924290103,0.23904174669188316,-0.5551252221136606,-0.5659534518469022,0.8383221723037628,0.292058131474842,-0.5940977662414686,0.32784690681774276,-0.5120627164417961,0.9070734226171535,0.30282419316036946,-0.48973303287029507,-0.5218710998020291,0.9230250698436944,0.25334593216200574,-0.5708006885179999,0.24534617433634615,-0.4408363771509847,0.8838914283579385,-0.5718746200111379,0.8589711389245108,0.24615764809281132,-0.5656460371823422,-0.5185271219301044,0.24091502545959192,-0.5190675678801485,0.8889836910158596,0.8687191488652735,0.8740941408000812,0.866551947174035,0.2849709005060792,-0.49869754975023545,-0.46823835123682944,-0.5367595744237572,0.8455717928168514,-0.5251908438377102,-0.49835503852489,0.32308371319627993,0.33282974516047137,-0.5951573345180604,0.2433534377327185,-0.5190896144226391,0.8842214249345449,-0.5076185527422475,0.2916595894795094,0.27977255485425817,0.9251117813600849,-0.5484100995625071,0.3216924545202756,-0.5269377200157931,0.8798642323388255,0.2631346629893958,0.24176871167040925,0.8997387329556992,0.2541098038847522,-0.540348252285528,0.22833006691243185,-0.5308899507144872,0.2152853020206838,-0.48150053071685667,-0.562445871322579,-0.4960700197405008,-0.49566458620314835,-0.5375374605221969,0.8852550553745843,-0.5126425633385369,-0.524038983901274,-0.5322682841537152,0.264209013843729,-0.5580713181343748,-0.5447128776529757,-0.5481772492553925,-0.5316803330674875,-0.4788529534966171,-0.5325890319905296,-0.5155955742941505,-0.5350288300093445,0.8023608889755857,-0.5474068669282749,0.8735118090961621,0.9034776825312942,-0.4979048755662776,-0.4849770047469562,-0.6056846547230352,0.8985809633890578,-0.4916686041352138,0.27801945088745933,-0.5358044556097835,-0.489656150425187,0.8609791055763885,-0.5729432592663708,0.8484121449423168,0.26376545210762953,-0.5525554535083876,0.2563912049072624,0.30526000434964407,-0.5074978663895452,0.9327216450255142,-0.45550259659375486,0.8440114547753934,0.24117485016654963,0.9093562971332357,0.23933417573997465,0.8809885889364237,0.3316806850996451,0.2558832532044854,0.2963082261591679,0.2486680258521587,-0.4786432053521697,0.8762874188446929,0.842883749012895,-0.532097724373464,-0.5546672107942301,0.21788471833329745,-0.5148178015780465,-0.5726614580988504,0.31687303069016876,-0.5370863786941943,0.29415182782745336,0.2560765491277797,-0.5652892889782273,-0.48785631649008515,-0.5598932545180948,-0.5002334536514347,0.8930113442408405,0.8276576468450512,0.8511286887547415,0.2896482540814324,0.2518063714705187,-0.504157488308695,-0.5792700893254611,0.8925915091158972,0.854313161556271,-0.5041613192618838,-0.5578015749175373,0.2965365608177736,0.2215472394387693,0.17419730400493263,-0.5234983598640346,0.2938651239551077,-0.5681905620469943,-0.5644037387582638,-0.5146033635332696],\"y\":[0.09365927248139626,-0.009318253035121595,-0.12108688180697078,-0.012146323327181505,0.17200602756753933,-0.07487253546738487,0.5680062337441089,0.08731728491917948,0.013747742034284301,-0.7767665145764739,-0.8108008080337158,0.10666656336255413,0.628163069558317,-0.039706209754207994,0.5875933109134778,0.8409077734150643,0.5559444967179776,0.019297940002980945,-0.5310803218343073,0.17677969498369575,0.019297940002980945,-0.5310803218343073,0.17677969498369575,-0.7708988025740336,-0.16970521984529718,-0.647318094545399,-0.8614493742270682,0.7685146637293225,0.015208189045623112,0.6315101072677026,-0.7728295234872296,0.20201209310052703,0.11438014978496285,-0.6359973299070975,-0.018891968318849834,-0.08704462497248382,-0.8038913392628825,-0.6060613123215333,-0.20878581350720543,0.11065841963051795,0.595939154761166,0.15514342895882458,-0.5964764407713369,0.7948635818194155,0.17328323878626556,0.8073363871607272,-0.7565574178250617,-0.821803707370912,-0.8330124851992199,-0.1176334244599522,-0.7875743386859055,0.12164202526105233,-0.635995578495904,-0.1667756388785465,-0.5748221756006078,-0.1450330842096007,-0.5427331733047847,-0.21210092658348398,0.6227556201260853,-0.002471388342596147,0.8423186088951912,0.11335544534455927,-0.5960739791040071,0.7679977699608854,-0.16460107260837778,0.039034175677160304,0.1432557826945234,0.6043653559272739,-0.13135373157515595,-0.012997943539513598,-0.6267579480927495,-0.08176412651118586,0.5867046156408693,0.7667769303493327,-0.5588710022822249,-0.15571956382676705,0.8089459658155852,-0.7862175753311955,-0.814950948862425,0.08394115987483843,-0.641613409293168,0.05406020282063733,-0.5786763042727744,0.6403750209993637,-0.6121500971368257,-0.010453525437715687,-0.5770390337547462,-0.8237611733796524,0.053267137189076094,-0.13371472381974092,0.05353563889079275,-0.5605179331444,0.0005887492489934776,-0.06768887253087963,0.11882203046469886,0.18798211085916336,0.7919253044691406,-0.022626039157643014,0.8174194793472948,0.6260284003775726,-0.029697373385148402,-0.05712641960509536,0.617403204583154,-0.5833064598248824,0.005219183369016323,-0.18858519652733047,0.08492762811888799,0.003890518353560432,-0.6000036482913833,0.18064984454976002,0.050324516562919794,-0.01851588437584367,0.04708849455079574,-0.5544631897854173,0.5850237329966574,0.11418085746628638,-0.06510244242103018,0.12898446225229407,0.11104808236085414,0.6524794515972173,-0.5558359296855537,-0.6249314927374352,-0.5787696227171051,0.7586231532594666,0.5784128224450331,0.6007913708564685,-0.8624369666358727,0.7862957383652597,-0.1273588298699967,0.7884982998952803,-0.17203294109231448,0.09221182778294389,0.7841847895302736,0.04814308505937536,-0.7466478433513618,-0.05777296982327038,-0.764135243429565,-0.005003299344350478,0.071213559190486,0.06224575765769978,-0.13750858675493682,-0.15940465999151274,0.09954397323039268,-0.14958196419203593,0.7937651566634278,-0.1683258439339945,0.7972042035987049,-0.18765669159511364,0.803074129033379,0.570410788745455,0.10684246691700389,0.043263464625536104,-0.018158703140255646,0.7770808772822526,0.06725706908226886,0.05816353168064788,0.5706989402003907,0.7925861189160404,0.6238720340975669,-0.07698468824072678,-0.618391257600824,-0.5945844528903893,0.02786778089154494,0.6457106361873544,-0.17768622453500474,-0.19710622928204613,-0.06522573042860572,0.12030871430140139,0.5816267000901233,-0.08168036391877861,-0.6296751997600785,0.775945854754793,-0.6502972185928849,-0.14459874531076075,-0.16538231325916838,0.03900112905407031,0.6037840536835027,-0.11149880377305774,-0.1708592172179815,-0.7806679758580303,-0.06429406927426472,0.004770895191700733,0.7979933312609316,-0.7586191554550153,0.15709360538448064,-0.5805201974890012,0.5999627255328417,-0.644783400443501,0.15329716210322678,0.06090112351446179,0.8304581120497285,-0.7886441213840002,-0.6341983234000373,0.06903359746024697,0.8202127750576658,0.7578575160321657,0.0427469677524709,0.5181126428067374,0.8077422144527008,-0.11540414646758669,-0.06677438343284763,-0.5933114124717445,0.556889423695582,-0.10145661556496877,-0.022061363713138087,-0.20111415392924503,-0.16192473792621825,0.6189174150199755,-0.662168581400577,-0.6213948084985736,-0.16438238204508177,-0.04432734080319364,-0.007607282879154904,0.7726435551960777,0.037847599518337265,0.12749186977066077,-0.1845772788382407,0.7587767918986803,0.590857966790476,0.7996828864216957,-0.7996152181046019,0.7728202962602885,-0.7636627831249887,-0.7941396862383726,-0.7836781269506994,0.10852974341835747,-0.6366443956946518,-0.5594181718225283,-0.18818122181737187,0.8076991405688941,0.6418871507341111,-0.605237008156216,-0.1192205506748429,0.09541269845704013,0.7634640853729884,0.16558616969965828,0.6291792866407924,-0.632984283306421,0.6226496154172103,0.17405243205113322,0.06981270797120405,-0.12715929481467564,-0.09738633703063754,0.8316293825114817,0.5598249803776145,-0.78566092338454,-0.7386318139104907,0.7800888026066365,-0.026714865281140088,-0.7911625406817853,0.022586880944017368,0.6002090532958946,-0.646581077369988,0.07550357937869888,-0.7104047765396069,-0.08167006542504147,0.12347925714333569,-0.5752907130046931,0.05039778536984509,-0.6271920616669014,-0.1316236875899272,0.03962877372466068,-0.05871817996283555,0.8494074985506166,0.6256330973391915,0.1524670052857879,0.7936998227655534,0.03793241912260555,-0.5638275356698434,-0.5500420558000911,0.8255422553160905,0.0016620278668202002,-0.636780485645022,-0.7568704887000991,0.05447250713087949,0.7984369298596609,0.7450029186627941,-0.597849777312471,0.5837200488316489,-0.0253102691208793,-0.06981889203351725,-0.1933727974815868,-0.03996250067052546,0.5513680489476477,-0.7714067373150919,0.5726929190906109,-0.774983904474889,0.7400597124788113,-0.16063691650617234,-0.7765784734378585,-0.59567137479477,-0.16218581459554562,0.23366048895186256,0.7659909723246374,0.04606798029598672,0.5688644101939491,0.17280241120736003,-0.024116936531339377,-0.5409476533476144,-0.8025286377855587,0.2133493788895274,-0.5878750134089775,-0.07139310951317925,-0.5677041698799933,0.6055290281614858,0.8434726569307543,0.7808601926140727,-0.11696781801469383,0.6555509459636285,-0.7329601861807178,-0.5715243680940136,0.629856826394593,-0.19243930166597717,0.8077462851011049,-0.1639319014104861,0.6253492687301456,0.8106274578955454,-0.04718093821534375,0.5652784807977248,-0.13738096786499748,0.048345695568701476,-0.13964392703734324,0.06984159894616387,-0.5778225115338099,0.5992662131721955,0.06596906710765713,-0.7791048811198712,0.18112667078538364,0.07788036003841968,-0.5247789600368518,0.820548900752369,0.5585052739473734,0.0410482978379419,0.14890341672799381,-0.7844861121833069,0.06389293069575389,-0.5799381872310807,0.7682243700047912,0.7709651596840753,0.7717356221488834,-0.13707232022772195,-0.8323282154144646,-0.5428797144732378,-0.5847888932854546,0.6152833480045131,-0.03652840886112007,0.0842186526917096,-0.0714059652739628,-0.0636941070043494,-0.7936206169645245,-0.09329387000063039,-0.11653322404721538,0.18380575502771646,0.6006422754656395,-0.8021669367381042,0.16200893797532304,-0.7573140267328958,-0.17413859415053784,-0.5570814189467338,-0.8384224236358943,0.6576593784022259,0.07762560926126523,-0.5569295814981821,-0.19139646098473576,0.178592641309862,0.05605184378158111,0.06452564893785931,0.08826179845320446,0.7686164439956102,0.05706324471854418,0.14276597583569553,0.7542186544156276,-0.5871179818086132,-0.5604385467013263,-0.05700082931649642,-0.04395743752415779,-0.036708072063131314,-0.6078701190852831,0.633043583431236,-0.10519747638563963,-0.7478699366426861,0.7866826097830274,-0.09535591841783264,-0.6425225232963153,-0.09843385051211254,-0.0794228415743844,0.5568779769399087,0.8390698129334098,0.8240117564360954,0.6180147248905439,-0.5574420686438196,0.14315611528338734,0.18937900340314784,0.11776425113078882,0.06140023101844883,-0.1537895436083115,-0.020870622427799333,-0.5622944622080116,-0.6274044826853088,-0.01625340281652826,0.008096930228254093,0.033577418185986294,0.601169724623148,-0.8195629839095341,0.10291917816526377,-0.5853966874885321,0.5905093945692879,-0.8018225753652463,0.5568319584852489,-0.7691691547486129,-0.6172035795406884,0.7486043044582021,-0.7592298792736072,-0.039653182847797466,-0.1642508531469197,-0.10214233115007432,0.17116722041139934,-0.6136859827340312,0.7514714954258382,0.20035210895535988,-0.743914953294292,0.0745326772167254,-0.06131975673929168,0.18360736232883637,-0.1681679368066709,-0.17857075509146747,-0.5386646971334654,-0.12509434726950053,0.7602029796490404,-0.03643313083472115,-0.5928637465391531,-0.5634955962233603,0.5432677108840935,-0.12617285143919854,0.07927979926350945,-0.020005417567291857,0.012163958336344335,0.10763710128608206,0.12778371832332525,0.8178422551410376,-0.7495147823581778,0.8257928916002782,-0.04429290696914831,0.13792759357160364,-0.11652726144337136,-0.10161115640248719,0.1504777761981687,-0.1324817398578119,0.6003692198401848,-0.5762941060325348,-0.6413798632248514,-0.08477862322317523,-0.20469725880551434,0.8101515518871325,0.7722879877871451,0.1625330299041028,-0.7547750020119198,0.1770452252018219,0.10151543391327021,0.1300737695477118,-0.18677063744311959,0.1765430738860631,0.03156857764814028,-0.537795086824421,-0.7691821993297366,-0.08129577536123703,0.0272774866673789,0.8260664681098487,0.7598395018506933,-0.7613356270450672,-0.14220457158825003,0.08377450544991026,0.03373648132261036,0.13414439848265497,0.6097595386757849,0.7978618841539045,0.7896228259365008,0.6220922807055308,0.5939335450075441,-0.7950150969847462,-0.0752814926453701,0.10169379258360021,-0.735617012088881,0.5533762158426433,0.17867999356838118,0.7663116956698712,-0.8033146182567098,-0.7754281254274713,0.6397989630954074,0.7680934291155394,0.6228981417846685,0.7321499632796318,-0.5721228656216337,0.12946472350473107,0.1748553450069611,0.8091645189690173,-0.7333103008316746,0.6274682876714847,-0.8005067375148838,-0.16214979105313698,-0.7651892345679664,-0.06379026466596688,-0.8025713008589235,0.7788780024188143,0.16116484578300125,0.17110048573139544,-0.8231026167345276,-0.5585521414318123,0.5894394380143284,-0.018753581790163027,0.12475091455805898,-0.76197806772166,-0.6998171050763532,-0.05835738889244621,0.03780514524607279,0.624649485420508,0.7762821708310709,0.8171050488342412,0.5995291700922591,0.1382221562669903,-0.798194515933322,-0.041585388843166336,-0.19744669526039801,-0.15168554123348948,-0.2236248708490449,-0.07670923097099717,-0.8069897032010183,0.1845273607765617,-0.17678664947655282,0.7660540514892454,0.13627492990328013,-0.5354437153025664,-0.03752359506158011,-0.02886931431966382,-0.5708214715210633,0.7902888389523001,0.800596271093616,-0.5619046425196963,0.027407256538794795,-0.5533956352457468,-0.7464350341188825,0.014158989211843895,-0.1647910753745456,-0.15947320032405315,0.7581168446723986,0.7478447386113294,-0.6121713231705389,-0.5682303240107589,0.10238629937712646,-0.1676478288110337,-0.7996952796069104,-0.558973546145455,0.7897445068232442,0.7930757643912819,0.13123753696276189,-0.5703440936657767,0.5797135955924481,0.8249732615568682,0.16842011229932127,0.08645516325462387,0.5839599694691225,-0.08476648065288002,-0.017139610508835536,0.8125307490101251,0.057460729794289477,0.01109632825152717,0.19282034769300024,0.025048238777726543,-0.12248337189380402,-0.8341057974127747,-0.6194101638816486,0.04081154012153392,0.13128040298354526,-0.8228559470713078,0.6086163331404462,-0.5724463769240357,-0.5442038109184774,0.6296890032596679,-0.15554014330166324,-0.0007538733161319329,0.5574585739029905,0.11375637800248765,-0.14508538796323708,-0.5709565954114812,-0.5530424780660345,-0.8321116821827639,0.11567635592164043,0.018252855412510163,-0.49170065248003264,0.0773417905272131,-0.021668655811348893,-0.10222765273977501,0.6362459878094825,0.11711275874617222,-0.612731416556548,-0.13624720498457255,0.6159827076112279,0.1303654067473731,0.6302482518343768,-0.03267391693836618,0.034303373340359135,-0.8189986831719378,-0.014379925144172571,-0.08366790951690331,-0.12290854442238143,-0.007834574994716625,0.12326901735790648,0.041897911810574735,0.1382872207774582,0.7347513495749234,-0.025268081380005965,-0.7610368820220984,-0.6165884116252252,-0.04894884509000517,-0.781934687048476,0.049577862567410695,-0.5921190158430317,-0.5710728149188146,-0.15199882080368116,-0.14995430684643468,-0.779452532582585,0.19321527087221807,0.0373051218102817,-0.8048043093829157,0.5775745957747395,0.5372828485094686,-0.7830644122933051,-0.5711716284863072,-0.6306522615472467,0.6301569282555198,0.016996111596647843,-0.10695037615241919,0.7535725988569346,0.09043012590450353,0.08116148006832481,0.18256562968403073,-0.7613786372184922,-0.0642476035233221,0.08811904446290333,-0.15342196510777178,0.6133701285046927,-0.15457304667792157,0.13585390800757888,-0.05546601223747651,0.6019745259888253,-0.7600099210452952,-0.6040161111467366,-0.5907679445658373,-0.5678288220310665,-0.5820943600859646,-0.038850672767835805,0.1472760480387901,-0.7467756829441266,0.07869974726276908,-0.6228549351054972,-0.1753243640643777,-0.7451291662910391,0.054213738823146604,0.14033824138352807,-0.0906750123107529,0.6235154682962765,0.7860346707511617,0.08305640716201647,0.1797445995490741,0.1070997894835298,-0.6053936443435111,-0.7367126167124206,0.6076561859057648,-0.11813404263023508,0.5897136552598238,0.08534849322955926,0.02813270110978311,-0.5280419284900675,0.20169568332603277,-0.16782196019342221,-0.1974241290828268,0.5745096483685721,0.768863293895066,0.08919354576307913,0.6021122541201166,-0.06500281225780799,0.11245466220240939,-0.7939482218654352,-0.12220605649327415,0.5436140009807098,0.8376670409024738,0.7481027012943534,-0.12956671717777996,0.008983926734839763,0.1432811624872989,0.5264957460414579,0.8529593150839045,0.5768350632788403,-0.0576334770691727,0.6220428816056487,-0.8474353389792337,0.5562874602558143,-0.09730370423667564,-0.5562890533824764,-0.5873951680829188,-0.5892344492818915,0.1491368335739946,0.779086175556643,-0.1746483286048796,-0.1485860051513514,0.8062619084771242,0.06333961935108431,0.140894476934796,-0.5796840955106056,0.1801906825402381,-0.16691929919533266,-0.05436680084795118,-0.12227526035525892,-0.5752722136367499,-0.817814115823973,0.8292514605941284,-0.13596240234193135,0.031643598107728016,0.6314104298607942,-0.1472330622323424,-0.0526345805963954,-0.15062008702026516,0.8023144582762974,0.05493496046532677,0.587545866805841,-0.5294775568699317,-0.03831876670625857,0.11076937472976131,0.6211517848748171,-0.7662228960175653,-0.13446515839640194,0.17369982805551049,0.1802626723552706,-0.8291675121854399,0.8490592045729909,0.20424036853955552,0.6234689578411768,0.7966078089893402,-0.8057619591012877,0.015601879272227266,-0.5990473264885424,-0.11006351175021552,0.80797888398962,0.10871044558624537,-0.8101366354469708,0.06306164480392787,0.014183671481488488,-0.06932178674756424,0.8006491600918455,-0.773388232913889,-0.6252306357782743,-0.005319421032674735,-0.06410621892808203,0.5584793623410014,0.09858503657022233,-0.8016592946283416,0.7717036595973087,0.10818468169872626,0.007873244584378712,0.02493336210372205,-0.5796136789028608,0.12345197506798795,0.6093626418222328,-0.029708376094798778,-0.06974837694821762,0.7739806591613397,-0.7692092748110189,-0.11956190970543164,-0.03516322283834765,-0.1639000855194463,0.1403204202914872,-0.02879200164684253,0.5467279742495119,0.7685296632401691,0.6033816542871215,0.5704378337173965,0.039784603648924645,0.7594711870309798,-0.613977452173773,-0.81197390652533,0.5675222090571496,0.045672228057782656,0.5698268841049041,-0.11483406847152591,0.1721646234936366,0.8524292214180361,0.106826729724617,-0.8503278099611427,0.7746857911226185,0.5749786250937932,0.176004358070738,0.5533952240612494,-0.1771446598986741,-0.18422580712417658,0.15543352184032896,0.7855843148269088,-0.005615182134939374,0.04842283873820347,-0.10348916023420351,-0.11817179386494675,0.5930839009509692,0.819621196756788,-0.5746584222711373,0.6120750955995055,-0.590092857324856,-0.7625657217745381,-0.1218132306289852,0.7364572623367449,0.562123877645635,0.14253054075938004,-0.6047327354257273,0.8140511889907669,-0.10702729818464893,-0.5581413941780605,-0.5446150737476796,-0.06422508214346143,0.16569440992947265,0.08180406340572353,-0.1403104519088722,-0.16635713943506372,0.7783486096091455,-0.6289993957550931,-0.13804693096887471,0.12792952108764183,-0.0010786017692991613,-0.10082417423456079,-0.8067332448898221,0.5727599338784306,0.7794989620416752,0.1513020593343535,0.5620169765100489,-0.7758243924967865,-0.18126018348211176,-0.5581557921712423,-0.19129085473504187,0.17886297447691774,-0.589535834142699,-0.024072477880594367,0.5832217857035309,0.010995257364410899,-0.15392222704969882,0.049236257684975755,0.740426457986947,-0.00564947026572643,0.6093135580934896,0.6572833386692788,-0.09515035308700094,-0.5885827926850459,0.19815981022314258,0.13860091158185397,0.7777668217717024,-0.2175537195426738,-0.7376696106901313,-0.7709447228601352,0.7648738825525124,0.5824698469006484,-0.6061302139174891,0.1873319460195549,0.0010238874255248634,0.7878074193989311,-0.06707853058720564,-0.11199026225509225,-0.0991790481152668,0.786618511615879,0.06461479214298153,0.6092260159516684,-0.7651146400730873,-0.07139111510685152,-0.7543449420867643,0.13982697522697352,-0.1606448223523956,-0.07335331410816757,-0.583650220875016,-0.6135741073229825,0.09840711238978536,0.8011087521922384,-0.14167249294088793,0.8166472855417685,-0.8343377575294381,-0.11557062367058239,-0.12396560545220114,0.7456352124878286,-0.7996938364363418,0.7965281008386065,-0.5828114891215171,-0.7390942551418517,0.1253527730896708,0.08811454774886357,0.6377628027154445,0.6139595102472758,0.7929914384298865,-0.16863852989483172,0.06233112008636354,0.77982564568432,0.21262994173265418,-0.8260745337318985,-0.031636871198978615,0.20625877946271756,0.018766203213355464,0.7649958235184527,0.7933775069197936,-0.6182664224503884,0.5847289124360727,-0.09428540093198307,0.6246142965593323,0.17829587940365244,-0.6302296614353855,-0.023117043681463393,0.7652655674387118,0.6189709063055704,-0.11237551523890157,-0.5802383813700901,-0.20017744871796203,0.016078745923914232,-0.7827106301671343,-0.19079651581391024,0.013045771702501966,0.5660973203426019,-0.16636333967602393,0.5509387843341519,-0.11528032459129096,-0.5334081920642018,0.6603907449291027,0.14082727610414505,0.06899148406998709,-0.06762351066590329,-0.7845311749187956,0.15083647795115027,-0.7872098160561913,-0.5945327837117009,-0.12001162999549718,0.05228696385141252,0.7465855938464512,0.013601211247470144,-0.17099586740744263,0.08981450581379555,0.5830051979248644,-0.5775105901110769,0.5318963135824342,0.8309893552953974,0.0190806316515486,-0.14832508271950096,0.12480153963476392,0.17772310956823936,-0.6195189406651664,0.7496952894978516,-0.788233540925614,-0.1153688196870585,0.8015630986386321,-0.015611834928236704,-0.0683469035966073,0.14921824701113093,-0.034794467050811906,-0.8251381600634795,-0.0494588633773685,0.019164647769622685,0.7446283173892929,-0.8233136089110737,0.6422248666764355,-0.1431334277539205,0.07340029447016022,-0.802647264175946,-0.10647352068411525,-0.031037327664458478,-0.13075111987788168,0.05426542035607316,-0.019576094244974515,0.029939084503337418,0.08805742043341679,-0.054424015807487965,-0.2068872803864511,-0.17002576511181586,0.7663296924092666,-0.7720930487846489,-0.7353880020454264,-0.07204529653497692,0.5763748312638279,-0.05984515301933755,0.8036643660261217,-0.7747263120415544,0.8411805564739022,-0.6784302314878238,0.019245066348683375,0.1874614917171678,-0.7987488888059568,0.12160606940590911,-0.13541934196015706,0.7201305270543745,-0.8059794909000004,0.16720270494077394,-0.7159618971320784,-0.7276895080304133,0.10571830746992279,0.2232956287245606,0.8219512532553812,0.0945134618951078,0.016740204407374826,0.06541745092147444,-0.6166749223809128,0.1289224055076186,0.7217617357664711,0.07381320770629744,-0.7610211775061917,-0.7421543062625249,-0.018478987299273313,-0.053002791857305775,-0.09067023305327909,-0.04560012987757785,-0.11267299247381057,0.6385026888811213,0.6198226340918713,0.08056818950470174,-0.10197023144231614,0.6308537225471874,0.06268420967217736,0.6146299701848138,-0.08154310981796489,0.7736930709370657,-0.032804513618137646,0.03504176034717959,-0.18943331252919482,0.04607699820927237,0.7599564012150807,0.8131812983447936,0.19052205707203082,-0.7618887719598445,0.5566346575306638,0.09465348943860374,0.1178992065175534,-0.8127639145157974,-0.5653282633624392,-0.5874014071945496,0.800772914398904,-0.027758115301191846,0.019501832434891016,0.8035070235017306,0.04669763699983699,0.7529401779962246,0.8332977481093701,-0.7916210268710097,0.7909180079375566,0.5620105108692965,-0.1723175923550611,-0.1556793246867295,-0.7330123332212294,0.8310071023276299,0.6100844425664722,0.7943778136107237,0.14054584612483834,-0.6172745258936152,-0.18425257053375776,0.7545842506689227,0.052178760867916944,-0.10246842541486849,-0.09998603715444641,-0.7620275586878227,-0.14851048159855007,0.13406764637764762,0.7576532884334971,0.06474280735106984,-0.04443813409067519,-0.7570077983570291,-0.09877857702616184,0.10759985110513312,-0.0893606829150004,0.18890926442905864,0.8371052320533839,0.14705836800535327,0.19588178545851279,0.6331446894705447,0.17687253485695933,-0.12803715179674366,0.7691701886382102,0.21249701122020478,0.07389998670139865,0.04931007967017314,0.01741195396882791,-0.12292638378487085,-0.5591424395299252,-0.5277999015707112,0.6119629012101059,0.16819719100151714,-0.7646160789916322,0.6441863896985894,0.05676127595546278,0.09221810660068022,0.593274231162045,0.6317570813940929,-0.7709836903307623,0.5781529600966017,-0.02633192028406502,-0.033832909344843204,-0.06520050629477708,-0.7256758629836401,0.16592220641214311,-0.6080528736447551,0.5978973590491675,0.015242346751762295,0.16170194866840173,0.7711294109616263,0.7969472618845883,-0.5312450618550054,0.16924393795785544,-0.7549456487300055,-0.8284725816506677,-0.7411455803468805,0.8106211577598981,-0.14945853443200433,0.7852758542170556,0.6140019852434115,-0.5496535310383422,-0.6348419247480893,0.041078228485483405,-0.5710964978293975,-0.8094284022863981,-0.7370938044545788,-0.6166921145805772,0.034514748909182505,-0.6236617227235396,0.7566510725525152,0.8368356157489918,-0.18272151729649452,0.5776022709988086,-0.7623118030098811,-0.7915635809645821,-0.05341763645080174,-0.8141479904965429,0.8261337806089403,0.12232349826859425,-0.6565578657787978,-0.7473627099275825,-0.07079890509183397,-0.7866202929579098,-0.6058304559239681,-0.7273839512369559,0.8066349745594256,-0.13665410408572967,-0.15098229383735087,0.17960398860081173,0.8150747340207924,0.05886144258982934,0.8367785331854648,0.18752139543935997,-0.7925437684385952,0.5599919516986588,0.034111848244875724,-0.17211395276520364,-0.7701626416973041,-0.08432669897401718,0.005872092938927199,-0.17745406760829788,-0.10486612007732762,-0.7354346575080293,-0.003055546761642297,0.08237874294223571,-0.6274849525343567,0.7779132099828528,-0.014236665734506545,0.5741325241482558,-0.11161166197062054,0.7402826866454875,0.7748246361761784,-0.12609369413839924,0.01715029639029323,-0.5969605063807213,0.17226854363292368,-0.8235484891222001,0.49849355446141197,-0.002509377437315678,0.09610336948591205,0.1921292572536698,-0.1686983736599878,-0.6357698822265017,-0.8009893881245482,-0.5888587575911206,-0.1424243755349972,-0.15153394399396683,-0.806628048650919,-0.5745862804298081,0.760480492983843,-0.8485879134997015,0.1330609210980363,0.7693371869823834,0.5957231472429784,0.10826260672359472,0.5828889059459719,0.1273570518534039,0.18362859988221525,-0.6242236117010974,-0.22190654317133773,-0.528973837709392,-0.5971626334538522,-0.09657329295903452,0.12134210906631047,0.09392765859112069,-0.783803297134409,-0.11744628234052516,-0.5929808104370302,0.7854147059105269,0.5207841275851502,0.8143046668072544,-0.8089704922190295,-0.1822773579494181,0.5735204233581426,0.026068621025462552,0.008714221720959984,-0.7965940660575174,0.6296863691284181,-0.07528143435077464,0.8111328440790797,-0.8307348538735626,0.13823665375154898,0.774218859537742,0.8316597929482533,0.8112144299609656,0.016849487157944328,-0.14717374966590824,-0.06854377772792178,-0.0009545660317039977,-0.11752910388139422,-0.8150433841302908,0.15814319438632257,0.7731432776833455,0.0895135155299611,0.8182570618603879,-0.14133799055538382,-0.8015495234275317,-0.09581874162376947,-0.5660141946588281,0.5964246861574827,0.025480342408347182,-0.5323334510261647,-0.5711378907487755,-0.5825402073184496,0.09573873482860458,-0.5131778185558937,-0.805787726890762,0.12253446787450419,0.15900273467502812,0.5981088520766804,-0.5814938425015055,0.7760725257828469,-0.8239113435584886,0.15438929218331468,0.8212037959151224,-0.5165189664451726,0.1254702710724936,-0.5371874438082468,0.5779328750086212,-0.7728601087099758,0.03450308247730582,0.02203384539161611,0.10736060448961064,-0.12743264397827916,0.8561752390375884,0.5265808062902914,0.6322694007858826,-0.5743641482305796,-0.5536257854552239,0.05353942785276357,0.6452363238764562,0.04545228485431886,-0.08171934990031181,0.8145735044751317,0.546180333828825,-0.8286454440764075,0.5914961395893105,0.026587566731880737,-0.047040272163900276,-0.20174990372820203,0.6217731135182316,-0.7963756287961447,-0.15533867241283297,-0.8120721125193863,0.5389788936549675,-0.6166793676622594,-0.19760741766695644,0.8224915988634537,0.6210137309084249,0.8150246867145465,0.6169161538878859,0.777350610577633,0.11349095498507518,0.03242819909279251,0.5835563693361561,-0.07788507628398696,0.13953382504667272,-0.6301454233135819,-0.808056448960043,-0.7521132356290016,-0.6259541150001156,-0.06701223281117419,0.5540402853430462,0.6484042191777228,0.13118658729204385,0.06763835009841726,0.572968623707416,0.05016664617456182,-0.10344896984429565,0.6366419328263071,0.5927462524824009,0.23223918095304527,0.8472157064912702,-0.16003255632195373,-0.7852106049791346,-0.6273595456227913,-0.06571092682247992,0.033291576025666174,-0.6348811972434756,-0.07807165547676842,-0.6496433299661167,-0.805892347420713,-0.050288976903074975,-0.6335939594332304,-0.02375642243412966,-0.1065173456287966,0.5562675731897003,-0.16730387101149097,-0.6384044137925806,0.18151509765815388,0.12215760916108187,0.1268113976371123,0.8394488659824473,0.8112580032649092,-0.7949318957468543,0.8020950962069003,-0.04198318129249829,0.8076653169950337,-0.6278764963396393,-0.7556176221673588,-0.024369562302647287,0.04832280656268286,-0.21561832822046714,0.8449605062307902,-0.09672912137614768,-0.8136790152943593,0.11081753974843742,0.6247951981445176,-0.15277067246077247,-0.08531385641973985,0.5964271767933175,0.6295526013781392,-0.0672654977142891,0.02475636837821144,0.6523674646874149,0.08510722871947697,-0.6370458824026842,0.059083675368440856,-0.5879963539418183,-0.6082771608301323,0.04069550327603465,-0.13539567884335876,-0.5699521884537756,0.055019155989811296,0.21980030245754878,0.11663704247055881,0.8601248811142872,-0.8091259396958581,-0.7616647874765832,-0.7691659697687366,-0.16464529404421763,-0.7821517420871309,0.04983446905355032,0.8077616705730365,0.06898376325595693,-0.1425785998611076,0.6326436070648557,-0.6290046875975813,0.004343749097510804,0.03955723775404899,0.600160727667608,-0.8114657831336741,-0.8520891006395042,-0.5684125913566443,-0.634176996725315,-0.5937765748188745,0.064377123520458,0.6037687454120607,-0.19078975522342692,0.8185701115523663,0.814342922472805,-0.5957419752137786,0.06797815575562206,-0.07825744855927974,0.02547222121834647,0.19862705065368333,-0.590104903268905,-0.7943920463543253,0.5609498728563795,-0.07360396107253683,-0.057328950919913815,-0.1056135904712467,-0.7271967441186297,-0.7295981557167267,0.020493410454578403,0.019113206623796748,0.741215826957872,-0.11941367641605981,-0.16946123880414946,0.5791032759046829,0.15734142630524992,0.5446117304005884,0.055272546973331615,-0.08865270267773297,0.6409385096380559,-0.7699062793475252,-0.5205289625896427,0.7415048909286648,-0.8002611283602414,-0.16805264796151373,0.003262758328166761,0.14906406519616444,0.8078691408512882,0.1396099018841191,-0.007779499447445882,0.1555494985277999,0.11716999572320387,0.21683397283355133,0.7582446694010547,-0.13693439929483364,-0.07905240379274127,-0.20926404109890342,0.5820281863544053,0.757037917855689,0.6006050514837602,-0.10771622425239452,-0.08241969277753215,-0.11952976161303604,0.09441872566606989,0.17585061307726454,-0.609666911772071,-0.8213979904457501,0.5958303139949708,0.7303521409375263,-0.7369985354830932,0.1887900480323175,-0.7537047792737758,0.11538165227436291,0.7995834720821762,-0.17499348498742437,0.12977189572318787,-0.1252689413838208,0.08490681207509612,0.1091764787954655,-0.015078482495086741,0.04868640014957689,-0.5568202765797343,-0.1502732593277177,0.5568913923295771,0.8530684637390473,0.1433471589705081,-0.816344894908487,0.8221989079549527,0.7656861843561646,0.1405003969967921,-0.09004802343542993,0.6473381775602873,0.11118042834861025,0.5941193574088484,0.08941766266439416,-0.14749979695803936,0.15974371030034412,0.17877870737976975,-0.11223727083899708,0.14495062287694183,0.8057933026900184,-0.8194946948797348,-0.8435783788342237,-0.11173986387782375,0.753952904844903,-0.06956845693129717,-0.5665805322160314,-0.09758152763972042,0.8019898270752347,-0.012854745544345294,-0.15166009881197579,0.8065065553112086,0.1708456275789477,0.1073555703307602,-0.857152096621112,0.8569602270486888,0.7636025021522596,0.5443476200525259,0.03600255034421202,-0.014759375152618425,-0.013898533048986913,0.07408534485412498,0.20748352377257265,-0.5788661416507527,-0.763699568346263,0.16348350045956575,-0.5987883117939138,-0.5948466903578402,-0.8105753491668097,-0.8420326345442207,0.7804683717596785,0.1880998645391299,0.5706538032548647,0.7761466554118821,-0.5925183403626499,-0.1259334936056892,-0.576129705618604,-0.7697427894078173,0.6341495316538496,-0.6198976628930399,-0.11604024729406978,-0.6287736513515773,0.051238158154412385,-0.11477067570851364,-0.0626806375354246,-0.830619523320603,0.8495254509539559,-0.1199103705011259,0.05289392030281342,0.8042680936567076,0.5445349568869705,-0.8207081939544278,0.09453292563563839,-0.16362266240613835,-0.05815014305204972,0.5982218577371754,-0.7210025097449192,-0.796050220226887,0.7553978221576289,0.8019938679005278,0.6019480620193227,0.5680396376929729,-0.14299899594153342,-0.06343517855533096,-0.5134344523237551,-0.8123759376462758,-0.03692355022333557,-0.7626728720511389,0.14898029292338816,-0.5716017100128448,0.12948254000503723,0.5989958626519539,0.8331754601649295,0.203442638723374,-0.5510209533456936,0.0164765361284249,0.033358308354635755,0.5859020230163804,0.017669431582095663,-0.590586003753078,0.7736870458226309,0.8289608406981397,-0.18162036342368315,-0.6030945059410805,0.17970198175547417,-0.1117058973838106,-0.5236083291140218,-0.03094976726878882,0.0062493797192203614,-0.11274906275402352,0.8632127601906388,-0.8199666522123075,0.1559920874935404,-0.13769707574238146,0.5654934169173643,0.5663010560006303,0.01599809983170361,0.5948912213550187,-0.6466463263281663,0.020205544983871136,0.5625417525148921,0.8113226818525348,0.7867025259876665,-0.05294875731434472,0.8187570484606215,-0.5593247299141371,0.7295585119406856,-0.14946186929383498,-0.6453616311979127,-0.5809384407529913,-0.12570034916908351,0.6091627118615932,0.8340435225242769,0.034598292243041666,0.06568996288127507,-0.059846742428061726,-0.7610355130535726,-0.7365164459249716,0.7516826920375983,-0.7720531919000054,-0.5498733610825436,-0.5495460968391037,0.79158730713859,0.21546720883560458,0.6239901443494758,-0.17753291776099148,0.8550173020175315,0.6490332079534011,0.5671035593496996,0.11826889166547702,-0.1694801778841335,-0.6450058837185985,0.16163331618462834,0.597662286008635,-0.07606666212744037,-0.556154142976589,0.14089673113249354,-0.17042006853326724,-0.5900937078569365,0.017239305687940822,0.7805051299538024,-0.13280095843774883,-0.1607609663758846,-0.5720253383874889,-0.17942792270962502,0.7676432147391359,0.0557091647388635,0.8060937115054291,0.5784544385351956,0.03740539627920263,0.7593461061344878,-0.6068279546247919,-0.04559892061636417,0.819617102540372,0.6270184353443847,-0.20533590347352126,-0.7496635105280246,0.10389910898922657,0.6360837510547914,-0.8187252927735004,0.5939236774570719,0.7806716466048274,0.5702306499134872,0.01742178788781819,0.8265220780092233,0.7960770716313376,-0.6137725404225486,0.12812714938383057,0.021939069569597076,0.17347567961700577,0.5120314564255761,0.07599189315678626,-0.5845835272449549,0.09067413037466678,0.13206750804423922,-0.7513915355645572,-0.759668805352283,-0.16347445559561483,-0.05285605488011699,-0.6259170257612054,-0.5984915039846355,0.10817487176585254,-0.6086433581069477,0.5377242464122516,0.6033088305117711,0.10354666844504362,0.08862888483949673,-0.8166137906795721,-0.16546522409161796,-0.7353350088131252,-0.025439151921462882,-0.7625067507204158,0.6016706138485074,-0.6065872887451648,-0.8100119360896576,-0.6129321562622695,0.8604077371217775,0.8452504549233446,-0.8120638886246753,-0.1821434423330381,-0.03896430208412294,-0.8176453936180947,0.7911673011329782,-0.05394302076381352,0.5723722982401263,-0.8325832360745048,0.754820817265688,-0.06303197724082622,-0.16278291213149268,0.6177911352851282,-0.8030807145018333,0.1912930663024988,-0.10316970811500865,0.5584598029583676,-0.793612297672333,-0.5649515697847619,-0.795184895164135,-0.7823440352797367,-0.03332272968426574,-0.1626114107731094,-0.07325433298406558,-0.7924184729175485,0.6392222500722425,-0.09466536851842335,-0.10581348606105441,-0.8273710819168341,-0.8090381328185081,0.5843947287350031,0.7892708665630663,0.010379061132076012,-0.14049521620643893,0.5740516851103972,-0.848243385740941,0.005213755795852767,0.2055458220056476,0.12537663653199982,-0.7982956106783096,-0.7590559195063665,0.08551388933791819,-0.0800623334736947,-0.7798243996879027,0.09337870631471382,0.22209792814615764,-0.016294942743218892,0.6042635613179027,0.033760058868465094,0.1267604119341545,-0.006835587153767719,-0.627417208454101,0.7798849376140196,0.06995295945683803,0.5812319136655721,-0.5637767242347593,-0.7599421018443442,-0.8001605296525333,0.7726776380239493,0.21347843498200744,-0.05927324083056337,-0.12655294953263324,-0.604399887872169,-0.775854063036702,-0.7488385044192382,0.7595278555524171,-0.16491296974028244,0.8207811110925024,0.07933068100448835,-0.14723660805860897,-0.16339486298174685,-0.8336080560151987,0.025390040434951473,-0.06803819094437256,-0.5200117436879744,0.1158530156582091,-0.15770494654142062,0.7772008757740325,0.5980593282104931,-0.04606610473215804,-0.5475345194314362,-0.02525238671681028,-0.8112922834390404,-0.07188650959710186,0.5645606791229999,0.7890956073175969,0.10725452109980733,-0.6123432198246264,-0.5831470727287094,-0.05356188992209066,-0.5363412062006621,-0.13319958950107433,-0.6350142480067388,-0.2065376446779417,-0.14724377562289986,-0.08895830538091883,0.7604051045255443,-0.8300044308485647,0.5919046026314622,0.13260684691681726,-0.7743094415728325,-0.11679130960340221,-0.11720549948276475,0.16343906950686662,-0.7711908710676838,0.16260787348967923,-0.6426576413474623,-0.767989496754446,-0.11276110126512516,0.14310725081103917,-0.015563161872218758,-0.07140042652276116,-0.0418900726436862,-0.060639683635203494,-0.5563347956192382,-0.13007074692788212,0.1971633358867737,0.1733166220642741,-0.5416116515489785,0.016222463946018246,-0.8206327281320077,-0.1354935402011772,0.564315719087467,-0.6042826301735894,-0.8084346094944912,-0.05879298849696146,0.07517830539844307,-0.55112121115963,-0.7975701022935207,-0.5813230490536285,0.08295951365702876,-0.8048845720338942,0.5581971320401444,-0.09799487351634417,-0.6357342925915458,-0.7397937766302728,0.6308096662801127,0.10456158419148023,0.6444993501728099,-0.5317787999304862,0.07298088815196835,0.051108686286826785,-0.7689882410970393,0.06857548362095023,0.1777892953789604,-0.11839973235545291,0.8078164964555898,-0.020836937936743277,0.1550493037883051,0.09432493996193939,0.17546438375245996,0.652131380887189,0.5696295379515509,-0.7742290885576361,-0.6399691858196765,-0.6138760886997425,-0.1102443593631589,-0.837874029447062,-0.05281716933903612,0.09158761691338141,0.017607629106395205,0.0888765407309991,0.7583010945699282,-0.5596791032455319,-0.024229128374695205,0.771134704481876,0.14615945527170285,-0.131700538178672,-0.07066326218075968,-0.051292923288418064,-0.15436464580691978,0.5605313191390069,-0.07972194286777612,-0.5911347096920551,0.766384017524578,-0.19583642007433244,-0.5800754328739174,0.7720999766819623,0.07468595849604599,-0.14924351118762244,-0.181645147827047,-0.5707867419091,0.17331333394536763,-0.8210765133708152,-0.15442624879018602,0.8470725663142687,-0.062067353274069856,0.8142762840226844,-0.16577281287427972,-0.10880549277858187,-0.0700069847763277,-0.5258128303650641,0.8109353490750238,-0.7715281952958516,0.6357734584277445,-0.0918942376428633,0.16810058657699625,0.1542594820486715,0.7996597661100221,0.20363913998331143,0.6207620963371858,0.020273507899209543,0.0004848937759564326,-0.7894648690600385,-0.796258014278822,0.006581717113799311,-0.7991281243885848,0.13530230647422198,-0.12548836785335224,0.18082202414341744,0.7761225522645488,-0.10987384998192952,-0.8535939247424211,-0.04665489193100809,0.03432103369649647,0.1779771645761609,-0.6034091891661916,0.7615004062931385,0.5759850374797366,-0.5421385789995666,0.056523382363099534,0.19136062489408237,-0.7526964713521556,-0.13386847714582473,0.10754619725163422,-0.6065603104047916,0.5803669595634738,-0.0928820880608791,0.7670771502383131,0.8255696255789592,-0.027563110096966454,-0.6562124931174423,-0.7794386231312032,-0.7814926311683187,0.8062187246454973,-0.1321252124513317,-0.6360969625998724,0.6543020823847876,-0.06726658455300562,-0.002490176821365786,0.6144489557392265,-0.03018246716602417,0.5527368880288864,-0.015891811998854914,-0.14960771860527164,-0.1721228187624829,0.586150154261698,0.2027162353289011,0.01704713147309089,-0.11122145436832029,0.7733063036423676,0.10158995749815625,0.5605445718465013,0.8056480249055515,-0.054105880617819645,0.0419279893539468,-0.16023651249779838,-0.09584081042736886,-0.6137277925877335,-0.8056974403563438,-0.16126583045433468,-0.6369910141305481,0.12431842445241068,0.1995282577823814,0.7966620989865777,0.10366498176455641,-0.5856235677418654,-0.145375973529583,-0.10145997491596549,-0.1794558119344755,-0.6258818181645388,0.12935716402806868,0.8121134182079768,-0.15214649412214362,0.13731753056186843,-0.02383123896135141,-0.8228270270741141,-0.058443646233245265,0.7893940553968551,0.6070698844060758,-0.05540418118724646,0.6214930014948231,-0.5982122415200676,-0.5868188613437837,-0.589078329078616,0.7934769134004549,0.8026168954819167,-0.5925426818446295,-0.5899741757660079,0.8182361111402954,-0.5586282491259775,-0.6405628968640514,-0.7812660127667461,-0.7885806524281374,-0.5621805689859232,0.807578962887414,-0.7383335300791735,0.08607370487635296,0.5989542664002521,-0.7471771404489438,0.00242027110467607,-0.802893879923976,0.8526924358305267,-0.18924158379006764,-0.13534568941727354,0.10873476419892461,-0.12070108611881299,0.049845784943000744,0.17977587058608477,0.004275815336695996,0.5872540863900206,-0.1629645769714376,-0.5926294746073433,-0.04846114683235178,0.18861997577450718,0.04450044777660159,-0.06691958949911338,0.5755501005489695,-0.5929450123529365,0.617682918797778,0.8377872982446655,0.03718284615823993,-0.13330411614912754,0.15642450039402536,-0.8014946085722798,0.1325932554284795,0.1514814915992832,0.5823397412670304,-0.04015469301263388,0.7848702483550827,-0.5841487768448408,0.1355341295240267,0.7656508777078828,-0.547915985046026,-0.5609889699791831,0.030890016342713194,0.7675020609794526,-0.6543039821173897],\"z\":[-0.00939605972182297,0.8047254849628606,-0.6999119481743992,0.7705949442824367,0.8170669373080572,0.022553817450431935,-0.3976549945576488,-0.7860401394627832,0.8423556170926065,0.4144659131842327,0.5000083185477098,-0.010541841294295926,0.4057892800230015,-0.04560435668395761,-0.4554194962962858,-0.512659081929708,-0.488519705575954,0.04959148031005639,0.4565659965996805,-0.008419542342094528,0.04959148031005639,0.4565659965996805,-0.008419542342094528,0.5444609099963624,0.043970272401941034,-0.3831306598418049,-0.40358669333912467,0.397382418963538,-0.7846458373846837,-0.4891425062729299,-0.41118336312848164,0.010506985983698909,-0.06798667412985228,0.4832193108207197,0.8561441948426041,0.06398285529940417,-0.38700488248833353,0.4530800668448874,-0.7804883010905722,-0.035175951974472285,-0.44910439945437153,0.754903596106358,0.4320948999343118,0.35827822521764563,0.8099912691208853,-0.3985045306542663,0.46857735156030594,-0.33979900976012767,-0.3876394538382253,0.0592131798287831,-0.34612329208209214,0.09650334610296316,0.47711091762183383,-0.8019702739852235,0.5319351317808075,0.08201919452977492,-0.354275589542793,-0.7645023353007204,0.42961738123607385,-0.7596041237382858,0.43202363907645935,-0.0037697693108933268,0.5301051763031033,-0.46651207193465005,0.0767294591804678,0.03265987567953057,0.7312442240066462,0.37649929078506633,-0.8056741855350703,0.09553213402924148,-0.40821244482423685,-0.02216375078117148,0.3470111690274258,-0.4438060602930895,0.5001383140677621,-0.7567880099340922,0.4153909890313586,-0.35115627561882257,-0.42503701838820174,-0.7510522686750334,-0.3778315865971749,0.0402016311506056,-0.35586806234386714,0.38694209238493477,-0.3396947499610957,-0.020361561475658842,-0.3175619669906967,0.4708248827606057,-0.8338592921099307,-0.7929993897865734,0.037285057037857026,0.5097698150231206,-0.7800723718356112,-0.04215814509122818,0.05175480160331012,-0.06446168024967783,0.3933562974912178,0.7492172994921859,0.44385238177868913,0.3609399641855331,0.7847872119467023,-0.01097207869176743,0.37010622315357355,0.547550450488483,-0.7547222767976626,-0.7753386278060127,-0.7477545237879324,0.762784649296601,-0.44527983093273604,-0.12116212551783735,0.06920474087930743,0.8083853931405068,0.03984479196469141,0.49469678246127113,-0.4275368216183131,-0.032911238907971214,0.7795640380049771,0.8376624618502319,0.11326272092005733,0.3697329849927986,0.48690693550667585,0.4086295465921442,0.47787380897892245,-0.4352774919686348,0.42596435106393354,-0.44896545957436357,-0.33232267615929467,-0.45454170140647215,-0.8153116808126084,0.3917703621769523,-0.7650252106045331,-0.7472873933855008,-0.4528914989972157,-0.7774173556723131,0.5204054300573213,-0.035177277247367154,0.48790872640700333,-0.8358868433669099,0.028950222415947184,0.10483254221148734,-0.8388039897461071,0.07522657335900884,-0.06353070070687443,-0.8115056422460494,0.4476994282315714,0.05175291426112744,-0.43188740295260053,0.0518076303358767,-0.4808680835026304,0.3755142017046114,-0.024138401914019034,-0.7821080792053385,0.8271479670445976,0.38908608495046126,-0.7247001902230229,0.04164420774799784,-0.47703371960972624,-0.43775030082726846,0.4074697659278815,0.08043952954871074,-0.36150167985188975,-0.3862985077354598,-0.7829928362778509,-0.533207892349094,-0.7851551843702339,-0.810966309119641,0.794234541295051,-0.03978401118176578,0.35320559755531955,0.0808883925048116,0.5016815906321379,0.4466452678380845,-0.39777766784497776,0.018170404054157478,0.056268312084255485,-0.7693258313278709,-0.4282017377216996,0.06456019610131995,-0.029729485042676095,-0.31651835892130453,0.7805288229006037,0.8073503626424924,-0.4169742017944522,0.4493153208357006,0.8011368585665573,0.5296736357104129,0.36961788881301144,-0.40672714528485626,0.79651624024411,-0.7796789203294738,0.3648137008538135,0.43402310444367287,-0.41862425310527607,-0.04763096413718026,0.36477632768347246,0.3849379528686149,-0.7703551930421991,-0.45565264813482276,-0.5157700031802035,0.053401820386982164,-0.030261052996750814,-0.3450199089909637,-0.4570919560146687,0.06984177186125771,0.7709578347529553,-0.8258246020917833,-0.767381452409236,-0.38557437244338266,-0.44091549293688803,0.4176920049080825,-0.7718052684321901,-0.0604060269634251,0.8566394201118175,0.4110153725024874,0.03695625231665365,-0.0651190617100226,-0.7745235483201321,-0.42337536540361626,-0.47145594869759655,0.33576039830032045,-0.37757548364863974,-0.442101226385435,0.4692639573580735,0.49418766604923475,0.46060571659762034,-0.09449912400664454,-0.3377395175414054,0.5037042675025651,-0.8304556948345106,-0.4412421941935128,0.39588500996910153,-0.3923528629869723,0.07074946212996887,0.08333625959631619,0.38131345920866155,0.7843513461550006,-0.48180106365937514,-0.3610550606698707,-0.44281049706228137,-0.04845316265938647,-0.020011876876968333,0.04635228586165456,0.7711448375761683,-0.4261463577218364,0.4381008754874811,0.49356518145293454,-0.4014643911897475,0.3756357247659184,-0.05646179849699591,0.500574665633598,-0.7482071785500429,0.3500720865354209,-0.2981300595366354,-0.8113126085363616,0.4745157852950344,0.7684109940125856,-0.05466034270387563,-0.42051269075041436,0.03245583116805716,-0.3801614515962082,0.02470833512224943,-0.7813454941059202,0.8122364746646819,0.43176573208517366,-0.45397922018279135,-0.04135267818843186,0.3923938741012737,-0.7939968787202637,0.5228844692152406,0.4568797427806045,0.35718380943631545,-0.8130711005573581,-0.45291542070923974,-0.36804311490047364,-0.8459687106944108,-0.4693621246708136,-0.44109413667574315,0.49437152113469446,-0.4206136074463386,-0.01719489715139312,0.8450896432146373,-0.7438876580608349,-0.024885778043457287,-0.510435396841316,0.4872808156780313,0.39083356115871254,0.4387138576246466,0.39741194298357496,-0.780747346208373,-0.34535024094931727,-0.33171850405949793,-0.7476988726349163,-0.04700480091091732,-0.4715469547713002,0.053715482950704684,0.480027366652692,0.8732730022025006,-0.04517599233941283,0.4791548561863719,-0.340420353467779,0.7780667029673471,-0.3076384419059451,-0.05897370816306648,-0.34848272672146274,0.40271289291171297,-0.5271404752194118,0.46102922903045745,-0.7174087022754723,-0.400677642397105,0.49697258732528987,0.47915131725668214,0.43503294603066306,-0.8408474255976883,0.40783722489783303,-0.7446175635347275,0.39243330509294094,0.3836079932759911,-0.035146617907386137,0.36506380664647986,-0.8238937708222513,0.052212337413615646,0.04203066872158616,0.09446309695269493,0.4933785806668412,-0.38991493272369876,-0.7464831713793323,0.4752465322469627,-0.06442405393793689,-0.775357455643596,0.4479774187269467,-0.47874567767119797,-0.4460659639584518,0.07876902602758258,-0.01007965138899722,-0.3476900063563492,0.04114139612090328,0.44139902395636355,0.353285445389623,0.39565623709692965,-0.4155291951891547,0.03133911397609315,-0.40929261681646606,0.5419238517306955,-0.33210329080102,-0.47834350463232544,0.7608996219631868,-0.05405225455546031,-0.020633868652228528,0.7465747557864717,-0.3654947744813653,-0.05691487658187316,-0.8039466168915709,0.041172828316711235,0.3921560123683648,0.5139728850014971,0.8437756843409755,0.48603631521058366,-0.7943801307032698,0.48423241336607964,0.5010841240806927,0.36216041312679015,0.04869134566774128,-0.4010428047826553,-0.7885674874149973,0.8498802032402505,0.07597674600956346,-0.8522601386082418,0.06645436469504735,-0.4203556559748784,-0.8014683724600637,-0.04323968129887638,-0.4241379151721363,-0.3464329603638484,0.5483030303790983,0.7893903019315022,-0.07405160703280174,-0.07115213376547237,0.4927660517898307,-0.41827430792172315,-0.09956688416318187,-0.3126790652963342,-0.4530154788384488,-0.019310405388599062,-0.36539672872971246,0.7604139274720312,0.8052208696291744,0.3661947898520581,-0.449250713685061,0.4090687880408903,0.41585885639725706,0.532426163914137,0.8268474015298415,0.8144700766081853,-0.043074052170952136,0.07053382943251997,0.06904759767578202,-0.7547118343844769,0.4624400850970819,-0.32537870307499495,-0.7700092150058119,-0.8135054595158396,-0.7515078533694496,-0.5038290042053903,-0.43642668008258084,-0.018044894884915248,0.4623352130490042,0.40146722577503896,0.5056201642703826,-0.4155605632948566,-0.37444635187446657,-0.3841422008161396,-0.4751070561684205,-0.3290886153763505,0.8725348887275275,-0.7763571419799273,-0.014312387688951357,0.8516581009090362,0.46969225864505854,0.3922383551650374,0.7684812528792276,-0.3597316904894019,0.03399843893113224,0.7532339027822782,0.005391206555716846,0.08567428471038767,0.1254777383451062,-0.3552974591118404,-0.036220419569557745,-0.48793845903702066,-0.05590738908242924,0.4639619910384723,-0.26264099130193685,-0.4637476815579524,0.08667671036808468,-0.7519018857786345,0.753376493575561,-0.8254498556843504,0.047182325364527024,0.7784144160179461,0.4499106178040245,0.5465124770030991,-0.44249466204547083,-0.04731892600981977,0.04653310343120923,0.05277437343257417,-0.7829367248274869,0.8410233559885645,0.05752171663623355,0.40943892081062705,-0.2636119802671902,-0.44730597633818564,-0.026437438732303843,-0.8252258200181216,0.43874191732188533,-0.4600674250850043,0.8156450141630371,0.44925498622922433,0.7758297676249751,0.04761703772931407,0.7865289685307342,-0.7369554465168852,-0.029420941521118224,-0.8098220755140226,0.5117716837259103,0.46989258906756953,0.8089338163722013,-0.7918554812972616,-0.4238039819763863,0.44758496524790287,0.4845941891186468,0.11437221615388381,0.0863124092648243,0.08649617226903099,0.842094998918611,-0.43516414862414937,-0.4462564280646362,0.3701553919345502,0.43842627608619417,-0.49203049962459594,-0.4255304420760946,-0.007006570656948236,0.7503748613132213,-0.36761457681292264,-0.5342408165930341,-0.0660007599118232,-0.41381003370114494,-0.3965649676017214,0.5007035702388555,0.4495483023514263,-0.4363234369888354,-0.4148371245209182,-0.41625781354309416,0.46800811362723144,0.15477062030206598,0.7970540599752609,-0.4344441114731807,0.5015634378117653,-0.42679149753699736,0.49489381404002536,0.033456267101610315,-0.30729919611033485,-0.04216272253835005,-0.36003643049141143,-0.45488780721166755,-0.034841419662804664,-0.011468514601259269,-0.38280870270295114,-0.4018227648480265,-0.47167034361966836,-0.008633319460583872,0.7749991063554286,-0.36666386898947745,0.4898195531131763,-0.035255076698038894,-0.7273885474091407,0.4480098914704992,-0.4466686269243921,0.3141154012354064,-0.461633665036016,-0.019755610238839996,-0.4243817893023935,0.8353658811330549,-0.8265817162840273,0.06136087450687029,-0.8646404959299046,-0.0747356662183107,0.45654489557294065,-0.11364439708068741,0.04592304383787948,-0.4875833472250399,0.8413069670561378,0.41123320896106236,0.7963496044626189,-0.042626288102748267,-0.30912525921525635,-0.48138812945762505,-0.4182592242035266,0.4948511903322315,-0.7639831009118871,0.4722644709241372,-0.46178273326362174,-0.8048962450760205,-0.7998216099679498,-0.7580256552628498,-0.5317334579039883,-0.4484225291173631,0.5081780501448965,-0.39801233282075493,-0.023303876199047936,-0.8082193880961271,-0.342344310823948,-0.35029426024453153,0.4043822973000361,0.45427612025689335,-0.0447894093881679,-0.30570684816446597,0.4199346880687475,0.3984769287803755,-0.08797338143095927,-0.7968587896343612,-0.4213981793385145,-0.7880003164937782,0.8161771765289452,-0.4332850198636691,0.08173335821273392,-0.07531854603564052,0.8060855179474196,0.7648625082361848,0.009116991324155183,0.41329979603863853,-0.3600265544284858,0.0707206875174592,0.8142613460744188,-0.37498976679225576,-0.4172356154889756,-0.43017054489947426,0.4455693528392349,-0.4470817578296762,0.07602091752428865,0.7689678461103752,-0.4754607027871713,-0.1278307876992305,0.09476768190049796,0.4746597504896248,0.40608341167293777,-0.39965118293200896,-0.0680771337419164,0.7958979185485159,0.5349710112679246,-0.7501099892963284,0.7635148863956143,-0.00790986449055541,-0.4457190254571842,0.8156383895106545,-0.38000439914377865,-0.7848973091057446,0.34393472852079826,-0.09192607985061335,0.41055196011576184,0.8312379983046947,-0.7793853601977362,-0.41779135209033147,0.8681947193167551,0.11565278145581977,0.0133422609485348,-0.7546954824855444,-0.04139563456730775,-0.7956184052426061,0.886058642994304,-0.476006148525606,-0.027607044872274233,0.4852880746057359,0.4893573076158992,-0.09681142698781468,0.4624648867831495,-0.7758420460547062,-0.3480799737551663,-0.43016586100069115,-0.7916717870480445,-0.8041678697241416,-0.3314939765767461,0.7568142583173268,0.07619165383649566,-0.39679492198782823,-0.4373771423950937,-0.4907597575444345,0.514877411228466,-0.377754088868294,-0.3795618356371108,-0.4591850690085466,0.8462409911119538,-0.09091557508543635,0.4495264080788538,0.0645528045348388,-0.799120663461325,-0.05772947036007314,0.4235140982298397,0.8336435714270896,-0.8122640438852377,0.028059462096687336,0.4116119848482315,-0.8306845602838538,0.8343691535650167,-0.0557435434310847,0.4098878874999311,-0.2806578546228532,0.4592419117654826,-0.3097403167967689,0.4976864909063012,-0.40190313383774356,0.9029631328984459,0.8299869345414643,-0.3692758723336228,0.036037896530203554,-0.40941552851862345,-0.7293784121815333,-0.40682377471592135,0.10414370269887825,0.803520741568764,-0.10984085431735502,0.3448721594216655,-0.4526695217841625,-0.8202862737930554,0.8143202441405718,-0.06035317715997074,-0.3911415295257162,0.48328748363822227,0.3431256690127728,0.06323924537835621,0.34243227196272474,0.033898064330899966,0.061605807680532476,0.5067222129108948,0.8387664261911638,0.06181031740659123,0.00926862064595406,0.32660263459015393,0.4214357775162031,-0.8006053515939575,-0.39782599549650893,0.8110966758360603,0.7983740547768108,0.46606565265414995,-0.7215662053431058,-0.5028985075514876,-0.3963796737309709,-0.4191893199728386,-0.7864746583845243,-0.752499246737429,-0.044913294650466104,-0.4611859957678486,0.41099778213689303,-0.48332822759992444,0.8447115971634521,-0.4346558016158665,-0.3988344744837548,-0.4415128987589412,0.06781422630128965,0.5127849511878885,-0.34812337465738025,0.4334649449492439,0.8301558580723241,0.4137638096968388,-0.021720620357069606,-0.7466364686607622,-0.43502618124145764,0.08304888530872964,0.7946484198801277,-0.40199914550517646,0.8083357929232717,-0.833516156015869,0.8434204727153475,0.024080330867807892,0.45897581086882755,-0.4040574103828124,0.42643033242115186,-0.7723916827743482,-0.8323430863548896,0.37386178609572845,0.08232022559138247,0.7556245033782509,-0.8683191851341179,-0.45823857301877197,-0.7674886995983571,-0.4820705523496554,0.5329637490986896,-0.7672832671376698,-0.8119075743678233,0.46183011676150726,0.40852715160145564,0.03878226045241503,-0.01825903307728881,0.7889423759074891,-0.3698584837998693,0.4070370767671553,0.8639856619929461,-0.40389496200387115,0.42354047046625176,-0.33821701803899423,-0.8089384105770883,-0.3483109310903305,0.08428267046645098,0.39946378179725905,0.8095049059373832,-0.33376681883125586,-0.7666929991046322,-0.7745538406913594,-0.05478201325258561,0.38262038586329344,0.4718747871877248,-0.3886399683042486,-0.04289530962043514,0.08183781083828304,-0.4281414830274624,-0.7417871300315957,-0.392989687648891,-0.47476154697345185,-0.050037246598580644,-0.7640370555339928,-0.7838661433154953,0.4876215237562848,-0.030666622291639054,-0.46857408955335583,0.7861916762715194,-0.02124923560449888,0.3603031714903418,-0.36531031969825073,-0.7916187088538381,0.7322009936668148,-0.8243692797196865,0.7974413201157208,0.7159041605625722,-0.5265336837872763,0.37979907969230736,-0.40647954444699186,-0.4360352007274941,-0.7578956159335195,-0.44502625687380265,-0.4310522310986249,0.5157525981218203,0.3839471338600636,-0.7452147228584813,0.3788099433936879,-0.7620078439098407,-0.1132944576849901,0.4076121079764859,0.8456417829318236,-0.37042923069974987,-0.4725064311368298,0.36052670440584345,0.8740687725773287,-0.4861945177238486,-0.778093642733144,-0.7720833520792856,0.008570599869839804,0.38507273967802996,0.8300157906418045,0.1216905912863696,-0.03529412594643602,0.05960296706717505,-0.465264222659108,-0.49828440688007397,-0.3368990422684928,0.38303374643040183,0.49505493951841095,-0.40602761378083196,0.0030287944377081085,-0.43428569941644757,-0.45890834032347616,0.8483558719074324,-0.3144275357421359,-0.4822865677101322,-0.8200129339101396,-0.3936636172458616,0.47580246549343713,-0.05127906036821886,-0.014246782951394638,0.054589674717127015,-0.7880588660532558,-0.7913102068310189,0.4054593043543137,-0.34593104717591866,0.037485354831090674,-0.024503946160105775,0.00878571525458796,0.05633068234348952,-0.3924181030623411,0.4149692961770411,-0.44047544562494434,-0.026053053050198137,0.40551425147897235,-0.36891702841283747,-0.7529006378725154,0.4890285090017678,-0.7474186755223279,0.8178497809435338,-0.3704649877840662,-0.09049188152394058,-0.42030786056089264,-0.8113875053553223,0.08461437020455091,-0.7703545887270451,-0.495677103536915,0.8522253378322469,0.41210898119121164,-0.40153986755193166,0.1124238762565192,0.5138802078213471,0.8353335934158307,0.8079402796947508,0.40479378131953453,-0.8048136707842526,0.43225229154525696,0.5240583092998967,-0.4777920213733232,0.3863967746482343,-0.31423568799881485,0.8630238639858878,0.819571428322446,0.38485118526701884,-0.06257352517642051,0.09593807301016771,-0.028179357931994265,-0.44282747472820577,-0.8250429919968372,0.42615820974632246,0.4691515978098571,0.8216855317091172,0.4925555248912977,-0.040180213152200855,-0.7668895381150994,0.7579767897156583,0.4530678301547128,-0.4287152717650697,0.0530096410286241,0.37897494135578413,0.03427064064288627,-0.47848656645535464,-0.4070205512706557,0.0013580424966605443,0.12613634030947646,0.3986798280243083,-0.3943550369674542,-0.4226410979421296,-0.35989287304784356,0.5146892119459134,0.8034216814938129,-0.7189933487816272,0.4204015391410466,0.4647400293905219,-0.48725020880636183,0.0861594729111441,0.03365201892112662,0.4474126612960727,0.7586558290846757,-0.35278758728901644,-0.05435266555675229,0.7800352480824698,0.8447930363838067,-0.4316267206872497,-0.43040626872121945,-0.38906030420989,-0.4313651053546112,-0.08607790636692735,0.3848511500213731,0.7712178156149595,-0.3874571730683884,0.011634859352085138,-0.4918779878951907,0.41897091775603734,-0.770281103896523,-0.31208949313534073,-0.8101484503238137,-0.732296799285211,-0.4286766642981037,-0.8024361347505563,0.8048171745381825,0.4021555242383349,0.0534486083378763,0.4066056428846666,-0.7372895813026661,-0.324017393354978,0.41334498810922177,0.040089247778323726,-0.8010304624299844,0.7710619460177188,-0.3566777497550329,-0.04982333449038638,-0.3596964905625955,-0.3172889155668681,-0.04946555466935141,-0.877404047581764,0.39328830495850986,0.8152848133754084,0.028437106737164396,0.047923764006582485,-0.5153098806988132,0.48124511990958263,-0.4511095531492977,0.4232135313786961,0.06231475859322096,-0.030658155894816536,0.7979093299088889,0.8193045221029025,0.45323631762751027,0.40232688409469314,0.4733081186873456,0.04246157123973269,0.3475920776417045,0.007742462318113478,-0.07561816843893474,0.765429381140614,0.8295994840589047,-0.35836813632343745,-0.0532933429623722,-0.8470461466643312,-0.4810842781904162,-0.31996106037994165,0.4044100017003137,-0.8193080426252021,-0.7707973146272129,0.4322367963324279,0.10973572634547697,0.783764636243575,-0.7931573047811102,-0.730024730717194,-0.004608206346726954,-0.7451899587090675,-0.839537906977615,0.8184567082822368,-0.762786652076897,-0.7509034874149546,0.37180630345476606,0.4710414127492121,0.488265488462482,-0.09630502233694153,0.36353061029399764,0.8228118316185576,-0.4951727711587759,0.5352566542890186,0.3938675207922279,-0.36720466594333284,0.01842471125373814,0.7871822210775872,-0.4061548923973309,0.0004928641494138309,0.13307382458121877,-0.453494830693974,-0.434431743989227,-0.0500723123429045,0.5435109259095201,0.4764262907591061,0.04434640666481589,0.8154474202062979,-0.4202841383526996,0.022991861803402847,-0.8647764662856673,0.07916998324608285,-0.36894643284743195,0.03745297054298906,-0.5189265806144782,-0.7098256934137659,0.43994883191044004,-0.3994922670602171,0.8171592349794079,-0.028854662219970788,0.060577468588506454,-0.11268068692633315,0.09219520597041773,0.4127035682400507,-0.4943767400489611,-0.7738684364211901,-0.050813679020381905,0.4185149030909928,0.10560925637898613,0.4037953163954988,-0.015675096082988803,-0.5352394027732144,-0.05978371540980637,-0.7352201269870813,0.04079480862447407,-0.7991914178778847,-0.5042382922853649,-0.4237803830867952,0.7997983275083622,-0.2954717920787393,0.36352505501030263,0.051541260029700255,0.7368954878694447,0.5079492701957096,-0.34428715022621253,-0.3178846395747954,-0.44475237633342996,0.7915641433381729,0.8788226567940317,-0.3792549709715438,0.0643293995760298,-0.4656695416795882,0.3645673128535867,0.4413075462748741,-0.46060670033602924,-0.48402824986789633,0.05234964298490344,0.0754698518543651,0.5217202611748226,0.411018818086432,0.40412490465620937,-0.40365548613323327,-0.019060393028949206,0.46565869901397505,-0.8117318068416481,-0.4836789349042367,0.06086857034572163,-0.14149868355222203,-0.7603368957665505,0.4804330814673845,0.0784719209951936,0.778035464254686,-0.43663835279023083,0.15232916705765492,0.7440180630129205,-0.40347044663033027,-0.06070170153585995,-0.7519344722517322,-0.8155628320242638,0.7529921698278609,-0.44320179031735607,0.8555314541380699,0.7861081350846101,-0.4077890799036365,-0.00475110286695004,-0.7835063341007042,0.3772305397610161,0.820792492448105,-0.03525424989675507,-0.8414252727034846,-0.7892107555600686,-0.7988983500648602,0.4890594115361367,0.4862012280441165,0.42794099678090475,0.8193339350801727,-0.3693937129010299,0.3693199121021246,-0.7840365973151743,-0.060566692975507375,0.43702400389002477,-0.46338809996635855,0.45239573424082724,0.3848632571855892,0.7649801840210543,0.8028950133791768,0.7563404751709583,0.5005019178764211,-0.013711063604925217,-0.3724940338377362,0.3725346285727838,-0.8011699774808245,-0.0037692019687223352,0.3995133146710661,-0.47472584272563395,0.44268737507364325,-0.043733198756586954,0.43201917542695817,-0.35855957400962185,0.4955136898791746,-0.47475982720367216,-0.7404704414163074,-0.44190699604296185,0.4427783085477852,0.4804348252644714,0.5314667321424397,-0.8571352770155943,0.5272596903117805,0.45508647455080026,0.4602712895532886,-0.354140253523667,0.06517059472291023,0.44124290261844457,-0.46493401869463846,0.42207625815869854,-0.8168036868999492,0.3966999540719703,-0.36653694373872087,0.4343593931426381,-0.04386505320980477,0.4513618332858085,0.30350447173656075,-0.7699429469319955,-0.38197077281606123,-0.3380378398350831,-0.05664534344718488,-0.34898873291710775,-0.35651047607712055,0.4953215322733831,0.39242643776914576,-0.7914363069848754,-0.8079098318311231,0.8336401742898806,0.38582617553044835,0.0459853351524891,0.42477751055372404,0.7997715793021488,0.4857822194157709,0.4756071005127124,0.05760643216895513,-0.7200260043431972,-0.3316626205911534,-0.05791187377347192,-0.7831774707341174,0.03899793013782106,-0.07189781541735664,0.5181185689882144,-0.7918894664386881,0.1046823681415124,0.5111622592249792,-0.41301660541417745,-0.024304282396783807,-0.489658395923041,0.09196858076593034,-0.4116023668278984,-0.4282937123467473,-0.83862500322565,-0.02146262781825611,-0.39341818788623023,0.8869599338848596,0.45354031993319877,-0.48502586403659603,0.8330596122544676,-0.07201850035350213,-0.03898333020231518,-0.8019891302703802,-0.41453622347945385,0.4421865319147274,-0.4238567983398757,0.07895124226895833,0.049821580573133836,0.45754731155217543,-0.3939099897777999,0.3837073394604824,0.46618085263484593,0.06714540567005584,-0.4834141601785833,0.425600962674456,-0.008095141398761468,-0.4561092142368248,-0.005400881489767302,0.7905853022434457,-0.383192484635801,-0.7935765574175565,0.4922516635358065,0.4551369813756997,-0.04069333009776943,0.03968942432785281,-0.7128061704110327,0.4694875313500309,-0.791462492197632,-0.3786457867556605,-0.41438004218612423,0.3446668329742267,0.40997049161452603,-0.3876706062640188,-0.787147469179511,0.4034106217391155,-0.7119860489237545,-0.7594785716343684,-0.346588068121825,0.43982863288320734,-0.028704064743643336,0.36798847596814827,0.45591781204580345,-0.060398233340775834,0.37414727194074887,-0.4707873089858514,-0.44572004407187443,-0.7197993941402562,-0.81301523011199,-0.03705101669343606,0.8400375630542857,0.058387507410034845,-0.3996087169591698,-0.06882831945715645,-0.4523067060378937,-0.1301542310940162,0.431769296289082,-0.841072809663439,-0.35788591309824974,0.8022410666029028,0.4808854929856971,-0.4434190968576161,-0.8035063187347994,0.48230886841516657,0.5101247557213643,0.467007935004975,-0.10040083751073375,0.507917929849147,-0.32304183012378196,-0.019651260629757403,0.7992746185936029,-0.47574754428898314,0.5075890937457526,-0.4775360138149052,-0.37697039160583085,0.0018021631240313857,0.38050035286826334,0.4576651054969543,0.8251292231499223,-0.43017828076578085,-0.4303676991562808,0.3966687514103962,0.05623130679756285,-0.7621998746372799,0.7930437210290486,-0.7698076863306043,-0.4769109311173841,-0.47249855964837384,0.4059255264696192,0.5285229428936046,0.4268762845142959,-0.765355074014892,0.40075569971857783,0.034791383322302034,-0.08626608504263372,-0.4353377956509367,0.3537438279004437,-0.4440023398332349,-0.4839542985294865,-0.8545108749501781,0.7685632554365396,-0.8034309747486991,-0.38486278115905675,0.48945135592784306,-0.8318031922033622,0.4645691282644087,-0.4594511863938548,-0.35670565541600774,-0.7613730694735806,0.4501200939600742,0.38442978498008035,-0.48104522032639135,0.3570609610106112,0.34224714120882627,-0.0653453629179159,0.02430849693527234,0.3600801235839424,0.7852840408175679,0.7495313735898159,-0.3641461193608615,-0.35740928796899407,0.3972117818230624,-0.373145315739256,-0.03157421205380379,-0.4532940726481703,0.3767325719838631,-0.07588189114057949,-0.8080657100261213,0.5018036527695343,0.03654988781997043,0.05205821143852155,0.3631475986134154,0.3752679399983312,0.8127608991832909,-0.4024283475872219,0.06343814691829279,0.4554649154809485,-0.3371197932036081,-0.04350411833471539,-0.7219233717776133,-0.3919589938135699,-0.031100232071107216,-0.37056228989356504,0.4188064886575592,0.7572346885713759,0.46478752877199714,0.8181228392005382,-0.7944827006749078,-0.4280445246946559,-0.8558284002886484,0.43489655691494733,0.8197728875656047,-0.029200496347716647,0.000917716353174831,0.43870738911938467,-0.5069954626019083,0.4985182060602698,-0.4204334877495391,-0.06090790792962422,-0.46735129697347627,0.49161925636488923,-0.391782239541617,-0.02382590246799669,0.06740970038279653,-0.7907295410767113,0.4448563994336466,0.018420893063908775,0.509349136628628,-0.00985601646134319,0.42603314675483744,-0.7704720485777538,0.8242972903747141,0.3222047535788876,0.43114537406873227,0.1232091702631918,-0.7839511333862934,0.4116803783448063,-0.0886985848854386,-0.33567220263704134,0.06382620318518438,0.46415554642922296,0.4172626531088903,0.04933745256820801,-0.7594545389037743,0.45065403195059794,0.09412095929176273,0.8285616294363706,0.0040104920164536146,0.3761053400792531,-0.38585426427241926,-0.35759017945687605,0.4939070177623316,-0.8090975014554874,0.4878020507273592,0.12079607677283498,0.39875713069685836,0.02536754537604971,0.029154834066943032,0.39333068935308996,0.49617898335305155,0.8422542581889743,-0.020224283355228665,0.3871277453701992,-0.412745689310835,-0.3548249485035927,0.48154508436978,0.4504162166765701,0.5137493432020752,0.04710969169983709,0.3494479610304038,-0.7905272410610386,0.3845476918019903,0.41661736119444204,-0.3772739844547543,-0.7170127027981372,-0.8376994742821859,0.833438568611454,0.8216388630842142,-0.4034367937182851,-0.3914960414147132,0.41318682480378127,0.06699536838579943,0.7779481619043175,-0.7662587444435559,0.492861352264081,0.4835787549374084,-0.6967575574535257,0.8020070348381851,-0.5098426424158852,0.014985906541260773,0.06131619804343356,0.35037277945159523,0.7710686163562988,-0.4737252024041977,-0.8439152147355856,-0.07310058757632824,-0.4062664024511393,-0.3067525938182173,0.5563792654087509,-0.46154962085509893,-0.3438603541808509,-0.7471126157738655,-0.7711903447939079,-0.07298148977197329,0.37339862530272006,-0.0368671006276301,0.8262897656867342,0.8087667976416227,-0.7831361087067669,0.8096379358876161,-0.4633976689542685,-0.7641332626972274,0.07812015395746202,-0.7903793053352615,-0.4653797479494314,0.37324957976334644,0.4403066485276944,-0.7221371687581207,0.1361380570471661,-0.7927023595923532,-0.7013790014275019,-0.053742947350859965,-0.3623029683892948,0.37672897672092404,0.4056378451524859,-0.4520581553891715,-0.33645125932660885,0.7913101210626846,-0.3551937007250134,0.12767222193922717,0.3777374258140958,-0.7645826979500197,0.8012690348490875,0.8464914632101491,0.10219457928530994,0.03080802508906291,0.8647543444177306,0.05700187566333167,-0.32711566437640954,-0.718939207348815,-0.39192552100603073,0.41550312196527456,-0.0491182874822168,-0.40817755353352425,-0.43387864019638916,-0.4037849156496915,-0.05944109430786034,0.8243668139655738,-0.46736400380476856,0.07694640356530172,0.37376376510752424,-0.7555417316154126,-0.7316032235557467,0.7580766561960791,0.7742018589684049,-0.7955141516162195,-0.06851672799879835,0.38286934191130445,-0.40470374945498316,-0.37957238319058006,-0.07348363792568316,-0.4542467484020877,-0.027871952132646555,0.41984844179403447,-0.8096465453821975,0.3267864375208668,0.8945857019393357,0.03769479403179014,-0.48956807599392704,0.8614754210463391,0.8091833474676062,-0.37737874589301384,0.40782204902813024,0.38983922265644644,-0.4021947844875756,-0.8350519523373132,0.7918278758359781,0.8234121050831373,0.06416605382203501,-0.08976217748787699,-0.42349155208085,0.4807350299718657,0.8157357531593551,0.5012226583152163,-0.3756158892093061,0.46784787116915444,-0.37911016426101335,0.4347536827807082,0.8788428989073127,-0.4126707109384106,-0.4756788657052818,0.46809168555635766,-0.011905275081504364,-0.37591938764930904,0.4651448310370535,0.3886462532152395,-0.3958325756902513,0.10428322211221944,-0.33361788803723175,0.12068587298981308,-0.7719196611230935,0.010997120373520531,-0.3534545481948267,0.422950669228308,0.07398108726246372,-0.746258019589246,0.3461291703710301,-0.4910354925407055,0.4892805693164926,0.040865514408860305,0.039173459797328176,0.8511881861341044,0.36630759227348364,0.4640405083856502,0.4340724265674613,-0.4489466920863058,-0.43080807331329835,0.37980155524116677,0.40049810732537916,-0.7440288220780351,-0.10186742750936441,0.5182290190780761,-0.3753945627065984,-0.04292429409838419,0.449895035966713,0.7698887593392167,-0.3916659925242146,0.7727315518398199,-0.42355266780130874,0.36862349273027056,0.8605190182090952,-0.366485193191192,0.786874051957602,0.0021163521086029384,-0.4512323538362582,0.010080348750360053,-0.3606257383564607,0.428123699334351,-0.4342258950921353,-0.7957633434288823,0.4578905388666776,0.8272110067555585,0.002559505661967586,0.5504982968226109,0.7759199465704786,-0.8211478133505613,-0.7817240815141943,0.4031536006025399,0.4988408026956938,0.8356971986569685,-0.8278898518158389,0.35323578819726265,-0.452671210714691,-0.8295916807880495,0.3432498161493031,-0.34692613000592815,0.8093413048970836,-0.4377188572028881,-0.43790277281632284,-0.4530580277315288,-0.05489375100701845,0.4421632066396081,0.4767680316710285,-0.4246229569306388,-0.7871897456224797,-0.3678561360269799,-0.4274138269631735,0.09283808186483199,0.3902956261762793,0.38811839558039085,0.04515834935619009,0.06808453440192146,0.7903231584613993,0.4457117425910596,0.5278457664997691,0.3883092192310446,-0.3276426415691393,0.430589502648254,0.5005974765999104,0.34993491500474,0.7923041452379039,0.40056641894445516,-0.7662130508111569,0.4324804737493782,0.39110868943473215,0.38271885017585466,-0.06723524776513612,-0.7971519284307172,-0.42317358600827465,-0.015336382429751858,0.44901354770960233,-0.07108324743109663,-0.35039876910981205,-0.06300301555397934,0.008862369685844917,0.49333178989389853,-0.0009673661459026601,-0.41848961214935765,0.057955626635479235,0.04665346233302221,0.44551392009982765,0.08120320799870492,-0.4551509810530106,-0.7979720637082736,0.3896999763216347,-0.49354089183800914,-0.8320818188666222,-0.4774713214510499,0.499606973430512,-0.17115497525496073,0.4304083441664177,-0.4359671508947162,-0.7981308078595847,0.4851211596288236,0.7812684498319331,0.4180939769137945,-0.3749246060699381,0.48668400466327155,0.40720354804769643,-0.42861998011891206,-0.7571551858606325,-0.40761832155841254,0.4325451905081812,-0.3799524138070546,-0.03400752650908456,-0.7842274827181419,0.8442288422566391,-0.39916063209638036,0.007965858125080246,0.48575675021610093,0.04088126820678581,0.797053421461811,-0.2837376675415948,0.4960248713671025,0.005281916390510766,-0.05726287371290864,0.48555658329939644,-0.43734309192480936,-0.09131542489089636,-0.41876264216974185,-0.42381637670421307,-0.43535970156634224,0.12379565153939474,0.0023985901798840793,-0.3818251229149381,-0.8043483077473443,0.5232534610501259,0.044070870325210953,0.4632813253276263,0.39542470044640404,-0.3654422093871019,-0.39376904011453867,-0.32070292117459065,0.3824395468499164,-0.4416323531741374,-0.39388118743471495,-0.8183374684146059,0.8063854881561243,0.4260499142868654,0.3726457410896575,0.004756486442582752,0.385440771038581,0.5038245519998624,-0.4088364928831111,0.0286267743633194,-0.8006002421895998,-0.4235674028443115,-0.3224808152735222,0.7909178370500891,-0.06776616101726922,0.37911584954793626,-0.39310721364692164,0.47738228771560487,0.47222335162171264,0.48548170252898104,-0.019053686767071667,0.03698338739431846,0.8014936796296322,0.5198743794445644,0.3923797038519023,-0.11385363624924516,0.045014640470693854,0.4828784867424076,-0.39250141850835235,0.3248653244509779,-0.5526463362684109,-0.7929124874474008,0.01911069565400247,-0.46299331178200354,-0.42335860060774944,-0.0022947481190607687,0.816215406909433,-0.05992099140766374,0.4860537898888086,0.5153756488875868,-0.7556152216826157,-0.03813890215760199,0.4719356694718582,0.0684777048870678,0.7991433472831025,-0.07110664147775904,0.398904755903911,-0.8350203418416993,0.7590743679446305,-0.03535877070475809,-0.35268204783898055,0.48150328601749254,0.0791120863215484,-0.40921755598937204,0.5501700975747108,0.4377995123079131,-0.3932757280025034,0.39288322375859613,-0.019746033440515686,0.8490672921942667,-0.8047231128387895,0.4880535358895783,-0.4491481418619646,0.4320539997772904,0.39655647505797953,-0.7879204862067429,-0.49460397458312005,0.09590862966607315,0.08970269998503,-0.8048300817124545,-0.34218867516963186,-0.8683273684187609,0.7766329586270985,0.5163631652591831,0.8068018739238727,0.009687106735573898,-0.43960989468286793,-0.4406526702534298,-0.05038724493792394,0.46035713421552443,0.8740045361195263,0.47086985582891894,-0.035903756641934466,-0.4630983883355829,0.3244070110486828,0.7797654455493374,0.4777073723880774,0.44510173602143593,-0.013763231122046467,0.4415009163148583,-0.8321832765176401,0.492254546492515,0.03457644183439023,-0.810438960862397,-0.051137360686232494,-0.4543226671184098,-0.41172442910600765,-0.46066031709006905,0.8368831791059897,-0.35821719902003857,0.07647372212869372,-0.0366253920991924,-0.003755909369776723,-0.35577622955306254,-0.05254906869996137,-0.4202870542942427,-0.42192617663912146,0.05860419096458386,-0.07070725759036339,-0.7984516097054382,-0.005219968197836384,-0.004477633419425188,0.8581861107737846,0.5214137816019073,-0.7340405901105619,-0.03656069821907812,0.8360027692335283,0.4515580647246644,-0.785596204257178,0.4826625464819354,0.0891001023639197,0.3615333271013878,0.4988683561604493,-0.41671112889809436,0.7397734386194971,-0.8105115187171444,0.4541822776167661,0.43708997873946404,0.4946825268873284,0.07436323260704276,-0.36061717249030645,0.40150226200598643,0.05078892684732816,0.4754511639334752,-0.4149594186970832,0.3978467680112577,-0.03836861031204679,0.3787034121322422,0.4444064910242732,0.0623040388878351,-0.807147079958877,-0.3477222479724232,-0.7750026697579069,0.8073324737129032,-0.8237304518587102,0.4118856974871472,0.8323563264135729,0.0057128319556213,-0.04533890362583539,-0.10005469609286584,-0.4422732602138203,0.3670775797319177,-0.33379556635782115,-0.3969292594833835,-0.38590337956267495,-0.789974650490312,-0.400196425590926,0.7852772253727061,-0.09098828933379574,-0.8268906954583508,-0.7561725538171321,0.3845988851517486,0.5402996918999385,0.7465736257463191,-0.48925485950900616,-0.020107855601866592,0.05772540541421987,-0.024839046060550773,0.8056893904491855,-0.8253367156070895,-0.4840785089749509,0.8463830139162953,0.4611337222963761,-0.4815685416204981,-0.8146267491293747,0.4444202498800009,-0.46557486050342334,0.049333585905478,-0.7361973322753161,-0.7558199228170234,-0.3664468606915287,-0.06226372368600867,0.4147220271369408,0.11428814513120278,-0.3877178488994487,-0.08290742155342594,0.4173416186045597,-0.8072300563609165,-0.06640041053394354,0.7544006615165946,-0.3744166599634117,-0.3808270564983717,-0.40145106388901164,0.42995641979095156,0.7856060506460039,0.8205656886964632,0.7853148649237643,0.41576033268425877,0.8372697394958262,0.4206629483655728,0.03594294768856335,0.8621617702152886,0.45824599599693117,0.4788963461369178,0.7865056397523321,0.5122359813160373,-0.06453674223115607,-0.7118832162845224,-0.06663161075851295,0.42282514670339744,0.05773185363993109,-0.3085634707130954,-0.0554302541576328,0.05252769992356309,0.8639713521304192,-0.40280347654426424,-0.46822873513767926,-0.44014167781380287,0.47347687501530894,-0.8115772092199146,-0.023275724152282636,0.4209084215721606,-0.8173429011688977,0.13876942257342464,-0.3501905711370845,-0.43513012078087077,-0.0559274800238763,-0.41825557200644153,0.48699196919638216,0.7815050468052908,-0.3899186234999409,-0.3320231028530743,-0.32637311855406853,0.3977329353895708,-0.013899659472729024,-0.3894332384003727,-0.3975417980147105,0.8426310249903587,0.8053782106245775,-0.5065959173783952,0.0075488312534511305,0.4056169746107248,0.011508720255218033,0.046932822519503384,-0.821258327029483,0.3927366694852988,0.7940284957219889,0.812057492976147,-0.8627131772196205,0.421017984970141,0.08858720413126339,0.3836760384410134,-0.5379899643557778,0.8241968230977361,0.11374595789848976,0.07434519485138541,-0.03510518854676963,0.44743611350322293,0.4626573733804017,0.091780499469052,-0.38958161809756714,-0.003478399989131935,-0.026979425099232377,0.41688762677417385,-0.07153426820219665,0.48169209799065427,0.02173137406941793,-0.09808319890038063,-0.7956326757039288,-0.37905512843976735,0.8372829063116887,0.4036088462389422,-0.00695338160769173,-0.06567131658011592,-0.01759185625292507,-0.3667300505625042,0.8431572040256256,0.3396779549485413,-0.42528605901301786,0.8174536233779848,0.40708957412734653,0.4749152179423304,0.5405509393646935,0.5083545084413517,0.42615526585188296,-0.39062903941904603,0.4848155163933073,0.47879446354818067,-0.44247985571851867,-0.3664010197550028,0.4819732106973231,0.5214912180305649,0.5256082953266376,-0.4202983686199295,-0.43821453301999036,0.49978715929679685,-0.7927270313888934,0.4538990603626988,-0.4005187079144773,0.7575965044355552,-0.36646872337997244,-0.4712299978350336,-0.7490897808326248,-0.8180558792051603,0.08630387734189432,0.05991109130033549,0.03806650997801146,0.8082565655462706,-0.7495468000582227,0.3940548000055375,-0.8286008272259207,0.45711588744892007,-0.1126372022374062,0.00015569970919824324,0.05568656429945918,0.8635244258904915,0.3716525802419608,-0.3590660525830728,-0.4315560695874194,0.42124364472608766,-0.7720819833671274,0.08577982556340792,-0.10320509283136467,0.4582796870768118,0.7606516210674175,0.03054589377140453,0.3901556580549413,0.8244060518168971,0.4612345246019266,-0.40532278348475465,-0.08901193161281946,0.30565597015194645,0.46266897714233407,-0.38168952236459136,0.06931788737553626,-0.43332802135168985,-0.3817690643816543],\"type\":\"scatter3d\"}],                        {\"template\":{\"data\":{\"bar\":[{\"error_x\":{\"color\":\"#2a3f5f\"},\"error_y\":{\"color\":\"#2a3f5f\"},\"marker\":{\"line\":{\"color\":\"#E5ECF6\",\"width\":0.5},\"pattern\":{\"fillmode\":\"overlay\",\"size\":10,\"solidity\":0.2}},\"type\":\"bar\"}],\"barpolar\":[{\"marker\":{\"line\":{\"color\":\"#E5ECF6\",\"width\":0.5},\"pattern\":{\"fillmode\":\"overlay\",\"size\":10,\"solidity\":0.2}},\"type\":\"barpolar\"}],\"carpet\":[{\"aaxis\":{\"endlinecolor\":\"#2a3f5f\",\"gridcolor\":\"white\",\"linecolor\":\"white\",\"minorgridcolor\":\"white\",\"startlinecolor\":\"#2a3f5f\"},\"baxis\":{\"endlinecolor\":\"#2a3f5f\",\"gridcolor\":\"white\",\"linecolor\":\"white\",\"minorgridcolor\":\"white\",\"startlinecolor\":\"#2a3f5f\"},\"type\":\"carpet\"}],\"choropleth\":[{\"colorbar\":{\"outlinewidth\":0,\"ticks\":\"\"},\"type\":\"choropleth\"}],\"contour\":[{\"colorbar\":{\"outlinewidth\":0,\"ticks\":\"\"},\"colorscale\":[[0.0,\"#0d0887\"],[0.1111111111111111,\"#46039f\"],[0.2222222222222222,\"#7201a8\"],[0.3333333333333333,\"#9c179e\"],[0.4444444444444444,\"#bd3786\"],[0.5555555555555556,\"#d8576b\"],[0.6666666666666666,\"#ed7953\"],[0.7777777777777778,\"#fb9f3a\"],[0.8888888888888888,\"#fdca26\"],[1.0,\"#f0f921\"]],\"type\":\"contour\"}],\"contourcarpet\":[{\"colorbar\":{\"outlinewidth\":0,\"ticks\":\"\"},\"type\":\"contourcarpet\"}],\"heatmap\":[{\"colorbar\":{\"outlinewidth\":0,\"ticks\":\"\"},\"colorscale\":[[0.0,\"#0d0887\"],[0.1111111111111111,\"#46039f\"],[0.2222222222222222,\"#7201a8\"],[0.3333333333333333,\"#9c179e\"],[0.4444444444444444,\"#bd3786\"],[0.5555555555555556,\"#d8576b\"],[0.6666666666666666,\"#ed7953\"],[0.7777777777777778,\"#fb9f3a\"],[0.8888888888888888,\"#fdca26\"],[1.0,\"#f0f921\"]],\"type\":\"heatmap\"}],\"heatmapgl\":[{\"colorbar\":{\"outlinewidth\":0,\"ticks\":\"\"},\"colorscale\":[[0.0,\"#0d0887\"],[0.1111111111111111,\"#46039f\"],[0.2222222222222222,\"#7201a8\"],[0.3333333333333333,\"#9c179e\"],[0.4444444444444444,\"#bd3786\"],[0.5555555555555556,\"#d8576b\"],[0.6666666666666666,\"#ed7953\"],[0.7777777777777778,\"#fb9f3a\"],[0.8888888888888888,\"#fdca26\"],[1.0,\"#f0f921\"]],\"type\":\"heatmapgl\"}],\"histogram\":[{\"marker\":{\"pattern\":{\"fillmode\":\"overlay\",\"size\":10,\"solidity\":0.2}},\"type\":\"histogram\"}],\"histogram2d\":[{\"colorbar\":{\"outlinewidth\":0,\"ticks\":\"\"},\"colorscale\":[[0.0,\"#0d0887\"],[0.1111111111111111,\"#46039f\"],[0.2222222222222222,\"#7201a8\"],[0.3333333333333333,\"#9c179e\"],[0.4444444444444444,\"#bd3786\"],[0.5555555555555556,\"#d8576b\"],[0.6666666666666666,\"#ed7953\"],[0.7777777777777778,\"#fb9f3a\"],[0.8888888888888888,\"#fdca26\"],[1.0,\"#f0f921\"]],\"type\":\"histogram2d\"}],\"histogram2dcontour\":[{\"colorbar\":{\"outlinewidth\":0,\"ticks\":\"\"},\"colorscale\":[[0.0,\"#0d0887\"],[0.1111111111111111,\"#46039f\"],[0.2222222222222222,\"#7201a8\"],[0.3333333333333333,\"#9c179e\"],[0.4444444444444444,\"#bd3786\"],[0.5555555555555556,\"#d8576b\"],[0.6666666666666666,\"#ed7953\"],[0.7777777777777778,\"#fb9f3a\"],[0.8888888888888888,\"#fdca26\"],[1.0,\"#f0f921\"]],\"type\":\"histogram2dcontour\"}],\"mesh3d\":[{\"colorbar\":{\"outlinewidth\":0,\"ticks\":\"\"},\"type\":\"mesh3d\"}],\"parcoords\":[{\"line\":{\"colorbar\":{\"outlinewidth\":0,\"ticks\":\"\"}},\"type\":\"parcoords\"}],\"pie\":[{\"automargin\":true,\"type\":\"pie\"}],\"scatter\":[{\"marker\":{\"colorbar\":{\"outlinewidth\":0,\"ticks\":\"\"}},\"type\":\"scatter\"}],\"scatter3d\":[{\"line\":{\"colorbar\":{\"outlinewidth\":0,\"ticks\":\"\"}},\"marker\":{\"colorbar\":{\"outlinewidth\":0,\"ticks\":\"\"}},\"type\":\"scatter3d\"}],\"scattercarpet\":[{\"marker\":{\"colorbar\":{\"outlinewidth\":0,\"ticks\":\"\"}},\"type\":\"scattercarpet\"}],\"scattergeo\":[{\"marker\":{\"colorbar\":{\"outlinewidth\":0,\"ticks\":\"\"}},\"type\":\"scattergeo\"}],\"scattergl\":[{\"marker\":{\"colorbar\":{\"outlinewidth\":0,\"ticks\":\"\"}},\"type\":\"scattergl\"}],\"scattermapbox\":[{\"marker\":{\"colorbar\":{\"outlinewidth\":0,\"ticks\":\"\"}},\"type\":\"scattermapbox\"}],\"scatterpolar\":[{\"marker\":{\"colorbar\":{\"outlinewidth\":0,\"ticks\":\"\"}},\"type\":\"scatterpolar\"}],\"scatterpolargl\":[{\"marker\":{\"colorbar\":{\"outlinewidth\":0,\"ticks\":\"\"}},\"type\":\"scatterpolargl\"}],\"scatterternary\":[{\"marker\":{\"colorbar\":{\"outlinewidth\":0,\"ticks\":\"\"}},\"type\":\"scatterternary\"}],\"surface\":[{\"colorbar\":{\"outlinewidth\":0,\"ticks\":\"\"},\"colorscale\":[[0.0,\"#0d0887\"],[0.1111111111111111,\"#46039f\"],[0.2222222222222222,\"#7201a8\"],[0.3333333333333333,\"#9c179e\"],[0.4444444444444444,\"#bd3786\"],[0.5555555555555556,\"#d8576b\"],[0.6666666666666666,\"#ed7953\"],[0.7777777777777778,\"#fb9f3a\"],[0.8888888888888888,\"#fdca26\"],[1.0,\"#f0f921\"]],\"type\":\"surface\"}],\"table\":[{\"cells\":{\"fill\":{\"color\":\"#EBF0F8\"},\"line\":{\"color\":\"white\"}},\"header\":{\"fill\":{\"color\":\"#C8D4E3\"},\"line\":{\"color\":\"white\"}},\"type\":\"table\"}]},\"layout\":{\"annotationdefaults\":{\"arrowcolor\":\"#2a3f5f\",\"arrowhead\":0,\"arrowwidth\":1},\"autotypenumbers\":\"strict\",\"coloraxis\":{\"colorbar\":{\"outlinewidth\":0,\"ticks\":\"\"}},\"colorscale\":{\"diverging\":[[0,\"#8e0152\"],[0.1,\"#c51b7d\"],[0.2,\"#de77ae\"],[0.3,\"#f1b6da\"],[0.4,\"#fde0ef\"],[0.5,\"#f7f7f7\"],[0.6,\"#e6f5d0\"],[0.7,\"#b8e186\"],[0.8,\"#7fbc41\"],[0.9,\"#4d9221\"],[1,\"#276419\"]],\"sequential\":[[0.0,\"#0d0887\"],[0.1111111111111111,\"#46039f\"],[0.2222222222222222,\"#7201a8\"],[0.3333333333333333,\"#9c179e\"],[0.4444444444444444,\"#bd3786\"],[0.5555555555555556,\"#d8576b\"],[0.6666666666666666,\"#ed7953\"],[0.7777777777777778,\"#fb9f3a\"],[0.8888888888888888,\"#fdca26\"],[1.0,\"#f0f921\"]],\"sequentialminus\":[[0.0,\"#0d0887\"],[0.1111111111111111,\"#46039f\"],[0.2222222222222222,\"#7201a8\"],[0.3333333333333333,\"#9c179e\"],[0.4444444444444444,\"#bd3786\"],[0.5555555555555556,\"#d8576b\"],[0.6666666666666666,\"#ed7953\"],[0.7777777777777778,\"#fb9f3a\"],[0.8888888888888888,\"#fdca26\"],[1.0,\"#f0f921\"]]},\"colorway\":[\"#636efa\",\"#EF553B\",\"#00cc96\",\"#ab63fa\",\"#FFA15A\",\"#19d3f3\",\"#FF6692\",\"#B6E880\",\"#FF97FF\",\"#FECB52\"],\"font\":{\"color\":\"#2a3f5f\"},\"geo\":{\"bgcolor\":\"white\",\"lakecolor\":\"white\",\"landcolor\":\"#E5ECF6\",\"showlakes\":true,\"showland\":true,\"subunitcolor\":\"white\"},\"hoverlabel\":{\"align\":\"left\"},\"hovermode\":\"closest\",\"mapbox\":{\"style\":\"light\"},\"paper_bgcolor\":\"white\",\"plot_bgcolor\":\"#E5ECF6\",\"polar\":{\"angularaxis\":{\"gridcolor\":\"white\",\"linecolor\":\"white\",\"ticks\":\"\"},\"bgcolor\":\"#E5ECF6\",\"radialaxis\":{\"gridcolor\":\"white\",\"linecolor\":\"white\",\"ticks\":\"\"}},\"scene\":{\"xaxis\":{\"backgroundcolor\":\"#E5ECF6\",\"gridcolor\":\"white\",\"gridwidth\":2,\"linecolor\":\"white\",\"showbackground\":true,\"ticks\":\"\",\"zerolinecolor\":\"white\"},\"yaxis\":{\"backgroundcolor\":\"#E5ECF6\",\"gridcolor\":\"white\",\"gridwidth\":2,\"linecolor\":\"white\",\"showbackground\":true,\"ticks\":\"\",\"zerolinecolor\":\"white\"},\"zaxis\":{\"backgroundcolor\":\"#E5ECF6\",\"gridcolor\":\"white\",\"gridwidth\":2,\"linecolor\":\"white\",\"showbackground\":true,\"ticks\":\"\",\"zerolinecolor\":\"white\"}},\"shapedefaults\":{\"line\":{\"color\":\"#2a3f5f\"}},\"ternary\":{\"aaxis\":{\"gridcolor\":\"white\",\"linecolor\":\"white\",\"ticks\":\"\"},\"baxis\":{\"gridcolor\":\"white\",\"linecolor\":\"white\",\"ticks\":\"\"},\"bgcolor\":\"#E5ECF6\",\"caxis\":{\"gridcolor\":\"white\",\"linecolor\":\"white\",\"ticks\":\"\"}},\"title\":{\"x\":0.05},\"xaxis\":{\"automargin\":true,\"gridcolor\":\"white\",\"linecolor\":\"white\",\"ticks\":\"\",\"title\":{\"standoff\":15},\"zerolinecolor\":\"white\",\"zerolinewidth\":2},\"yaxis\":{\"automargin\":true,\"gridcolor\":\"white\",\"linecolor\":\"white\",\"ticks\":\"\",\"title\":{\"standoff\":15},\"zerolinecolor\":\"white\",\"zerolinewidth\":2}}},\"scene\":{\"domain\":{\"x\":[0.0,1.0],\"y\":[0.0,1.0]},\"xaxis\":{\"title\":{\"text\":\"pca1\"}},\"yaxis\":{\"title\":{\"text\":\"pca\"}},\"zaxis\":{\"title\":{\"text\":\"pca3\"}}},\"coloraxis\":{\"colorbar\":{\"title\":{\"text\":\"pca1\"}},\"colorscale\":[[0.0,\"#0d0887\"],[0.1111111111111111,\"#46039f\"],[0.2222222222222222,\"#7201a8\"],[0.3333333333333333,\"#9c179e\"],[0.4444444444444444,\"#bd3786\"],[0.5555555555555556,\"#d8576b\"],[0.6666666666666666,\"#ed7953\"],[0.7777777777777778,\"#fb9f3a\"],[0.8888888888888888,\"#fdca26\"],[1.0,\"#f0f921\"]]},\"legend\":{\"tracegroupgap\":0},\"margin\":{\"t\":60}},                        {\"responsive\": true}                    ).then(function(){\n",
              "                            \n",
              "var gd = document.getElementById('70d174af-335d-4275-ace5-cc04d5c565a9');\n",
              "var x = new MutationObserver(function (mutations, observer) {{\n",
              "        var display = window.getComputedStyle(gd).display;\n",
              "        if (!display || display === 'none') {{\n",
              "            console.log([gd, 'removed!']);\n",
              "            Plotly.purge(gd);\n",
              "            observer.disconnect();\n",
              "        }}\n",
              "}});\n",
              "\n",
              "// Listen for the removal of the full notebook cells\n",
              "var notebookContainer = gd.closest('#notebook-container');\n",
              "if (notebookContainer) {{\n",
              "    x.observe(notebookContainer, {childList: true});\n",
              "}}\n",
              "\n",
              "// Listen for the clearing of the current output cell\n",
              "var outputEl = gd.closest('.output');\n",
              "if (outputEl) {{\n",
              "    x.observe(outputEl, {childList: true});\n",
              "}}\n",
              "\n",
              "                        })                };                            </script>        </div>\n",
              "</body>\n",
              "</html>"
            ]
          },
          "metadata": {},
          "output_type": "display_data"
        }
      ],
      "source": [
        "import plotly.express as pl\n",
        "\n",
        "pl.scatter_3d(features, x='pca1',y='pca',z='pca3', color='pca1')"
      ]
    },
    {
      "cell_type": "markdown",
      "metadata": {
        "id": "X08C3zYHglM_"
      },
      "source": [
        "#1. KNN ML MODEL with Extra Tree Classifier"
      ]
    },
    {
      "cell_type": "code",
      "execution_count": null,
      "metadata": {
        "colab": {
          "base_uri": "https://localhost:8080/",
          "height": 270
        },
        "id": "xOZlNtL6gsnm",
        "outputId": "65b2f2a2-40e1-455c-9a4d-bd9be1505e4a"
      },
      "outputs": [
        {
          "data": {
            "text/html": [
              "\n",
              "  <div id=\"df-725f03ec-4a5a-4520-855b-f7c6ed674c19\">\n",
              "    <div class=\"colab-df-container\">\n",
              "      <div>\n",
              "<style scoped>\n",
              "    .dataframe tbody tr th:only-of-type {\n",
              "        vertical-align: middle;\n",
              "    }\n",
              "\n",
              "    .dataframe tbody tr th {\n",
              "        vertical-align: top;\n",
              "    }\n",
              "\n",
              "    .dataframe thead th {\n",
              "        text-align: right;\n",
              "    }\n",
              "</style>\n",
              "<table border=\"1\" class=\"dataframe\">\n",
              "  <thead>\n",
              "    <tr style=\"text-align: right;\">\n",
              "      <th></th>\n",
              "      <th>battery_power</th>\n",
              "      <th>blue</th>\n",
              "      <th>clock_speed</th>\n",
              "      <th>dual_sim</th>\n",
              "      <th>fc</th>\n",
              "      <th>four_g</th>\n",
              "      <th>int_memory</th>\n",
              "      <th>m_dep</th>\n",
              "      <th>mobile_wt</th>\n",
              "      <th>n_cores</th>\n",
              "      <th>pc</th>\n",
              "      <th>px_height</th>\n",
              "      <th>px_width</th>\n",
              "      <th>ram</th>\n",
              "      <th>sc_h</th>\n",
              "      <th>sc_w</th>\n",
              "      <th>talk_time</th>\n",
              "      <th>three_g</th>\n",
              "      <th>touch_screen</th>\n",
              "      <th>wifi</th>\n",
              "    </tr>\n",
              "  </thead>\n",
              "  <tbody>\n",
              "    <tr>\n",
              "      <th>0</th>\n",
              "      <td>772</td>\n",
              "      <td>0</td>\n",
              "      <td>1.1</td>\n",
              "      <td>1</td>\n",
              "      <td>12</td>\n",
              "      <td>0</td>\n",
              "      <td>39</td>\n",
              "      <td>0.8</td>\n",
              "      <td>81</td>\n",
              "      <td>7</td>\n",
              "      <td>14</td>\n",
              "      <td>1314</td>\n",
              "      <td>1854</td>\n",
              "      <td>2819</td>\n",
              "      <td>17</td>\n",
              "      <td>15</td>\n",
              "      <td>3</td>\n",
              "      <td>1</td>\n",
              "      <td>1</td>\n",
              "      <td>0</td>\n",
              "    </tr>\n",
              "    <tr>\n",
              "      <th>1</th>\n",
              "      <td>1709</td>\n",
              "      <td>1</td>\n",
              "      <td>2.1</td>\n",
              "      <td>0</td>\n",
              "      <td>1</td>\n",
              "      <td>0</td>\n",
              "      <td>13</td>\n",
              "      <td>1.0</td>\n",
              "      <td>156</td>\n",
              "      <td>2</td>\n",
              "      <td>2</td>\n",
              "      <td>974</td>\n",
              "      <td>1385</td>\n",
              "      <td>3283</td>\n",
              "      <td>17</td>\n",
              "      <td>1</td>\n",
              "      <td>15</td>\n",
              "      <td>1</td>\n",
              "      <td>0</td>\n",
              "      <td>0</td>\n",
              "    </tr>\n",
              "    <tr>\n",
              "      <th>2</th>\n",
              "      <td>1949</td>\n",
              "      <td>0</td>\n",
              "      <td>2.6</td>\n",
              "      <td>1</td>\n",
              "      <td>4</td>\n",
              "      <td>0</td>\n",
              "      <td>47</td>\n",
              "      <td>0.3</td>\n",
              "      <td>199</td>\n",
              "      <td>4</td>\n",
              "      <td>7</td>\n",
              "      <td>407</td>\n",
              "      <td>822</td>\n",
              "      <td>1433</td>\n",
              "      <td>11</td>\n",
              "      <td>5</td>\n",
              "      <td>20</td>\n",
              "      <td>0</td>\n",
              "      <td>0</td>\n",
              "      <td>1</td>\n",
              "    </tr>\n",
              "    <tr>\n",
              "      <th>3</th>\n",
              "      <td>615</td>\n",
              "      <td>1</td>\n",
              "      <td>2.5</td>\n",
              "      <td>0</td>\n",
              "      <td>0</td>\n",
              "      <td>0</td>\n",
              "      <td>10</td>\n",
              "      <td>0.8</td>\n",
              "      <td>131</td>\n",
              "      <td>6</td>\n",
              "      <td>9</td>\n",
              "      <td>1216</td>\n",
              "      <td>1786</td>\n",
              "      <td>2769</td>\n",
              "      <td>16</td>\n",
              "      <td>8</td>\n",
              "      <td>11</td>\n",
              "      <td>1</td>\n",
              "      <td>0</td>\n",
              "      <td>0</td>\n",
              "    </tr>\n",
              "    <tr>\n",
              "      <th>4</th>\n",
              "      <td>1821</td>\n",
              "      <td>1</td>\n",
              "      <td>1.2</td>\n",
              "      <td>0</td>\n",
              "      <td>13</td>\n",
              "      <td>1</td>\n",
              "      <td>44</td>\n",
              "      <td>0.6</td>\n",
              "      <td>141</td>\n",
              "      <td>2</td>\n",
              "      <td>14</td>\n",
              "      <td>1208</td>\n",
              "      <td>1212</td>\n",
              "      <td>1411</td>\n",
              "      <td>8</td>\n",
              "      <td>2</td>\n",
              "      <td>15</td>\n",
              "      <td>1</td>\n",
              "      <td>1</td>\n",
              "      <td>0</td>\n",
              "    </tr>\n",
              "  </tbody>\n",
              "</table>\n",
              "</div>\n",
              "      <button class=\"colab-df-convert\" onclick=\"convertToInteractive('df-725f03ec-4a5a-4520-855b-f7c6ed674c19')\"\n",
              "              title=\"Convert this dataframe to an interactive table.\"\n",
              "              style=\"display:none;\">\n",
              "        \n",
              "  <svg xmlns=\"http://www.w3.org/2000/svg\" height=\"24px\"viewBox=\"0 0 24 24\"\n",
              "       width=\"24px\">\n",
              "    <path d=\"M0 0h24v24H0V0z\" fill=\"none\"/>\n",
              "    <path d=\"M18.56 5.44l.94 2.06.94-2.06 2.06-.94-2.06-.94-.94-2.06-.94 2.06-2.06.94zm-11 1L8.5 8.5l.94-2.06 2.06-.94-2.06-.94L8.5 2.5l-.94 2.06-2.06.94zm10 10l.94 2.06.94-2.06 2.06-.94-2.06-.94-.94-2.06-.94 2.06-2.06.94z\"/><path d=\"M17.41 7.96l-1.37-1.37c-.4-.4-.92-.59-1.43-.59-.52 0-1.04.2-1.43.59L10.3 9.45l-7.72 7.72c-.78.78-.78 2.05 0 2.83L4 21.41c.39.39.9.59 1.41.59.51 0 1.02-.2 1.41-.59l7.78-7.78 2.81-2.81c.8-.78.8-2.07 0-2.86zM5.41 20L4 18.59l7.72-7.72 1.47 1.35L5.41 20z\"/>\n",
              "  </svg>\n",
              "      </button>\n",
              "      \n",
              "  <style>\n",
              "    .colab-df-container {\n",
              "      display:flex;\n",
              "      flex-wrap:wrap;\n",
              "      gap: 12px;\n",
              "    }\n",
              "\n",
              "    .colab-df-convert {\n",
              "      background-color: #E8F0FE;\n",
              "      border: none;\n",
              "      border-radius: 50%;\n",
              "      cursor: pointer;\n",
              "      display: none;\n",
              "      fill: #1967D2;\n",
              "      height: 32px;\n",
              "      padding: 0 0 0 0;\n",
              "      width: 32px;\n",
              "    }\n",
              "\n",
              "    .colab-df-convert:hover {\n",
              "      background-color: #E2EBFA;\n",
              "      box-shadow: 0px 1px 2px rgba(60, 64, 67, 0.3), 0px 1px 3px 1px rgba(60, 64, 67, 0.15);\n",
              "      fill: #174EA6;\n",
              "    }\n",
              "\n",
              "    [theme=dark] .colab-df-convert {\n",
              "      background-color: #3B4455;\n",
              "      fill: #D2E3FC;\n",
              "    }\n",
              "\n",
              "    [theme=dark] .colab-df-convert:hover {\n",
              "      background-color: #434B5C;\n",
              "      box-shadow: 0px 1px 3px 1px rgba(0, 0, 0, 0.15);\n",
              "      filter: drop-shadow(0px 1px 2px rgba(0, 0, 0, 0.3));\n",
              "      fill: #FFFFFF;\n",
              "    }\n",
              "  </style>\n",
              "\n",
              "      <script>\n",
              "        const buttonEl =\n",
              "          document.querySelector('#df-725f03ec-4a5a-4520-855b-f7c6ed674c19 button.colab-df-convert');\n",
              "        buttonEl.style.display =\n",
              "          google.colab.kernel.accessAllowed ? 'block' : 'none';\n",
              "\n",
              "        async function convertToInteractive(key) {\n",
              "          const element = document.querySelector('#df-725f03ec-4a5a-4520-855b-f7c6ed674c19');\n",
              "          const dataTable =\n",
              "            await google.colab.kernel.invokeFunction('convertToInteractive',\n",
              "                                                     [key], {});\n",
              "          if (!dataTable) return;\n",
              "\n",
              "          const docLinkHtml = 'Like what you see? Visit the ' +\n",
              "            '<a target=\"_blank\" href=https://colab.research.google.com/notebooks/data_table.ipynb>data table notebook</a>'\n",
              "            + ' to learn more about interactive tables.';\n",
              "          element.innerHTML = '';\n",
              "          dataTable['output_type'] = 'display_data';\n",
              "          await google.colab.output.renderOutput(dataTable, element);\n",
              "          const docLink = document.createElement('div');\n",
              "          docLink.innerHTML = docLinkHtml;\n",
              "          element.appendChild(docLink);\n",
              "        }\n",
              "      </script>\n",
              "    </div>\n",
              "  </div>\n",
              "  "
            ],
            "text/plain": [
              "   battery_power  blue  clock_speed  dual_sim  fc  four_g  int_memory  m_dep  \\\n",
              "0            772     0          1.1         1  12       0          39    0.8   \n",
              "1           1709     1          2.1         0   1       0          13    1.0   \n",
              "2           1949     0          2.6         1   4       0          47    0.3   \n",
              "3            615     1          2.5         0   0       0          10    0.8   \n",
              "4           1821     1          1.2         0  13       1          44    0.6   \n",
              "\n",
              "   mobile_wt  n_cores  pc  px_height  px_width   ram  sc_h  sc_w  talk_time  \\\n",
              "0         81        7  14       1314      1854  2819    17    15          3   \n",
              "1        156        2   2        974      1385  3283    17     1         15   \n",
              "2        199        4   7        407       822  1433    11     5         20   \n",
              "3        131        6   9       1216      1786  2769    16     8         11   \n",
              "4        141        2  14       1208      1212  1411     8     2         15   \n",
              "\n",
              "   three_g  touch_screen  wifi  \n",
              "0        1             1     0  \n",
              "1        1             0     0  \n",
              "2        0             0     1  \n",
              "3        1             0     0  \n",
              "4        1             1     0  "
            ]
          },
          "execution_count": 48,
          "metadata": {},
          "output_type": "execute_result"
        }
      ],
      "source": [
        "X.head(5)"
      ]
    },
    {
      "cell_type": "code",
      "execution_count": null,
      "metadata": {
        "colab": {
          "background_save": true,
          "base_uri": "https://localhost:8080/"
        },
        "id": "sSQMCInuiENS",
        "outputId": "b2b27440-3111-42bc-c3eb-c6c717412dcc"
      },
      "outputs": [
        {
          "data": {
            "text/html": [
              "\n",
              "  <div id=\"df-f328b7f2-db94-406e-8a7c-fddc98be3352\">\n",
              "    <div class=\"colab-df-container\">\n",
              "      <div>\n",
              "<style scoped>\n",
              "    .dataframe tbody tr th:only-of-type {\n",
              "        vertical-align: middle;\n",
              "    }\n",
              "\n",
              "    .dataframe tbody tr th {\n",
              "        vertical-align: top;\n",
              "    }\n",
              "\n",
              "    .dataframe thead th {\n",
              "        text-align: right;\n",
              "    }\n",
              "</style>\n",
              "<table border=\"1\" class=\"dataframe\">\n",
              "  <thead>\n",
              "    <tr style=\"text-align: right;\">\n",
              "      <th></th>\n",
              "      <th>Feature_Names</th>\n",
              "      <th>Gain_Output</th>\n",
              "    </tr>\n",
              "  </thead>\n",
              "  <tbody>\n",
              "    <tr>\n",
              "      <th>13</th>\n",
              "      <td>ram</td>\n",
              "      <td>0.388268</td>\n",
              "    </tr>\n",
              "    <tr>\n",
              "      <th>0</th>\n",
              "      <td>battery_power</td>\n",
              "      <td>0.061464</td>\n",
              "    </tr>\n",
              "    <tr>\n",
              "      <th>12</th>\n",
              "      <td>px_width</td>\n",
              "      <td>0.049309</td>\n",
              "    </tr>\n",
              "    <tr>\n",
              "      <th>11</th>\n",
              "      <td>px_height</td>\n",
              "      <td>0.045936</td>\n",
              "    </tr>\n",
              "    <tr>\n",
              "      <th>8</th>\n",
              "      <td>mobile_wt</td>\n",
              "      <td>0.036810</td>\n",
              "    </tr>\n",
              "    <tr>\n",
              "      <th>6</th>\n",
              "      <td>int_memory</td>\n",
              "      <td>0.035864</td>\n",
              "    </tr>\n",
              "    <tr>\n",
              "      <th>16</th>\n",
              "      <td>talk_time</td>\n",
              "      <td>0.034990</td>\n",
              "    </tr>\n",
              "    <tr>\n",
              "      <th>14</th>\n",
              "      <td>sc_h</td>\n",
              "      <td>0.034910</td>\n",
              "    </tr>\n",
              "    <tr>\n",
              "      <th>15</th>\n",
              "      <td>sc_w</td>\n",
              "      <td>0.034675</td>\n",
              "    </tr>\n",
              "    <tr>\n",
              "      <th>10</th>\n",
              "      <td>pc</td>\n",
              "      <td>0.034533</td>\n",
              "    </tr>\n",
              "    <tr>\n",
              "      <th>7</th>\n",
              "      <td>m_dep</td>\n",
              "      <td>0.033840</td>\n",
              "    </tr>\n",
              "    <tr>\n",
              "      <th>2</th>\n",
              "      <td>clock_speed</td>\n",
              "      <td>0.033800</td>\n",
              "    </tr>\n",
              "    <tr>\n",
              "      <th>9</th>\n",
              "      <td>n_cores</td>\n",
              "      <td>0.033708</td>\n",
              "    </tr>\n",
              "    <tr>\n",
              "      <th>4</th>\n",
              "      <td>fc</td>\n",
              "      <td>0.033261</td>\n",
              "    </tr>\n",
              "    <tr>\n",
              "      <th>19</th>\n",
              "      <td>wifi</td>\n",
              "      <td>0.020218</td>\n",
              "    </tr>\n",
              "    <tr>\n",
              "      <th>1</th>\n",
              "      <td>blue</td>\n",
              "      <td>0.019563</td>\n",
              "    </tr>\n",
              "    <tr>\n",
              "      <th>3</th>\n",
              "      <td>dual_sim</td>\n",
              "      <td>0.019311</td>\n",
              "    </tr>\n",
              "    <tr>\n",
              "      <th>18</th>\n",
              "      <td>touch_screen</td>\n",
              "      <td>0.017784</td>\n",
              "    </tr>\n",
              "    <tr>\n",
              "      <th>5</th>\n",
              "      <td>four_g</td>\n",
              "      <td>0.017485</td>\n",
              "    </tr>\n",
              "    <tr>\n",
              "      <th>17</th>\n",
              "      <td>three_g</td>\n",
              "      <td>0.014272</td>\n",
              "    </tr>\n",
              "  </tbody>\n",
              "</table>\n",
              "</div>\n",
              "      <button class=\"colab-df-convert\" onclick=\"convertToInteractive('df-f328b7f2-db94-406e-8a7c-fddc98be3352')\"\n",
              "              title=\"Convert this dataframe to an interactive table.\"\n",
              "              style=\"display:none;\">\n",
              "        \n",
              "  <svg xmlns=\"http://www.w3.org/2000/svg\" height=\"24px\"viewBox=\"0 0 24 24\"\n",
              "       width=\"24px\">\n",
              "    <path d=\"M0 0h24v24H0V0z\" fill=\"none\"/>\n",
              "    <path d=\"M18.56 5.44l.94 2.06.94-2.06 2.06-.94-2.06-.94-.94-2.06-.94 2.06-2.06.94zm-11 1L8.5 8.5l.94-2.06 2.06-.94-2.06-.94L8.5 2.5l-.94 2.06-2.06.94zm10 10l.94 2.06.94-2.06 2.06-.94-2.06-.94-.94-2.06-.94 2.06-2.06.94z\"/><path d=\"M17.41 7.96l-1.37-1.37c-.4-.4-.92-.59-1.43-.59-.52 0-1.04.2-1.43.59L10.3 9.45l-7.72 7.72c-.78.78-.78 2.05 0 2.83L4 21.41c.39.39.9.59 1.41.59.51 0 1.02-.2 1.41-.59l7.78-7.78 2.81-2.81c.8-.78.8-2.07 0-2.86zM5.41 20L4 18.59l7.72-7.72 1.47 1.35L5.41 20z\"/>\n",
              "  </svg>\n",
              "      </button>\n",
              "      \n",
              "  <style>\n",
              "    .colab-df-container {\n",
              "      display:flex;\n",
              "      flex-wrap:wrap;\n",
              "      gap: 12px;\n",
              "    }\n",
              "\n",
              "    .colab-df-convert {\n",
              "      background-color: #E8F0FE;\n",
              "      border: none;\n",
              "      border-radius: 50%;\n",
              "      cursor: pointer;\n",
              "      display: none;\n",
              "      fill: #1967D2;\n",
              "      height: 32px;\n",
              "      padding: 0 0 0 0;\n",
              "      width: 32px;\n",
              "    }\n",
              "\n",
              "    .colab-df-convert:hover {\n",
              "      background-color: #E2EBFA;\n",
              "      box-shadow: 0px 1px 2px rgba(60, 64, 67, 0.3), 0px 1px 3px 1px rgba(60, 64, 67, 0.15);\n",
              "      fill: #174EA6;\n",
              "    }\n",
              "\n",
              "    [theme=dark] .colab-df-convert {\n",
              "      background-color: #3B4455;\n",
              "      fill: #D2E3FC;\n",
              "    }\n",
              "\n",
              "    [theme=dark] .colab-df-convert:hover {\n",
              "      background-color: #434B5C;\n",
              "      box-shadow: 0px 1px 3px 1px rgba(0, 0, 0, 0.15);\n",
              "      filter: drop-shadow(0px 1px 2px rgba(0, 0, 0, 0.3));\n",
              "      fill: #FFFFFF;\n",
              "    }\n",
              "  </style>\n",
              "\n",
              "      <script>\n",
              "        const buttonEl =\n",
              "          document.querySelector('#df-f328b7f2-db94-406e-8a7c-fddc98be3352 button.colab-df-convert');\n",
              "        buttonEl.style.display =\n",
              "          google.colab.kernel.accessAllowed ? 'block' : 'none';\n",
              "\n",
              "        async function convertToInteractive(key) {\n",
              "          const element = document.querySelector('#df-f328b7f2-db94-406e-8a7c-fddc98be3352');\n",
              "          const dataTable =\n",
              "            await google.colab.kernel.invokeFunction('convertToInteractive',\n",
              "                                                     [key], {});\n",
              "          if (!dataTable) return;\n",
              "\n",
              "          const docLinkHtml = 'Like what you see? Visit the ' +\n",
              "            '<a target=\"_blank\" href=https://colab.research.google.com/notebooks/data_table.ipynb>data table notebook</a>'\n",
              "            + ' to learn more about interactive tables.';\n",
              "          element.innerHTML = '';\n",
              "          dataTable['output_type'] = 'display_data';\n",
              "          await google.colab.output.renderOutput(dataTable, element);\n",
              "          const docLink = document.createElement('div');\n",
              "          docLink.innerHTML = docLinkHtml;\n",
              "          element.appendChild(docLink);\n",
              "        }\n",
              "      </script>\n",
              "    </div>\n",
              "  </div>\n",
              "  "
            ],
            "text/plain": [
              "    Feature_Names  Gain_Output\n",
              "13            ram     0.388268\n",
              "0   battery_power     0.061464\n",
              "12       px_width     0.049309\n",
              "11      px_height     0.045936\n",
              "8       mobile_wt     0.036810\n",
              "6      int_memory     0.035864\n",
              "16      talk_time     0.034990\n",
              "14           sc_h     0.034910\n",
              "15           sc_w     0.034675\n",
              "10             pc     0.034533\n",
              "7           m_dep     0.033840\n",
              "2     clock_speed     0.033800\n",
              "9         n_cores     0.033708\n",
              "4              fc     0.033261\n",
              "19           wifi     0.020218\n",
              "1            blue     0.019563\n",
              "3        dual_sim     0.019311\n",
              "18   touch_screen     0.017784\n",
              "5          four_g     0.017485\n",
              "17        three_g     0.014272"
            ]
          },
          "execution_count": null,
          "metadata": {},
          "output_type": "execute_result"
        }
      ],
      "source": [
        "Top20"
      ]
    },
    {
      "cell_type": "code",
      "execution_count": null,
      "metadata": {
        "colab": {
          "background_save": true
        },
        "id": "rgpDs0qQh1hH"
      },
      "outputs": [],
      "source": [
        "Xfk=X.drop(['n_cores','m_dep','blue',\t'wifi', 'dual_sim',\t'touch_screen',\t'four_g',\t'three_g'], axis=1)"
      ]
    },
    {
      "cell_type": "code",
      "execution_count": null,
      "metadata": {
        "colab": {
          "background_save": true,
          "base_uri": "https://localhost:8080/"
        },
        "id": "8MU8h0uKTznx",
        "outputId": "1ff40090-7ee1-4a8e-8889-4cda6ddd5f05"
      },
      "outputs": [
        {
          "data": {
            "text/html": [
              "\n",
              "  <div id=\"df-a27f17ca-c3f9-4122-b7ac-4c3ce1660d78\">\n",
              "    <div class=\"colab-df-container\">\n",
              "      <div>\n",
              "<style scoped>\n",
              "    .dataframe tbody tr th:only-of-type {\n",
              "        vertical-align: middle;\n",
              "    }\n",
              "\n",
              "    .dataframe tbody tr th {\n",
              "        vertical-align: top;\n",
              "    }\n",
              "\n",
              "    .dataframe thead th {\n",
              "        text-align: right;\n",
              "    }\n",
              "</style>\n",
              "<table border=\"1\" class=\"dataframe\">\n",
              "  <thead>\n",
              "    <tr style=\"text-align: right;\">\n",
              "      <th></th>\n",
              "      <th>battery_power</th>\n",
              "      <th>clock_speed</th>\n",
              "      <th>fc</th>\n",
              "      <th>int_memory</th>\n",
              "      <th>mobile_wt</th>\n",
              "      <th>pc</th>\n",
              "      <th>px_height</th>\n",
              "      <th>px_width</th>\n",
              "      <th>ram</th>\n",
              "      <th>sc_h</th>\n",
              "      <th>sc_w</th>\n",
              "      <th>talk_time</th>\n",
              "    </tr>\n",
              "  </thead>\n",
              "  <tbody>\n",
              "    <tr>\n",
              "      <th>0</th>\n",
              "      <td>772</td>\n",
              "      <td>1.1</td>\n",
              "      <td>12</td>\n",
              "      <td>39</td>\n",
              "      <td>81</td>\n",
              "      <td>14</td>\n",
              "      <td>1314</td>\n",
              "      <td>1854</td>\n",
              "      <td>2819</td>\n",
              "      <td>17</td>\n",
              "      <td>15</td>\n",
              "      <td>3</td>\n",
              "    </tr>\n",
              "    <tr>\n",
              "      <th>1</th>\n",
              "      <td>1709</td>\n",
              "      <td>2.1</td>\n",
              "      <td>1</td>\n",
              "      <td>13</td>\n",
              "      <td>156</td>\n",
              "      <td>2</td>\n",
              "      <td>974</td>\n",
              "      <td>1385</td>\n",
              "      <td>3283</td>\n",
              "      <td>17</td>\n",
              "      <td>1</td>\n",
              "      <td>15</td>\n",
              "    </tr>\n",
              "    <tr>\n",
              "      <th>2</th>\n",
              "      <td>1949</td>\n",
              "      <td>2.6</td>\n",
              "      <td>4</td>\n",
              "      <td>47</td>\n",
              "      <td>199</td>\n",
              "      <td>7</td>\n",
              "      <td>407</td>\n",
              "      <td>822</td>\n",
              "      <td>1433</td>\n",
              "      <td>11</td>\n",
              "      <td>5</td>\n",
              "      <td>20</td>\n",
              "    </tr>\n",
              "  </tbody>\n",
              "</table>\n",
              "</div>\n",
              "      <button class=\"colab-df-convert\" onclick=\"convertToInteractive('df-a27f17ca-c3f9-4122-b7ac-4c3ce1660d78')\"\n",
              "              title=\"Convert this dataframe to an interactive table.\"\n",
              "              style=\"display:none;\">\n",
              "        \n",
              "  <svg xmlns=\"http://www.w3.org/2000/svg\" height=\"24px\"viewBox=\"0 0 24 24\"\n",
              "       width=\"24px\">\n",
              "    <path d=\"M0 0h24v24H0V0z\" fill=\"none\"/>\n",
              "    <path d=\"M18.56 5.44l.94 2.06.94-2.06 2.06-.94-2.06-.94-.94-2.06-.94 2.06-2.06.94zm-11 1L8.5 8.5l.94-2.06 2.06-.94-2.06-.94L8.5 2.5l-.94 2.06-2.06.94zm10 10l.94 2.06.94-2.06 2.06-.94-2.06-.94-.94-2.06-.94 2.06-2.06.94z\"/><path d=\"M17.41 7.96l-1.37-1.37c-.4-.4-.92-.59-1.43-.59-.52 0-1.04.2-1.43.59L10.3 9.45l-7.72 7.72c-.78.78-.78 2.05 0 2.83L4 21.41c.39.39.9.59 1.41.59.51 0 1.02-.2 1.41-.59l7.78-7.78 2.81-2.81c.8-.78.8-2.07 0-2.86zM5.41 20L4 18.59l7.72-7.72 1.47 1.35L5.41 20z\"/>\n",
              "  </svg>\n",
              "      </button>\n",
              "      \n",
              "  <style>\n",
              "    .colab-df-container {\n",
              "      display:flex;\n",
              "      flex-wrap:wrap;\n",
              "      gap: 12px;\n",
              "    }\n",
              "\n",
              "    .colab-df-convert {\n",
              "      background-color: #E8F0FE;\n",
              "      border: none;\n",
              "      border-radius: 50%;\n",
              "      cursor: pointer;\n",
              "      display: none;\n",
              "      fill: #1967D2;\n",
              "      height: 32px;\n",
              "      padding: 0 0 0 0;\n",
              "      width: 32px;\n",
              "    }\n",
              "\n",
              "    .colab-df-convert:hover {\n",
              "      background-color: #E2EBFA;\n",
              "      box-shadow: 0px 1px 2px rgba(60, 64, 67, 0.3), 0px 1px 3px 1px rgba(60, 64, 67, 0.15);\n",
              "      fill: #174EA6;\n",
              "    }\n",
              "\n",
              "    [theme=dark] .colab-df-convert {\n",
              "      background-color: #3B4455;\n",
              "      fill: #D2E3FC;\n",
              "    }\n",
              "\n",
              "    [theme=dark] .colab-df-convert:hover {\n",
              "      background-color: #434B5C;\n",
              "      box-shadow: 0px 1px 3px 1px rgba(0, 0, 0, 0.15);\n",
              "      filter: drop-shadow(0px 1px 2px rgba(0, 0, 0, 0.3));\n",
              "      fill: #FFFFFF;\n",
              "    }\n",
              "  </style>\n",
              "\n",
              "      <script>\n",
              "        const buttonEl =\n",
              "          document.querySelector('#df-a27f17ca-c3f9-4122-b7ac-4c3ce1660d78 button.colab-df-convert');\n",
              "        buttonEl.style.display =\n",
              "          google.colab.kernel.accessAllowed ? 'block' : 'none';\n",
              "\n",
              "        async function convertToInteractive(key) {\n",
              "          const element = document.querySelector('#df-a27f17ca-c3f9-4122-b7ac-4c3ce1660d78');\n",
              "          const dataTable =\n",
              "            await google.colab.kernel.invokeFunction('convertToInteractive',\n",
              "                                                     [key], {});\n",
              "          if (!dataTable) return;\n",
              "\n",
              "          const docLinkHtml = 'Like what you see? Visit the ' +\n",
              "            '<a target=\"_blank\" href=https://colab.research.google.com/notebooks/data_table.ipynb>data table notebook</a>'\n",
              "            + ' to learn more about interactive tables.';\n",
              "          element.innerHTML = '';\n",
              "          dataTable['output_type'] = 'display_data';\n",
              "          await google.colab.output.renderOutput(dataTable, element);\n",
              "          const docLink = document.createElement('div');\n",
              "          docLink.innerHTML = docLinkHtml;\n",
              "          element.appendChild(docLink);\n",
              "        }\n",
              "      </script>\n",
              "    </div>\n",
              "  </div>\n",
              "  "
            ],
            "text/plain": [
              "   battery_power  clock_speed  fc  int_memory  mobile_wt  pc  px_height  \\\n",
              "0            772          1.1  12          39         81  14       1314   \n",
              "1           1709          2.1   1          13        156   2        974   \n",
              "2           1949          2.6   4          47        199   7        407   \n",
              "\n",
              "   px_width   ram  sc_h  sc_w  talk_time  \n",
              "0      1854  2819    17    15          3  \n",
              "1      1385  3283    17     1         15  \n",
              "2       822  1433    11     5         20  "
            ]
          },
          "execution_count": null,
          "metadata": {},
          "output_type": "execute_result"
        }
      ],
      "source": [
        "Xfk.head(3)"
      ]
    },
    {
      "cell_type": "code",
      "execution_count": null,
      "metadata": {
        "colab": {
          "background_save": true,
          "base_uri": "https://localhost:8080/"
        },
        "id": "Ok8KDK76cKnc",
        "outputId": "cc8bb52f-63b7-4b73-e589-cd286518c8db"
      },
      "outputs": [
        {
          "data": {
            "text/plain": [
              "(2000, 12)"
            ]
          },
          "execution_count": null,
          "metadata": {},
          "output_type": "execute_result"
        }
      ],
      "source": [
        "Xfk.shape"
      ]
    },
    {
      "cell_type": "code",
      "execution_count": null,
      "metadata": {
        "colab": {
          "background_save": true
        },
        "id": "EMRgwBfIcV4V"
      },
      "outputs": [],
      "source": [
        "yfk=y.copy()"
      ]
    },
    {
      "cell_type": "code",
      "execution_count": null,
      "metadata": {
        "colab": {
          "background_save": true,
          "base_uri": "https://localhost:8080/"
        },
        "id": "Gv0lxCGecXzc",
        "outputId": "7d5647db-a926-48a5-db42-a68b93bf8351"
      },
      "outputs": [
        {
          "data": {
            "text/plain": [
              "0    3\n",
              "1    3\n",
              "2    1\n",
              "Name: price_range, dtype: int64"
            ]
          },
          "execution_count": null,
          "metadata": {},
          "output_type": "execute_result"
        }
      ],
      "source": [
        "yfk.head(3)"
      ]
    },
    {
      "cell_type": "code",
      "execution_count": null,
      "metadata": {
        "colab": {
          "background_save": true,
          "base_uri": "https://localhost:8080/"
        },
        "id": "P0-iti3DcdgH",
        "outputId": "55464b7d-5540-4526-8ebf-cd0f3b3a37b0"
      },
      "outputs": [
        {
          "data": {
            "text/plain": [
              "(2000,)"
            ]
          },
          "execution_count": null,
          "metadata": {},
          "output_type": "execute_result"
        }
      ],
      "source": [
        "yfk.shape"
      ]
    },
    {
      "cell_type": "markdown",
      "metadata": {
        "id": "-z7DJkAufMiv"
      },
      "source": [
        "**Splitting in Train and Test Dataset**"
      ]
    },
    {
      "cell_type": "code",
      "execution_count": null,
      "metadata": {
        "colab": {
          "background_save": true
        },
        "id": "w3L4vtvdfgIr"
      },
      "outputs": [],
      "source": [
        "from sklearn.model_selection import train_test_split\n",
        "Xfk_train, Xfk_test, yfk_train, yfk_test=train_test_split(Xfk,yfk, test_size=0.3, random_state=42)"
      ]
    },
    {
      "cell_type": "code",
      "execution_count": null,
      "metadata": {
        "colab": {
          "background_save": true,
          "base_uri": "https://localhost:8080/"
        },
        "id": "uq6G-mhAiyzp",
        "outputId": "1e556c4f-3c71-4b32-cf79-8cd5433c3f75"
      },
      "outputs": [
        {
          "data": {
            "text/plain": [
              "1400"
            ]
          },
          "execution_count": null,
          "metadata": {},
          "output_type": "execute_result"
        }
      ],
      "source": [
        "yfk_train.count()"
      ]
    },
    {
      "cell_type": "code",
      "execution_count": null,
      "metadata": {
        "colab": {
          "background_save": true,
          "base_uri": "https://localhost:8080/"
        },
        "id": "xTwIxbMyi4Rp",
        "outputId": "f8b2f48e-690d-455f-b149-6b074c9a82d3"
      },
      "outputs": [
        {
          "data": {
            "text/plain": [
              "600"
            ]
          },
          "execution_count": null,
          "metadata": {},
          "output_type": "execute_result"
        }
      ],
      "source": [
        "yfk_test.count()"
      ]
    },
    {
      "cell_type": "markdown",
      "metadata": {
        "id": "zm5kFEN2cncX"
      },
      "source": [
        "**KNN Model Creation**"
      ]
    },
    {
      "cell_type": "code",
      "execution_count": null,
      "metadata": {
        "colab": {
          "background_save": true,
          "base_uri": "https://localhost:8080/"
        },
        "id": "c7pxO6p4hYYn",
        "outputId": "38a5a310-eee2-4419-c123-7a6582e74ce0"
      },
      "outputs": [
        {
          "data": {
            "text/plain": [
              "4"
            ]
          },
          "execution_count": null,
          "metadata": {},
          "output_type": "execute_result"
        }
      ],
      "source": [
        "yfk.nunique()"
      ]
    },
    {
      "cell_type": "code",
      "execution_count": null,
      "metadata": {
        "colab": {
          "background_save": true
        },
        "id": "2bt4eY9Lcr3m"
      },
      "outputs": [],
      "source": [
        "from sklearn.neighbors import KNeighborsClassifier"
      ]
    },
    {
      "cell_type": "code",
      "execution_count": null,
      "metadata": {
        "colab": {
          "background_save": true,
          "base_uri": "https://localhost:8080/"
        },
        "id": "cGC33QcicsCS",
        "outputId": "2183ac7d-defd-485b-cc7f-0984c25945e2"
      },
      "outputs": [
        {
          "data": {
            "text/plain": [
              "KNeighborsClassifier(n_neighbors=4)"
            ]
          },
          "execution_count": null,
          "metadata": {},
          "output_type": "execute_result"
        }
      ],
      "source": [
        "knc_fk = KNeighborsClassifier(n_neighbors=4)\n",
        "knc_fk.fit(Xfk_train,yfk_train)"
      ]
    },
    {
      "cell_type": "code",
      "execution_count": null,
      "metadata": {
        "colab": {
          "background_save": true
        },
        "id": "q_ic-629ho7G"
      },
      "outputs": [],
      "source": [
        "yfk_pred = knc_fk.predict(Xfk_test)"
      ]
    },
    {
      "cell_type": "code",
      "execution_count": null,
      "metadata": {
        "colab": {
          "background_save": true,
          "base_uri": "https://localhost:8080/"
        },
        "id": "LG9Ft2bmjWtV",
        "outputId": "3d49c13a-776c-400a-bc4c-e2641241578a"
      },
      "outputs": [
        {
          "data": {
            "text/plain": [
              "0.9066666666666666"
            ]
          },
          "execution_count": null,
          "metadata": {},
          "output_type": "execute_result"
        }
      ],
      "source": [
        "#Accuracy Check\n",
        "knc_fk.score(Xfk_test , yfk_test)"
      ]
    },
    {
      "cell_type": "markdown",
      "metadata": {
        "id": "hkLifktzjqTl"
      },
      "source": [
        "#Optimization with GridSearchCV"
      ]
    },
    {
      "cell_type": "code",
      "execution_count": null,
      "metadata": {
        "colab": {
          "background_save": true,
          "base_uri": "https://localhost:8080/"
        },
        "id": "5AOt6DIyj3p0",
        "outputId": "fd07502e-6a88-4f69-8ca9-df537449acde"
      },
      "outputs": [
        {
          "name": "stdout",
          "output_type": "stream",
          "text": [
            "Fitting 10 folds for each of 30 candidates, totalling 300 fits\n"
          ]
        },
        {
          "data": {
            "text/plain": [
              "GridSearchCV(cv=10, estimator=KNeighborsClassifier(n_neighbors=4),\n",
              "             param_grid={'n_neighbors': [1, 2, 3, 4, 5, 6, 7, 8, 9, 10, 11, 12,\n",
              "                                         13, 14, 15, 16, 17, 18, 19, 20, 21, 22,\n",
              "                                         23, 24, 25, 26, 27, 28, 29, 30]},\n",
              "             scoring='accuracy', verbose=1)"
            ]
          },
          "execution_count": null,
          "metadata": {},
          "output_type": "execute_result"
        }
      ],
      "source": [
        "from sklearn.model_selection import GridSearchCV\n",
        "k_range = list(range(1, 31))\n",
        "param_grid = dict(n_neighbors=k_range)\n",
        "  \n",
        "# defining parameter range\n",
        "knc_fk_grid = GridSearchCV(knc_fk, param_grid, cv=10, scoring='accuracy', return_train_score=False,verbose=1)\n",
        "  \n",
        "# fitting the model for grid search\n",
        "knc_fk_grid.fit(Xfk_train,yfk_train)"
      ]
    },
    {
      "cell_type": "code",
      "execution_count": null,
      "metadata": {
        "colab": {
          "background_save": true
        },
        "id": "pEHnnCwlnvgg"
      },
      "outputs": [],
      "source": [
        "yfk_pred_grid = knc_fk_grid.predict(Xfk_test)"
      ]
    },
    {
      "cell_type": "code",
      "execution_count": null,
      "metadata": {
        "colab": {
          "background_save": true,
          "base_uri": "https://localhost:8080/"
        },
        "id": "8q3X7Y4QoNFB",
        "outputId": "bc9f27b1-1caa-4ab6-f1d2-885ce6ca926a"
      },
      "outputs": [
        {
          "data": {
            "text/plain": [
              "array([0, 2, 1, 3, 1, 1, 2, 0, 3, 1, 0, 0, 2, 3, 2, 2, 3, 3, 1, 0, 0, 1,\n",
              "       1, 2, 0, 1, 3, 2, 2, 0, 0, 0, 3, 0, 1, 1, 2, 0, 3, 0, 2, 3, 2, 0,\n",
              "       2, 2, 2, 1, 3, 1, 3, 1, 0, 0, 1, 0, 1, 2, 0, 0, 1, 3, 3, 1, 0, 0,\n",
              "       3, 3, 1, 2, 2, 2, 0, 1, 2, 0, 1, 3, 2, 1, 3, 2, 1, 0, 1, 3, 1, 3,\n",
              "       3, 0, 3, 3, 2, 1, 3, 2, 2, 3, 1, 1, 0, 0, 1, 0, 0, 3, 2, 0, 1, 1,\n",
              "       0, 0, 3, 1, 2, 2, 3, 2, 0, 2, 1, 3, 2, 1, 3, 3, 0, 2, 0, 2, 3, 0,\n",
              "       2, 2, 0, 3, 1, 0, 0, 2, 2, 0, 2, 2, 0, 0, 0, 1, 1, 2, 3, 1, 1, 0,\n",
              "       2, 2, 0, 1, 0, 2, 2, 3, 2, 2, 1, 0, 1, 2, 2, 3, 3, 0, 1, 0, 3, 1,\n",
              "       1, 2, 1, 0, 0, 0, 0, 0, 3, 2, 0, 3, 0, 0, 0, 0, 1, 3, 3, 1, 0, 1,\n",
              "       1, 1, 1, 2, 2, 3, 3, 3, 1, 2, 0, 0, 0, 2, 1, 1, 3, 1, 0, 2, 1, 1,\n",
              "       3, 2, 3, 0, 0, 2, 1, 3, 0, 1, 2, 0, 2, 3, 2, 0, 1, 3, 3, 0, 1, 3,\n",
              "       3, 3, 0, 3, 1, 2, 3, 3, 2, 1, 1, 3, 3, 1, 3, 3, 3, 3, 3, 0, 2, 2,\n",
              "       2, 1, 3, 0, 1, 3, 2, 2, 2, 1, 0, 1, 0, 3, 3, 1, 3, 1, 0, 3, 1, 2,\n",
              "       0, 0, 3, 0, 1, 2, 3, 3, 3, 1, 1, 0, 1, 3, 3, 0, 1, 2, 2, 0, 3, 3,\n",
              "       2, 3, 2, 3, 2, 0, 2, 1, 1, 1, 0, 0, 0, 3, 2, 3, 1, 0, 1, 1, 1, 3,\n",
              "       3, 0, 2, 3, 2, 1, 3, 0, 0, 2, 1, 3, 2, 0, 1, 1, 1, 0, 1, 3, 2, 0,\n",
              "       0, 3, 3, 0, 3, 0, 0, 2, 0, 1, 2, 2, 2, 3, 0, 3, 2, 2, 3, 3, 3, 2,\n",
              "       1, 1, 0, 3, 1, 3, 3, 0, 2, 3, 2, 3, 3, 3, 0, 0, 2, 3, 0, 0, 2, 3,\n",
              "       2, 1, 1, 2, 1, 3, 1, 3, 1, 2, 0, 0, 1, 0, 1, 0, 1, 0, 2, 2, 3, 2,\n",
              "       1, 1, 2, 1, 0, 3, 1, 0, 0, 3, 0, 1, 0, 0, 1, 3, 3, 0, 2, 0, 1, 1,\n",
              "       3, 3, 1, 2, 0, 2, 0, 0, 3, 3, 0, 2, 1, 1, 3, 1, 2, 0, 1, 3, 1, 0,\n",
              "       3, 1, 0, 0, 3, 2, 3, 2, 0, 3, 1, 0, 1, 2, 3, 2, 1, 1, 0, 1, 2, 2,\n",
              "       1, 1, 1, 3, 1, 2, 0, 3, 2, 3, 1, 0, 1, 2, 3, 1, 1, 2, 3, 0, 2, 2,\n",
              "       3, 2, 2, 2, 3, 1, 1, 1, 0, 1, 0, 3, 1, 0, 3, 1, 1, 3, 2, 2, 3, 2,\n",
              "       0, 3, 2, 2, 0, 3, 3, 2, 2, 2, 3, 2, 1, 3, 1, 2, 1, 3, 1, 2, 1, 3,\n",
              "       1, 1, 2, 3, 1, 0, 0, 2, 3, 3, 1, 1, 2, 0, 2, 0, 1, 3, 1, 0, 2, 2,\n",
              "       1, 1, 3, 0, 2, 0, 0, 1, 2, 3, 1, 2, 1, 3, 2, 1, 1, 3, 3, 2, 0, 0,\n",
              "       1, 2, 1, 0, 1, 0])"
            ]
          },
          "execution_count": null,
          "metadata": {},
          "output_type": "execute_result"
        }
      ],
      "source": [
        "yfk_pred_grid"
      ]
    },
    {
      "cell_type": "code",
      "execution_count": null,
      "metadata": {
        "colab": {
          "background_save": true,
          "base_uri": "https://localhost:8080/"
        },
        "id": "2jqJfnifoDPc",
        "outputId": "f8e652e7-3ceb-4ab2-fc51-50ef760512ea"
      },
      "outputs": [
        {
          "data": {
            "text/plain": [
              "0.9283333333333333"
            ]
          },
          "execution_count": null,
          "metadata": {},
          "output_type": "execute_result"
        }
      ],
      "source": [
        "#Accuracy Check\n",
        "knc_fk_grid.score(Xfk_test , yfk_test)"
      ]
    },
    {
      "cell_type": "markdown",
      "metadata": {
        "id": "_8-SFtbPpHq6"
      },
      "source": [
        "#Optimization with RandomizedSearchCV"
      ]
    },
    {
      "cell_type": "code",
      "execution_count": null,
      "metadata": {
        "colab": {
          "background_save": true,
          "base_uri": "https://localhost:8080/"
        },
        "id": "HRhyuJJrpIol",
        "outputId": "a157170a-f23c-4ffa-e06a-fe0145b86159"
      },
      "outputs": [
        {
          "data": {
            "text/plain": [
              "RandomizedSearchCV(cv=10, estimator=KNeighborsClassifier(n_neighbors=4),\n",
              "                   param_distributions={'n_neighbors': [1, 2, 3, 4, 5, 6, 7, 8,\n",
              "                                                        9, 10, 11, 12, 13, 14,\n",
              "                                                        15, 16, 17, 18, 19, 20,\n",
              "                                                        21, 22, 23, 24, 25, 26,\n",
              "                                                        27, 28, 29, 30]},\n",
              "                   random_state=5, scoring='accuracy')"
            ]
          },
          "execution_count": null,
          "metadata": {},
          "output_type": "execute_result"
        }
      ],
      "source": [
        "from sklearn.model_selection import RandomizedSearchCV\n",
        "param_dist = dict(n_neighbors=k_range)\n",
        "knc_fk_rand = RandomizedSearchCV(knc_fk, param_dist, cv=10, scoring='accuracy', n_iter=10, random_state=5)\n",
        "knc_fk_rand .fit(Xfk_train, yfk_train)"
      ]
    },
    {
      "cell_type": "code",
      "execution_count": null,
      "metadata": {
        "colab": {
          "background_save": true,
          "base_uri": "https://localhost:8080/"
        },
        "id": "ZiV4mCrts7Dw",
        "outputId": "2c352d2a-ec33-41dd-dfa9-c54e806ed16e"
      },
      "outputs": [
        {
          "data": {
            "text/plain": [
              "array([0, 2, 1, 3, 1, 1, 2, 0, 3, 1, 0, 0, 2, 3, 2, 2, 3, 3, 1, 0, 0, 1,\n",
              "       1, 2, 0, 1, 3, 2, 2, 0, 0, 0, 3, 0, 1, 1, 2, 0, 3, 0, 2, 3, 2, 0,\n",
              "       2, 2, 2, 1, 3, 1, 3, 1, 0, 0, 1, 0, 1, 2, 0, 0, 1, 3, 3, 1, 0, 0,\n",
              "       3, 3, 1, 2, 2, 2, 0, 1, 2, 0, 1, 3, 2, 1, 3, 2, 1, 0, 1, 3, 1, 3,\n",
              "       3, 0, 3, 3, 2, 1, 3, 2, 2, 3, 1, 1, 0, 0, 1, 0, 0, 3, 2, 0, 1, 1,\n",
              "       0, 0, 3, 1, 2, 2, 3, 2, 0, 2, 1, 3, 2, 1, 3, 3, 0, 2, 0, 2, 3, 0,\n",
              "       2, 2, 0, 3, 1, 0, 0, 2, 2, 0, 2, 2, 0, 0, 0, 1, 1, 2, 3, 1, 1, 0,\n",
              "       2, 2, 0, 1, 0, 2, 2, 3, 2, 2, 1, 0, 1, 2, 2, 3, 3, 0, 1, 0, 3, 1,\n",
              "       1, 2, 1, 0, 0, 0, 0, 0, 3, 2, 0, 3, 0, 0, 0, 0, 1, 3, 3, 1, 0, 1,\n",
              "       1, 1, 1, 2, 2, 3, 3, 3, 1, 2, 0, 0, 0, 2, 1, 1, 3, 1, 0, 2, 1, 1,\n",
              "       3, 2, 3, 0, 0, 2, 1, 3, 0, 1, 2, 0, 2, 3, 2, 0, 1, 3, 3, 0, 1, 3,\n",
              "       3, 3, 0, 3, 1, 2, 3, 3, 2, 1, 1, 3, 3, 1, 3, 3, 3, 3, 3, 0, 2, 2,\n",
              "       2, 1, 3, 0, 1, 3, 2, 2, 2, 1, 0, 1, 0, 3, 3, 1, 3, 1, 0, 3, 1, 2,\n",
              "       0, 0, 3, 0, 1, 2, 3, 3, 3, 1, 1, 0, 1, 3, 3, 0, 1, 2, 2, 0, 3, 3,\n",
              "       2, 3, 2, 3, 2, 0, 2, 1, 1, 1, 0, 0, 0, 3, 2, 3, 1, 0, 1, 1, 1, 3,\n",
              "       3, 0, 2, 3, 2, 1, 3, 0, 0, 2, 1, 3, 2, 0, 1, 1, 1, 0, 1, 3, 2, 0,\n",
              "       0, 3, 3, 0, 3, 0, 0, 2, 0, 1, 2, 2, 2, 3, 0, 3, 2, 2, 3, 3, 3, 2,\n",
              "       1, 1, 0, 3, 1, 3, 3, 0, 2, 3, 2, 3, 3, 3, 0, 0, 2, 3, 0, 0, 2, 3,\n",
              "       2, 1, 1, 2, 1, 3, 1, 3, 1, 2, 0, 0, 1, 0, 1, 0, 1, 0, 2, 2, 3, 2,\n",
              "       1, 1, 2, 1, 0, 3, 1, 0, 0, 3, 0, 1, 0, 0, 1, 3, 3, 0, 2, 0, 1, 1,\n",
              "       3, 3, 1, 2, 0, 2, 0, 0, 3, 3, 0, 2, 1, 1, 3, 1, 2, 0, 1, 3, 1, 0,\n",
              "       3, 1, 0, 0, 3, 2, 3, 2, 0, 3, 1, 0, 1, 2, 3, 2, 1, 1, 0, 1, 2, 2,\n",
              "       1, 1, 1, 3, 1, 2, 0, 3, 2, 3, 1, 0, 1, 2, 3, 1, 1, 2, 3, 0, 2, 2,\n",
              "       3, 2, 2, 2, 3, 1, 1, 1, 0, 1, 0, 3, 1, 0, 3, 1, 1, 3, 2, 2, 3, 2,\n",
              "       0, 3, 2, 2, 0, 3, 3, 2, 2, 2, 3, 2, 1, 3, 1, 2, 1, 3, 1, 2, 1, 3,\n",
              "       1, 1, 2, 3, 1, 0, 0, 2, 3, 3, 1, 1, 2, 0, 2, 0, 1, 3, 1, 0, 2, 2,\n",
              "       1, 1, 3, 0, 2, 0, 0, 1, 2, 3, 1, 2, 1, 3, 2, 1, 1, 3, 3, 2, 0, 0,\n",
              "       1, 2, 1, 0, 1, 0])"
            ]
          },
          "execution_count": null,
          "metadata": {},
          "output_type": "execute_result"
        }
      ],
      "source": [
        "yfk_pred_grid = knc_fk_grid.predict(Xfk_test)\n",
        "yfk_pred_grid"
      ]
    },
    {
      "cell_type": "code",
      "execution_count": null,
      "metadata": {
        "colab": {
          "background_save": true,
          "base_uri": "https://localhost:8080/"
        },
        "id": "UbkdDL6Xsvd-",
        "outputId": "25d1c270-51ed-40db-f242-57cbe510fb95"
      },
      "outputs": [
        {
          "data": {
            "text/plain": [
              "0.93"
            ]
          },
          "execution_count": null,
          "metadata": {},
          "output_type": "execute_result"
        }
      ],
      "source": [
        "#Accuracy Check\n",
        "knc_fk_rand.score(Xfk_test , yfk_test)"
      ]
    },
    {
      "cell_type": "markdown",
      "metadata": {
        "id": "Cn3rM02vtBQW"
      },
      "source": [
        "#K Fold Cross Validation "
      ]
    },
    {
      "cell_type": "code",
      "execution_count": null,
      "metadata": {
        "colab": {
          "background_save": true
        },
        "id": "bJ97D-6atds2"
      },
      "outputs": [],
      "source": [
        "from sklearn.model_selection import KFold, cross_val_score\n",
        "kfold_kncfk = KFold(n_splits=5) #each fold contain 20% data\n",
        "result_kfold_kncfk = cross_val_score(knc_fk_rand, Xfk, yfk,cv=kfold_kncfk) "
      ]
    },
    {
      "cell_type": "code",
      "execution_count": null,
      "metadata": {
        "colab": {
          "background_save": true,
          "base_uri": "https://localhost:8080/"
        },
        "id": "IM_ptmJuuskm",
        "outputId": "78f1c320-28c8-444b-a5ce-84269c4b9125"
      },
      "outputs": [
        {
          "data": {
            "text/plain": [
              "array([0.9425, 0.9375, 0.93  , 0.9125, 0.92  ])"
            ]
          },
          "execution_count": null,
          "metadata": {},
          "output_type": "execute_result"
        }
      ],
      "source": [
        "result_kfold_kncfk"
      ]
    },
    {
      "cell_type": "code",
      "execution_count": null,
      "metadata": {
        "colab": {
          "background_save": true,
          "base_uri": "https://localhost:8080/"
        },
        "id": "jrFB3IeTuwHo",
        "outputId": "ac53f4be-f828-420c-c9bf-f6bcb0365d43"
      },
      "outputs": [
        {
          "data": {
            "text/plain": [
              "0.9425"
            ]
          },
          "execution_count": null,
          "metadata": {},
          "output_type": "execute_result"
        }
      ],
      "source": [
        "result_kfold_kncfk.max()"
      ]
    },
    {
      "cell_type": "markdown",
      "metadata": {
        "id": "A-HFwN8bwdOm"
      },
      "source": [
        "# 2. KNN Model Creation with Select K-Best"
      ]
    },
    {
      "cell_type": "code",
      "execution_count": null,
      "metadata": {
        "colab": {
          "background_save": true,
          "base_uri": "https://localhost:8080/"
        },
        "id": "YLk4PgWmwdOU",
        "outputId": "b136a034-87f6-4e9a-b5e4-4b86ae28dfba"
      },
      "outputs": [
        {
          "data": {
            "text/plain": [
              "(20, 2)"
            ]
          },
          "execution_count": null,
          "metadata": {},
          "output_type": "execute_result"
        }
      ],
      "source": [
        "Xkbest1.shape"
      ]
    },
    {
      "cell_type": "code",
      "execution_count": null,
      "metadata": {
        "colab": {
          "background_save": true
        },
        "id": "wKZnW863wdOW"
      },
      "outputs": [],
      "source": [
        "Xkbest_new = X.drop(['four_g','pc', 'fc', 'clock_speed', 'dual_sim', 'blue', 'three_g','wifi'], axis=1)"
      ]
    },
    {
      "cell_type": "code",
      "execution_count": null,
      "metadata": {
        "colab": {
          "background_save": true,
          "base_uri": "https://localhost:8080/"
        },
        "id": "4m0PNDgqwdOY",
        "outputId": "5ea1ea0d-e099-4fad-de96-ad9ecb4acf1d"
      },
      "outputs": [
        {
          "data": {
            "text/plain": [
              "(2000, 12)"
            ]
          },
          "execution_count": null,
          "metadata": {},
          "output_type": "execute_result"
        }
      ],
      "source": [
        "Xkbest_new.shape"
      ]
    },
    {
      "cell_type": "code",
      "execution_count": null,
      "metadata": {
        "colab": {
          "background_save": true
        },
        "id": "7hfmFnC6wdOa"
      },
      "outputs": [],
      "source": [
        "ykbest_new=ykbest.copy()"
      ]
    },
    {
      "cell_type": "code",
      "execution_count": null,
      "metadata": {
        "colab": {
          "background_save": true,
          "base_uri": "https://localhost:8080/"
        },
        "id": "mabqJzYUwdOc",
        "outputId": "93319105-f0d0-4183-e940-98b99c9c1d91"
      },
      "outputs": [
        {
          "data": {
            "text/plain": [
              "(2000,)"
            ]
          },
          "execution_count": null,
          "metadata": {},
          "output_type": "execute_result"
        }
      ],
      "source": [
        "ykbest_new.shape"
      ]
    },
    {
      "cell_type": "code",
      "execution_count": null,
      "metadata": {
        "colab": {
          "background_save": true
        },
        "id": "SfIm6Q43wdOh"
      },
      "outputs": [],
      "source": [
        "from sklearn.model_selection import train_test_split\n",
        "Xkbest_new_train, Xkbest_new_test, ykbest_new_train, ykbest_new_test=train_test_split(Xkbest_new,ykbest_new, test_size=0.3, random_state=42)"
      ]
    },
    {
      "cell_type": "code",
      "execution_count": null,
      "metadata": {
        "colab": {
          "background_save": true,
          "base_uri": "https://localhost:8080/"
        },
        "id": "pcYu12LKwdOi",
        "outputId": "449ef41b-d362-45f3-bc86-0491e8bf945c"
      },
      "outputs": [
        {
          "data": {
            "text/plain": [
              "1400"
            ]
          },
          "execution_count": null,
          "metadata": {},
          "output_type": "execute_result"
        }
      ],
      "source": [
        "ykbest_new_train.count()"
      ]
    },
    {
      "cell_type": "code",
      "execution_count": null,
      "metadata": {
        "colab": {
          "background_save": true,
          "base_uri": "https://localhost:8080/"
        },
        "id": "WEE9Q2nnwdOk",
        "outputId": "c25cbf3c-20ee-4050-c1c0-180027402203"
      },
      "outputs": [
        {
          "data": {
            "text/plain": [
              "600"
            ]
          },
          "execution_count": null,
          "metadata": {},
          "output_type": "execute_result"
        }
      ],
      "source": [
        "ykbest_new_test.count()"
      ]
    },
    {
      "cell_type": "code",
      "execution_count": null,
      "metadata": {
        "colab": {
          "background_save": true,
          "base_uri": "https://localhost:8080/"
        },
        "id": "aYprKjaIwdOn",
        "outputId": "ef7932a7-cc7c-4a82-b5fc-c38f4c4c9b6a"
      },
      "outputs": [
        {
          "data": {
            "text/plain": [
              "4"
            ]
          },
          "execution_count": null,
          "metadata": {},
          "output_type": "execute_result"
        }
      ],
      "source": [
        "ykbest_new.nunique()"
      ]
    },
    {
      "cell_type": "code",
      "execution_count": null,
      "metadata": {
        "colab": {
          "background_save": true
        },
        "id": "JCcWPEBJwdOo"
      },
      "outputs": [],
      "source": [
        "from sklearn.neighbors import KNeighborsClassifier"
      ]
    },
    {
      "cell_type": "code",
      "execution_count": null,
      "metadata": {
        "colab": {
          "background_save": true,
          "base_uri": "https://localhost:8080/"
        },
        "id": "y7qmkoWBwdOq",
        "outputId": "2919c65e-3cd3-4fc7-eda4-530727a57f15"
      },
      "outputs": [
        {
          "data": {
            "text/plain": [
              "KNeighborsClassifier(n_neighbors=4)"
            ]
          },
          "execution_count": null,
          "metadata": {},
          "output_type": "execute_result"
        }
      ],
      "source": [
        "knc_kbest = KNeighborsClassifier(n_neighbors=4)\n",
        "knc_kbest.fit(Xkbest_new_train,ykbest_new_train)"
      ]
    },
    {
      "cell_type": "code",
      "execution_count": null,
      "metadata": {
        "colab": {
          "background_save": true
        },
        "id": "w1_KO_rywdOr"
      },
      "outputs": [],
      "source": [
        "ykbest_new_pred = knc_kbest.predict(Xkbest_new_test)"
      ]
    },
    {
      "cell_type": "code",
      "execution_count": null,
      "metadata": {
        "colab": {
          "background_save": true,
          "base_uri": "https://localhost:8080/"
        },
        "id": "uQaxtaxfwdOt",
        "outputId": "eaf6d901-c6ef-40ff-a953-6407de85f069"
      },
      "outputs": [
        {
          "data": {
            "text/plain": [
              "0.9066666666666666"
            ]
          },
          "execution_count": null,
          "metadata": {},
          "output_type": "execute_result"
        }
      ],
      "source": [
        "#Accuracy Check\n",
        "knc_kbest.score(Xkbest_new_test, ykbest_new_test)"
      ]
    },
    {
      "cell_type": "markdown",
      "metadata": {
        "id": "sCAFzG9VkmSZ"
      },
      "source": [
        "# 3. KNN Model Creation With PCA"
      ]
    },
    {
      "cell_type": "markdown",
      "metadata": {
        "id": "wSvkgwODlDm_"
      },
      "source": [
        "**Splitting in Train and Test Dataset**"
      ]
    },
    {
      "cell_type": "code",
      "execution_count": null,
      "metadata": {
        "colab": {
          "background_save": true
        },
        "id": "ZsjnwmBNlDnC"
      },
      "outputs": [],
      "source": [
        "from sklearn.model_selection import train_test_split\n",
        "X_pca_train, X_pca_test, y_p_train, y_p_test=train_test_split(X_pca,y_p, test_size=0.3, random_state=42)"
      ]
    },
    {
      "cell_type": "code",
      "execution_count": null,
      "metadata": {
        "colab": {
          "background_save": true,
          "base_uri": "https://localhost:8080/"
        },
        "id": "AOLo9_o7lDnF",
        "outputId": "0d08877b-0c33-4017-ff42-155b2a8b44b9"
      },
      "outputs": [
        {
          "data": {
            "text/plain": [
              "1400"
            ]
          },
          "execution_count": null,
          "metadata": {},
          "output_type": "execute_result"
        }
      ],
      "source": [
        "y_p_train.count()"
      ]
    },
    {
      "cell_type": "code",
      "execution_count": null,
      "metadata": {
        "colab": {
          "background_save": true,
          "base_uri": "https://localhost:8080/"
        },
        "id": "mtf4K_iclamI",
        "outputId": "fb826b16-d7ed-4b98-8469-626948c4fd42"
      },
      "outputs": [
        {
          "data": {
            "text/plain": [
              "(1400, 3)"
            ]
          },
          "execution_count": null,
          "metadata": {},
          "output_type": "execute_result"
        }
      ],
      "source": [
        "X_pca_train.shape"
      ]
    },
    {
      "cell_type": "code",
      "execution_count": null,
      "metadata": {
        "colab": {
          "background_save": true,
          "base_uri": "https://localhost:8080/"
        },
        "id": "mpOc2K7slol-",
        "outputId": "f7b8ebb8-b814-4b57-fde0-5a9047bb3e9a"
      },
      "outputs": [
        {
          "data": {
            "text/plain": [
              "600"
            ]
          },
          "execution_count": null,
          "metadata": {},
          "output_type": "execute_result"
        }
      ],
      "source": [
        "y_p_test.count()"
      ]
    },
    {
      "cell_type": "code",
      "execution_count": null,
      "metadata": {
        "colab": {
          "background_save": true,
          "base_uri": "https://localhost:8080/"
        },
        "id": "t6AWDxnElDnJ",
        "outputId": "b77fd21d-64ff-4288-c334-058f6da5cef3"
      },
      "outputs": [
        {
          "data": {
            "text/plain": [
              "(600, 3)"
            ]
          },
          "execution_count": null,
          "metadata": {},
          "output_type": "execute_result"
        }
      ],
      "source": [
        "X_pca_test.shape"
      ]
    },
    {
      "cell_type": "code",
      "execution_count": null,
      "metadata": {
        "colab": {
          "background_save": true,
          "base_uri": "https://localhost:8080/"
        },
        "id": "FABK9tuIkmSg",
        "outputId": "563b047f-8a36-427e-ac48-27f88d2f1faa"
      },
      "outputs": [
        {
          "data": {
            "text/plain": [
              "4"
            ]
          },
          "execution_count": null,
          "metadata": {},
          "output_type": "execute_result"
        }
      ],
      "source": [
        "y_p.nunique()"
      ]
    },
    {
      "cell_type": "code",
      "execution_count": null,
      "metadata": {
        "colab": {
          "background_save": true
        },
        "id": "PRHeZhCvkmSj"
      },
      "outputs": [],
      "source": [
        "from sklearn.neighbors import KNeighborsClassifier"
      ]
    },
    {
      "cell_type": "code",
      "execution_count": null,
      "metadata": {
        "colab": {
          "background_save": true,
          "base_uri": "https://localhost:8080/"
        },
        "id": "XlcTBCEtkmSm",
        "outputId": "4ae67fc6-339f-4d66-9909-1fb3d748ce1a"
      },
      "outputs": [
        {
          "data": {
            "text/plain": [
              "KNeighborsClassifier(n_neighbors=4)"
            ]
          },
          "execution_count": null,
          "metadata": {},
          "output_type": "execute_result"
        }
      ],
      "source": [
        "knc_pca = KNeighborsClassifier(n_neighbors=4)\n",
        "knc_pca.fit(X_pca_train,y_p_train)"
      ]
    },
    {
      "cell_type": "code",
      "execution_count": null,
      "metadata": {
        "colab": {
          "background_save": true
        },
        "id": "V77kxvvqkmSp"
      },
      "outputs": [],
      "source": [
        "y_p_pred = knc_pca.predict(X_pca_test)"
      ]
    },
    {
      "cell_type": "code",
      "execution_count": null,
      "metadata": {
        "colab": {
          "background_save": true,
          "base_uri": "https://localhost:8080/"
        },
        "id": "880_iclBkmSr",
        "outputId": "aff0123c-f9c9-445a-98b8-f09dff304308"
      },
      "outputs": [
        {
          "data": {
            "text/plain": [
              "0.31333333333333335"
            ]
          },
          "execution_count": null,
          "metadata": {},
          "output_type": "execute_result"
        }
      ],
      "source": [
        "#Accuracy Check\n",
        "knc_pca.score(X_pca_test , y_p_test)"
      ]
    },
    {
      "cell_type": "markdown",
      "metadata": {
        "id": "gH5g5pJucNwi"
      },
      "source": [
        "**Accuracy Table**"
      ]
    },
    {
      "cell_type": "code",
      "execution_count": null,
      "metadata": {
        "colab": {
          "background_save": true,
          "base_uri": "https://localhost:8080/"
        },
        "id": "gPJ59AkWcOic",
        "outputId": "457de3fb-72e5-4ed2-b94c-596b11eff6ec"
      },
      "outputs": [
        {
          "data": {
            "text/html": [
              "\n",
              "  <div id=\"df-ccb469fe-73dc-4623-95b6-d799bc14c37c\">\n",
              "    <div class=\"colab-df-container\">\n",
              "      <div>\n",
              "<style scoped>\n",
              "    .dataframe tbody tr th:only-of-type {\n",
              "        vertical-align: middle;\n",
              "    }\n",
              "\n",
              "    .dataframe tbody tr th {\n",
              "        vertical-align: top;\n",
              "    }\n",
              "\n",
              "    .dataframe thead th {\n",
              "        text-align: right;\n",
              "    }\n",
              "</style>\n",
              "<table border=\"1\" class=\"dataframe\">\n",
              "  <thead>\n",
              "    <tr style=\"text-align: right;\">\n",
              "      <th></th>\n",
              "      <th>Accuracy</th>\n",
              "      <th>Value</th>\n",
              "    </tr>\n",
              "  </thead>\n",
              "  <tbody>\n",
              "    <tr>\n",
              "      <th>0</th>\n",
              "      <td>Accuracy of KNN with ExtraTree_holdout</td>\n",
              "      <td>0.906667</td>\n",
              "    </tr>\n",
              "    <tr>\n",
              "      <th>1</th>\n",
              "      <td>Accuracy of KNN with ExtraTree and GridCV_holdout</td>\n",
              "      <td>0.928333</td>\n",
              "    </tr>\n",
              "    <tr>\n",
              "      <th>2</th>\n",
              "      <td>Accuracy of KNN with ExtraTree and RandomCV_ho...</td>\n",
              "      <td>0.930000</td>\n",
              "    </tr>\n",
              "    <tr>\n",
              "      <th>3</th>\n",
              "      <td>Accuracy of KNN with ExtraTree and RandomCV_Kfold</td>\n",
              "      <td>0.942500</td>\n",
              "    </tr>\n",
              "    <tr>\n",
              "      <th>4</th>\n",
              "      <td>Accuracy of KNN with KBEST_holdout</td>\n",
              "      <td>0.906667</td>\n",
              "    </tr>\n",
              "    <tr>\n",
              "      <th>5</th>\n",
              "      <td>Accuracy of KNN with PCA_MMscal_holdout</td>\n",
              "      <td>0.313333</td>\n",
              "    </tr>\n",
              "  </tbody>\n",
              "</table>\n",
              "</div>\n",
              "      <button class=\"colab-df-convert\" onclick=\"convertToInteractive('df-ccb469fe-73dc-4623-95b6-d799bc14c37c')\"\n",
              "              title=\"Convert this dataframe to an interactive table.\"\n",
              "              style=\"display:none;\">\n",
              "        \n",
              "  <svg xmlns=\"http://www.w3.org/2000/svg\" height=\"24px\"viewBox=\"0 0 24 24\"\n",
              "       width=\"24px\">\n",
              "    <path d=\"M0 0h24v24H0V0z\" fill=\"none\"/>\n",
              "    <path d=\"M18.56 5.44l.94 2.06.94-2.06 2.06-.94-2.06-.94-.94-2.06-.94 2.06-2.06.94zm-11 1L8.5 8.5l.94-2.06 2.06-.94-2.06-.94L8.5 2.5l-.94 2.06-2.06.94zm10 10l.94 2.06.94-2.06 2.06-.94-2.06-.94-.94-2.06-.94 2.06-2.06.94z\"/><path d=\"M17.41 7.96l-1.37-1.37c-.4-.4-.92-.59-1.43-.59-.52 0-1.04.2-1.43.59L10.3 9.45l-7.72 7.72c-.78.78-.78 2.05 0 2.83L4 21.41c.39.39.9.59 1.41.59.51 0 1.02-.2 1.41-.59l7.78-7.78 2.81-2.81c.8-.78.8-2.07 0-2.86zM5.41 20L4 18.59l7.72-7.72 1.47 1.35L5.41 20z\"/>\n",
              "  </svg>\n",
              "      </button>\n",
              "      \n",
              "  <style>\n",
              "    .colab-df-container {\n",
              "      display:flex;\n",
              "      flex-wrap:wrap;\n",
              "      gap: 12px;\n",
              "    }\n",
              "\n",
              "    .colab-df-convert {\n",
              "      background-color: #E8F0FE;\n",
              "      border: none;\n",
              "      border-radius: 50%;\n",
              "      cursor: pointer;\n",
              "      display: none;\n",
              "      fill: #1967D2;\n",
              "      height: 32px;\n",
              "      padding: 0 0 0 0;\n",
              "      width: 32px;\n",
              "    }\n",
              "\n",
              "    .colab-df-convert:hover {\n",
              "      background-color: #E2EBFA;\n",
              "      box-shadow: 0px 1px 2px rgba(60, 64, 67, 0.3), 0px 1px 3px 1px rgba(60, 64, 67, 0.15);\n",
              "      fill: #174EA6;\n",
              "    }\n",
              "\n",
              "    [theme=dark] .colab-df-convert {\n",
              "      background-color: #3B4455;\n",
              "      fill: #D2E3FC;\n",
              "    }\n",
              "\n",
              "    [theme=dark] .colab-df-convert:hover {\n",
              "      background-color: #434B5C;\n",
              "      box-shadow: 0px 1px 3px 1px rgba(0, 0, 0, 0.15);\n",
              "      filter: drop-shadow(0px 1px 2px rgba(0, 0, 0, 0.3));\n",
              "      fill: #FFFFFF;\n",
              "    }\n",
              "  </style>\n",
              "\n",
              "      <script>\n",
              "        const buttonEl =\n",
              "          document.querySelector('#df-ccb469fe-73dc-4623-95b6-d799bc14c37c button.colab-df-convert');\n",
              "        buttonEl.style.display =\n",
              "          google.colab.kernel.accessAllowed ? 'block' : 'none';\n",
              "\n",
              "        async function convertToInteractive(key) {\n",
              "          const element = document.querySelector('#df-ccb469fe-73dc-4623-95b6-d799bc14c37c');\n",
              "          const dataTable =\n",
              "            await google.colab.kernel.invokeFunction('convertToInteractive',\n",
              "                                                     [key], {});\n",
              "          if (!dataTable) return;\n",
              "\n",
              "          const docLinkHtml = 'Like what you see? Visit the ' +\n",
              "            '<a target=\"_blank\" href=https://colab.research.google.com/notebooks/data_table.ipynb>data table notebook</a>'\n",
              "            + ' to learn more about interactive tables.';\n",
              "          element.innerHTML = '';\n",
              "          dataTable['output_type'] = 'display_data';\n",
              "          await google.colab.output.renderOutput(dataTable, element);\n",
              "          const docLink = document.createElement('div');\n",
              "          docLink.innerHTML = docLinkHtml;\n",
              "          element.appendChild(docLink);\n",
              "        }\n",
              "      </script>\n",
              "    </div>\n",
              "  </div>\n",
              "  "
            ],
            "text/plain": [
              "                                            Accuracy     Value\n",
              "0             Accuracy of KNN with ExtraTree_holdout  0.906667\n",
              "1  Accuracy of KNN with ExtraTree and GridCV_holdout  0.928333\n",
              "2  Accuracy of KNN with ExtraTree and RandomCV_ho...  0.930000\n",
              "3  Accuracy of KNN with ExtraTree and RandomCV_Kfold  0.942500\n",
              "4                 Accuracy of KNN with KBEST_holdout  0.906667\n",
              "5            Accuracy of KNN with PCA_MMscal_holdout  0.313333"
            ]
          },
          "execution_count": null,
          "metadata": {},
          "output_type": "execute_result"
        }
      ],
      "source": [
        "a1 = 'Accuracy of KNN with ExtraTree_holdout'\n",
        "a2 = 'Accuracy of KNN with ExtraTree and GridCV_holdout'\n",
        "a3 = 'Accuracy of KNN with ExtraTree and RandomCV_holdout'\n",
        "a4 = 'Accuracy of KNN with ExtraTree and RandomCV_Kfold'\n",
        "a5 = 'Accuracy of KNN with KBEST_holdout'\n",
        "a6 = 'Accuracy of KNN with PCA_MMscal_holdout'\n",
        "KNN_accuracy=pd.DataFrame([[a1,knc_fk.score(Xfk_test , yfk_test)],[a2, knc_fk_grid.score(Xfk_test , yfk_test)], \n",
        "                             [a3, knc_fk_rand.score(Xfk_test , yfk_test)], [a4,result_kfold_kncfk.max()], \n",
        "                             [a5, knc_kbest.score(Xkbest_new_test, ykbest_new_test) ], [a6, knc_pca.score(X_pca_test , y_p_test)]],\n",
        "                 columns=['Accuracy', 'Value'])\n",
        "KNN_accuracy"
      ]
    },
    {
      "cell_type": "markdown",
      "metadata": {
        "id": "TmKi2QE6rj03"
      },
      "source": [
        "**Graphical View**"
      ]
    },
    {
      "cell_type": "code",
      "execution_count": null,
      "metadata": {
        "colab": {
          "background_save": true,
          "base_uri": "https://localhost:8080/"
        },
        "id": "nxzA06JfrjI_",
        "outputId": "d3ba799a-937f-411a-c04e-5674368b8320"
      },
      "outputs": [
        {
          "data": {
            "image/png": "[encoded data removed]",
            "text/plain": [
              "<Figure size 432x288 with 1 Axes>"
            ]
          },
          "metadata": {},
          "output_type": "display_data"
        }
      ],
      "source": [
        "sns.set()\n",
        "sns.barplot(x=\"Value\", y=\"Accuracy\",  data=KNN_accuracy, palette=\"Set2\")\n",
        "sns.set(rc={'figure.figsize':(10,5)})"
      ]
    }
  ],
  "metadata": {
    "colab": {
      "collapsed_sections": [],
      "name": "HW14 Feature Selection and PCA with KNN.ipynb",
      "provenance": [],
      "authorship_tag": "ABX9TyNI+dsI75FhUhiRtfiNIpp8",
      "include_colab_link": true
    },
    "kernelspec": {
      "display_name": "Python 3",
      "name": "python3"
    },
    "language_info": {
      "name": "python"
    }
  },
  "nbformat": 4,
  "nbformat_minor": 0
}