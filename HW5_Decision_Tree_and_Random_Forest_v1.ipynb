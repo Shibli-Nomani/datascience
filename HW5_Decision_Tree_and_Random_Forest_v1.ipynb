{
  "cells": [
    {
      "cell_type": "markdown",
      "metadata": {
        "id": "view-in-github",
        "colab_type": "text"
      },
      "source": [
        "<a href=\"https://colab.research.google.com/github/Shibli-Nomani/datascience/blob/main/HW5_Decision_Tree_and_Random_Forest_v1.ipynb\" target=\"_parent\"><img src=\"https://colab.research.google.com/assets/colab-badge.svg\" alt=\"Open In Colab\"/></a>"
      ]
    },
    {
      "cell_type": "code",
      "source": [
        "from google.colab import drive\n",
        "drive.mount('/content/gdrive')"
      ],
      "metadata": {
        "colab": {
          "base_uri": "https://localhost:8080/"
        },
        "id": "WppB6jtYGBmN",
        "outputId": "1b9cd008-0db7-45da-bf4a-54c8a8538a23"
      },
      "id": "WppB6jtYGBmN",
      "execution_count": 332,
      "outputs": [
        {
          "output_type": "stream",
          "name": "stdout",
          "text": [
            "Drive already mounted at /content/gdrive; to attempt to forcibly remount, call drive.mount(\"/content/gdrive\", force_remount=True).\n"
          ]
        }
      ]
    },
    {
      "cell_type": "code",
      "source": [
        "import pandas as pd # data frame library\n",
        "import numpy as np\n",
        "import seaborn as sns # data visialization library\n",
        "import matplotlib.pyplot as plt\n",
        "%matplotlib inline\n",
        "path='/content/gdrive/MyDrive/AIQUEST ML Course/heart failure.csv'\n",
        "df=pd.read_csv(path)\n",
        "df.head(7)"
      ],
      "metadata": {
        "colab": {
          "base_uri": "https://localhost:8080/",
          "height": 333
        },
        "id": "TYlAU2KXGdon",
        "outputId": "22de539d-53bf-443b-e8ee-77a1919eaaa2"
      },
      "id": "TYlAU2KXGdon",
      "execution_count": 333,
      "outputs": [
        {
          "output_type": "execute_result",
          "data": {
            "text/plain": [
              "    age  anaemia  creatinine_phosphokinase  diabetes  ejection_fraction  \\\n",
              "0  75.0        0                       582         0                 20   \n",
              "1  55.0        0                      7861         0                 38   \n",
              "2  65.0        0                       146         0                 20   \n",
              "3  50.0        1                       111         0                 20   \n",
              "4  65.0        1                       160         1                 20   \n",
              "5  90.0        1                        47         0                 40   \n",
              "6  75.0        1                       246         0                 15   \n",
              "\n",
              "   high_blood_pressure  platelets  serum_creatinine  serum_sodium  sex  \\\n",
              "0                    1  265000.00               1.9           130    1   \n",
              "1                    0  263358.03               1.1           136    1   \n",
              "2                    0  162000.00               1.3           129    1   \n",
              "3                    0  210000.00               1.9           137    1   \n",
              "4                    0  327000.00               2.7           116    0   \n",
              "5                    1  204000.00               2.1           132    1   \n",
              "6                    0  127000.00               1.2           137    1   \n",
              "\n",
              "   smoking  time  DEATH_EVENT  \n",
              "0        0     4            1  \n",
              "1        0     6            1  \n",
              "2        1     7            1  \n",
              "3        0     7            1  \n",
              "4        0     8            1  \n",
              "5        1     8            1  \n",
              "6        0    10            1  "
            ],
            "text/html": [
              "\n",
              "  <div id=\"df-c5db175b-c4ee-4734-b1a4-96538019d1be\">\n",
              "    <div class=\"colab-df-container\">\n",
              "      <div>\n",
              "<style scoped>\n",
              "    .dataframe tbody tr th:only-of-type {\n",
              "        vertical-align: middle;\n",
              "    }\n",
              "\n",
              "    .dataframe tbody tr th {\n",
              "        vertical-align: top;\n",
              "    }\n",
              "\n",
              "    .dataframe thead th {\n",
              "        text-align: right;\n",
              "    }\n",
              "</style>\n",
              "<table border=\"1\" class=\"dataframe\">\n",
              "  <thead>\n",
              "    <tr style=\"text-align: right;\">\n",
              "      <th></th>\n",
              "      <th>age</th>\n",
              "      <th>anaemia</th>\n",
              "      <th>creatinine_phosphokinase</th>\n",
              "      <th>diabetes</th>\n",
              "      <th>ejection_fraction</th>\n",
              "      <th>high_blood_pressure</th>\n",
              "      <th>platelets</th>\n",
              "      <th>serum_creatinine</th>\n",
              "      <th>serum_sodium</th>\n",
              "      <th>sex</th>\n",
              "      <th>smoking</th>\n",
              "      <th>time</th>\n",
              "      <th>DEATH_EVENT</th>\n",
              "    </tr>\n",
              "  </thead>\n",
              "  <tbody>\n",
              "    <tr>\n",
              "      <th>0</th>\n",
              "      <td>75.0</td>\n",
              "      <td>0</td>\n",
              "      <td>582</td>\n",
              "      <td>0</td>\n",
              "      <td>20</td>\n",
              "      <td>1</td>\n",
              "      <td>265000.00</td>\n",
              "      <td>1.9</td>\n",
              "      <td>130</td>\n",
              "      <td>1</td>\n",
              "      <td>0</td>\n",
              "      <td>4</td>\n",
              "      <td>1</td>\n",
              "    </tr>\n",
              "    <tr>\n",
              "      <th>1</th>\n",
              "      <td>55.0</td>\n",
              "      <td>0</td>\n",
              "      <td>7861</td>\n",
              "      <td>0</td>\n",
              "      <td>38</td>\n",
              "      <td>0</td>\n",
              "      <td>263358.03</td>\n",
              "      <td>1.1</td>\n",
              "      <td>136</td>\n",
              "      <td>1</td>\n",
              "      <td>0</td>\n",
              "      <td>6</td>\n",
              "      <td>1</td>\n",
              "    </tr>\n",
              "    <tr>\n",
              "      <th>2</th>\n",
              "      <td>65.0</td>\n",
              "      <td>0</td>\n",
              "      <td>146</td>\n",
              "      <td>0</td>\n",
              "      <td>20</td>\n",
              "      <td>0</td>\n",
              "      <td>162000.00</td>\n",
              "      <td>1.3</td>\n",
              "      <td>129</td>\n",
              "      <td>1</td>\n",
              "      <td>1</td>\n",
              "      <td>7</td>\n",
              "      <td>1</td>\n",
              "    </tr>\n",
              "    <tr>\n",
              "      <th>3</th>\n",
              "      <td>50.0</td>\n",
              "      <td>1</td>\n",
              "      <td>111</td>\n",
              "      <td>0</td>\n",
              "      <td>20</td>\n",
              "      <td>0</td>\n",
              "      <td>210000.00</td>\n",
              "      <td>1.9</td>\n",
              "      <td>137</td>\n",
              "      <td>1</td>\n",
              "      <td>0</td>\n",
              "      <td>7</td>\n",
              "      <td>1</td>\n",
              "    </tr>\n",
              "    <tr>\n",
              "      <th>4</th>\n",
              "      <td>65.0</td>\n",
              "      <td>1</td>\n",
              "      <td>160</td>\n",
              "      <td>1</td>\n",
              "      <td>20</td>\n",
              "      <td>0</td>\n",
              "      <td>327000.00</td>\n",
              "      <td>2.7</td>\n",
              "      <td>116</td>\n",
              "      <td>0</td>\n",
              "      <td>0</td>\n",
              "      <td>8</td>\n",
              "      <td>1</td>\n",
              "    </tr>\n",
              "    <tr>\n",
              "      <th>5</th>\n",
              "      <td>90.0</td>\n",
              "      <td>1</td>\n",
              "      <td>47</td>\n",
              "      <td>0</td>\n",
              "      <td>40</td>\n",
              "      <td>1</td>\n",
              "      <td>204000.00</td>\n",
              "      <td>2.1</td>\n",
              "      <td>132</td>\n",
              "      <td>1</td>\n",
              "      <td>1</td>\n",
              "      <td>8</td>\n",
              "      <td>1</td>\n",
              "    </tr>\n",
              "    <tr>\n",
              "      <th>6</th>\n",
              "      <td>75.0</td>\n",
              "      <td>1</td>\n",
              "      <td>246</td>\n",
              "      <td>0</td>\n",
              "      <td>15</td>\n",
              "      <td>0</td>\n",
              "      <td>127000.00</td>\n",
              "      <td>1.2</td>\n",
              "      <td>137</td>\n",
              "      <td>1</td>\n",
              "      <td>0</td>\n",
              "      <td>10</td>\n",
              "      <td>1</td>\n",
              "    </tr>\n",
              "  </tbody>\n",
              "</table>\n",
              "</div>\n",
              "      <button class=\"colab-df-convert\" onclick=\"convertToInteractive('df-c5db175b-c4ee-4734-b1a4-96538019d1be')\"\n",
              "              title=\"Convert this dataframe to an interactive table.\"\n",
              "              style=\"display:none;\">\n",
              "        \n",
              "  <svg xmlns=\"http://www.w3.org/2000/svg\" height=\"24px\"viewBox=\"0 0 24 24\"\n",
              "       width=\"24px\">\n",
              "    <path d=\"M0 0h24v24H0V0z\" fill=\"none\"/>\n",
              "    <path d=\"M18.56 5.44l.94 2.06.94-2.06 2.06-.94-2.06-.94-.94-2.06-.94 2.06-2.06.94zm-11 1L8.5 8.5l.94-2.06 2.06-.94-2.06-.94L8.5 2.5l-.94 2.06-2.06.94zm10 10l.94 2.06.94-2.06 2.06-.94-2.06-.94-.94-2.06-.94 2.06-2.06.94z\"/><path d=\"M17.41 7.96l-1.37-1.37c-.4-.4-.92-.59-1.43-.59-.52 0-1.04.2-1.43.59L10.3 9.45l-7.72 7.72c-.78.78-.78 2.05 0 2.83L4 21.41c.39.39.9.59 1.41.59.51 0 1.02-.2 1.41-.59l7.78-7.78 2.81-2.81c.8-.78.8-2.07 0-2.86zM5.41 20L4 18.59l7.72-7.72 1.47 1.35L5.41 20z\"/>\n",
              "  </svg>\n",
              "      </button>\n",
              "      \n",
              "  <style>\n",
              "    .colab-df-container {\n",
              "      display:flex;\n",
              "      flex-wrap:wrap;\n",
              "      gap: 12px;\n",
              "    }\n",
              "\n",
              "    .colab-df-convert {\n",
              "      background-color: #E8F0FE;\n",
              "      border: none;\n",
              "      border-radius: 50%;\n",
              "      cursor: pointer;\n",
              "      display: none;\n",
              "      fill: #1967D2;\n",
              "      height: 32px;\n",
              "      padding: 0 0 0 0;\n",
              "      width: 32px;\n",
              "    }\n",
              "\n",
              "    .colab-df-convert:hover {\n",
              "      background-color: #E2EBFA;\n",
              "      box-shadow: 0px 1px 2px rgba(60, 64, 67, 0.3), 0px 1px 3px 1px rgba(60, 64, 67, 0.15);\n",
              "      fill: #174EA6;\n",
              "    }\n",
              "\n",
              "    [theme=dark] .colab-df-convert {\n",
              "      background-color: #3B4455;\n",
              "      fill: #D2E3FC;\n",
              "    }\n",
              "\n",
              "    [theme=dark] .colab-df-convert:hover {\n",
              "      background-color: #434B5C;\n",
              "      box-shadow: 0px 1px 3px 1px rgba(0, 0, 0, 0.15);\n",
              "      filter: drop-shadow(0px 1px 2px rgba(0, 0, 0, 0.3));\n",
              "      fill: #FFFFFF;\n",
              "    }\n",
              "  </style>\n",
              "\n",
              "      <script>\n",
              "        const buttonEl =\n",
              "          document.querySelector('#df-c5db175b-c4ee-4734-b1a4-96538019d1be button.colab-df-convert');\n",
              "        buttonEl.style.display =\n",
              "          google.colab.kernel.accessAllowed ? 'block' : 'none';\n",
              "\n",
              "        async function convertToInteractive(key) {\n",
              "          const element = document.querySelector('#df-c5db175b-c4ee-4734-b1a4-96538019d1be');\n",
              "          const dataTable =\n",
              "            await google.colab.kernel.invokeFunction('convertToInteractive',\n",
              "                                                     [key], {});\n",
              "          if (!dataTable) return;\n",
              "\n",
              "          const docLinkHtml = 'Like what you see? Visit the ' +\n",
              "            '<a target=\"_blank\" href=https://colab.research.google.com/notebooks/data_table.ipynb>data table notebook</a>'\n",
              "            + ' to learn more about interactive tables.';\n",
              "          element.innerHTML = '';\n",
              "          dataTable['output_type'] = 'display_data';\n",
              "          await google.colab.output.renderOutput(dataTable, element);\n",
              "          const docLink = document.createElement('div');\n",
              "          docLink.innerHTML = docLinkHtml;\n",
              "          element.appendChild(docLink);\n",
              "        }\n",
              "      </script>\n",
              "    </div>\n",
              "  </div>\n",
              "  "
            ]
          },
          "metadata": {},
          "execution_count": 333
        }
      ]
    },
    {
      "cell_type": "code",
      "execution_count": 334,
      "id": "12894ce6",
      "metadata": {
        "id": "12894ce6",
        "outputId": "b92f6e8d-49b8-416f-85ee-18d284dca7e4",
        "colab": {
          "base_uri": "https://localhost:8080/"
        }
      },
      "outputs": [
        {
          "output_type": "stream",
          "name": "stdout",
          "text": [
            "<class 'pandas.core.frame.DataFrame'>\n",
            "RangeIndex: 299 entries, 0 to 298\n",
            "Data columns (total 13 columns):\n",
            " #   Column                    Non-Null Count  Dtype  \n",
            "---  ------                    --------------  -----  \n",
            " 0   age                       299 non-null    float64\n",
            " 1   anaemia                   299 non-null    int64  \n",
            " 2   creatinine_phosphokinase  299 non-null    int64  \n",
            " 3   diabetes                  299 non-null    int64  \n",
            " 4   ejection_fraction         299 non-null    int64  \n",
            " 5   high_blood_pressure       299 non-null    int64  \n",
            " 6   platelets                 299 non-null    float64\n",
            " 7   serum_creatinine          299 non-null    float64\n",
            " 8   serum_sodium              299 non-null    int64  \n",
            " 9   sex                       299 non-null    int64  \n",
            " 10  smoking                   299 non-null    int64  \n",
            " 11  time                      299 non-null    int64  \n",
            " 12  DEATH_EVENT               299 non-null    int64  \n",
            "dtypes: float64(3), int64(10)\n",
            "memory usage: 30.5 KB\n"
          ]
        }
      ],
      "source": [
        "df.info()"
      ]
    },
    {
      "cell_type": "code",
      "execution_count": 335,
      "id": "1cf57605",
      "metadata": {
        "id": "1cf57605"
      },
      "outputs": [],
      "source": [
        "df = df.rename({'DEATH_EVENT':'death'},axis=1)"
      ]
    },
    {
      "cell_type": "code",
      "execution_count": 336,
      "id": "6d027a92",
      "metadata": {
        "id": "6d027a92",
        "outputId": "60b83c13-64fc-4cee-f237-35a3767e8df0",
        "colab": {
          "base_uri": "https://localhost:8080/",
          "height": 468
        }
      },
      "outputs": [
        {
          "output_type": "execute_result",
          "data": {
            "text/plain": [
              "      age  anaemia  creatinine_phosphokinase  diabetes  ejection_fraction  \\\n",
              "0    75.0        0                       582         0                 20   \n",
              "1    55.0        0                      7861         0                 38   \n",
              "2    65.0        0                       146         0                 20   \n",
              "3    50.0        1                       111         0                 20   \n",
              "4    65.0        1                       160         1                 20   \n",
              "..    ...      ...                       ...       ...                ...   \n",
              "294  62.0        0                        61         1                 38   \n",
              "295  55.0        0                      1820         0                 38   \n",
              "296  45.0        0                      2060         1                 60   \n",
              "297  45.0        0                      2413         0                 38   \n",
              "298  50.0        0                       196         0                 45   \n",
              "\n",
              "     high_blood_pressure  platelets  serum_creatinine  serum_sodium  sex  \\\n",
              "0                      1  265000.00               1.9           130    1   \n",
              "1                      0  263358.03               1.1           136    1   \n",
              "2                      0  162000.00               1.3           129    1   \n",
              "3                      0  210000.00               1.9           137    1   \n",
              "4                      0  327000.00               2.7           116    0   \n",
              "..                   ...        ...               ...           ...  ...   \n",
              "294                    1  155000.00               1.1           143    1   \n",
              "295                    0  270000.00               1.2           139    0   \n",
              "296                    0  742000.00               0.8           138    0   \n",
              "297                    0  140000.00               1.4           140    1   \n",
              "298                    0  395000.00               1.6           136    1   \n",
              "\n",
              "     smoking  time  death  \n",
              "0          0     4      1  \n",
              "1          0     6      1  \n",
              "2          1     7      1  \n",
              "3          0     7      1  \n",
              "4          0     8      1  \n",
              "..       ...   ...    ...  \n",
              "294        1   270      0  \n",
              "295        0   271      0  \n",
              "296        0   278      0  \n",
              "297        1   280      0  \n",
              "298        1   285      0  \n",
              "\n",
              "[299 rows x 13 columns]"
            ],
            "text/html": [
              "\n",
              "  <div id=\"df-a182a452-11fd-486d-9885-6501c5d03eda\">\n",
              "    <div class=\"colab-df-container\">\n",
              "      <div>\n",
              "<style scoped>\n",
              "    .dataframe tbody tr th:only-of-type {\n",
              "        vertical-align: middle;\n",
              "    }\n",
              "\n",
              "    .dataframe tbody tr th {\n",
              "        vertical-align: top;\n",
              "    }\n",
              "\n",
              "    .dataframe thead th {\n",
              "        text-align: right;\n",
              "    }\n",
              "</style>\n",
              "<table border=\"1\" class=\"dataframe\">\n",
              "  <thead>\n",
              "    <tr style=\"text-align: right;\">\n",
              "      <th></th>\n",
              "      <th>age</th>\n",
              "      <th>anaemia</th>\n",
              "      <th>creatinine_phosphokinase</th>\n",
              "      <th>diabetes</th>\n",
              "      <th>ejection_fraction</th>\n",
              "      <th>high_blood_pressure</th>\n",
              "      <th>platelets</th>\n",
              "      <th>serum_creatinine</th>\n",
              "      <th>serum_sodium</th>\n",
              "      <th>sex</th>\n",
              "      <th>smoking</th>\n",
              "      <th>time</th>\n",
              "      <th>death</th>\n",
              "    </tr>\n",
              "  </thead>\n",
              "  <tbody>\n",
              "    <tr>\n",
              "      <th>0</th>\n",
              "      <td>75.0</td>\n",
              "      <td>0</td>\n",
              "      <td>582</td>\n",
              "      <td>0</td>\n",
              "      <td>20</td>\n",
              "      <td>1</td>\n",
              "      <td>265000.00</td>\n",
              "      <td>1.9</td>\n",
              "      <td>130</td>\n",
              "      <td>1</td>\n",
              "      <td>0</td>\n",
              "      <td>4</td>\n",
              "      <td>1</td>\n",
              "    </tr>\n",
              "    <tr>\n",
              "      <th>1</th>\n",
              "      <td>55.0</td>\n",
              "      <td>0</td>\n",
              "      <td>7861</td>\n",
              "      <td>0</td>\n",
              "      <td>38</td>\n",
              "      <td>0</td>\n",
              "      <td>263358.03</td>\n",
              "      <td>1.1</td>\n",
              "      <td>136</td>\n",
              "      <td>1</td>\n",
              "      <td>0</td>\n",
              "      <td>6</td>\n",
              "      <td>1</td>\n",
              "    </tr>\n",
              "    <tr>\n",
              "      <th>2</th>\n",
              "      <td>65.0</td>\n",
              "      <td>0</td>\n",
              "      <td>146</td>\n",
              "      <td>0</td>\n",
              "      <td>20</td>\n",
              "      <td>0</td>\n",
              "      <td>162000.00</td>\n",
              "      <td>1.3</td>\n",
              "      <td>129</td>\n",
              "      <td>1</td>\n",
              "      <td>1</td>\n",
              "      <td>7</td>\n",
              "      <td>1</td>\n",
              "    </tr>\n",
              "    <tr>\n",
              "      <th>3</th>\n",
              "      <td>50.0</td>\n",
              "      <td>1</td>\n",
              "      <td>111</td>\n",
              "      <td>0</td>\n",
              "      <td>20</td>\n",
              "      <td>0</td>\n",
              "      <td>210000.00</td>\n",
              "      <td>1.9</td>\n",
              "      <td>137</td>\n",
              "      <td>1</td>\n",
              "      <td>0</td>\n",
              "      <td>7</td>\n",
              "      <td>1</td>\n",
              "    </tr>\n",
              "    <tr>\n",
              "      <th>4</th>\n",
              "      <td>65.0</td>\n",
              "      <td>1</td>\n",
              "      <td>160</td>\n",
              "      <td>1</td>\n",
              "      <td>20</td>\n",
              "      <td>0</td>\n",
              "      <td>327000.00</td>\n",
              "      <td>2.7</td>\n",
              "      <td>116</td>\n",
              "      <td>0</td>\n",
              "      <td>0</td>\n",
              "      <td>8</td>\n",
              "      <td>1</td>\n",
              "    </tr>\n",
              "    <tr>\n",
              "      <th>...</th>\n",
              "      <td>...</td>\n",
              "      <td>...</td>\n",
              "      <td>...</td>\n",
              "      <td>...</td>\n",
              "      <td>...</td>\n",
              "      <td>...</td>\n",
              "      <td>...</td>\n",
              "      <td>...</td>\n",
              "      <td>...</td>\n",
              "      <td>...</td>\n",
              "      <td>...</td>\n",
              "      <td>...</td>\n",
              "      <td>...</td>\n",
              "    </tr>\n",
              "    <tr>\n",
              "      <th>294</th>\n",
              "      <td>62.0</td>\n",
              "      <td>0</td>\n",
              "      <td>61</td>\n",
              "      <td>1</td>\n",
              "      <td>38</td>\n",
              "      <td>1</td>\n",
              "      <td>155000.00</td>\n",
              "      <td>1.1</td>\n",
              "      <td>143</td>\n",
              "      <td>1</td>\n",
              "      <td>1</td>\n",
              "      <td>270</td>\n",
              "      <td>0</td>\n",
              "    </tr>\n",
              "    <tr>\n",
              "      <th>295</th>\n",
              "      <td>55.0</td>\n",
              "      <td>0</td>\n",
              "      <td>1820</td>\n",
              "      <td>0</td>\n",
              "      <td>38</td>\n",
              "      <td>0</td>\n",
              "      <td>270000.00</td>\n",
              "      <td>1.2</td>\n",
              "      <td>139</td>\n",
              "      <td>0</td>\n",
              "      <td>0</td>\n",
              "      <td>271</td>\n",
              "      <td>0</td>\n",
              "    </tr>\n",
              "    <tr>\n",
              "      <th>296</th>\n",
              "      <td>45.0</td>\n",
              "      <td>0</td>\n",
              "      <td>2060</td>\n",
              "      <td>1</td>\n",
              "      <td>60</td>\n",
              "      <td>0</td>\n",
              "      <td>742000.00</td>\n",
              "      <td>0.8</td>\n",
              "      <td>138</td>\n",
              "      <td>0</td>\n",
              "      <td>0</td>\n",
              "      <td>278</td>\n",
              "      <td>0</td>\n",
              "    </tr>\n",
              "    <tr>\n",
              "      <th>297</th>\n",
              "      <td>45.0</td>\n",
              "      <td>0</td>\n",
              "      <td>2413</td>\n",
              "      <td>0</td>\n",
              "      <td>38</td>\n",
              "      <td>0</td>\n",
              "      <td>140000.00</td>\n",
              "      <td>1.4</td>\n",
              "      <td>140</td>\n",
              "      <td>1</td>\n",
              "      <td>1</td>\n",
              "      <td>280</td>\n",
              "      <td>0</td>\n",
              "    </tr>\n",
              "    <tr>\n",
              "      <th>298</th>\n",
              "      <td>50.0</td>\n",
              "      <td>0</td>\n",
              "      <td>196</td>\n",
              "      <td>0</td>\n",
              "      <td>45</td>\n",
              "      <td>0</td>\n",
              "      <td>395000.00</td>\n",
              "      <td>1.6</td>\n",
              "      <td>136</td>\n",
              "      <td>1</td>\n",
              "      <td>1</td>\n",
              "      <td>285</td>\n",
              "      <td>0</td>\n",
              "    </tr>\n",
              "  </tbody>\n",
              "</table>\n",
              "<p>299 rows × 13 columns</p>\n",
              "</div>\n",
              "      <button class=\"colab-df-convert\" onclick=\"convertToInteractive('df-a182a452-11fd-486d-9885-6501c5d03eda')\"\n",
              "              title=\"Convert this dataframe to an interactive table.\"\n",
              "              style=\"display:none;\">\n",
              "        \n",
              "  <svg xmlns=\"http://www.w3.org/2000/svg\" height=\"24px\"viewBox=\"0 0 24 24\"\n",
              "       width=\"24px\">\n",
              "    <path d=\"M0 0h24v24H0V0z\" fill=\"none\"/>\n",
              "    <path d=\"M18.56 5.44l.94 2.06.94-2.06 2.06-.94-2.06-.94-.94-2.06-.94 2.06-2.06.94zm-11 1L8.5 8.5l.94-2.06 2.06-.94-2.06-.94L8.5 2.5l-.94 2.06-2.06.94zm10 10l.94 2.06.94-2.06 2.06-.94-2.06-.94-.94-2.06-.94 2.06-2.06.94z\"/><path d=\"M17.41 7.96l-1.37-1.37c-.4-.4-.92-.59-1.43-.59-.52 0-1.04.2-1.43.59L10.3 9.45l-7.72 7.72c-.78.78-.78 2.05 0 2.83L4 21.41c.39.39.9.59 1.41.59.51 0 1.02-.2 1.41-.59l7.78-7.78 2.81-2.81c.8-.78.8-2.07 0-2.86zM5.41 20L4 18.59l7.72-7.72 1.47 1.35L5.41 20z\"/>\n",
              "  </svg>\n",
              "      </button>\n",
              "      \n",
              "  <style>\n",
              "    .colab-df-container {\n",
              "      display:flex;\n",
              "      flex-wrap:wrap;\n",
              "      gap: 12px;\n",
              "    }\n",
              "\n",
              "    .colab-df-convert {\n",
              "      background-color: #E8F0FE;\n",
              "      border: none;\n",
              "      border-radius: 50%;\n",
              "      cursor: pointer;\n",
              "      display: none;\n",
              "      fill: #1967D2;\n",
              "      height: 32px;\n",
              "      padding: 0 0 0 0;\n",
              "      width: 32px;\n",
              "    }\n",
              "\n",
              "    .colab-df-convert:hover {\n",
              "      background-color: #E2EBFA;\n",
              "      box-shadow: 0px 1px 2px rgba(60, 64, 67, 0.3), 0px 1px 3px 1px rgba(60, 64, 67, 0.15);\n",
              "      fill: #174EA6;\n",
              "    }\n",
              "\n",
              "    [theme=dark] .colab-df-convert {\n",
              "      background-color: #3B4455;\n",
              "      fill: #D2E3FC;\n",
              "    }\n",
              "\n",
              "    [theme=dark] .colab-df-convert:hover {\n",
              "      background-color: #434B5C;\n",
              "      box-shadow: 0px 1px 3px 1px rgba(0, 0, 0, 0.15);\n",
              "      filter: drop-shadow(0px 1px 2px rgba(0, 0, 0, 0.3));\n",
              "      fill: #FFFFFF;\n",
              "    }\n",
              "  </style>\n",
              "\n",
              "      <script>\n",
              "        const buttonEl =\n",
              "          document.querySelector('#df-a182a452-11fd-486d-9885-6501c5d03eda button.colab-df-convert');\n",
              "        buttonEl.style.display =\n",
              "          google.colab.kernel.accessAllowed ? 'block' : 'none';\n",
              "\n",
              "        async function convertToInteractive(key) {\n",
              "          const element = document.querySelector('#df-a182a452-11fd-486d-9885-6501c5d03eda');\n",
              "          const dataTable =\n",
              "            await google.colab.kernel.invokeFunction('convertToInteractive',\n",
              "                                                     [key], {});\n",
              "          if (!dataTable) return;\n",
              "\n",
              "          const docLinkHtml = 'Like what you see? Visit the ' +\n",
              "            '<a target=\"_blank\" href=https://colab.research.google.com/notebooks/data_table.ipynb>data table notebook</a>'\n",
              "            + ' to learn more about interactive tables.';\n",
              "          element.innerHTML = '';\n",
              "          dataTable['output_type'] = 'display_data';\n",
              "          await google.colab.output.renderOutput(dataTable, element);\n",
              "          const docLink = document.createElement('div');\n",
              "          docLink.innerHTML = docLinkHtml;\n",
              "          element.appendChild(docLink);\n",
              "        }\n",
              "      </script>\n",
              "    </div>\n",
              "  </div>\n",
              "  "
            ]
          },
          "metadata": {},
          "execution_count": 336
        }
      ],
      "source": [
        "df"
      ]
    },
    {
      "cell_type": "code",
      "execution_count": 337,
      "id": "6aff356d",
      "metadata": {
        "id": "6aff356d"
      },
      "outputs": [],
      "source": [
        "#df.to_csv('new.csv') to save/download your current csv file in your device"
      ]
    },
    {
      "cell_type": "code",
      "execution_count": 338,
      "id": "d505b147",
      "metadata": {
        "id": "d505b147",
        "outputId": "89c8b57c-ca21-45bf-e7a5-20e785bca621",
        "colab": {
          "base_uri": "https://localhost:8080/"
        }
      },
      "outputs": [
        {
          "output_type": "execute_result",
          "data": {
            "text/plain": [
              "0    203\n",
              "1     96\n",
              "Name: death, dtype: int64"
            ]
          },
          "metadata": {},
          "execution_count": 338
        }
      ],
      "source": [
        "df.death.value_counts()"
      ]
    },
    {
      "cell_type": "code",
      "execution_count": 339,
      "id": "429ce428",
      "metadata": {
        "id": "429ce428",
        "outputId": "6499a5f7-cdfe-411b-f095-313f94521cf2",
        "colab": {
          "base_uri": "https://localhost:8080/",
          "height": 302
        }
      },
      "outputs": [
        {
          "output_type": "execute_result",
          "data": {
            "text/plain": [
              "<matplotlib.axes._subplots.AxesSubplot at 0x7fb3686309d0>"
            ]
          },
          "metadata": {},
          "execution_count": 339
        },
        {
          "output_type": "display_data",
          "data": {
            "text/plain": [
              "<Figure size 432x288 with 1 Axes>"
            ],
            "image/png": "[encoded data removed]"
          },
          "metadata": {
            "needs_background": "light"
          }
        }
      ],
      "source": [
        "sns.countplot(y='death',data=df)"
      ]
    },
    {
      "cell_type": "code",
      "execution_count": 340,
      "id": "7908d227",
      "metadata": {
        "id": "7908d227",
        "outputId": "fe26b50c-cd03-4603-9902-e30cf1f76188",
        "colab": {
          "base_uri": "https://localhost:8080/",
          "height": 302
        }
      },
      "outputs": [
        {
          "output_type": "execute_result",
          "data": {
            "text/plain": [
              "<matplotlib.axes._subplots.AxesSubplot at 0x7fb368118bd0>"
            ]
          },
          "metadata": {},
          "execution_count": 340
        },
        {
          "output_type": "display_data",
          "data": {
            "text/plain": [
              "<Figure size 432x288 with 1 Axes>"
            ],
            "image/png": "[encoded data removed]"
          },
          "metadata": {
            "needs_background": "light"
          }
        }
      ],
      "source": [
        "sns.countplot(x='death',data=df)"
      ]
    },
    {
      "cell_type": "code",
      "execution_count": 341,
      "id": "3e8afc41",
      "metadata": {
        "id": "3e8afc41",
        "outputId": "36a003e0-74c8-4233-de8c-4db7491a9cb4",
        "colab": {
          "base_uri": "https://localhost:8080/",
          "height": 302
        }
      },
      "outputs": [
        {
          "output_type": "execute_result",
          "data": {
            "text/plain": [
              "(<matplotlib.axes._subplots.AxesSubplot at 0x7fb36800d3d0>,)"
            ]
          },
          "metadata": {},
          "execution_count": 341
        },
        {
          "output_type": "display_data",
          "data": {
            "text/plain": [
              "<Figure size 432x288 with 1 Axes>"
            ],
            "image/png": "[encoded data removed]"
          },
          "metadata": {
            "needs_background": "light"
          }
        }
      ],
      "source": [
        "sns.countplot(x='diabetes', data=df) , #='death')"
      ]
    },
    {
      "cell_type": "code",
      "execution_count": 342,
      "id": "7e95d26a",
      "metadata": {
        "id": "7e95d26a",
        "outputId": "46f241eb-1127-48cf-95dc-1452c4a91670",
        "colab": {
          "base_uri": "https://localhost:8080/",
          "height": 302
        }
      },
      "outputs": [
        {
          "output_type": "execute_result",
          "data": {
            "text/plain": [
              "<matplotlib.axes._subplots.AxesSubplot at 0x7fb3682de610>"
            ]
          },
          "metadata": {},
          "execution_count": 342
        },
        {
          "output_type": "display_data",
          "data": {
            "text/plain": [
              "<Figure size 432x288 with 1 Axes>"
            ],
            "image/png": "[encoded data removed]"
          },
          "metadata": {
            "needs_background": "light"
          }
        }
      ],
      "source": [
        "sns.countplot(x='diabetes', data=df, hue='death')"
      ]
    },
    {
      "cell_type": "code",
      "execution_count": 343,
      "id": "8ffbc3e3",
      "metadata": {
        "id": "8ffbc3e3",
        "outputId": "fbe32f39-fdcb-4c2f-b099-a8eb53caa200",
        "colab": {
          "base_uri": "https://localhost:8080/"
        }
      },
      "outputs": [
        {
          "output_type": "execute_result",
          "data": {
            "text/plain": [
              "0    174\n",
              "1    125\n",
              "Name: diabetes, dtype: int64"
            ]
          },
          "metadata": {},
          "execution_count": 343
        }
      ],
      "source": [
        "df.diabetes.value_counts()"
      ]
    },
    {
      "cell_type": "code",
      "execution_count": 344,
      "id": "47bbef66",
      "metadata": {
        "id": "47bbef66",
        "outputId": "ad552b85-f353-4afa-83ff-cc35e8eae9c5",
        "colab": {
          "base_uri": "https://localhost:8080/",
          "height": 302
        }
      },
      "outputs": [
        {
          "output_type": "execute_result",
          "data": {
            "text/plain": [
              "<matplotlib.axes._subplots.AxesSubplot at 0x7fb3684bc890>"
            ]
          },
          "metadata": {},
          "execution_count": 344
        },
        {
          "output_type": "display_data",
          "data": {
            "text/plain": [
              "<Figure size 432x288 with 1 Axes>"
            ],
            "image/png": "[encoded data removed]"
          },
          "metadata": {
            "needs_background": "light"
          }
        }
      ],
      "source": [
        "sns.countplot(x='anaemia', data=df, hue='death')"
      ]
    },
    {
      "cell_type": "code",
      "execution_count": 345,
      "id": "c2cbb341",
      "metadata": {
        "id": "c2cbb341",
        "outputId": "f07cd741-d34e-43ff-8744-c3ba85b4e1f8",
        "colab": {
          "base_uri": "https://localhost:8080/"
        }
      },
      "outputs": [
        {
          "output_type": "execute_result",
          "data": {
            "text/plain": [
              "0    170\n",
              "1    129\n",
              "Name: anaemia, dtype: int64"
            ]
          },
          "metadata": {},
          "execution_count": 345
        }
      ],
      "source": [
        "df.anaemia.value_counts()"
      ]
    },
    {
      "cell_type": "code",
      "execution_count": 346,
      "id": "e0cb16c4",
      "metadata": {
        "id": "e0cb16c4",
        "outputId": "36983320-0a1b-4f0f-f133-649a9c346646",
        "colab": {
          "base_uri": "https://localhost:8080/",
          "height": 302
        }
      },
      "outputs": [
        {
          "output_type": "execute_result",
          "data": {
            "text/plain": [
              "<matplotlib.axes._subplots.AxesSubplot at 0x7fb3686f0710>"
            ]
          },
          "metadata": {},
          "execution_count": 346
        },
        {
          "output_type": "display_data",
          "data": {
            "text/plain": [
              "<Figure size 432x288 with 1 Axes>"
            ],
            "image/png": "[encoded data removed]"
          },
          "metadata": {
            "needs_background": "light"
          }
        }
      ],
      "source": [
        "sns.countplot(x='anaemia', data=df, hue='diabetes')"
      ]
    },
    {
      "cell_type": "code",
      "execution_count": 347,
      "id": "4856b9dd",
      "metadata": {
        "id": "4856b9dd",
        "outputId": "0322ac84-84a5-4f98-e78e-1bfa9a0d2988",
        "colab": {
          "base_uri": "https://localhost:8080/",
          "height": 302
        }
      },
      "outputs": [
        {
          "output_type": "execute_result",
          "data": {
            "text/plain": [
              "<matplotlib.axes._subplots.AxesSubplot at 0x7fb368209150>"
            ]
          },
          "metadata": {},
          "execution_count": 347
        },
        {
          "output_type": "display_data",
          "data": {
            "text/plain": [
              "<Figure size 432x288 with 1 Axes>"
            ],
            "image/png": "[encoded data removed]"
          },
          "metadata": {
            "needs_background": "light"
          }
        }
      ],
      "source": [
        "sns.countplot(x='high_blood_pressure', data=df, hue='death')"
      ]
    },
    {
      "cell_type": "code",
      "execution_count": 348,
      "id": "22cc8d64",
      "metadata": {
        "id": "22cc8d64",
        "colab": {
          "base_uri": "https://localhost:8080/"
        },
        "outputId": "7fe13c11-f47b-4eef-9d5a-7e933fda64ba"
      },
      "outputs": [
        {
          "output_type": "execute_result",
          "data": {
            "text/plain": [
              "0    1\n",
              "1    1\n",
              "2    1\n",
              "Name: death, dtype: int64"
            ]
          },
          "metadata": {},
          "execution_count": 348
        }
      ],
      "source": [
        "#Target\n",
        "y = df['death']\n",
        "y.head(3)"
      ]
    },
    {
      "cell_type": "code",
      "source": [
        "#Features\n",
        "X=df.copy()\n",
        "X = df.drop('death',axis=1)\n",
        "X.head(3)"
      ],
      "metadata": {
        "colab": {
          "base_uri": "https://localhost:8080/",
          "height": 143
        },
        "id": "abIcRBWUJIKn",
        "outputId": "0e354d8a-c893-42a1-832a-63ecef44a4f7"
      },
      "id": "abIcRBWUJIKn",
      "execution_count": 349,
      "outputs": [
        {
          "output_type": "execute_result",
          "data": {
            "text/plain": [
              "    age  anaemia  creatinine_phosphokinase  diabetes  ejection_fraction  \\\n",
              "0  75.0        0                       582         0                 20   \n",
              "1  55.0        0                      7861         0                 38   \n",
              "2  65.0        0                       146         0                 20   \n",
              "\n",
              "   high_blood_pressure  platelets  serum_creatinine  serum_sodium  sex  \\\n",
              "0                    1  265000.00               1.9           130    1   \n",
              "1                    0  263358.03               1.1           136    1   \n",
              "2                    0  162000.00               1.3           129    1   \n",
              "\n",
              "   smoking  time  \n",
              "0        0     4  \n",
              "1        0     6  \n",
              "2        1     7  "
            ],
            "text/html": [
              "\n",
              "  <div id=\"df-293cb3af-0689-4623-bee9-bd76396ab52d\">\n",
              "    <div class=\"colab-df-container\">\n",
              "      <div>\n",
              "<style scoped>\n",
              "    .dataframe tbody tr th:only-of-type {\n",
              "        vertical-align: middle;\n",
              "    }\n",
              "\n",
              "    .dataframe tbody tr th {\n",
              "        vertical-align: top;\n",
              "    }\n",
              "\n",
              "    .dataframe thead th {\n",
              "        text-align: right;\n",
              "    }\n",
              "</style>\n",
              "<table border=\"1\" class=\"dataframe\">\n",
              "  <thead>\n",
              "    <tr style=\"text-align: right;\">\n",
              "      <th></th>\n",
              "      <th>age</th>\n",
              "      <th>anaemia</th>\n",
              "      <th>creatinine_phosphokinase</th>\n",
              "      <th>diabetes</th>\n",
              "      <th>ejection_fraction</th>\n",
              "      <th>high_blood_pressure</th>\n",
              "      <th>platelets</th>\n",
              "      <th>serum_creatinine</th>\n",
              "      <th>serum_sodium</th>\n",
              "      <th>sex</th>\n",
              "      <th>smoking</th>\n",
              "      <th>time</th>\n",
              "    </tr>\n",
              "  </thead>\n",
              "  <tbody>\n",
              "    <tr>\n",
              "      <th>0</th>\n",
              "      <td>75.0</td>\n",
              "      <td>0</td>\n",
              "      <td>582</td>\n",
              "      <td>0</td>\n",
              "      <td>20</td>\n",
              "      <td>1</td>\n",
              "      <td>265000.00</td>\n",
              "      <td>1.9</td>\n",
              "      <td>130</td>\n",
              "      <td>1</td>\n",
              "      <td>0</td>\n",
              "      <td>4</td>\n",
              "    </tr>\n",
              "    <tr>\n",
              "      <th>1</th>\n",
              "      <td>55.0</td>\n",
              "      <td>0</td>\n",
              "      <td>7861</td>\n",
              "      <td>0</td>\n",
              "      <td>38</td>\n",
              "      <td>0</td>\n",
              "      <td>263358.03</td>\n",
              "      <td>1.1</td>\n",
              "      <td>136</td>\n",
              "      <td>1</td>\n",
              "      <td>0</td>\n",
              "      <td>6</td>\n",
              "    </tr>\n",
              "    <tr>\n",
              "      <th>2</th>\n",
              "      <td>65.0</td>\n",
              "      <td>0</td>\n",
              "      <td>146</td>\n",
              "      <td>0</td>\n",
              "      <td>20</td>\n",
              "      <td>0</td>\n",
              "      <td>162000.00</td>\n",
              "      <td>1.3</td>\n",
              "      <td>129</td>\n",
              "      <td>1</td>\n",
              "      <td>1</td>\n",
              "      <td>7</td>\n",
              "    </tr>\n",
              "  </tbody>\n",
              "</table>\n",
              "</div>\n",
              "      <button class=\"colab-df-convert\" onclick=\"convertToInteractive('df-293cb3af-0689-4623-bee9-bd76396ab52d')\"\n",
              "              title=\"Convert this dataframe to an interactive table.\"\n",
              "              style=\"display:none;\">\n",
              "        \n",
              "  <svg xmlns=\"http://www.w3.org/2000/svg\" height=\"24px\"viewBox=\"0 0 24 24\"\n",
              "       width=\"24px\">\n",
              "    <path d=\"M0 0h24v24H0V0z\" fill=\"none\"/>\n",
              "    <path d=\"M18.56 5.44l.94 2.06.94-2.06 2.06-.94-2.06-.94-.94-2.06-.94 2.06-2.06.94zm-11 1L8.5 8.5l.94-2.06 2.06-.94-2.06-.94L8.5 2.5l-.94 2.06-2.06.94zm10 10l.94 2.06.94-2.06 2.06-.94-2.06-.94-.94-2.06-.94 2.06-2.06.94z\"/><path d=\"M17.41 7.96l-1.37-1.37c-.4-.4-.92-.59-1.43-.59-.52 0-1.04.2-1.43.59L10.3 9.45l-7.72 7.72c-.78.78-.78 2.05 0 2.83L4 21.41c.39.39.9.59 1.41.59.51 0 1.02-.2 1.41-.59l7.78-7.78 2.81-2.81c.8-.78.8-2.07 0-2.86zM5.41 20L4 18.59l7.72-7.72 1.47 1.35L5.41 20z\"/>\n",
              "  </svg>\n",
              "      </button>\n",
              "      \n",
              "  <style>\n",
              "    .colab-df-container {\n",
              "      display:flex;\n",
              "      flex-wrap:wrap;\n",
              "      gap: 12px;\n",
              "    }\n",
              "\n",
              "    .colab-df-convert {\n",
              "      background-color: #E8F0FE;\n",
              "      border: none;\n",
              "      border-radius: 50%;\n",
              "      cursor: pointer;\n",
              "      display: none;\n",
              "      fill: #1967D2;\n",
              "      height: 32px;\n",
              "      padding: 0 0 0 0;\n",
              "      width: 32px;\n",
              "    }\n",
              "\n",
              "    .colab-df-convert:hover {\n",
              "      background-color: #E2EBFA;\n",
              "      box-shadow: 0px 1px 2px rgba(60, 64, 67, 0.3), 0px 1px 3px 1px rgba(60, 64, 67, 0.15);\n",
              "      fill: #174EA6;\n",
              "    }\n",
              "\n",
              "    [theme=dark] .colab-df-convert {\n",
              "      background-color: #3B4455;\n",
              "      fill: #D2E3FC;\n",
              "    }\n",
              "\n",
              "    [theme=dark] .colab-df-convert:hover {\n",
              "      background-color: #434B5C;\n",
              "      box-shadow: 0px 1px 3px 1px rgba(0, 0, 0, 0.15);\n",
              "      filter: drop-shadow(0px 1px 2px rgba(0, 0, 0, 0.3));\n",
              "      fill: #FFFFFF;\n",
              "    }\n",
              "  </style>\n",
              "\n",
              "      <script>\n",
              "        const buttonEl =\n",
              "          document.querySelector('#df-293cb3af-0689-4623-bee9-bd76396ab52d button.colab-df-convert');\n",
              "        buttonEl.style.display =\n",
              "          google.colab.kernel.accessAllowed ? 'block' : 'none';\n",
              "\n",
              "        async function convertToInteractive(key) {\n",
              "          const element = document.querySelector('#df-293cb3af-0689-4623-bee9-bd76396ab52d');\n",
              "          const dataTable =\n",
              "            await google.colab.kernel.invokeFunction('convertToInteractive',\n",
              "                                                     [key], {});\n",
              "          if (!dataTable) return;\n",
              "\n",
              "          const docLinkHtml = 'Like what you see? Visit the ' +\n",
              "            '<a target=\"_blank\" href=https://colab.research.google.com/notebooks/data_table.ipynb>data table notebook</a>'\n",
              "            + ' to learn more about interactive tables.';\n",
              "          element.innerHTML = '';\n",
              "          dataTable['output_type'] = 'display_data';\n",
              "          await google.colab.output.renderOutput(dataTable, element);\n",
              "          const docLink = document.createElement('div');\n",
              "          docLink.innerHTML = docLinkHtml;\n",
              "          element.appendChild(docLink);\n",
              "        }\n",
              "      </script>\n",
              "    </div>\n",
              "  </div>\n",
              "  "
            ]
          },
          "metadata": {},
          "execution_count": 349
        }
      ]
    },
    {
      "cell_type": "code",
      "execution_count": 350,
      "id": "479d98bf",
      "metadata": {
        "id": "479d98bf"
      },
      "outputs": [],
      "source": [
        "from sklearn.model_selection import train_test_split"
      ]
    },
    {
      "cell_type": "code",
      "execution_count": 351,
      "id": "bed4801b",
      "metadata": {
        "id": "bed4801b"
      },
      "outputs": [],
      "source": [
        "X_train, X_test, y_train, y_test = train_test_split(X,y,train_size=.70,random_state=42)"
      ]
    },
    {
      "cell_type": "code",
      "execution_count": 352,
      "id": "8f9e4006",
      "metadata": {
        "id": "8f9e4006",
        "outputId": "1c6e74d9-c6ae-44f4-d231-1a66bb53878d",
        "colab": {
          "base_uri": "https://localhost:8080/"
        }
      },
      "outputs": [
        {
          "output_type": "execute_result",
          "data": {
            "text/plain": [
              "281    0\n",
              "265    0\n",
              "164    1\n",
              "9      1\n",
              "77     0\n",
              "      ..\n",
              "132    0\n",
              "72     1\n",
              "15     1\n",
              "10     1\n",
              "157    0\n",
              "Name: death, Length: 90, dtype: int64"
            ]
          },
          "metadata": {},
          "execution_count": 352
        }
      ],
      "source": [
        "y_test"
      ]
    },
    {
      "cell_type": "code",
      "execution_count": 353,
      "id": "5e7ecc58",
      "metadata": {
        "id": "5e7ecc58",
        "outputId": "f417a64f-6511-41d1-fe92-6eec1f73576d",
        "colab": {
          "base_uri": "https://localhost:8080/"
        }
      },
      "outputs": [
        {
          "output_type": "execute_result",
          "data": {
            "text/plain": [
              "(90,)"
            ]
          },
          "metadata": {},
          "execution_count": 353
        }
      ],
      "source": [
        "y_test.shape"
      ]
    },
    {
      "cell_type": "code",
      "execution_count": 354,
      "id": "3ae5f71a",
      "metadata": {
        "id": "3ae5f71a",
        "outputId": "f843d857-c183-4d6a-e5a5-78c747adef26",
        "colab": {
          "base_uri": "https://localhost:8080/"
        }
      },
      "outputs": [
        {
          "output_type": "execute_result",
          "data": {
            "text/plain": [
              "(209, 12)"
            ]
          },
          "metadata": {},
          "execution_count": 354
        }
      ],
      "source": [
        "X_train.shape"
      ]
    },
    {
      "cell_type": "markdown",
      "id": "c9018e40",
      "metadata": {
        "id": "c9018e40"
      },
      "source": [
        "# Apply Decision Tree Classifier"
      ]
    },
    {
      "cell_type": "code",
      "execution_count": 355,
      "id": "c1db20eb",
      "metadata": {
        "id": "c1db20eb"
      },
      "outputs": [],
      "source": [
        "from sklearn.tree import DecisionTreeClassifier"
      ]
    },
    {
      "cell_type": "code",
      "execution_count": 356,
      "id": "cc0d3e5f",
      "metadata": {
        "id": "cc0d3e5f"
      },
      "outputs": [],
      "source": [
        "dt = DecisionTreeClassifier()"
      ]
    },
    {
      "cell_type": "code",
      "execution_count": 357,
      "id": "5494c820",
      "metadata": {
        "id": "5494c820",
        "outputId": "a5d4225e-4523-4ee2-8a1e-13d20b7cc1b9",
        "colab": {
          "base_uri": "https://localhost:8080/"
        }
      },
      "outputs": [
        {
          "output_type": "execute_result",
          "data": {
            "text/plain": [
              "DecisionTreeClassifier()"
            ]
          },
          "metadata": {},
          "execution_count": 357
        }
      ],
      "source": [
        "dt.fit(X_train,y_train) #train the model with 70% of data from dataset"
      ]
    },
    {
      "cell_type": "code",
      "execution_count": 358,
      "id": "a93bdf70",
      "metadata": {
        "id": "a93bdf70"
      },
      "outputs": [],
      "source": [
        "y_pred = dt.predict(X_test) # pred is corrsponding to ytest"
      ]
    },
    {
      "cell_type": "code",
      "execution_count": 359,
      "id": "c7356cc6",
      "metadata": {
        "id": "c7356cc6",
        "outputId": "336d50db-c81a-4d81-8cd1-0b7932279b18",
        "colab": {
          "base_uri": "https://localhost:8080/"
        }
      },
      "outputs": [
        {
          "output_type": "execute_result",
          "data": {
            "text/plain": [
              "281    0\n",
              "265    0\n",
              "164    1\n",
              "Name: death, dtype: int64"
            ]
          },
          "metadata": {},
          "execution_count": 359
        }
      ],
      "source": [
        "y_test.head(3)"
      ]
    },
    {
      "cell_type": "code",
      "execution_count": 360,
      "id": "78d7c070",
      "metadata": {
        "id": "78d7c070",
        "outputId": "75273eeb-1ab1-4372-dda1-95008a0d886d",
        "colab": {
          "base_uri": "https://localhost:8080/"
        }
      },
      "outputs": [
        {
          "output_type": "execute_result",
          "data": {
            "text/plain": [
              "array([1, 0, 0, 1, 0, 0, 0, 1, 0, 0, 0, 0, 0, 0, 1, 0, 0, 0, 1, 1, 0, 0,\n",
              "       1, 1, 1, 0, 0, 0, 0, 0, 1, 0, 1, 1, 1, 0, 0, 0, 0, 0, 1, 0, 0, 0,\n",
              "       1, 0, 1, 0, 0, 0, 0, 0, 0, 0, 0, 0, 0, 1, 0, 1, 1, 1, 0, 0, 1, 1,\n",
              "       0, 1, 0, 0, 0, 0, 0, 0, 1, 0, 0, 1, 1, 0, 1, 1, 0, 0, 0, 0, 1, 0,\n",
              "       0, 0])"
            ]
          },
          "metadata": {},
          "execution_count": 360
        }
      ],
      "source": [
        "y_pred # Predicted value of Y"
      ]
    },
    {
      "cell_type": "code",
      "execution_count": 361,
      "id": "958e56dc",
      "metadata": {
        "id": "958e56dc",
        "outputId": "8e15e8f3-f163-4007-d1c4-45c1ff059e8c",
        "colab": {
          "base_uri": "https://localhost:8080/"
        }
      },
      "outputs": [
        {
          "output_type": "execute_result",
          "data": {
            "text/plain": [
              "array([0, 0, 1, 1, 0, 0, 1, 0, 1, 0, 0, 1, 1, 0, 0, 1, 0, 0, 1, 1, 0, 0,\n",
              "       0, 1, 1, 0, 0, 0, 1, 0, 1, 0, 0, 1, 1, 1, 1, 1, 0, 0, 1, 1, 0, 0,\n",
              "       0, 0, 0, 0, 0, 0, 1, 1, 1, 0, 0, 0, 0, 1, 0, 1, 1, 1, 1, 0, 1, 1,\n",
              "       0, 0, 0, 0, 1, 0, 0, 0, 0, 0, 0, 1, 0, 0, 1, 1, 0, 0, 0, 0, 1, 1,\n",
              "       1, 0])"
            ]
          },
          "metadata": {},
          "execution_count": 361
        }
      ],
      "source": [
        "import numpy as np\n",
        "np.array(y_test) # Actual Value of Y"
      ]
    },
    {
      "cell_type": "markdown",
      "id": "eaab2a87",
      "metadata": {
        "id": "eaab2a87"
      },
      "source": [
        "# Evaluate the ML model"
      ]
    },
    {
      "cell_type": "code",
      "execution_count": 362,
      "id": "39d5a448",
      "metadata": {
        "id": "39d5a448"
      },
      "outputs": [],
      "source": [
        "from sklearn.metrics import classification_report , accuracy_score, confusion_matrix, plot_roc_curve"
      ]
    },
    {
      "cell_type": "code",
      "execution_count": 363,
      "id": "7db85897",
      "metadata": {
        "id": "7db85897",
        "outputId": "9e8a6771-f2b2-4154-c3db-0d9cc42d9d84",
        "colab": {
          "base_uri": "https://localhost:8080/",
          "height": 70
        }
      },
      "outputs": [
        {
          "output_type": "execute_result",
          "data": {
            "text/plain": [
              "'              precision    recall  f1-score   support\\n\\n           0       0.70      0.81      0.75        53\\n           1       0.66      0.51      0.58        37\\n\\n    accuracy                           0.69        90\\n   macro avg       0.68      0.66      0.67        90\\nweighted avg       0.68      0.69      0.68        90\\n'"
            ],
            "application/vnd.google.colaboratory.intrinsic+json": {
              "type": "string"
            }
          },
          "metadata": {},
          "execution_count": 363
        }
      ],
      "source": [
        "classification_report(y_test,y_pred) "
      ]
    },
    {
      "cell_type": "code",
      "execution_count": 364,
      "id": "c0d6aae8",
      "metadata": {
        "id": "c0d6aae8",
        "outputId": "2c05752a-ad75-400b-a87b-5bd286f14ead",
        "colab": {
          "base_uri": "https://localhost:8080/"
        }
      },
      "outputs": [
        {
          "output_type": "stream",
          "name": "stdout",
          "text": [
            "              precision    recall  f1-score   support\n",
            "\n",
            "           0       0.70      0.81      0.75        53\n",
            "           1       0.66      0.51      0.58        37\n",
            "\n",
            "    accuracy                           0.69        90\n",
            "   macro avg       0.68      0.66      0.67        90\n",
            "weighted avg       0.68      0.69      0.68        90\n",
            "\n"
          ]
        }
      ],
      "source": [
        "print(classification_report(y_test,y_pred))"
      ]
    },
    {
      "cell_type": "code",
      "execution_count": 365,
      "id": "3e6fcc04",
      "metadata": {
        "id": "3e6fcc04"
      },
      "outputs": [],
      "source": [
        "test_confusion_matrix = confusion_matrix(y_test,y_pred)"
      ]
    },
    {
      "cell_type": "code",
      "execution_count": 366,
      "id": "3c04aa30",
      "metadata": {
        "id": "3c04aa30",
        "outputId": "c9768428-930b-484b-ca92-3816371e206c",
        "colab": {
          "base_uri": "https://localhost:8080/"
        }
      },
      "outputs": [
        {
          "output_type": "execute_result",
          "data": {
            "text/plain": [
              "array([[43, 10],\n",
              "       [18, 19]])"
            ]
          },
          "metadata": {},
          "execution_count": 366
        }
      ],
      "source": [
        "test_confusion_matrix"
      ]
    },
    {
      "cell_type": "code",
      "execution_count": 367,
      "id": "4857990a",
      "metadata": {
        "id": "4857990a",
        "outputId": "14f96ed2-e266-4091-aa6e-fee2b6d2872c",
        "colab": {
          "base_uri": "https://localhost:8080/",
          "height": 285
        }
      },
      "outputs": [
        {
          "output_type": "execute_result",
          "data": {
            "text/plain": [
              "<matplotlib.axes._subplots.AxesSubplot at 0x7fb368321b50>"
            ]
          },
          "metadata": {},
          "execution_count": 367
        },
        {
          "output_type": "display_data",
          "data": {
            "text/plain": [
              "<Figure size 432x288 with 2 Axes>"
            ],
            "image/png": "[encoded data removed]"
          },
          "metadata": {
            "needs_background": "light"
          }
        }
      ],
      "source": [
        "sns.heatmap(test_confusion_matrix, annot=True)"
      ]
    },
    {
      "cell_type": "code",
      "execution_count": 368,
      "id": "3095acbb",
      "metadata": {
        "id": "3095acbb"
      },
      "outputs": [],
      "source": [
        "tp, fn, fp, tn = confusion_matrix(y_test,y_pred).reshape(-1)"
      ]
    },
    {
      "cell_type": "markdown",
      "source": [
        "**1. Accuracy of Decision Tree**"
      ],
      "metadata": {
        "id": "K8r8GOXiNVfy"
      },
      "id": "K8r8GOXiNVfy"
    },
    {
      "cell_type": "code",
      "execution_count": 369,
      "id": "b7f3ec5b",
      "metadata": {
        "id": "b7f3ec5b",
        "outputId": "a50426f6-6d4c-4aa3-eff2-f629e0e8f4e8",
        "colab": {
          "base_uri": "https://localhost:8080/"
        }
      },
      "outputs": [
        {
          "output_type": "execute_result",
          "data": {
            "text/plain": [
              "0.6888888888888889"
            ]
          },
          "metadata": {},
          "execution_count": 369
        }
      ],
      "source": [
        "dt.score(X_test,y_test)"
      ]
    },
    {
      "cell_type": "markdown",
      "id": "3e82216c",
      "metadata": {
        "id": "3e82216c"
      },
      "source": [
        "# Random Forest Classifier"
      ]
    },
    {
      "cell_type": "code",
      "execution_count": 370,
      "id": "d4095ee9",
      "metadata": {
        "id": "d4095ee9"
      },
      "outputs": [],
      "source": [
        "from sklearn.ensemble import RandomForestClassifier"
      ]
    },
    {
      "cell_type": "code",
      "execution_count": 371,
      "id": "45631ec0",
      "metadata": {
        "id": "45631ec0"
      },
      "outputs": [],
      "source": [
        "clf = RandomForestClassifier() # default n_estimators=100 ; 100 trees"
      ]
    },
    {
      "cell_type": "code",
      "execution_count": 372,
      "id": "b58cd047",
      "metadata": {
        "id": "b58cd047",
        "outputId": "baf3e8a2-f87d-46b7-d6c1-147cb7756110",
        "colab": {
          "base_uri": "https://localhost:8080/"
        }
      },
      "outputs": [
        {
          "output_type": "execute_result",
          "data": {
            "text/plain": [
              "RandomForestClassifier()"
            ]
          },
          "metadata": {},
          "execution_count": 372
        }
      ],
      "source": [
        "clf.fit(X_train, y_train)"
      ]
    },
    {
      "cell_type": "markdown",
      "source": [
        "**2. Accuracy of Random Forest**"
      ],
      "metadata": {
        "id": "UipZBgscNsut"
      },
      "id": "UipZBgscNsut"
    },
    {
      "cell_type": "code",
      "execution_count": 373,
      "id": "65bc830d",
      "metadata": {
        "id": "65bc830d",
        "outputId": "49efccc4-24a0-413f-eb32-c39c09fb0b0d",
        "colab": {
          "base_uri": "https://localhost:8080/"
        }
      },
      "outputs": [
        {
          "output_type": "execute_result",
          "data": {
            "text/plain": [
              "0.7888888888888889"
            ]
          },
          "metadata": {},
          "execution_count": 373
        }
      ],
      "source": [
        "clf.score(X_test, y_test)"
      ]
    },
    {
      "cell_type": "markdown",
      "id": "10d883c4",
      "metadata": {
        "id": "10d883c4"
      },
      "source": [
        "# Optimization of Random Forest Algorithm"
      ]
    },
    {
      "cell_type": "markdown",
      "id": "891d0cc6",
      "metadata": {
        "id": "891d0cc6"
      },
      "source": [
        "# Tuning Random Forest using Randomized Search CV"
      ]
    },
    {
      "cell_type": "code",
      "execution_count": 374,
      "id": "fb9777cb",
      "metadata": {
        "id": "fb9777cb"
      },
      "outputs": [],
      "source": [
        "# Randomized: https://scikit-learn.org/stable/modules/generated/sklearn.model_selection.RandomizedSearchCV.html\n",
        "# Grid Search: https://scikit-learn.org/stable/modules/generated/sklearn.model_selection.GridSearchCV.html"
      ]
    },
    {
      "cell_type": "code",
      "execution_count": 375,
      "id": "9ca06f5b",
      "metadata": {
        "id": "9ca06f5b"
      },
      "outputs": [],
      "source": [
        "from sklearn.model_selection import RandomizedSearchCV"
      ]
    },
    {
      "cell_type": "markdown",
      "source": [
        "**Parameters Tuning**"
      ],
      "metadata": {
        "id": "15VKb6qGGaW6"
      },
      "id": "15VKb6qGGaW6"
    },
    {
      "cell_type": "code",
      "execution_count": 376,
      "id": "5a6112f2",
      "metadata": {
        "id": "5a6112f2",
        "outputId": "5b730c47-113c-45e5-f1c3-75a5fbaa8c30",
        "colab": {
          "base_uri": "https://localhost:8080/"
        }
      },
      "outputs": [
        {
          "output_type": "execute_result",
          "data": {
            "text/plain": [
              "[15,\n",
              " 24,\n",
              " 34,\n",
              " 44,\n",
              " 53,\n",
              " 63,\n",
              " 73,\n",
              " 83,\n",
              " 92,\n",
              " 102,\n",
              " 112,\n",
              " 122,\n",
              " 131,\n",
              " 141,\n",
              " 151,\n",
              " 161,\n",
              " 170,\n",
              " 180,\n",
              " 190,\n",
              " 200]"
            ]
          },
          "metadata": {},
          "execution_count": 376
        }
      ],
      "source": [
        "n_estimators = [int(X) for X in numpy.linspace(start=15, stop=200, num=20)]\n",
        "n_estimators"
      ]
    },
    {
      "cell_type": "code",
      "execution_count": 377,
      "id": "ce6421d2",
      "metadata": {
        "id": "ce6421d2",
        "outputId": "3f3643f4-8140-47b7-94dc-61386b26a40e",
        "colab": {
          "base_uri": "https://localhost:8080/"
        }
      },
      "outputs": [
        {
          "output_type": "execute_result",
          "data": {
            "text/plain": [
              "15"
            ]
          },
          "metadata": {},
          "execution_count": 377
        }
      ],
      "source": [
        "min_samples_split = numpy.random.randint(1,12,15)\n",
        "len(min_samples_split)"
      ]
    },
    {
      "cell_type": "code",
      "execution_count": 378,
      "id": "f3185b29",
      "metadata": {
        "id": "f3185b29",
        "colab": {
          "base_uri": "https://localhost:8080/"
        },
        "outputId": "f858a73f-d057-4840-86d6-676cb7cbf0d4"
      },
      "outputs": [
        {
          "output_type": "execute_result",
          "data": {
            "text/plain": [
              "array([ 83, 127,  15, 127,  72,  90, 141,  60,  84,  51, 133,  25,  32,\n",
              "        86,  34, 123, 129, 103,  68,  94,  85,  79,  65,  57,  82,  51,\n",
              "        33,  20,  32,  21])"
            ]
          },
          "metadata": {},
          "execution_count": 378
        }
      ],
      "source": [
        "n_estimators = numpy.random.randint(15,150,30)\n",
        "n_estimators"
      ]
    },
    {
      "cell_type": "code",
      "execution_count": 379,
      "id": "48ade3bd",
      "metadata": {
        "id": "48ade3bd"
      },
      "outputs": [],
      "source": [
        "#Assign Parameters\n",
        "n_estimators = numpy.random.randint(15,200,40)\n",
        "criterion = ['gini', 'entropy']\n",
        "max_features = ['auto', 'sqrt', 'log2']\n",
        "max_depth = numpy.random.randint(1,10,20)\n",
        "min_samples_split = numpy.random.randint(1,10,15) #[1,2,3,4]\n",
        "min_samples_leaf= numpy.random.randint(1,4,15)  #[ 1,2,3,4]\n",
        "\n",
        "parameters = {\n",
        "    'n_estimators'  : n_estimators,\n",
        "    'criterion' : criterion,\n",
        "    'max_features': max_features,\n",
        "    'max_depth' : max_depth,\n",
        "    'min_samples_split' : min_samples_split,\n",
        "    'min_samples_leaf': min_samples_leaf\n",
        "}\n"
      ]
    },
    {
      "cell_type": "code",
      "execution_count": 380,
      "id": "bf6fbd9c",
      "metadata": {
        "id": "bf6fbd9c",
        "outputId": "50e377bb-dd75-4239-fc8a-7f3c68e77934",
        "colab": {
          "base_uri": "https://localhost:8080/"
        }
      },
      "outputs": [
        {
          "output_type": "stream",
          "name": "stdout",
          "text": [
            "{'n_estimators': array([140,  72, 106, 173, 168, 125,  91, 160,  55,  19,  97, 179,  86,\n",
            "        61, 132,  78, 162, 108,  67,  86, 195,  63, 142, 195, 117,  80,\n",
            "        56, 198,  63, 127, 163, 191,  98, 151,  49,  21, 175, 145,  93,\n",
            "        71]), 'criterion': ['gini', 'entropy'], 'max_features': ['auto', 'sqrt', 'log2'], 'max_depth': array([8, 5, 8, 5, 3, 5, 7, 3, 9, 2, 4, 4, 7, 6, 3, 5, 4, 8, 4, 9]), 'min_samples_split': array([6, 5, 5, 1, 4, 6, 7, 5, 9, 6, 9, 2, 2, 9, 8]), 'min_samples_leaf': array([2, 3, 1, 2, 3, 2, 1, 1, 1, 1, 2, 1, 2, 1, 2])}\n"
          ]
        }
      ],
      "source": [
        "print(parameters)"
      ]
    },
    {
      "cell_type": "code",
      "execution_count": 381,
      "id": "724251c9",
      "metadata": {
        "id": "724251c9"
      },
      "outputs": [],
      "source": [
        "random_forest = RandomForestClassifier()"
      ]
    },
    {
      "cell_type": "code",
      "execution_count": 382,
      "id": "ddef77be",
      "metadata": {
        "id": "ddef77be"
      },
      "outputs": [],
      "source": [
        "r = RandomizedSearchCV(random_forest , parameters, n_iter = 300, cv = 3) #cv = cross validation , clf=RandomForestClassifier()"
      ]
    },
    {
      "cell_type": "code",
      "execution_count": 383,
      "id": "e53e0038",
      "metadata": {
        "id": "e53e0038",
        "outputId": "f4807eda-bbc1-48eb-e6e2-b1ecb31d9ba9",
        "colab": {
          "base_uri": "https://localhost:8080/"
        }
      },
      "outputs": [
        {
          "output_type": "execute_result",
          "data": {
            "text/plain": [
              "RandomizedSearchCV(cv=3, estimator=RandomForestClassifier(), n_iter=300,\n",
              "                   param_distributions={'criterion': ['gini', 'entropy'],\n",
              "                                        'max_depth': array([8, 5, 8, 5, 3, 5, 7, 3, 9, 2, 4, 4, 7, 6, 3, 5, 4, 8, 4, 9]),\n",
              "                                        'max_features': ['auto', 'sqrt',\n",
              "                                                         'log2'],\n",
              "                                        'min_samples_leaf': array([2, 3, 1, 2, 3, 2, 1, 1, 1, 1, 2, 1, 2, 1, 2]),\n",
              "                                        'min_samples_split': array([6, 5, 5, 1, 4, 6, 7, 5, 9, 6, 9, 2, 2, 9, 8]),\n",
              "                                        'n_estimators': array([140,  72, 106, 173, 168, 125,  91, 160,  55,  19,  97, 179,  86,\n",
              "        61, 132,  78, 162, 108,  67,  86, 195,  63, 142, 195, 117,  80,\n",
              "        56, 198,  63, 127, 163, 191,  98, 151,  49,  21, 175, 145,  93,\n",
              "        71])})"
            ]
          },
          "metadata": {},
          "execution_count": 383
        }
      ],
      "source": [
        "import warnings\n",
        "warnings.filterwarnings('ignore')\n",
        "r.fit(X_train, y_train)"
      ]
    },
    {
      "cell_type": "code",
      "execution_count": null,
      "id": "9dafb98e",
      "metadata": {
        "id": "9dafb98e"
      },
      "outputs": [],
      "source": [
        "r.cv_results_"
      ]
    },
    {
      "cell_type": "code",
      "execution_count": 385,
      "id": "d96d5fe2",
      "metadata": {
        "id": "d96d5fe2"
      },
      "outputs": [],
      "source": [
        "result = pd.DataFrame(r.cv_results_)"
      ]
    },
    {
      "cell_type": "code",
      "execution_count": 386,
      "id": "487f8735",
      "metadata": {
        "id": "487f8735",
        "outputId": "ce18e31d-b327-4e79-a770-40c43764b67d",
        "colab": {
          "base_uri": "https://localhost:8080/",
          "height": 496
        }
      },
      "outputs": [
        {
          "output_type": "execute_result",
          "data": {
            "text/plain": [
              "   mean_fit_time  std_fit_time  mean_score_time  std_score_time  \\\n",
              "0       0.156231      0.004593         0.014499        0.000153   \n",
              "1       0.227330      0.008891         0.021022        0.003028   \n",
              "2       0.188182      0.006686         0.017451        0.001316   \n",
              "3       0.096131      0.006788         0.009661        0.000343   \n",
              "4       0.103991      0.003124         0.010429        0.000308   \n",
              "\n",
              "  param_n_estimators param_min_samples_split param_min_samples_leaf  \\\n",
              "0                108                       5                      2   \n",
              "1                145                       4                      1   \n",
              "2                127                       6                      1   \n",
              "3                 63                       6                      2   \n",
              "4                 71                       6                      3   \n",
              "\n",
              "  param_max_features param_max_depth param_criterion  \\\n",
              "0               sqrt               9            gini   \n",
              "1               log2               7            gini   \n",
              "2               auto               3            gini   \n",
              "3               sqrt               5         entropy   \n",
              "4               sqrt               4            gini   \n",
              "\n",
              "                                              params  split0_test_score  \\\n",
              "0  {'n_estimators': 108, 'min_samples_split': 5, ...           0.828571   \n",
              "1  {'n_estimators': 145, 'min_samples_split': 4, ...           0.785714   \n",
              "2  {'n_estimators': 127, 'min_samples_split': 6, ...           0.828571   \n",
              "3  {'n_estimators': 63, 'min_samples_split': 6, '...           0.828571   \n",
              "4  {'n_estimators': 71, 'min_samples_split': 6, '...           0.814286   \n",
              "\n",
              "   split1_test_score  split2_test_score  mean_test_score  std_test_score  \\\n",
              "0           0.942857           0.869565         0.880331        0.047274   \n",
              "1           0.942857           0.855072         0.861215        0.064300   \n",
              "2           0.942857           0.855072         0.875500        0.048842   \n",
              "3           0.928571           0.826087         0.861077        0.047737   \n",
              "4           0.957143           0.855072         0.875500        0.060083   \n",
              "\n",
              "   rank_test_score  \n",
              "0               39  \n",
              "1              216  \n",
              "2               96  \n",
              "3              233  \n",
              "4               96  "
            ],
            "text/html": [
              "\n",
              "  <div id=\"df-01d6eeae-1ba2-4ca1-a7b5-eff0544feb8b\">\n",
              "    <div class=\"colab-df-container\">\n",
              "      <div>\n",
              "<style scoped>\n",
              "    .dataframe tbody tr th:only-of-type {\n",
              "        vertical-align: middle;\n",
              "    }\n",
              "\n",
              "    .dataframe tbody tr th {\n",
              "        vertical-align: top;\n",
              "    }\n",
              "\n",
              "    .dataframe thead th {\n",
              "        text-align: right;\n",
              "    }\n",
              "</style>\n",
              "<table border=\"1\" class=\"dataframe\">\n",
              "  <thead>\n",
              "    <tr style=\"text-align: right;\">\n",
              "      <th></th>\n",
              "      <th>mean_fit_time</th>\n",
              "      <th>std_fit_time</th>\n",
              "      <th>mean_score_time</th>\n",
              "      <th>std_score_time</th>\n",
              "      <th>param_n_estimators</th>\n",
              "      <th>param_min_samples_split</th>\n",
              "      <th>param_min_samples_leaf</th>\n",
              "      <th>param_max_features</th>\n",
              "      <th>param_max_depth</th>\n",
              "      <th>param_criterion</th>\n",
              "      <th>params</th>\n",
              "      <th>split0_test_score</th>\n",
              "      <th>split1_test_score</th>\n",
              "      <th>split2_test_score</th>\n",
              "      <th>mean_test_score</th>\n",
              "      <th>std_test_score</th>\n",
              "      <th>rank_test_score</th>\n",
              "    </tr>\n",
              "  </thead>\n",
              "  <tbody>\n",
              "    <tr>\n",
              "      <th>0</th>\n",
              "      <td>0.156231</td>\n",
              "      <td>0.004593</td>\n",
              "      <td>0.014499</td>\n",
              "      <td>0.000153</td>\n",
              "      <td>108</td>\n",
              "      <td>5</td>\n",
              "      <td>2</td>\n",
              "      <td>sqrt</td>\n",
              "      <td>9</td>\n",
              "      <td>gini</td>\n",
              "      <td>{'n_estimators': 108, 'min_samples_split': 5, ...</td>\n",
              "      <td>0.828571</td>\n",
              "      <td>0.942857</td>\n",
              "      <td>0.869565</td>\n",
              "      <td>0.880331</td>\n",
              "      <td>0.047274</td>\n",
              "      <td>39</td>\n",
              "    </tr>\n",
              "    <tr>\n",
              "      <th>1</th>\n",
              "      <td>0.227330</td>\n",
              "      <td>0.008891</td>\n",
              "      <td>0.021022</td>\n",
              "      <td>0.003028</td>\n",
              "      <td>145</td>\n",
              "      <td>4</td>\n",
              "      <td>1</td>\n",
              "      <td>log2</td>\n",
              "      <td>7</td>\n",
              "      <td>gini</td>\n",
              "      <td>{'n_estimators': 145, 'min_samples_split': 4, ...</td>\n",
              "      <td>0.785714</td>\n",
              "      <td>0.942857</td>\n",
              "      <td>0.855072</td>\n",
              "      <td>0.861215</td>\n",
              "      <td>0.064300</td>\n",
              "      <td>216</td>\n",
              "    </tr>\n",
              "    <tr>\n",
              "      <th>2</th>\n",
              "      <td>0.188182</td>\n",
              "      <td>0.006686</td>\n",
              "      <td>0.017451</td>\n",
              "      <td>0.001316</td>\n",
              "      <td>127</td>\n",
              "      <td>6</td>\n",
              "      <td>1</td>\n",
              "      <td>auto</td>\n",
              "      <td>3</td>\n",
              "      <td>gini</td>\n",
              "      <td>{'n_estimators': 127, 'min_samples_split': 6, ...</td>\n",
              "      <td>0.828571</td>\n",
              "      <td>0.942857</td>\n",
              "      <td>0.855072</td>\n",
              "      <td>0.875500</td>\n",
              "      <td>0.048842</td>\n",
              "      <td>96</td>\n",
              "    </tr>\n",
              "    <tr>\n",
              "      <th>3</th>\n",
              "      <td>0.096131</td>\n",
              "      <td>0.006788</td>\n",
              "      <td>0.009661</td>\n",
              "      <td>0.000343</td>\n",
              "      <td>63</td>\n",
              "      <td>6</td>\n",
              "      <td>2</td>\n",
              "      <td>sqrt</td>\n",
              "      <td>5</td>\n",
              "      <td>entropy</td>\n",
              "      <td>{'n_estimators': 63, 'min_samples_split': 6, '...</td>\n",
              "      <td>0.828571</td>\n",
              "      <td>0.928571</td>\n",
              "      <td>0.826087</td>\n",
              "      <td>0.861077</td>\n",
              "      <td>0.047737</td>\n",
              "      <td>233</td>\n",
              "    </tr>\n",
              "    <tr>\n",
              "      <th>4</th>\n",
              "      <td>0.103991</td>\n",
              "      <td>0.003124</td>\n",
              "      <td>0.010429</td>\n",
              "      <td>0.000308</td>\n",
              "      <td>71</td>\n",
              "      <td>6</td>\n",
              "      <td>3</td>\n",
              "      <td>sqrt</td>\n",
              "      <td>4</td>\n",
              "      <td>gini</td>\n",
              "      <td>{'n_estimators': 71, 'min_samples_split': 6, '...</td>\n",
              "      <td>0.814286</td>\n",
              "      <td>0.957143</td>\n",
              "      <td>0.855072</td>\n",
              "      <td>0.875500</td>\n",
              "      <td>0.060083</td>\n",
              "      <td>96</td>\n",
              "    </tr>\n",
              "  </tbody>\n",
              "</table>\n",
              "</div>\n",
              "      <button class=\"colab-df-convert\" onclick=\"convertToInteractive('df-01d6eeae-1ba2-4ca1-a7b5-eff0544feb8b')\"\n",
              "              title=\"Convert this dataframe to an interactive table.\"\n",
              "              style=\"display:none;\">\n",
              "        \n",
              "  <svg xmlns=\"http://www.w3.org/2000/svg\" height=\"24px\"viewBox=\"0 0 24 24\"\n",
              "       width=\"24px\">\n",
              "    <path d=\"M0 0h24v24H0V0z\" fill=\"none\"/>\n",
              "    <path d=\"M18.56 5.44l.94 2.06.94-2.06 2.06-.94-2.06-.94-.94-2.06-.94 2.06-2.06.94zm-11 1L8.5 8.5l.94-2.06 2.06-.94-2.06-.94L8.5 2.5l-.94 2.06-2.06.94zm10 10l.94 2.06.94-2.06 2.06-.94-2.06-.94-.94-2.06-.94 2.06-2.06.94z\"/><path d=\"M17.41 7.96l-1.37-1.37c-.4-.4-.92-.59-1.43-.59-.52 0-1.04.2-1.43.59L10.3 9.45l-7.72 7.72c-.78.78-.78 2.05 0 2.83L4 21.41c.39.39.9.59 1.41.59.51 0 1.02-.2 1.41-.59l7.78-7.78 2.81-2.81c.8-.78.8-2.07 0-2.86zM5.41 20L4 18.59l7.72-7.72 1.47 1.35L5.41 20z\"/>\n",
              "  </svg>\n",
              "      </button>\n",
              "      \n",
              "  <style>\n",
              "    .colab-df-container {\n",
              "      display:flex;\n",
              "      flex-wrap:wrap;\n",
              "      gap: 12px;\n",
              "    }\n",
              "\n",
              "    .colab-df-convert {\n",
              "      background-color: #E8F0FE;\n",
              "      border: none;\n",
              "      border-radius: 50%;\n",
              "      cursor: pointer;\n",
              "      display: none;\n",
              "      fill: #1967D2;\n",
              "      height: 32px;\n",
              "      padding: 0 0 0 0;\n",
              "      width: 32px;\n",
              "    }\n",
              "\n",
              "    .colab-df-convert:hover {\n",
              "      background-color: #E2EBFA;\n",
              "      box-shadow: 0px 1px 2px rgba(60, 64, 67, 0.3), 0px 1px 3px 1px rgba(60, 64, 67, 0.15);\n",
              "      fill: #174EA6;\n",
              "    }\n",
              "\n",
              "    [theme=dark] .colab-df-convert {\n",
              "      background-color: #3B4455;\n",
              "      fill: #D2E3FC;\n",
              "    }\n",
              "\n",
              "    [theme=dark] .colab-df-convert:hover {\n",
              "      background-color: #434B5C;\n",
              "      box-shadow: 0px 1px 3px 1px rgba(0, 0, 0, 0.15);\n",
              "      filter: drop-shadow(0px 1px 2px rgba(0, 0, 0, 0.3));\n",
              "      fill: #FFFFFF;\n",
              "    }\n",
              "  </style>\n",
              "\n",
              "      <script>\n",
              "        const buttonEl =\n",
              "          document.querySelector('#df-01d6eeae-1ba2-4ca1-a7b5-eff0544feb8b button.colab-df-convert');\n",
              "        buttonEl.style.display =\n",
              "          google.colab.kernel.accessAllowed ? 'block' : 'none';\n",
              "\n",
              "        async function convertToInteractive(key) {\n",
              "          const element = document.querySelector('#df-01d6eeae-1ba2-4ca1-a7b5-eff0544feb8b');\n",
              "          const dataTable =\n",
              "            await google.colab.kernel.invokeFunction('convertToInteractive',\n",
              "                                                     [key], {});\n",
              "          if (!dataTable) return;\n",
              "\n",
              "          const docLinkHtml = 'Like what you see? Visit the ' +\n",
              "            '<a target=\"_blank\" href=https://colab.research.google.com/notebooks/data_table.ipynb>data table notebook</a>'\n",
              "            + ' to learn more about interactive tables.';\n",
              "          element.innerHTML = '';\n",
              "          dataTable['output_type'] = 'display_data';\n",
              "          await google.colab.output.renderOutput(dataTable, element);\n",
              "          const docLink = document.createElement('div');\n",
              "          docLink.innerHTML = docLinkHtml;\n",
              "          element.appendChild(docLink);\n",
              "        }\n",
              "      </script>\n",
              "    </div>\n",
              "  </div>\n",
              "  "
            ]
          },
          "metadata": {},
          "execution_count": 386
        }
      ],
      "source": [
        "result.head(5)"
      ]
    },
    {
      "cell_type": "code",
      "execution_count": 387,
      "id": "e6ecd4df",
      "metadata": {
        "id": "e6ecd4df",
        "outputId": "243fc10f-6c45-46cf-c578-ed7ceaba3125",
        "colab": {
          "base_uri": "https://localhost:8080/"
        }
      },
      "outputs": [
        {
          "output_type": "execute_result",
          "data": {
            "text/plain": [
              "0.8946859903381643"
            ]
          },
          "metadata": {},
          "execution_count": 387
        }
      ],
      "source": [
        "r.best_score_"
      ]
    },
    {
      "cell_type": "code",
      "execution_count": 388,
      "id": "531591d2",
      "metadata": {
        "id": "531591d2"
      },
      "outputs": [],
      "source": [
        "new_r = r.best_estimator_"
      ]
    },
    {
      "cell_type": "code",
      "execution_count": 389,
      "id": "b3f82919",
      "metadata": {
        "id": "b3f82919",
        "outputId": "fc483d33-b3a8-4cfd-a1e9-87315f623420",
        "colab": {
          "base_uri": "https://localhost:8080/"
        }
      },
      "outputs": [
        {
          "output_type": "execute_result",
          "data": {
            "text/plain": [
              "RandomForestClassifier(criterion='entropy', max_depth=5, max_features='sqrt',\n",
              "                       min_samples_leaf=2, min_samples_split=6,\n",
              "                       n_estimators=108)"
            ]
          },
          "metadata": {},
          "execution_count": 389
        }
      ],
      "source": [
        "new_r"
      ]
    },
    {
      "cell_type": "code",
      "execution_count": 390,
      "id": "d2ea62c2",
      "metadata": {
        "id": "d2ea62c2",
        "outputId": "0509d030-af5d-4b34-9ddc-917d932d6138",
        "colab": {
          "base_uri": "https://localhost:8080/"
        }
      },
      "outputs": [
        {
          "output_type": "execute_result",
          "data": {
            "text/plain": [
              "RandomForestClassifier(criterion='entropy', max_depth=5, max_features='sqrt',\n",
              "                       min_samples_leaf=2, min_samples_split=6,\n",
              "                       n_estimators=108)"
            ]
          },
          "metadata": {},
          "execution_count": 390
        }
      ],
      "source": [
        "new_r.fit(X_train, y_train) # RandomForestClassifier(criterion='entropy', max_depth=7, min_samples_split=5,n_estimators=102)"
      ]
    },
    {
      "cell_type": "markdown",
      "source": [
        "**3. Accuracy of Random Forest using RandomizedSearchCV Optimizer**"
      ],
      "metadata": {
        "id": "ZKMdT-ZWf7Pi"
      },
      "id": "ZKMdT-ZWf7Pi"
    },
    {
      "cell_type": "code",
      "execution_count": 391,
      "id": "fd2cf0b9",
      "metadata": {
        "id": "fd2cf0b9",
        "outputId": "e1398c1d-f566-4408-f587-800a90a76561",
        "colab": {
          "base_uri": "https://localhost:8080/"
        }
      },
      "outputs": [
        {
          "output_type": "execute_result",
          "data": {
            "text/plain": [
              "0.7666666666666667"
            ]
          },
          "metadata": {},
          "execution_count": 391
        }
      ],
      "source": [
        "new_r.score(X_test, y_test)"
      ]
    },
    {
      "cell_type": "markdown",
      "id": "481fbf7f",
      "metadata": {
        "id": "481fbf7f"
      },
      "source": [
        "# Tuning Random Forest using Grid Search CV"
      ]
    },
    {
      "cell_type": "code",
      "execution_count": 392,
      "id": "d525dd9e",
      "metadata": {
        "id": "d525dd9e"
      },
      "outputs": [],
      "source": [
        "# https://scikit-learn.org/stable/modules/generated/sklearn.model_selection.GridSearchCV.html"
      ]
    },
    {
      "cell_type": "code",
      "source": [
        "from sklearn.model_selection import GridSearchCV\n"
      ],
      "metadata": {
        "id": "6MJWEV3QyOl2"
      },
      "id": "6MJWEV3QyOl2",
      "execution_count": 393,
      "outputs": []
    },
    {
      "cell_type": "markdown",
      "source": [
        "**Parameters Tuning**"
      ],
      "metadata": {
        "id": "yMU6Y11nMb17"
      },
      "id": "yMU6Y11nMb17"
    },
    {
      "cell_type": "code",
      "source": [
        "param_grid = { \n",
        "    'n_estimators': [15, 200, 30],\n",
        "    'max_features': ['auto', 'sqrt', 'log2'],\n",
        "    'max_depth' : [2,3,4,5,6,7],\n",
        "    'criterion' :['gini', 'entropy']\n",
        "}"
      ],
      "metadata": {
        "id": "L4EUpZAIyrV5"
      },
      "id": "L4EUpZAIyrV5",
      "execution_count": 394,
      "outputs": []
    },
    {
      "cell_type": "code",
      "source": [
        "print(param_grid)"
      ],
      "metadata": {
        "colab": {
          "base_uri": "https://localhost:8080/"
        },
        "id": "v6cqkVabWsIC",
        "outputId": "1ab4eb39-ea26-4415-e277-cd7671fce933"
      },
      "id": "v6cqkVabWsIC",
      "execution_count": 395,
      "outputs": [
        {
          "output_type": "stream",
          "name": "stdout",
          "text": [
            "{'n_estimators': [15, 200, 30], 'max_features': ['auto', 'sqrt', 'log2'], 'max_depth': [2, 3, 4, 5, 6, 7], 'criterion': ['gini', 'entropy']}\n"
          ]
        }
      ]
    },
    {
      "cell_type": "code",
      "source": [
        "random_forest_01 = RandomForestClassifier()\n",
        "random_forest_01"
      ],
      "metadata": {
        "colab": {
          "base_uri": "https://localhost:8080/"
        },
        "id": "SAbgz24-W629",
        "outputId": "7f3f0c9a-66ee-47ba-e785-4b22bc4370f6"
      },
      "id": "SAbgz24-W629",
      "execution_count": 396,
      "outputs": [
        {
          "output_type": "execute_result",
          "data": {
            "text/plain": [
              "RandomForestClassifier()"
            ]
          },
          "metadata": {},
          "execution_count": 396
        }
      ]
    },
    {
      "cell_type": "code",
      "source": [
        "r_02 = GridSearchCV(random_forest_01, param_grid, cv = 3)\n",
        "r_02"
      ],
      "metadata": {
        "colab": {
          "base_uri": "https://localhost:8080/"
        },
        "id": "4PD_p1BmXUbn",
        "outputId": "f398b569-29df-4884-8bb0-2b5dccc396fa"
      },
      "id": "4PD_p1BmXUbn",
      "execution_count": 397,
      "outputs": [
        {
          "output_type": "execute_result",
          "data": {
            "text/plain": [
              "GridSearchCV(cv=3, estimator=RandomForestClassifier(),\n",
              "             param_grid={'criterion': ['gini', 'entropy'],\n",
              "                         'max_depth': [2, 3, 4, 5, 6, 7],\n",
              "                         'max_features': ['auto', 'sqrt', 'log2'],\n",
              "                         'n_estimators': [15, 200, 30]})"
            ]
          },
          "metadata": {},
          "execution_count": 397
        }
      ]
    },
    {
      "cell_type": "code",
      "source": [
        "import warnings\n",
        "warnings.filterwarnings('ignore')\n",
        "r_02.fit(X_train, y_train)"
      ],
      "metadata": {
        "colab": {
          "base_uri": "https://localhost:8080/"
        },
        "id": "r2-XK1WraAxq",
        "outputId": "b4ca250c-7ca5-4986-9aff-cc0890d9ce29"
      },
      "id": "r2-XK1WraAxq",
      "execution_count": 398,
      "outputs": [
        {
          "output_type": "execute_result",
          "data": {
            "text/plain": [
              "GridSearchCV(cv=3, estimator=RandomForestClassifier(),\n",
              "             param_grid={'criterion': ['gini', 'entropy'],\n",
              "                         'max_depth': [2, 3, 4, 5, 6, 7],\n",
              "                         'max_features': ['auto', 'sqrt', 'log2'],\n",
              "                         'n_estimators': [15, 200, 30]})"
            ]
          },
          "metadata": {},
          "execution_count": 398
        }
      ]
    },
    {
      "cell_type": "code",
      "source": [
        "print(r_02.cv_results_)"
      ],
      "metadata": {
        "id": "4zjWKjLbbxOc"
      },
      "id": "4zjWKjLbbxOc",
      "execution_count": null,
      "outputs": []
    },
    {
      "cell_type": "code",
      "source": [
        "result_02 = pd.DataFrame(r_02.cv_results_)\n",
        "result_02.head(5)"
      ],
      "metadata": {
        "colab": {
          "base_uri": "https://localhost:8080/",
          "height": 617
        },
        "id": "yZo-CC0rb6Kp",
        "outputId": "7449ce41-af02-4460-c69a-47bb0e7f3fbb"
      },
      "id": "yZo-CC0rb6Kp",
      "execution_count": 400,
      "outputs": [
        {
          "output_type": "execute_result",
          "data": {
            "text/plain": [
              "   mean_fit_time  std_fit_time  mean_score_time  std_score_time  \\\n",
              "0       0.026963      0.005627         0.004155        0.000031   \n",
              "1       0.273995      0.006391         0.025446        0.002397   \n",
              "2       0.044628      0.001318         0.005996        0.000072   \n",
              "3       0.025827      0.002376         0.004539        0.000437   \n",
              "4       0.285893      0.009919         0.023881        0.000648   \n",
              "\n",
              "  param_criterion param_max_depth param_max_features param_n_estimators  \\\n",
              "0            gini               2               auto                 15   \n",
              "1            gini               2               auto                200   \n",
              "2            gini               2               auto                 30   \n",
              "3            gini               2               sqrt                 15   \n",
              "4            gini               2               sqrt                200   \n",
              "\n",
              "                                              params  split0_test_score  \\\n",
              "0  {'criterion': 'gini', 'max_depth': 2, 'max_fea...           0.771429   \n",
              "1  {'criterion': 'gini', 'max_depth': 2, 'max_fea...           0.828571   \n",
              "2  {'criterion': 'gini', 'max_depth': 2, 'max_fea...           0.757143   \n",
              "3  {'criterion': 'gini', 'max_depth': 2, 'max_fea...           0.785714   \n",
              "4  {'criterion': 'gini', 'max_depth': 2, 'max_fea...           0.800000   \n",
              "\n",
              "   split1_test_score  split2_test_score  mean_test_score  std_test_score  \\\n",
              "0           0.900000           0.797101         0.822843        0.055556   \n",
              "1           0.900000           0.855072         0.861215        0.029482   \n",
              "2           0.928571           0.826087         0.837267        0.070431   \n",
              "3           0.857143           0.811594         0.818150        0.029527   \n",
              "4           0.900000           0.826087         0.842029        0.042353   \n",
              "\n",
              "   rank_test_score  \n",
              "0              103  \n",
              "1               46  \n",
              "2               93  \n",
              "3              104  \n",
              "4               87  "
            ],
            "text/html": [
              "\n",
              "  <div id=\"df-ff6628cf-e076-41af-a81e-dec6fcfb33bc\">\n",
              "    <div class=\"colab-df-container\">\n",
              "      <div>\n",
              "<style scoped>\n",
              "    .dataframe tbody tr th:only-of-type {\n",
              "        vertical-align: middle;\n",
              "    }\n",
              "\n",
              "    .dataframe tbody tr th {\n",
              "        vertical-align: top;\n",
              "    }\n",
              "\n",
              "    .dataframe thead th {\n",
              "        text-align: right;\n",
              "    }\n",
              "</style>\n",
              "<table border=\"1\" class=\"dataframe\">\n",
              "  <thead>\n",
              "    <tr style=\"text-align: right;\">\n",
              "      <th></th>\n",
              "      <th>mean_fit_time</th>\n",
              "      <th>std_fit_time</th>\n",
              "      <th>mean_score_time</th>\n",
              "      <th>std_score_time</th>\n",
              "      <th>param_criterion</th>\n",
              "      <th>param_max_depth</th>\n",
              "      <th>param_max_features</th>\n",
              "      <th>param_n_estimators</th>\n",
              "      <th>params</th>\n",
              "      <th>split0_test_score</th>\n",
              "      <th>split1_test_score</th>\n",
              "      <th>split2_test_score</th>\n",
              "      <th>mean_test_score</th>\n",
              "      <th>std_test_score</th>\n",
              "      <th>rank_test_score</th>\n",
              "    </tr>\n",
              "  </thead>\n",
              "  <tbody>\n",
              "    <tr>\n",
              "      <th>0</th>\n",
              "      <td>0.026963</td>\n",
              "      <td>0.005627</td>\n",
              "      <td>0.004155</td>\n",
              "      <td>0.000031</td>\n",
              "      <td>gini</td>\n",
              "      <td>2</td>\n",
              "      <td>auto</td>\n",
              "      <td>15</td>\n",
              "      <td>{'criterion': 'gini', 'max_depth': 2, 'max_fea...</td>\n",
              "      <td>0.771429</td>\n",
              "      <td>0.900000</td>\n",
              "      <td>0.797101</td>\n",
              "      <td>0.822843</td>\n",
              "      <td>0.055556</td>\n",
              "      <td>103</td>\n",
              "    </tr>\n",
              "    <tr>\n",
              "      <th>1</th>\n",
              "      <td>0.273995</td>\n",
              "      <td>0.006391</td>\n",
              "      <td>0.025446</td>\n",
              "      <td>0.002397</td>\n",
              "      <td>gini</td>\n",
              "      <td>2</td>\n",
              "      <td>auto</td>\n",
              "      <td>200</td>\n",
              "      <td>{'criterion': 'gini', 'max_depth': 2, 'max_fea...</td>\n",
              "      <td>0.828571</td>\n",
              "      <td>0.900000</td>\n",
              "      <td>0.855072</td>\n",
              "      <td>0.861215</td>\n",
              "      <td>0.029482</td>\n",
              "      <td>46</td>\n",
              "    </tr>\n",
              "    <tr>\n",
              "      <th>2</th>\n",
              "      <td>0.044628</td>\n",
              "      <td>0.001318</td>\n",
              "      <td>0.005996</td>\n",
              "      <td>0.000072</td>\n",
              "      <td>gini</td>\n",
              "      <td>2</td>\n",
              "      <td>auto</td>\n",
              "      <td>30</td>\n",
              "      <td>{'criterion': 'gini', 'max_depth': 2, 'max_fea...</td>\n",
              "      <td>0.757143</td>\n",
              "      <td>0.928571</td>\n",
              "      <td>0.826087</td>\n",
              "      <td>0.837267</td>\n",
              "      <td>0.070431</td>\n",
              "      <td>93</td>\n",
              "    </tr>\n",
              "    <tr>\n",
              "      <th>3</th>\n",
              "      <td>0.025827</td>\n",
              "      <td>0.002376</td>\n",
              "      <td>0.004539</td>\n",
              "      <td>0.000437</td>\n",
              "      <td>gini</td>\n",
              "      <td>2</td>\n",
              "      <td>sqrt</td>\n",
              "      <td>15</td>\n",
              "      <td>{'criterion': 'gini', 'max_depth': 2, 'max_fea...</td>\n",
              "      <td>0.785714</td>\n",
              "      <td>0.857143</td>\n",
              "      <td>0.811594</td>\n",
              "      <td>0.818150</td>\n",
              "      <td>0.029527</td>\n",
              "      <td>104</td>\n",
              "    </tr>\n",
              "    <tr>\n",
              "      <th>4</th>\n",
              "      <td>0.285893</td>\n",
              "      <td>0.009919</td>\n",
              "      <td>0.023881</td>\n",
              "      <td>0.000648</td>\n",
              "      <td>gini</td>\n",
              "      <td>2</td>\n",
              "      <td>sqrt</td>\n",
              "      <td>200</td>\n",
              "      <td>{'criterion': 'gini', 'max_depth': 2, 'max_fea...</td>\n",
              "      <td>0.800000</td>\n",
              "      <td>0.900000</td>\n",
              "      <td>0.826087</td>\n",
              "      <td>0.842029</td>\n",
              "      <td>0.042353</td>\n",
              "      <td>87</td>\n",
              "    </tr>\n",
              "  </tbody>\n",
              "</table>\n",
              "</div>\n",
              "      <button class=\"colab-df-convert\" onclick=\"convertToInteractive('df-ff6628cf-e076-41af-a81e-dec6fcfb33bc')\"\n",
              "              title=\"Convert this dataframe to an interactive table.\"\n",
              "              style=\"display:none;\">\n",
              "        \n",
              "  <svg xmlns=\"http://www.w3.org/2000/svg\" height=\"24px\"viewBox=\"0 0 24 24\"\n",
              "       width=\"24px\">\n",
              "    <path d=\"M0 0h24v24H0V0z\" fill=\"none\"/>\n",
              "    <path d=\"M18.56 5.44l.94 2.06.94-2.06 2.06-.94-2.06-.94-.94-2.06-.94 2.06-2.06.94zm-11 1L8.5 8.5l.94-2.06 2.06-.94-2.06-.94L8.5 2.5l-.94 2.06-2.06.94zm10 10l.94 2.06.94-2.06 2.06-.94-2.06-.94-.94-2.06-.94 2.06-2.06.94z\"/><path d=\"M17.41 7.96l-1.37-1.37c-.4-.4-.92-.59-1.43-.59-.52 0-1.04.2-1.43.59L10.3 9.45l-7.72 7.72c-.78.78-.78 2.05 0 2.83L4 21.41c.39.39.9.59 1.41.59.51 0 1.02-.2 1.41-.59l7.78-7.78 2.81-2.81c.8-.78.8-2.07 0-2.86zM5.41 20L4 18.59l7.72-7.72 1.47 1.35L5.41 20z\"/>\n",
              "  </svg>\n",
              "      </button>\n",
              "      \n",
              "  <style>\n",
              "    .colab-df-container {\n",
              "      display:flex;\n",
              "      flex-wrap:wrap;\n",
              "      gap: 12px;\n",
              "    }\n",
              "\n",
              "    .colab-df-convert {\n",
              "      background-color: #E8F0FE;\n",
              "      border: none;\n",
              "      border-radius: 50%;\n",
              "      cursor: pointer;\n",
              "      display: none;\n",
              "      fill: #1967D2;\n",
              "      height: 32px;\n",
              "      padding: 0 0 0 0;\n",
              "      width: 32px;\n",
              "    }\n",
              "\n",
              "    .colab-df-convert:hover {\n",
              "      background-color: #E2EBFA;\n",
              "      box-shadow: 0px 1px 2px rgba(60, 64, 67, 0.3), 0px 1px 3px 1px rgba(60, 64, 67, 0.15);\n",
              "      fill: #174EA6;\n",
              "    }\n",
              "\n",
              "    [theme=dark] .colab-df-convert {\n",
              "      background-color: #3B4455;\n",
              "      fill: #D2E3FC;\n",
              "    }\n",
              "\n",
              "    [theme=dark] .colab-df-convert:hover {\n",
              "      background-color: #434B5C;\n",
              "      box-shadow: 0px 1px 3px 1px rgba(0, 0, 0, 0.15);\n",
              "      filter: drop-shadow(0px 1px 2px rgba(0, 0, 0, 0.3));\n",
              "      fill: #FFFFFF;\n",
              "    }\n",
              "  </style>\n",
              "\n",
              "      <script>\n",
              "        const buttonEl =\n",
              "          document.querySelector('#df-ff6628cf-e076-41af-a81e-dec6fcfb33bc button.colab-df-convert');\n",
              "        buttonEl.style.display =\n",
              "          google.colab.kernel.accessAllowed ? 'block' : 'none';\n",
              "\n",
              "        async function convertToInteractive(key) {\n",
              "          const element = document.querySelector('#df-ff6628cf-e076-41af-a81e-dec6fcfb33bc');\n",
              "          const dataTable =\n",
              "            await google.colab.kernel.invokeFunction('convertToInteractive',\n",
              "                                                     [key], {});\n",
              "          if (!dataTable) return;\n",
              "\n",
              "          const docLinkHtml = 'Like what you see? Visit the ' +\n",
              "            '<a target=\"_blank\" href=https://colab.research.google.com/notebooks/data_table.ipynb>data table notebook</a>'\n",
              "            + ' to learn more about interactive tables.';\n",
              "          element.innerHTML = '';\n",
              "          dataTable['output_type'] = 'display_data';\n",
              "          await google.colab.output.renderOutput(dataTable, element);\n",
              "          const docLink = document.createElement('div');\n",
              "          docLink.innerHTML = docLinkHtml;\n",
              "          element.appendChild(docLink);\n",
              "        }\n",
              "      </script>\n",
              "    </div>\n",
              "  </div>\n",
              "  "
            ]
          },
          "metadata": {},
          "execution_count": 400
        }
      ]
    },
    {
      "cell_type": "code",
      "source": [
        "r_02.best_score_"
      ],
      "metadata": {
        "colab": {
          "base_uri": "https://localhost:8080/"
        },
        "id": "yT2wgVGNcFfQ",
        "outputId": "82e05e62-3d26-4780-97c0-f125eec9de58"
      },
      "id": "yT2wgVGNcFfQ",
      "execution_count": 401,
      "outputs": [
        {
          "output_type": "execute_result",
          "data": {
            "text/plain": [
              "0.889855072463768"
            ]
          },
          "metadata": {},
          "execution_count": 401
        }
      ]
    },
    {
      "cell_type": "code",
      "source": [
        "new_r_02 = r_02.best_estimator_ #max_depth=7, max_features='log2', n_estimators=15\n",
        "new_r_02"
      ],
      "metadata": {
        "colab": {
          "base_uri": "https://localhost:8080/"
        },
        "id": "TNQcM6arcRd4",
        "outputId": "2cfa5179-ae63-43d2-b772-d7a6f7cce4c4"
      },
      "id": "TNQcM6arcRd4",
      "execution_count": 402,
      "outputs": [
        {
          "output_type": "execute_result",
          "data": {
            "text/plain": [
              "RandomForestClassifier(criterion='entropy', max_depth=5, n_estimators=15)"
            ]
          },
          "metadata": {},
          "execution_count": 402
        }
      ]
    },
    {
      "cell_type": "code",
      "source": [
        "new_r_02.fit(X_train, y_train) #max_depth=7, max_features='log2', n_estimators=15"
      ],
      "metadata": {
        "colab": {
          "base_uri": "https://localhost:8080/"
        },
        "id": "uSv9Hr0hcjm6",
        "outputId": "5cace55f-5afb-4fb2-d412-e114bcf12ed9"
      },
      "id": "uSv9Hr0hcjm6",
      "execution_count": 403,
      "outputs": [
        {
          "output_type": "execute_result",
          "data": {
            "text/plain": [
              "RandomForestClassifier(criterion='entropy', max_depth=5, n_estimators=15)"
            ]
          },
          "metadata": {},
          "execution_count": 403
        }
      ]
    },
    {
      "cell_type": "markdown",
      "source": [
        "**4. Accuracy of Random Forest using GridSearchCV Optimizer**"
      ],
      "metadata": {
        "id": "dtg50xzFFfkw"
      },
      "id": "dtg50xzFFfkw"
    },
    {
      "cell_type": "code",
      "source": [
        "new_r_02.score(X_test, y_test)"
      ],
      "metadata": {
        "colab": {
          "base_uri": "https://localhost:8080/"
        },
        "id": "3j7qq5Mbc7WA",
        "outputId": "5c100dac-9086-4645-9195-5a20a57e75e9"
      },
      "id": "3j7qq5Mbc7WA",
      "execution_count": 404,
      "outputs": [
        {
          "output_type": "execute_result",
          "data": {
            "text/plain": [
              "0.7666666666666667"
            ]
          },
          "metadata": {},
          "execution_count": 404
        }
      ]
    },
    {
      "cell_type": "markdown",
      "source": [
        "#**Accuracy Comparision of Decision Tree, Random Forest and Random Forest with Tuning**"
      ],
      "metadata": {
        "id": "saCTrm1Pgs9Z"
      },
      "id": "saCTrm1Pgs9Z"
    },
    {
      "cell_type": "code",
      "source": [
        "d = 'Accuracy of Decision Tree'\n",
        "r = 'Accuracy of Random Forest'\n",
        "r_rs = 'Accuracy of Random Forest using RandomizedSearchCV'\n",
        "r_gs = 'Accuracy of Random Forest using GridSearchCV'\n",
        "\n",
        "df1=pd.DataFrame([[d,0.6777777777777778],[r, 0.7666666666666667],  [r_rs, 0.7888888888888889], [r_gs, 0.7777777777777778]],\n",
        "                 columns=['Accuracy', 'Value'])\n",
        "df1\n"
      ],
      "metadata": {
        "colab": {
          "base_uri": "https://localhost:8080/",
          "height": 174
        },
        "id": "gewcUtDPfgeR",
        "outputId": "418e7ca4-6cbd-4fac-d839-5b30e66b07df"
      },
      "id": "gewcUtDPfgeR",
      "execution_count": 405,
      "outputs": [
        {
          "output_type": "execute_result",
          "data": {
            "text/plain": [
              "                                            Accuracy     Value\n",
              "0                          Accuracy of Decision Tree  0.677778\n",
              "1                          Accuracy of Random Forest  0.766667\n",
              "2  Accuracy of Random Forest using RandomizedSear...  0.788889\n",
              "3       Accuracy of Random Forest using GridSearchCV  0.777778"
            ],
            "text/html": [
              "\n",
              "  <div id=\"df-70bc1de9-e4b4-4f76-8de7-2177c8ce4e91\">\n",
              "    <div class=\"colab-df-container\">\n",
              "      <div>\n",
              "<style scoped>\n",
              "    .dataframe tbody tr th:only-of-type {\n",
              "        vertical-align: middle;\n",
              "    }\n",
              "\n",
              "    .dataframe tbody tr th {\n",
              "        vertical-align: top;\n",
              "    }\n",
              "\n",
              "    .dataframe thead th {\n",
              "        text-align: right;\n",
              "    }\n",
              "</style>\n",
              "<table border=\"1\" class=\"dataframe\">\n",
              "  <thead>\n",
              "    <tr style=\"text-align: right;\">\n",
              "      <th></th>\n",
              "      <th>Accuracy</th>\n",
              "      <th>Value</th>\n",
              "    </tr>\n",
              "  </thead>\n",
              "  <tbody>\n",
              "    <tr>\n",
              "      <th>0</th>\n",
              "      <td>Accuracy of Decision Tree</td>\n",
              "      <td>0.677778</td>\n",
              "    </tr>\n",
              "    <tr>\n",
              "      <th>1</th>\n",
              "      <td>Accuracy of Random Forest</td>\n",
              "      <td>0.766667</td>\n",
              "    </tr>\n",
              "    <tr>\n",
              "      <th>2</th>\n",
              "      <td>Accuracy of Random Forest using RandomizedSear...</td>\n",
              "      <td>0.788889</td>\n",
              "    </tr>\n",
              "    <tr>\n",
              "      <th>3</th>\n",
              "      <td>Accuracy of Random Forest using GridSearchCV</td>\n",
              "      <td>0.777778</td>\n",
              "    </tr>\n",
              "  </tbody>\n",
              "</table>\n",
              "</div>\n",
              "      <button class=\"colab-df-convert\" onclick=\"convertToInteractive('df-70bc1de9-e4b4-4f76-8de7-2177c8ce4e91')\"\n",
              "              title=\"Convert this dataframe to an interactive table.\"\n",
              "              style=\"display:none;\">\n",
              "        \n",
              "  <svg xmlns=\"http://www.w3.org/2000/svg\" height=\"24px\"viewBox=\"0 0 24 24\"\n",
              "       width=\"24px\">\n",
              "    <path d=\"M0 0h24v24H0V0z\" fill=\"none\"/>\n",
              "    <path d=\"M18.56 5.44l.94 2.06.94-2.06 2.06-.94-2.06-.94-.94-2.06-.94 2.06-2.06.94zm-11 1L8.5 8.5l.94-2.06 2.06-.94-2.06-.94L8.5 2.5l-.94 2.06-2.06.94zm10 10l.94 2.06.94-2.06 2.06-.94-2.06-.94-.94-2.06-.94 2.06-2.06.94z\"/><path d=\"M17.41 7.96l-1.37-1.37c-.4-.4-.92-.59-1.43-.59-.52 0-1.04.2-1.43.59L10.3 9.45l-7.72 7.72c-.78.78-.78 2.05 0 2.83L4 21.41c.39.39.9.59 1.41.59.51 0 1.02-.2 1.41-.59l7.78-7.78 2.81-2.81c.8-.78.8-2.07 0-2.86zM5.41 20L4 18.59l7.72-7.72 1.47 1.35L5.41 20z\"/>\n",
              "  </svg>\n",
              "      </button>\n",
              "      \n",
              "  <style>\n",
              "    .colab-df-container {\n",
              "      display:flex;\n",
              "      flex-wrap:wrap;\n",
              "      gap: 12px;\n",
              "    }\n",
              "\n",
              "    .colab-df-convert {\n",
              "      background-color: #E8F0FE;\n",
              "      border: none;\n",
              "      border-radius: 50%;\n",
              "      cursor: pointer;\n",
              "      display: none;\n",
              "      fill: #1967D2;\n",
              "      height: 32px;\n",
              "      padding: 0 0 0 0;\n",
              "      width: 32px;\n",
              "    }\n",
              "\n",
              "    .colab-df-convert:hover {\n",
              "      background-color: #E2EBFA;\n",
              "      box-shadow: 0px 1px 2px rgba(60, 64, 67, 0.3), 0px 1px 3px 1px rgba(60, 64, 67, 0.15);\n",
              "      fill: #174EA6;\n",
              "    }\n",
              "\n",
              "    [theme=dark] .colab-df-convert {\n",
              "      background-color: #3B4455;\n",
              "      fill: #D2E3FC;\n",
              "    }\n",
              "\n",
              "    [theme=dark] .colab-df-convert:hover {\n",
              "      background-color: #434B5C;\n",
              "      box-shadow: 0px 1px 3px 1px rgba(0, 0, 0, 0.15);\n",
              "      filter: drop-shadow(0px 1px 2px rgba(0, 0, 0, 0.3));\n",
              "      fill: #FFFFFF;\n",
              "    }\n",
              "  </style>\n",
              "\n",
              "      <script>\n",
              "        const buttonEl =\n",
              "          document.querySelector('#df-70bc1de9-e4b4-4f76-8de7-2177c8ce4e91 button.colab-df-convert');\n",
              "        buttonEl.style.display =\n",
              "          google.colab.kernel.accessAllowed ? 'block' : 'none';\n",
              "\n",
              "        async function convertToInteractive(key) {\n",
              "          const element = document.querySelector('#df-70bc1de9-e4b4-4f76-8de7-2177c8ce4e91');\n",
              "          const dataTable =\n",
              "            await google.colab.kernel.invokeFunction('convertToInteractive',\n",
              "                                                     [key], {});\n",
              "          if (!dataTable) return;\n",
              "\n",
              "          const docLinkHtml = 'Like what you see? Visit the ' +\n",
              "            '<a target=\"_blank\" href=https://colab.research.google.com/notebooks/data_table.ipynb>data table notebook</a>'\n",
              "            + ' to learn more about interactive tables.';\n",
              "          element.innerHTML = '';\n",
              "          dataTable['output_type'] = 'display_data';\n",
              "          await google.colab.output.renderOutput(dataTable, element);\n",
              "          const docLink = document.createElement('div');\n",
              "          docLink.innerHTML = docLinkHtml;\n",
              "          element.appendChild(docLink);\n",
              "        }\n",
              "      </script>\n",
              "    </div>\n",
              "  </div>\n",
              "  "
            ]
          },
          "metadata": {},
          "execution_count": 405
        }
      ]
    },
    {
      "cell_type": "code",
      "source": [
        "sns.set()\n",
        "sns.barplot(x=\"Value\", y=\"Accuracy\",  data=df1, palette=\"Set2\")"
      ],
      "metadata": {
        "colab": {
          "base_uri": "https://localhost:8080/",
          "height": 302
        },
        "id": "Vbet75zToqmw",
        "outputId": "9fab628e-14df-4c3c-f990-a011ff7fb659"
      },
      "id": "Vbet75zToqmw",
      "execution_count": 406,
      "outputs": [
        {
          "output_type": "execute_result",
          "data": {
            "text/plain": [
              "<matplotlib.axes._subplots.AxesSubplot at 0x7fb36834ccd0>"
            ]
          },
          "metadata": {},
          "execution_count": 406
        },
        {
          "output_type": "display_data",
          "data": {
            "text/plain": [
              "<Figure size 432x288 with 1 Axes>"
            ],
            "image/png": "[encoded data removed]"
          },
          "metadata": {}
        }
      ]
    }
  ],
  "metadata": {
    "kernelspec": {
      "display_name": "Python 3",
      "language": "python",
      "name": "python3"
    },
    "language_info": {
      "codemirror_mode": {
        "name": "ipython",
        "version": 3
      },
      "file_extension": ".py",
      "mimetype": "text/x-python",
      "name": "python",
      "nbconvert_exporter": "python",
      "pygments_lexer": "ipython3",
      "version": "3.8.8"
    },
    "colab": {
      "name": "HW5 Decision Tree and Random Forest-v1.ipynb",
      "provenance": [],
      "collapsed_sections": [
        "eaab2a87",
        "10d883c4"
      ],
      "include_colab_link": true
    }
  },
  "nbformat": 4,
  "nbformat_minor": 5
}