{
  "cells": [
    {
      "cell_type": "markdown",
      "metadata": {
        "id": "view-in-github",
        "colab_type": "text"
      },
      "source": [
        "<a href=\"https://colab.research.google.com/github/Shibli-Nomani/datascience/blob/main/HW5_Decision_Tree_and_Random_Forest_v1.ipynb\" target=\"_parent\"><img src=\"https://colab.research.google.com/assets/colab-badge.svg\" alt=\"Open In Colab\"/></a>"
      ]
    },
    {
      "cell_type": "code",
      "source": [
        "from google.colab import drive\n",
        "drive.mount('/content/gdrive')"
      ],
      "metadata": {
        "colab": {
          "base_uri": "https://localhost:8080/"
        },
        "id": "WppB6jtYGBmN",
        "outputId": "8220794f-17a2-429f-e52f-428482f805e0"
      },
      "id": "WppB6jtYGBmN",
      "execution_count": null,
      "outputs": [
        {
          "output_type": "stream",
          "name": "stdout",
          "text": [
            "Mounted at /content/gdrive\n"
          ]
        }
      ]
    },
    {
      "cell_type": "code",
      "source": [
        "import pandas as pd # data frame library\n",
        "import numpy as np\n",
        "import seaborn as sns # data visialization library\n",
        "import matplotlib.pyplot as plt\n",
        "%matplotlib inline\n",
        "path='/content/gdrive/MyDrive/AIQUEST ML Course/heart failure.csv'\n",
        "df=pd.read_csv(path)\n",
        "df.head(7)"
      ],
      "metadata": {
        "colab": {
          "base_uri": "https://localhost:8080/",
          "height": 333
        },
        "id": "TYlAU2KXGdon",
        "outputId": "c4031e0a-7a28-43f3-e4dc-cb6d42cb14ac"
      },
      "id": "TYlAU2KXGdon",
      "execution_count": null,
      "outputs": [
        {
          "output_type": "execute_result",
          "data": {
            "text/plain": [
              "    age  anaemia  creatinine_phosphokinase  diabetes  ejection_fraction  \\\n",
              "0  75.0        0                       582         0                 20   \n",
              "1  55.0        0                      7861         0                 38   \n",
              "2  65.0        0                       146         0                 20   \n",
              "3  50.0        1                       111         0                 20   \n",
              "4  65.0        1                       160         1                 20   \n",
              "5  90.0        1                        47         0                 40   \n",
              "6  75.0        1                       246         0                 15   \n",
              "\n",
              "   high_blood_pressure  platelets  serum_creatinine  serum_sodium  sex  \\\n",
              "0                    1  265000.00               1.9           130    1   \n",
              "1                    0  263358.03               1.1           136    1   \n",
              "2                    0  162000.00               1.3           129    1   \n",
              "3                    0  210000.00               1.9           137    1   \n",
              "4                    0  327000.00               2.7           116    0   \n",
              "5                    1  204000.00               2.1           132    1   \n",
              "6                    0  127000.00               1.2           137    1   \n",
              "\n",
              "   smoking  time  DEATH_EVENT  \n",
              "0        0     4            1  \n",
              "1        0     6            1  \n",
              "2        1     7            1  \n",
              "3        0     7            1  \n",
              "4        0     8            1  \n",
              "5        1     8            1  \n",
              "6        0    10            1  "
            ],
            "text/html": [
              "\n",
              "  <div id=\"df-adf4bdfa-c2b1-4fda-ba12-3584588e9513\">\n",
              "    <div class=\"colab-df-container\">\n",
              "      <div>\n",
              "<style scoped>\n",
              "    .dataframe tbody tr th:only-of-type {\n",
              "        vertical-align: middle;\n",
              "    }\n",
              "\n",
              "    .dataframe tbody tr th {\n",
              "        vertical-align: top;\n",
              "    }\n",
              "\n",
              "    .dataframe thead th {\n",
              "        text-align: right;\n",
              "    }\n",
              "</style>\n",
              "<table border=\"1\" class=\"dataframe\">\n",
              "  <thead>\n",
              "    <tr style=\"text-align: right;\">\n",
              "      <th></th>\n",
              "      <th>age</th>\n",
              "      <th>anaemia</th>\n",
              "      <th>creatinine_phosphokinase</th>\n",
              "      <th>diabetes</th>\n",
              "      <th>ejection_fraction</th>\n",
              "      <th>high_blood_pressure</th>\n",
              "      <th>platelets</th>\n",
              "      <th>serum_creatinine</th>\n",
              "      <th>serum_sodium</th>\n",
              "      <th>sex</th>\n",
              "      <th>smoking</th>\n",
              "      <th>time</th>\n",
              "      <th>DEATH_EVENT</th>\n",
              "    </tr>\n",
              "  </thead>\n",
              "  <tbody>\n",
              "    <tr>\n",
              "      <th>0</th>\n",
              "      <td>75.0</td>\n",
              "      <td>0</td>\n",
              "      <td>582</td>\n",
              "      <td>0</td>\n",
              "      <td>20</td>\n",
              "      <td>1</td>\n",
              "      <td>265000.00</td>\n",
              "      <td>1.9</td>\n",
              "      <td>130</td>\n",
              "      <td>1</td>\n",
              "      <td>0</td>\n",
              "      <td>4</td>\n",
              "      <td>1</td>\n",
              "    </tr>\n",
              "    <tr>\n",
              "      <th>1</th>\n",
              "      <td>55.0</td>\n",
              "      <td>0</td>\n",
              "      <td>7861</td>\n",
              "      <td>0</td>\n",
              "      <td>38</td>\n",
              "      <td>0</td>\n",
              "      <td>263358.03</td>\n",
              "      <td>1.1</td>\n",
              "      <td>136</td>\n",
              "      <td>1</td>\n",
              "      <td>0</td>\n",
              "      <td>6</td>\n",
              "      <td>1</td>\n",
              "    </tr>\n",
              "    <tr>\n",
              "      <th>2</th>\n",
              "      <td>65.0</td>\n",
              "      <td>0</td>\n",
              "      <td>146</td>\n",
              "      <td>0</td>\n",
              "      <td>20</td>\n",
              "      <td>0</td>\n",
              "      <td>162000.00</td>\n",
              "      <td>1.3</td>\n",
              "      <td>129</td>\n",
              "      <td>1</td>\n",
              "      <td>1</td>\n",
              "      <td>7</td>\n",
              "      <td>1</td>\n",
              "    </tr>\n",
              "    <tr>\n",
              "      <th>3</th>\n",
              "      <td>50.0</td>\n",
              "      <td>1</td>\n",
              "      <td>111</td>\n",
              "      <td>0</td>\n",
              "      <td>20</td>\n",
              "      <td>0</td>\n",
              "      <td>210000.00</td>\n",
              "      <td>1.9</td>\n",
              "      <td>137</td>\n",
              "      <td>1</td>\n",
              "      <td>0</td>\n",
              "      <td>7</td>\n",
              "      <td>1</td>\n",
              "    </tr>\n",
              "    <tr>\n",
              "      <th>4</th>\n",
              "      <td>65.0</td>\n",
              "      <td>1</td>\n",
              "      <td>160</td>\n",
              "      <td>1</td>\n",
              "      <td>20</td>\n",
              "      <td>0</td>\n",
              "      <td>327000.00</td>\n",
              "      <td>2.7</td>\n",
              "      <td>116</td>\n",
              "      <td>0</td>\n",
              "      <td>0</td>\n",
              "      <td>8</td>\n",
              "      <td>1</td>\n",
              "    </tr>\n",
              "    <tr>\n",
              "      <th>5</th>\n",
              "      <td>90.0</td>\n",
              "      <td>1</td>\n",
              "      <td>47</td>\n",
              "      <td>0</td>\n",
              "      <td>40</td>\n",
              "      <td>1</td>\n",
              "      <td>204000.00</td>\n",
              "      <td>2.1</td>\n",
              "      <td>132</td>\n",
              "      <td>1</td>\n",
              "      <td>1</td>\n",
              "      <td>8</td>\n",
              "      <td>1</td>\n",
              "    </tr>\n",
              "    <tr>\n",
              "      <th>6</th>\n",
              "      <td>75.0</td>\n",
              "      <td>1</td>\n",
              "      <td>246</td>\n",
              "      <td>0</td>\n",
              "      <td>15</td>\n",
              "      <td>0</td>\n",
              "      <td>127000.00</td>\n",
              "      <td>1.2</td>\n",
              "      <td>137</td>\n",
              "      <td>1</td>\n",
              "      <td>0</td>\n",
              "      <td>10</td>\n",
              "      <td>1</td>\n",
              "    </tr>\n",
              "  </tbody>\n",
              "</table>\n",
              "</div>\n",
              "      <button class=\"colab-df-convert\" onclick=\"convertToInteractive('df-adf4bdfa-c2b1-4fda-ba12-3584588e9513')\"\n",
              "              title=\"Convert this dataframe to an interactive table.\"\n",
              "              style=\"display:none;\">\n",
              "        \n",
              "  <svg xmlns=\"http://www.w3.org/2000/svg\" height=\"24px\"viewBox=\"0 0 24 24\"\n",
              "       width=\"24px\">\n",
              "    <path d=\"M0 0h24v24H0V0z\" fill=\"none\"/>\n",
              "    <path d=\"M18.56 5.44l.94 2.06.94-2.06 2.06-.94-2.06-.94-.94-2.06-.94 2.06-2.06.94zm-11 1L8.5 8.5l.94-2.06 2.06-.94-2.06-.94L8.5 2.5l-.94 2.06-2.06.94zm10 10l.94 2.06.94-2.06 2.06-.94-2.06-.94-.94-2.06-.94 2.06-2.06.94z\"/><path d=\"M17.41 7.96l-1.37-1.37c-.4-.4-.92-.59-1.43-.59-.52 0-1.04.2-1.43.59L10.3 9.45l-7.72 7.72c-.78.78-.78 2.05 0 2.83L4 21.41c.39.39.9.59 1.41.59.51 0 1.02-.2 1.41-.59l7.78-7.78 2.81-2.81c.8-.78.8-2.07 0-2.86zM5.41 20L4 18.59l7.72-7.72 1.47 1.35L5.41 20z\"/>\n",
              "  </svg>\n",
              "      </button>\n",
              "      \n",
              "  <style>\n",
              "    .colab-df-container {\n",
              "      display:flex;\n",
              "      flex-wrap:wrap;\n",
              "      gap: 12px;\n",
              "    }\n",
              "\n",
              "    .colab-df-convert {\n",
              "      background-color: #E8F0FE;\n",
              "      border: none;\n",
              "      border-radius: 50%;\n",
              "      cursor: pointer;\n",
              "      display: none;\n",
              "      fill: #1967D2;\n",
              "      height: 32px;\n",
              "      padding: 0 0 0 0;\n",
              "      width: 32px;\n",
              "    }\n",
              "\n",
              "    .colab-df-convert:hover {\n",
              "      background-color: #E2EBFA;\n",
              "      box-shadow: 0px 1px 2px rgba(60, 64, 67, 0.3), 0px 1px 3px 1px rgba(60, 64, 67, 0.15);\n",
              "      fill: #174EA6;\n",
              "    }\n",
              "\n",
              "    [theme=dark] .colab-df-convert {\n",
              "      background-color: #3B4455;\n",
              "      fill: #D2E3FC;\n",
              "    }\n",
              "\n",
              "    [theme=dark] .colab-df-convert:hover {\n",
              "      background-color: #434B5C;\n",
              "      box-shadow: 0px 1px 3px 1px rgba(0, 0, 0, 0.15);\n",
              "      filter: drop-shadow(0px 1px 2px rgba(0, 0, 0, 0.3));\n",
              "      fill: #FFFFFF;\n",
              "    }\n",
              "  </style>\n",
              "\n",
              "      <script>\n",
              "        const buttonEl =\n",
              "          document.querySelector('#df-adf4bdfa-c2b1-4fda-ba12-3584588e9513 button.colab-df-convert');\n",
              "        buttonEl.style.display =\n",
              "          google.colab.kernel.accessAllowed ? 'block' : 'none';\n",
              "\n",
              "        async function convertToInteractive(key) {\n",
              "          const element = document.querySelector('#df-adf4bdfa-c2b1-4fda-ba12-3584588e9513');\n",
              "          const dataTable =\n",
              "            await google.colab.kernel.invokeFunction('convertToInteractive',\n",
              "                                                     [key], {});\n",
              "          if (!dataTable) return;\n",
              "\n",
              "          const docLinkHtml = 'Like what you see? Visit the ' +\n",
              "            '<a target=\"_blank\" href=https://colab.research.google.com/notebooks/data_table.ipynb>data table notebook</a>'\n",
              "            + ' to learn more about interactive tables.';\n",
              "          element.innerHTML = '';\n",
              "          dataTable['output_type'] = 'display_data';\n",
              "          await google.colab.output.renderOutput(dataTable, element);\n",
              "          const docLink = document.createElement('div');\n",
              "          docLink.innerHTML = docLinkHtml;\n",
              "          element.appendChild(docLink);\n",
              "        }\n",
              "      </script>\n",
              "    </div>\n",
              "  </div>\n",
              "  "
            ]
          },
          "metadata": {},
          "execution_count": 4
        }
      ]
    },
    {
      "cell_type": "code",
      "execution_count": null,
      "id": "12894ce6",
      "metadata": {
        "id": "12894ce6",
        "outputId": "302e89d0-a043-47fb-f751-fadd1a8fac80",
        "colab": {
          "base_uri": "https://localhost:8080/"
        }
      },
      "outputs": [
        {
          "output_type": "stream",
          "name": "stdout",
          "text": [
            "<class 'pandas.core.frame.DataFrame'>\n",
            "RangeIndex: 299 entries, 0 to 298\n",
            "Data columns (total 13 columns):\n",
            " #   Column                    Non-Null Count  Dtype  \n",
            "---  ------                    --------------  -----  \n",
            " 0   age                       299 non-null    float64\n",
            " 1   anaemia                   299 non-null    int64  \n",
            " 2   creatinine_phosphokinase  299 non-null    int64  \n",
            " 3   diabetes                  299 non-null    int64  \n",
            " 4   ejection_fraction         299 non-null    int64  \n",
            " 5   high_blood_pressure       299 non-null    int64  \n",
            " 6   platelets                 299 non-null    float64\n",
            " 7   serum_creatinine          299 non-null    float64\n",
            " 8   serum_sodium              299 non-null    int64  \n",
            " 9   sex                       299 non-null    int64  \n",
            " 10  smoking                   299 non-null    int64  \n",
            " 11  time                      299 non-null    int64  \n",
            " 12  DEATH_EVENT               299 non-null    int64  \n",
            "dtypes: float64(3), int64(10)\n",
            "memory usage: 30.5 KB\n"
          ]
        }
      ],
      "source": [
        "df.info()"
      ]
    },
    {
      "cell_type": "code",
      "execution_count": null,
      "id": "1cf57605",
      "metadata": {
        "id": "1cf57605"
      },
      "outputs": [],
      "source": [
        "df = df.rename({'DEATH_EVENT':'death'},axis=1)"
      ]
    },
    {
      "cell_type": "code",
      "execution_count": null,
      "id": "6d027a92",
      "metadata": {
        "id": "6d027a92",
        "outputId": "91545934-0b5a-4e82-def2-a8bcf85152c6",
        "colab": {
          "base_uri": "https://localhost:8080/",
          "height": 488
        }
      },
      "outputs": [
        {
          "output_type": "execute_result",
          "data": {
            "text/plain": [
              "      age  anaemia  creatinine_phosphokinase  diabetes  ejection_fraction  \\\n",
              "0    75.0        0                       582         0                 20   \n",
              "1    55.0        0                      7861         0                 38   \n",
              "2    65.0        0                       146         0                 20   \n",
              "3    50.0        1                       111         0                 20   \n",
              "4    65.0        1                       160         1                 20   \n",
              "..    ...      ...                       ...       ...                ...   \n",
              "294  62.0        0                        61         1                 38   \n",
              "295  55.0        0                      1820         0                 38   \n",
              "296  45.0        0                      2060         1                 60   \n",
              "297  45.0        0                      2413         0                 38   \n",
              "298  50.0        0                       196         0                 45   \n",
              "\n",
              "     high_blood_pressure  platelets  serum_creatinine  serum_sodium  sex  \\\n",
              "0                      1  265000.00               1.9           130    1   \n",
              "1                      0  263358.03               1.1           136    1   \n",
              "2                      0  162000.00               1.3           129    1   \n",
              "3                      0  210000.00               1.9           137    1   \n",
              "4                      0  327000.00               2.7           116    0   \n",
              "..                   ...        ...               ...           ...  ...   \n",
              "294                    1  155000.00               1.1           143    1   \n",
              "295                    0  270000.00               1.2           139    0   \n",
              "296                    0  742000.00               0.8           138    0   \n",
              "297                    0  140000.00               1.4           140    1   \n",
              "298                    0  395000.00               1.6           136    1   \n",
              "\n",
              "     smoking  time  death  \n",
              "0          0     4      1  \n",
              "1          0     6      1  \n",
              "2          1     7      1  \n",
              "3          0     7      1  \n",
              "4          0     8      1  \n",
              "..       ...   ...    ...  \n",
              "294        1   270      0  \n",
              "295        0   271      0  \n",
              "296        0   278      0  \n",
              "297        1   280      0  \n",
              "298        1   285      0  \n",
              "\n",
              "[299 rows x 13 columns]"
            ],
            "text/html": [
              "\n",
              "  <div id=\"df-58b4c955-8828-4fc8-a27a-296e1e820419\">\n",
              "    <div class=\"colab-df-container\">\n",
              "      <div>\n",
              "<style scoped>\n",
              "    .dataframe tbody tr th:only-of-type {\n",
              "        vertical-align: middle;\n",
              "    }\n",
              "\n",
              "    .dataframe tbody tr th {\n",
              "        vertical-align: top;\n",
              "    }\n",
              "\n",
              "    .dataframe thead th {\n",
              "        text-align: right;\n",
              "    }\n",
              "</style>\n",
              "<table border=\"1\" class=\"dataframe\">\n",
              "  <thead>\n",
              "    <tr style=\"text-align: right;\">\n",
              "      <th></th>\n",
              "      <th>age</th>\n",
              "      <th>anaemia</th>\n",
              "      <th>creatinine_phosphokinase</th>\n",
              "      <th>diabetes</th>\n",
              "      <th>ejection_fraction</th>\n",
              "      <th>high_blood_pressure</th>\n",
              "      <th>platelets</th>\n",
              "      <th>serum_creatinine</th>\n",
              "      <th>serum_sodium</th>\n",
              "      <th>sex</th>\n",
              "      <th>smoking</th>\n",
              "      <th>time</th>\n",
              "      <th>death</th>\n",
              "    </tr>\n",
              "  </thead>\n",
              "  <tbody>\n",
              "    <tr>\n",
              "      <th>0</th>\n",
              "      <td>75.0</td>\n",
              "      <td>0</td>\n",
              "      <td>582</td>\n",
              "      <td>0</td>\n",
              "      <td>20</td>\n",
              "      <td>1</td>\n",
              "      <td>265000.00</td>\n",
              "      <td>1.9</td>\n",
              "      <td>130</td>\n",
              "      <td>1</td>\n",
              "      <td>0</td>\n",
              "      <td>4</td>\n",
              "      <td>1</td>\n",
              "    </tr>\n",
              "    <tr>\n",
              "      <th>1</th>\n",
              "      <td>55.0</td>\n",
              "      <td>0</td>\n",
              "      <td>7861</td>\n",
              "      <td>0</td>\n",
              "      <td>38</td>\n",
              "      <td>0</td>\n",
              "      <td>263358.03</td>\n",
              "      <td>1.1</td>\n",
              "      <td>136</td>\n",
              "      <td>1</td>\n",
              "      <td>0</td>\n",
              "      <td>6</td>\n",
              "      <td>1</td>\n",
              "    </tr>\n",
              "    <tr>\n",
              "      <th>2</th>\n",
              "      <td>65.0</td>\n",
              "      <td>0</td>\n",
              "      <td>146</td>\n",
              "      <td>0</td>\n",
              "      <td>20</td>\n",
              "      <td>0</td>\n",
              "      <td>162000.00</td>\n",
              "      <td>1.3</td>\n",
              "      <td>129</td>\n",
              "      <td>1</td>\n",
              "      <td>1</td>\n",
              "      <td>7</td>\n",
              "      <td>1</td>\n",
              "    </tr>\n",
              "    <tr>\n",
              "      <th>3</th>\n",
              "      <td>50.0</td>\n",
              "      <td>1</td>\n",
              "      <td>111</td>\n",
              "      <td>0</td>\n",
              "      <td>20</td>\n",
              "      <td>0</td>\n",
              "      <td>210000.00</td>\n",
              "      <td>1.9</td>\n",
              "      <td>137</td>\n",
              "      <td>1</td>\n",
              "      <td>0</td>\n",
              "      <td>7</td>\n",
              "      <td>1</td>\n",
              "    </tr>\n",
              "    <tr>\n",
              "      <th>4</th>\n",
              "      <td>65.0</td>\n",
              "      <td>1</td>\n",
              "      <td>160</td>\n",
              "      <td>1</td>\n",
              "      <td>20</td>\n",
              "      <td>0</td>\n",
              "      <td>327000.00</td>\n",
              "      <td>2.7</td>\n",
              "      <td>116</td>\n",
              "      <td>0</td>\n",
              "      <td>0</td>\n",
              "      <td>8</td>\n",
              "      <td>1</td>\n",
              "    </tr>\n",
              "    <tr>\n",
              "      <th>...</th>\n",
              "      <td>...</td>\n",
              "      <td>...</td>\n",
              "      <td>...</td>\n",
              "      <td>...</td>\n",
              "      <td>...</td>\n",
              "      <td>...</td>\n",
              "      <td>...</td>\n",
              "      <td>...</td>\n",
              "      <td>...</td>\n",
              "      <td>...</td>\n",
              "      <td>...</td>\n",
              "      <td>...</td>\n",
              "      <td>...</td>\n",
              "    </tr>\n",
              "    <tr>\n",
              "      <th>294</th>\n",
              "      <td>62.0</td>\n",
              "      <td>0</td>\n",
              "      <td>61</td>\n",
              "      <td>1</td>\n",
              "      <td>38</td>\n",
              "      <td>1</td>\n",
              "      <td>155000.00</td>\n",
              "      <td>1.1</td>\n",
              "      <td>143</td>\n",
              "      <td>1</td>\n",
              "      <td>1</td>\n",
              "      <td>270</td>\n",
              "      <td>0</td>\n",
              "    </tr>\n",
              "    <tr>\n",
              "      <th>295</th>\n",
              "      <td>55.0</td>\n",
              "      <td>0</td>\n",
              "      <td>1820</td>\n",
              "      <td>0</td>\n",
              "      <td>38</td>\n",
              "      <td>0</td>\n",
              "      <td>270000.00</td>\n",
              "      <td>1.2</td>\n",
              "      <td>139</td>\n",
              "      <td>0</td>\n",
              "      <td>0</td>\n",
              "      <td>271</td>\n",
              "      <td>0</td>\n",
              "    </tr>\n",
              "    <tr>\n",
              "      <th>296</th>\n",
              "      <td>45.0</td>\n",
              "      <td>0</td>\n",
              "      <td>2060</td>\n",
              "      <td>1</td>\n",
              "      <td>60</td>\n",
              "      <td>0</td>\n",
              "      <td>742000.00</td>\n",
              "      <td>0.8</td>\n",
              "      <td>138</td>\n",
              "      <td>0</td>\n",
              "      <td>0</td>\n",
              "      <td>278</td>\n",
              "      <td>0</td>\n",
              "    </tr>\n",
              "    <tr>\n",
              "      <th>297</th>\n",
              "      <td>45.0</td>\n",
              "      <td>0</td>\n",
              "      <td>2413</td>\n",
              "      <td>0</td>\n",
              "      <td>38</td>\n",
              "      <td>0</td>\n",
              "      <td>140000.00</td>\n",
              "      <td>1.4</td>\n",
              "      <td>140</td>\n",
              "      <td>1</td>\n",
              "      <td>1</td>\n",
              "      <td>280</td>\n",
              "      <td>0</td>\n",
              "    </tr>\n",
              "    <tr>\n",
              "      <th>298</th>\n",
              "      <td>50.0</td>\n",
              "      <td>0</td>\n",
              "      <td>196</td>\n",
              "      <td>0</td>\n",
              "      <td>45</td>\n",
              "      <td>0</td>\n",
              "      <td>395000.00</td>\n",
              "      <td>1.6</td>\n",
              "      <td>136</td>\n",
              "      <td>1</td>\n",
              "      <td>1</td>\n",
              "      <td>285</td>\n",
              "      <td>0</td>\n",
              "    </tr>\n",
              "  </tbody>\n",
              "</table>\n",
              "<p>299 rows × 13 columns</p>\n",
              "</div>\n",
              "      <button class=\"colab-df-convert\" onclick=\"convertToInteractive('df-58b4c955-8828-4fc8-a27a-296e1e820419')\"\n",
              "              title=\"Convert this dataframe to an interactive table.\"\n",
              "              style=\"display:none;\">\n",
              "        \n",
              "  <svg xmlns=\"http://www.w3.org/2000/svg\" height=\"24px\"viewBox=\"0 0 24 24\"\n",
              "       width=\"24px\">\n",
              "    <path d=\"M0 0h24v24H0V0z\" fill=\"none\"/>\n",
              "    <path d=\"M18.56 5.44l.94 2.06.94-2.06 2.06-.94-2.06-.94-.94-2.06-.94 2.06-2.06.94zm-11 1L8.5 8.5l.94-2.06 2.06-.94-2.06-.94L8.5 2.5l-.94 2.06-2.06.94zm10 10l.94 2.06.94-2.06 2.06-.94-2.06-.94-.94-2.06-.94 2.06-2.06.94z\"/><path d=\"M17.41 7.96l-1.37-1.37c-.4-.4-.92-.59-1.43-.59-.52 0-1.04.2-1.43.59L10.3 9.45l-7.72 7.72c-.78.78-.78 2.05 0 2.83L4 21.41c.39.39.9.59 1.41.59.51 0 1.02-.2 1.41-.59l7.78-7.78 2.81-2.81c.8-.78.8-2.07 0-2.86zM5.41 20L4 18.59l7.72-7.72 1.47 1.35L5.41 20z\"/>\n",
              "  </svg>\n",
              "      </button>\n",
              "      \n",
              "  <style>\n",
              "    .colab-df-container {\n",
              "      display:flex;\n",
              "      flex-wrap:wrap;\n",
              "      gap: 12px;\n",
              "    }\n",
              "\n",
              "    .colab-df-convert {\n",
              "      background-color: #E8F0FE;\n",
              "      border: none;\n",
              "      border-radius: 50%;\n",
              "      cursor: pointer;\n",
              "      display: none;\n",
              "      fill: #1967D2;\n",
              "      height: 32px;\n",
              "      padding: 0 0 0 0;\n",
              "      width: 32px;\n",
              "    }\n",
              "\n",
              "    .colab-df-convert:hover {\n",
              "      background-color: #E2EBFA;\n",
              "      box-shadow: 0px 1px 2px rgba(60, 64, 67, 0.3), 0px 1px 3px 1px rgba(60, 64, 67, 0.15);\n",
              "      fill: #174EA6;\n",
              "    }\n",
              "\n",
              "    [theme=dark] .colab-df-convert {\n",
              "      background-color: #3B4455;\n",
              "      fill: #D2E3FC;\n",
              "    }\n",
              "\n",
              "    [theme=dark] .colab-df-convert:hover {\n",
              "      background-color: #434B5C;\n",
              "      box-shadow: 0px 1px 3px 1px rgba(0, 0, 0, 0.15);\n",
              "      filter: drop-shadow(0px 1px 2px rgba(0, 0, 0, 0.3));\n",
              "      fill: #FFFFFF;\n",
              "    }\n",
              "  </style>\n",
              "\n",
              "      <script>\n",
              "        const buttonEl =\n",
              "          document.querySelector('#df-58b4c955-8828-4fc8-a27a-296e1e820419 button.colab-df-convert');\n",
              "        buttonEl.style.display =\n",
              "          google.colab.kernel.accessAllowed ? 'block' : 'none';\n",
              "\n",
              "        async function convertToInteractive(key) {\n",
              "          const element = document.querySelector('#df-58b4c955-8828-4fc8-a27a-296e1e820419');\n",
              "          const dataTable =\n",
              "            await google.colab.kernel.invokeFunction('convertToInteractive',\n",
              "                                                     [key], {});\n",
              "          if (!dataTable) return;\n",
              "\n",
              "          const docLinkHtml = 'Like what you see? Visit the ' +\n",
              "            '<a target=\"_blank\" href=https://colab.research.google.com/notebooks/data_table.ipynb>data table notebook</a>'\n",
              "            + ' to learn more about interactive tables.';\n",
              "          element.innerHTML = '';\n",
              "          dataTable['output_type'] = 'display_data';\n",
              "          await google.colab.output.renderOutput(dataTable, element);\n",
              "          const docLink = document.createElement('div');\n",
              "          docLink.innerHTML = docLinkHtml;\n",
              "          element.appendChild(docLink);\n",
              "        }\n",
              "      </script>\n",
              "    </div>\n",
              "  </div>\n",
              "  "
            ]
          },
          "metadata": {},
          "execution_count": 7
        }
      ],
      "source": [
        "df"
      ]
    },
    {
      "cell_type": "code",
      "execution_count": null,
      "id": "6aff356d",
      "metadata": {
        "id": "6aff356d"
      },
      "outputs": [],
      "source": [
        "#df.to_csv('new.csv') to save/download your current csv file in your device"
      ]
    },
    {
      "cell_type": "code",
      "execution_count": null,
      "id": "d505b147",
      "metadata": {
        "id": "d505b147",
        "outputId": "349f393c-7628-47db-acb2-578fc74c67d8",
        "colab": {
          "base_uri": "https://localhost:8080/"
        }
      },
      "outputs": [
        {
          "output_type": "execute_result",
          "data": {
            "text/plain": [
              "0    203\n",
              "1     96\n",
              "Name: death, dtype: int64"
            ]
          },
          "metadata": {},
          "execution_count": 9
        }
      ],
      "source": [
        "df.death.value_counts()"
      ]
    },
    {
      "cell_type": "code",
      "execution_count": null,
      "id": "429ce428",
      "metadata": {
        "id": "429ce428",
        "outputId": "66d71409-5edc-4950-bb46-96c3daec0469",
        "colab": {
          "base_uri": "https://localhost:8080/",
          "height": 296
        }
      },
      "outputs": [
        {
          "output_type": "execute_result",
          "data": {
            "text/plain": [
              "<matplotlib.axes._subplots.AxesSubplot at 0x7f5b045e0350>"
            ]
          },
          "metadata": {},
          "execution_count": 10
        },
        {
          "output_type": "display_data",
          "data": {
            "text/plain": [
              "<Figure size 432x288 with 1 Axes>"
            ],
            "image/png": "[encoded data removed]"
          },
          "metadata": {
            "needs_background": "light"
          }
        }
      ],
      "source": [
        "sns.countplot(y='death',data=df)"
      ]
    },
    {
      "cell_type": "code",
      "execution_count": null,
      "id": "7908d227",
      "metadata": {
        "id": "7908d227",
        "outputId": "798f5c05-7318-498b-8eda-7bffff4a85b2",
        "colab": {
          "base_uri": "https://localhost:8080/",
          "height": 296
        }
      },
      "outputs": [
        {
          "output_type": "execute_result",
          "data": {
            "text/plain": [
              "<matplotlib.axes._subplots.AxesSubplot at 0x7f5af2aaaa90>"
            ]
          },
          "metadata": {},
          "execution_count": 11
        },
        {
          "output_type": "display_data",
          "data": {
            "text/plain": [
              "<Figure size 432x288 with 1 Axes>"
            ],
            "image/png": "[encoded data removed]"
          },
          "metadata": {
            "needs_background": "light"
          }
        }
      ],
      "source": [
        "sns.countplot(x='death',data=df)"
      ]
    },
    {
      "cell_type": "code",
      "execution_count": null,
      "id": "3e8afc41",
      "metadata": {
        "id": "3e8afc41",
        "outputId": "fc890ad2-d10f-4e49-dc2c-6389163f5d27",
        "colab": {
          "base_uri": "https://localhost:8080/",
          "height": 296
        }
      },
      "outputs": [
        {
          "output_type": "execute_result",
          "data": {
            "text/plain": [
              "(<matplotlib.axes._subplots.AxesSubplot at 0x7f5af25df490>,)"
            ]
          },
          "metadata": {},
          "execution_count": 12
        },
        {
          "output_type": "display_data",
          "data": {
            "text/plain": [
              "<Figure size 432x288 with 1 Axes>"
            ],
            "image/png": "[encoded data removed]"
          },
          "metadata": {
            "needs_background": "light"
          }
        }
      ],
      "source": [
        "sns.countplot(x='diabetes', data=df) , #='death')"
      ]
    },
    {
      "cell_type": "code",
      "execution_count": null,
      "id": "7e95d26a",
      "metadata": {
        "id": "7e95d26a",
        "outputId": "d2bbe823-ae7d-42dc-e11d-bea4f72c3e4c",
        "colab": {
          "base_uri": "https://localhost:8080/",
          "height": 296
        }
      },
      "outputs": [
        {
          "output_type": "execute_result",
          "data": {
            "text/plain": [
              "<matplotlib.axes._subplots.AxesSubplot at 0x7f5af2655e10>"
            ]
          },
          "metadata": {},
          "execution_count": 13
        },
        {
          "output_type": "display_data",
          "data": {
            "text/plain": [
              "<Figure size 432x288 with 1 Axes>"
            ],
            "image/png": "[encoded data removed]"
          },
          "metadata": {
            "needs_background": "light"
          }
        }
      ],
      "source": [
        "sns.countplot(x='diabetes', data=df, hue='death')"
      ]
    },
    {
      "cell_type": "code",
      "execution_count": null,
      "id": "8ffbc3e3",
      "metadata": {
        "id": "8ffbc3e3",
        "outputId": "a87f73f1-753a-4f13-ff13-a4e9999f2b24",
        "colab": {
          "base_uri": "https://localhost:8080/"
        }
      },
      "outputs": [
        {
          "output_type": "execute_result",
          "data": {
            "text/plain": [
              "0    174\n",
              "1    125\n",
              "Name: diabetes, dtype: int64"
            ]
          },
          "metadata": {},
          "execution_count": 14
        }
      ],
      "source": [
        "df.diabetes.value_counts()"
      ]
    },
    {
      "cell_type": "code",
      "execution_count": null,
      "id": "47bbef66",
      "metadata": {
        "id": "47bbef66",
        "outputId": "50ddee25-1e6e-4fdb-ec64-75309f674acf",
        "colab": {
          "base_uri": "https://localhost:8080/",
          "height": 296
        }
      },
      "outputs": [
        {
          "output_type": "execute_result",
          "data": {
            "text/plain": [
              "<matplotlib.axes._subplots.AxesSubplot at 0x7f5af24ef6d0>"
            ]
          },
          "metadata": {},
          "execution_count": 15
        },
        {
          "output_type": "display_data",
          "data": {
            "text/plain": [
              "<Figure size 432x288 with 1 Axes>"
            ],
            "image/png": "[encoded data removed]"
          },
          "metadata": {
            "needs_background": "light"
          }
        }
      ],
      "source": [
        "sns.countplot(x='anaemia', data=df, hue='death')"
      ]
    },
    {
      "cell_type": "code",
      "execution_count": null,
      "id": "c2cbb341",
      "metadata": {
        "id": "c2cbb341",
        "outputId": "ddbef01f-86fc-4a00-a34b-cbb861025afa",
        "colab": {
          "base_uri": "https://localhost:8080/"
        }
      },
      "outputs": [
        {
          "output_type": "execute_result",
          "data": {
            "text/plain": [
              "0    170\n",
              "1    129\n",
              "Name: anaemia, dtype: int64"
            ]
          },
          "metadata": {},
          "execution_count": 16
        }
      ],
      "source": [
        "df.anaemia.value_counts()"
      ]
    },
    {
      "cell_type": "code",
      "execution_count": null,
      "id": "e0cb16c4",
      "metadata": {
        "id": "e0cb16c4",
        "outputId": "866785fa-4cf2-4102-8367-617eb9edd1f4",
        "colab": {
          "base_uri": "https://localhost:8080/",
          "height": 296
        }
      },
      "outputs": [
        {
          "output_type": "execute_result",
          "data": {
            "text/plain": [
              "<matplotlib.axes._subplots.AxesSubplot at 0x7f5af24605d0>"
            ]
          },
          "metadata": {},
          "execution_count": 17
        },
        {
          "output_type": "display_data",
          "data": {
            "text/plain": [
              "<Figure size 432x288 with 1 Axes>"
            ],
            "image/png": "[encoded data removed]"
          },
          "metadata": {
            "needs_background": "light"
          }
        }
      ],
      "source": [
        "sns.countplot(x='anaemia', data=df, hue='diabetes')"
      ]
    },
    {
      "cell_type": "code",
      "execution_count": null,
      "id": "4856b9dd",
      "metadata": {
        "id": "4856b9dd",
        "outputId": "00894ac5-710d-445a-cede-58cf62a34636",
        "colab": {
          "base_uri": "https://localhost:8080/",
          "height": 297
        }
      },
      "outputs": [
        {
          "output_type": "execute_result",
          "data": {
            "text/plain": [
              "<matplotlib.axes._subplots.AxesSubplot at 0x7f5af24e6690>"
            ]
          },
          "metadata": {},
          "execution_count": 18
        },
        {
          "output_type": "display_data",
          "data": {
            "text/plain": [
              "<Figure size 432x288 with 1 Axes>"
            ],
            "image/png": "[encoded data removed]"
          },
          "metadata": {
            "needs_background": "light"
          }
        }
      ],
      "source": [
        "sns.countplot(x='high_blood_pressure', data=df, hue='death')"
      ]
    },
    {
      "cell_type": "code",
      "execution_count": null,
      "id": "22cc8d64",
      "metadata": {
        "id": "22cc8d64",
        "colab": {
          "base_uri": "https://localhost:8080/"
        },
        "outputId": "e85afa54-539c-4bd0-fc3d-0686957eacf4"
      },
      "outputs": [
        {
          "output_type": "execute_result",
          "data": {
            "text/plain": [
              "0    1\n",
              "1    1\n",
              "2    1\n",
              "Name: death, dtype: int64"
            ]
          },
          "metadata": {},
          "execution_count": 19
        }
      ],
      "source": [
        "#Target\n",
        "y = df['death']\n",
        "y.head(3)"
      ]
    },
    {
      "cell_type": "code",
      "source": [
        "#Features\n",
        "X=df.copy()\n",
        "X = df.drop('death',axis=1)\n",
        "X.head(3)"
      ],
      "metadata": {
        "colab": {
          "base_uri": "https://localhost:8080/",
          "height": 143
        },
        "id": "abIcRBWUJIKn",
        "outputId": "fea60315-2916-4d1d-cdbd-426db2282534"
      },
      "id": "abIcRBWUJIKn",
      "execution_count": null,
      "outputs": [
        {
          "output_type": "execute_result",
          "data": {
            "text/plain": [
              "    age  anaemia  creatinine_phosphokinase  diabetes  ejection_fraction  \\\n",
              "0  75.0        0                       582         0                 20   \n",
              "1  55.0        0                      7861         0                 38   \n",
              "2  65.0        0                       146         0                 20   \n",
              "\n",
              "   high_blood_pressure  platelets  serum_creatinine  serum_sodium  sex  \\\n",
              "0                    1  265000.00               1.9           130    1   \n",
              "1                    0  263358.03               1.1           136    1   \n",
              "2                    0  162000.00               1.3           129    1   \n",
              "\n",
              "   smoking  time  \n",
              "0        0     4  \n",
              "1        0     6  \n",
              "2        1     7  "
            ],
            "text/html": [
              "\n",
              "  <div id=\"df-71ee49e5-0184-43f7-b6af-0da029494002\">\n",
              "    <div class=\"colab-df-container\">\n",
              "      <div>\n",
              "<style scoped>\n",
              "    .dataframe tbody tr th:only-of-type {\n",
              "        vertical-align: middle;\n",
              "    }\n",
              "\n",
              "    .dataframe tbody tr th {\n",
              "        vertical-align: top;\n",
              "    }\n",
              "\n",
              "    .dataframe thead th {\n",
              "        text-align: right;\n",
              "    }\n",
              "</style>\n",
              "<table border=\"1\" class=\"dataframe\">\n",
              "  <thead>\n",
              "    <tr style=\"text-align: right;\">\n",
              "      <th></th>\n",
              "      <th>age</th>\n",
              "      <th>anaemia</th>\n",
              "      <th>creatinine_phosphokinase</th>\n",
              "      <th>diabetes</th>\n",
              "      <th>ejection_fraction</th>\n",
              "      <th>high_blood_pressure</th>\n",
              "      <th>platelets</th>\n",
              "      <th>serum_creatinine</th>\n",
              "      <th>serum_sodium</th>\n",
              "      <th>sex</th>\n",
              "      <th>smoking</th>\n",
              "      <th>time</th>\n",
              "    </tr>\n",
              "  </thead>\n",
              "  <tbody>\n",
              "    <tr>\n",
              "      <th>0</th>\n",
              "      <td>75.0</td>\n",
              "      <td>0</td>\n",
              "      <td>582</td>\n",
              "      <td>0</td>\n",
              "      <td>20</td>\n",
              "      <td>1</td>\n",
              "      <td>265000.00</td>\n",
              "      <td>1.9</td>\n",
              "      <td>130</td>\n",
              "      <td>1</td>\n",
              "      <td>0</td>\n",
              "      <td>4</td>\n",
              "    </tr>\n",
              "    <tr>\n",
              "      <th>1</th>\n",
              "      <td>55.0</td>\n",
              "      <td>0</td>\n",
              "      <td>7861</td>\n",
              "      <td>0</td>\n",
              "      <td>38</td>\n",
              "      <td>0</td>\n",
              "      <td>263358.03</td>\n",
              "      <td>1.1</td>\n",
              "      <td>136</td>\n",
              "      <td>1</td>\n",
              "      <td>0</td>\n",
              "      <td>6</td>\n",
              "    </tr>\n",
              "    <tr>\n",
              "      <th>2</th>\n",
              "      <td>65.0</td>\n",
              "      <td>0</td>\n",
              "      <td>146</td>\n",
              "      <td>0</td>\n",
              "      <td>20</td>\n",
              "      <td>0</td>\n",
              "      <td>162000.00</td>\n",
              "      <td>1.3</td>\n",
              "      <td>129</td>\n",
              "      <td>1</td>\n",
              "      <td>1</td>\n",
              "      <td>7</td>\n",
              "    </tr>\n",
              "  </tbody>\n",
              "</table>\n",
              "</div>\n",
              "      <button class=\"colab-df-convert\" onclick=\"convertToInteractive('df-71ee49e5-0184-43f7-b6af-0da029494002')\"\n",
              "              title=\"Convert this dataframe to an interactive table.\"\n",
              "              style=\"display:none;\">\n",
              "        \n",
              "  <svg xmlns=\"http://www.w3.org/2000/svg\" height=\"24px\"viewBox=\"0 0 24 24\"\n",
              "       width=\"24px\">\n",
              "    <path d=\"M0 0h24v24H0V0z\" fill=\"none\"/>\n",
              "    <path d=\"M18.56 5.44l.94 2.06.94-2.06 2.06-.94-2.06-.94-.94-2.06-.94 2.06-2.06.94zm-11 1L8.5 8.5l.94-2.06 2.06-.94-2.06-.94L8.5 2.5l-.94 2.06-2.06.94zm10 10l.94 2.06.94-2.06 2.06-.94-2.06-.94-.94-2.06-.94 2.06-2.06.94z\"/><path d=\"M17.41 7.96l-1.37-1.37c-.4-.4-.92-.59-1.43-.59-.52 0-1.04.2-1.43.59L10.3 9.45l-7.72 7.72c-.78.78-.78 2.05 0 2.83L4 21.41c.39.39.9.59 1.41.59.51 0 1.02-.2 1.41-.59l7.78-7.78 2.81-2.81c.8-.78.8-2.07 0-2.86zM5.41 20L4 18.59l7.72-7.72 1.47 1.35L5.41 20z\"/>\n",
              "  </svg>\n",
              "      </button>\n",
              "      \n",
              "  <style>\n",
              "    .colab-df-container {\n",
              "      display:flex;\n",
              "      flex-wrap:wrap;\n",
              "      gap: 12px;\n",
              "    }\n",
              "\n",
              "    .colab-df-convert {\n",
              "      background-color: #E8F0FE;\n",
              "      border: none;\n",
              "      border-radius: 50%;\n",
              "      cursor: pointer;\n",
              "      display: none;\n",
              "      fill: #1967D2;\n",
              "      height: 32px;\n",
              "      padding: 0 0 0 0;\n",
              "      width: 32px;\n",
              "    }\n",
              "\n",
              "    .colab-df-convert:hover {\n",
              "      background-color: #E2EBFA;\n",
              "      box-shadow: 0px 1px 2px rgba(60, 64, 67, 0.3), 0px 1px 3px 1px rgba(60, 64, 67, 0.15);\n",
              "      fill: #174EA6;\n",
              "    }\n",
              "\n",
              "    [theme=dark] .colab-df-convert {\n",
              "      background-color: #3B4455;\n",
              "      fill: #D2E3FC;\n",
              "    }\n",
              "\n",
              "    [theme=dark] .colab-df-convert:hover {\n",
              "      background-color: #434B5C;\n",
              "      box-shadow: 0px 1px 3px 1px rgba(0, 0, 0, 0.15);\n",
              "      filter: drop-shadow(0px 1px 2px rgba(0, 0, 0, 0.3));\n",
              "      fill: #FFFFFF;\n",
              "    }\n",
              "  </style>\n",
              "\n",
              "      <script>\n",
              "        const buttonEl =\n",
              "          document.querySelector('#df-71ee49e5-0184-43f7-b6af-0da029494002 button.colab-df-convert');\n",
              "        buttonEl.style.display =\n",
              "          google.colab.kernel.accessAllowed ? 'block' : 'none';\n",
              "\n",
              "        async function convertToInteractive(key) {\n",
              "          const element = document.querySelector('#df-71ee49e5-0184-43f7-b6af-0da029494002');\n",
              "          const dataTable =\n",
              "            await google.colab.kernel.invokeFunction('convertToInteractive',\n",
              "                                                     [key], {});\n",
              "          if (!dataTable) return;\n",
              "\n",
              "          const docLinkHtml = 'Like what you see? Visit the ' +\n",
              "            '<a target=\"_blank\" href=https://colab.research.google.com/notebooks/data_table.ipynb>data table notebook</a>'\n",
              "            + ' to learn more about interactive tables.';\n",
              "          element.innerHTML = '';\n",
              "          dataTable['output_type'] = 'display_data';\n",
              "          await google.colab.output.renderOutput(dataTable, element);\n",
              "          const docLink = document.createElement('div');\n",
              "          docLink.innerHTML = docLinkHtml;\n",
              "          element.appendChild(docLink);\n",
              "        }\n",
              "      </script>\n",
              "    </div>\n",
              "  </div>\n",
              "  "
            ]
          },
          "metadata": {},
          "execution_count": 20
        }
      ]
    },
    {
      "cell_type": "code",
      "execution_count": null,
      "id": "479d98bf",
      "metadata": {
        "id": "479d98bf"
      },
      "outputs": [],
      "source": [
        "from sklearn.model_selection import train_test_split"
      ]
    },
    {
      "cell_type": "code",
      "execution_count": null,
      "id": "bed4801b",
      "metadata": {
        "id": "bed4801b"
      },
      "outputs": [],
      "source": [
        "X_train, X_test, y_train, y_test = train_test_split(X,y,train_size=.70,random_state=42)"
      ]
    },
    {
      "cell_type": "code",
      "execution_count": null,
      "id": "8f9e4006",
      "metadata": {
        "id": "8f9e4006",
        "outputId": "ffdd56a1-6711-42c2-a63f-051f4d0d0f57",
        "colab": {
          "base_uri": "https://localhost:8080/"
        }
      },
      "outputs": [
        {
          "output_type": "execute_result",
          "data": {
            "text/plain": [
              "281    0\n",
              "265    0\n",
              "164    1\n",
              "9      1\n",
              "77     0\n",
              "      ..\n",
              "132    0\n",
              "72     1\n",
              "15     1\n",
              "10     1\n",
              "157    0\n",
              "Name: death, Length: 90, dtype: int64"
            ]
          },
          "metadata": {},
          "execution_count": 23
        }
      ],
      "source": [
        "y_test"
      ]
    },
    {
      "cell_type": "code",
      "execution_count": null,
      "id": "5e7ecc58",
      "metadata": {
        "id": "5e7ecc58",
        "outputId": "cb303c0f-9278-4354-e613-53cc40125e78",
        "colab": {
          "base_uri": "https://localhost:8080/"
        }
      },
      "outputs": [
        {
          "output_type": "execute_result",
          "data": {
            "text/plain": [
              "(90,)"
            ]
          },
          "metadata": {},
          "execution_count": 24
        }
      ],
      "source": [
        "y_test.shape"
      ]
    },
    {
      "cell_type": "code",
      "execution_count": null,
      "id": "3ae5f71a",
      "metadata": {
        "id": "3ae5f71a",
        "outputId": "a5d81529-55f3-4fe4-83df-2a2b90ff6635",
        "colab": {
          "base_uri": "https://localhost:8080/"
        }
      },
      "outputs": [
        {
          "output_type": "execute_result",
          "data": {
            "text/plain": [
              "(209, 12)"
            ]
          },
          "metadata": {},
          "execution_count": 25
        }
      ],
      "source": [
        "X_train.shape"
      ]
    },
    {
      "cell_type": "markdown",
      "id": "c9018e40",
      "metadata": {
        "id": "c9018e40"
      },
      "source": [
        "# Apply Decision Tree Classifier"
      ]
    },
    {
      "cell_type": "code",
      "execution_count": null,
      "id": "c1db20eb",
      "metadata": {
        "id": "c1db20eb"
      },
      "outputs": [],
      "source": [
        "from sklearn.tree import DecisionTreeClassifier"
      ]
    },
    {
      "cell_type": "code",
      "execution_count": null,
      "id": "cc0d3e5f",
      "metadata": {
        "id": "cc0d3e5f"
      },
      "outputs": [],
      "source": [
        "dt = DecisionTreeClassifier()"
      ]
    },
    {
      "cell_type": "code",
      "execution_count": null,
      "id": "5494c820",
      "metadata": {
        "id": "5494c820",
        "outputId": "894fb101-25cf-44e0-a5f2-461150a690d8",
        "colab": {
          "base_uri": "https://localhost:8080/"
        }
      },
      "outputs": [
        {
          "output_type": "execute_result",
          "data": {
            "text/plain": [
              "DecisionTreeClassifier()"
            ]
          },
          "metadata": {},
          "execution_count": 28
        }
      ],
      "source": [
        "dt.fit(X_train,y_train) #train the model with 70% of data from dataset"
      ]
    },
    {
      "cell_type": "code",
      "execution_count": null,
      "id": "a93bdf70",
      "metadata": {
        "id": "a93bdf70"
      },
      "outputs": [],
      "source": [
        "y_pred = dt.predict(X_test) # pred is corrsponding to ytest"
      ]
    },
    {
      "cell_type": "code",
      "execution_count": null,
      "id": "c7356cc6",
      "metadata": {
        "id": "c7356cc6",
        "outputId": "9fde8e29-d5fb-418c-81dc-ea2baaeb506f",
        "colab": {
          "base_uri": "https://localhost:8080/"
        }
      },
      "outputs": [
        {
          "output_type": "execute_result",
          "data": {
            "text/plain": [
              "281    0\n",
              "265    0\n",
              "164    1\n",
              "Name: death, dtype: int64"
            ]
          },
          "metadata": {},
          "execution_count": 30
        }
      ],
      "source": [
        "y_test.head(3)"
      ]
    },
    {
      "cell_type": "code",
      "execution_count": null,
      "id": "78d7c070",
      "metadata": {
        "id": "78d7c070",
        "outputId": "cfe68c07-173e-4d2f-d99a-e17818456126",
        "colab": {
          "base_uri": "https://localhost:8080/"
        }
      },
      "outputs": [
        {
          "output_type": "execute_result",
          "data": {
            "text/plain": [
              "array([1, 0, 0, 1, 0, 0, 0, 1, 0, 0, 0, 0, 0, 0, 1, 0, 0, 0, 1, 0, 0, 0,\n",
              "       1, 1, 1, 0, 0, 0, 0, 0, 1, 0, 1, 1, 1, 0, 0, 0, 0, 0, 1, 0, 0, 0,\n",
              "       1, 0, 1, 0, 0, 0, 1, 0, 0, 0, 1, 0, 0, 1, 0, 1, 1, 1, 0, 0, 1, 1,\n",
              "       0, 1, 0, 0, 0, 0, 0, 0, 1, 0, 0, 1, 1, 0, 0, 0, 0, 0, 0, 0, 0, 0,\n",
              "       0, 1])"
            ]
          },
          "metadata": {},
          "execution_count": 31
        }
      ],
      "source": [
        "y_pred # Predicted value of Y"
      ]
    },
    {
      "cell_type": "code",
      "execution_count": null,
      "id": "958e56dc",
      "metadata": {
        "id": "958e56dc",
        "outputId": "0961d97b-80a5-4ecf-f4fd-46bc95532bf9",
        "colab": {
          "base_uri": "https://localhost:8080/"
        }
      },
      "outputs": [
        {
          "output_type": "execute_result",
          "data": {
            "text/plain": [
              "array([0, 0, 1, 1, 0, 0, 1, 0, 1, 0, 0, 1, 1, 0, 0, 1, 0, 0, 1, 1, 0, 0,\n",
              "       0, 1, 1, 0, 0, 0, 1, 0, 1, 0, 0, 1, 1, 1, 1, 1, 0, 0, 1, 1, 0, 0,\n",
              "       0, 0, 0, 0, 0, 0, 1, 1, 1, 0, 0, 0, 0, 1, 0, 1, 1, 1, 1, 0, 1, 1,\n",
              "       0, 0, 0, 0, 1, 0, 0, 0, 0, 0, 0, 1, 0, 0, 1, 1, 0, 0, 0, 0, 1, 1,\n",
              "       1, 0])"
            ]
          },
          "metadata": {},
          "execution_count": 32
        }
      ],
      "source": [
        "import numpy as np\n",
        "np.array(y_test) # Actual Value of Y"
      ]
    },
    {
      "cell_type": "markdown",
      "id": "eaab2a87",
      "metadata": {
        "id": "eaab2a87"
      },
      "source": [
        "# Evaluate the ML model"
      ]
    },
    {
      "cell_type": "code",
      "execution_count": null,
      "id": "39d5a448",
      "metadata": {
        "id": "39d5a448"
      },
      "outputs": [],
      "source": [
        "from sklearn.metrics import classification_report , accuracy_score, confusion_matrix, plot_roc_curve"
      ]
    },
    {
      "cell_type": "code",
      "execution_count": null,
      "id": "7db85897",
      "metadata": {
        "id": "7db85897",
        "outputId": "9e8a6771-f2b2-4154-c3db-0d9cc42d9d84",
        "colab": {
          "base_uri": "https://localhost:8080/",
          "height": 70
        }
      },
      "outputs": [
        {
          "output_type": "execute_result",
          "data": {
            "text/plain": [
              "'              precision    recall  f1-score   support\\n\\n           0       0.70      0.81      0.75        53\\n           1       0.66      0.51      0.58        37\\n\\n    accuracy                           0.69        90\\n   macro avg       0.68      0.66      0.67        90\\nweighted avg       0.68      0.69      0.68        90\\n'"
            ],
            "application/vnd.google.colaboratory.intrinsic+json": {
              "type": "string"
            }
          },
          "metadata": {},
          "execution_count": 363
        }
      ],
      "source": [
        "classification_report(y_test,y_pred) "
      ]
    },
    {
      "cell_type": "code",
      "execution_count": null,
      "id": "c0d6aae8",
      "metadata": {
        "id": "c0d6aae8",
        "outputId": "5c9bc47c-bf06-411a-d0c8-29403b61ac16",
        "colab": {
          "base_uri": "https://localhost:8080/"
        }
      },
      "outputs": [
        {
          "output_type": "stream",
          "name": "stdout",
          "text": [
            "              precision    recall  f1-score   support\n",
            "\n",
            "           0       0.66      0.77      0.71        53\n",
            "           1       0.57      0.43      0.49        37\n",
            "\n",
            "    accuracy                           0.63        90\n",
            "   macro avg       0.62      0.60      0.60        90\n",
            "weighted avg       0.62      0.63      0.62        90\n",
            "\n"
          ]
        }
      ],
      "source": [
        "print(classification_report(y_test,y_pred))"
      ]
    },
    {
      "cell_type": "code",
      "execution_count": null,
      "id": "3e6fcc04",
      "metadata": {
        "id": "3e6fcc04"
      },
      "outputs": [],
      "source": [
        "test_confusion_matrix = confusion_matrix(y_test,y_pred)"
      ]
    },
    {
      "cell_type": "code",
      "execution_count": null,
      "id": "3c04aa30",
      "metadata": {
        "id": "3c04aa30",
        "outputId": "8e0a3c79-4780-49f7-c5db-35c61fac0db7",
        "colab": {
          "base_uri": "https://localhost:8080/"
        }
      },
      "outputs": [
        {
          "output_type": "execute_result",
          "data": {
            "text/plain": [
              "array([[41, 12],\n",
              "       [21, 16]])"
            ]
          },
          "metadata": {},
          "execution_count": 36
        }
      ],
      "source": [
        "test_confusion_matrix"
      ]
    },
    {
      "cell_type": "code",
      "execution_count": null,
      "id": "4857990a",
      "metadata": {
        "id": "4857990a",
        "outputId": "a8b847f6-b8d5-4b52-ba0b-1a67c3837bf9",
        "colab": {
          "base_uri": "https://localhost:8080/",
          "height": 282
        }
      },
      "outputs": [
        {
          "output_type": "execute_result",
          "data": {
            "text/plain": [
              "<matplotlib.axes._subplots.AxesSubplot at 0x7f5af0dd7090>"
            ]
          },
          "metadata": {},
          "execution_count": 37
        },
        {
          "output_type": "display_data",
          "data": {
            "text/plain": [
              "<Figure size 432x288 with 2 Axes>"
            ],
            "image/png": "[encoded data removed]"
          },
          "metadata": {
            "needs_background": "light"
          }
        }
      ],
      "source": [
        "sns.heatmap(test_confusion_matrix, annot=True)"
      ]
    },
    {
      "cell_type": "code",
      "execution_count": null,
      "id": "3095acbb",
      "metadata": {
        "id": "3095acbb"
      },
      "outputs": [],
      "source": [
        "tp, fn, fp, tn = confusion_matrix(y_test,y_pred).reshape(-1)"
      ]
    },
    {
      "cell_type": "markdown",
      "source": [
        "**1. Accuracy of Decision Tree**"
      ],
      "metadata": {
        "id": "K8r8GOXiNVfy"
      },
      "id": "K8r8GOXiNVfy"
    },
    {
      "cell_type": "code",
      "execution_count": null,
      "id": "b7f3ec5b",
      "metadata": {
        "id": "b7f3ec5b",
        "outputId": "da0f4d05-bad6-4c48-e417-1696bfc98e9b",
        "colab": {
          "base_uri": "https://localhost:8080/"
        }
      },
      "outputs": [
        {
          "output_type": "execute_result",
          "data": {
            "text/plain": [
              "0.6333333333333333"
            ]
          },
          "metadata": {},
          "execution_count": 39
        }
      ],
      "source": [
        "dt.score(X_test,y_test)"
      ]
    },
    {
      "cell_type": "markdown",
      "id": "3e82216c",
      "metadata": {
        "id": "3e82216c"
      },
      "source": [
        "# Random Forest Classifier"
      ]
    },
    {
      "cell_type": "code",
      "execution_count": null,
      "id": "d4095ee9",
      "metadata": {
        "id": "d4095ee9"
      },
      "outputs": [],
      "source": [
        "from sklearn.ensemble import RandomForestClassifier"
      ]
    },
    {
      "cell_type": "code",
      "execution_count": null,
      "id": "45631ec0",
      "metadata": {
        "id": "45631ec0"
      },
      "outputs": [],
      "source": [
        "clf = RandomForestClassifier() # default n_estimators=100 ; 100 trees"
      ]
    },
    {
      "cell_type": "code",
      "execution_count": null,
      "id": "b58cd047",
      "metadata": {
        "id": "b58cd047",
        "outputId": "ac820955-74ca-4c8b-9a6c-5c7ce423c145",
        "colab": {
          "base_uri": "https://localhost:8080/"
        }
      },
      "outputs": [
        {
          "output_type": "execute_result",
          "data": {
            "text/plain": [
              "RandomForestClassifier()"
            ]
          },
          "metadata": {},
          "execution_count": 42
        }
      ],
      "source": [
        "clf.fit(X_train, y_train)"
      ]
    },
    {
      "cell_type": "markdown",
      "source": [
        "**2. Accuracy of Random Forest**"
      ],
      "metadata": {
        "id": "UipZBgscNsut"
      },
      "id": "UipZBgscNsut"
    },
    {
      "cell_type": "code",
      "execution_count": null,
      "id": "65bc830d",
      "metadata": {
        "id": "65bc830d",
        "outputId": "48483e8d-4381-45de-9419-1155866f49dd",
        "colab": {
          "base_uri": "https://localhost:8080/"
        }
      },
      "outputs": [
        {
          "output_type": "execute_result",
          "data": {
            "text/plain": [
              "0.7666666666666667"
            ]
          },
          "metadata": {},
          "execution_count": 43
        }
      ],
      "source": [
        "clf.score(X_test, y_test)"
      ]
    },
    {
      "cell_type": "markdown",
      "source": [
        "**n_estimators validation plot**"
      ],
      "metadata": {
        "id": "EktIi3k-qqpA"
      },
      "id": "EktIi3k-qqpA"
    },
    {
      "cell_type": "code",
      "source": [
        "from sklearn.ensemble import RandomForestClassifier\n",
        "from sklearn.metrics import accuracy_score\n",
        "scores= []\n",
        "for k in range(1,200):\n",
        "\trfc_val=RandomForestClassifier (n_estimators=k)\n",
        "\trfc_val.fit(X_train, y_train)\n",
        "\ty_pred = rfc_val.predict(X_test)\n",
        "\tscores.append (accuracy_score(y_test, y_pred))\n",
        "import matplotlib.pyplot as plt\n",
        "plt.figure(figsize=(13,10))\n",
        "plt.plot(range(1,200),scores)\n",
        "plt.xlabel ('Value of n_estimators for Random Forest Classifier')\n",
        "plt.ylabel('Testing Accuracy')"
      ],
      "metadata": {
        "colab": {
          "base_uri": "https://localhost:8080/",
          "height": 623
        },
        "id": "Obv37jNPqpjg",
        "outputId": "59bc0562-2212-41ab-fde5-efe6ead2d46f"
      },
      "id": "Obv37jNPqpjg",
      "execution_count": null,
      "outputs": [
        {
          "output_type": "execute_result",
          "data": {
            "text/plain": [
              "Text(0, 0.5, 'Testing Accuracy')"
            ]
          },
          "metadata": {},
          "execution_count": 70
        },
        {
          "output_type": "display_data",
          "data": {
            "text/plain": [
              "<Figure size 936x720 with 1 Axes>"
            ],
            "image/png": "[encoded data removed]"
          },
          "metadata": {
            "needs_background": "light"
          }
        }
      ]
    },
    {
      "cell_type": "markdown",
      "id": "10d883c4",
      "metadata": {
        "id": "10d883c4"
      },
      "source": [
        "# Optimization of Random Forest Algorithm"
      ]
    },
    {
      "cell_type": "markdown",
      "id": "891d0cc6",
      "metadata": {
        "id": "891d0cc6"
      },
      "source": [
        "# Tuning Random Forest using Randomized Search CV"
      ]
    },
    {
      "cell_type": "code",
      "execution_count": null,
      "id": "fb9777cb",
      "metadata": {
        "id": "fb9777cb"
      },
      "outputs": [],
      "source": [
        "# Randomized: https://scikit-learn.org/stable/modules/generated/sklearn.model_selection.RandomizedSearchCV.html\n",
        "# Grid Search: https://scikit-learn.org/stable/modules/generated/sklearn.model_selection.GridSearchCV.html"
      ]
    },
    {
      "cell_type": "code",
      "execution_count": null,
      "id": "9ca06f5b",
      "metadata": {
        "id": "9ca06f5b"
      },
      "outputs": [],
      "source": [
        "from sklearn.model_selection import RandomizedSearchCV"
      ]
    },
    {
      "cell_type": "markdown",
      "source": [
        "**Parameters Tuning**"
      ],
      "metadata": {
        "id": "15VKb6qGGaW6"
      },
      "id": "15VKb6qGGaW6"
    },
    {
      "cell_type": "code",
      "execution_count": null,
      "id": "5a6112f2",
      "metadata": {
        "id": "5a6112f2",
        "outputId": "e3061be5-ebd2-4c96-b9f2-8b7a67231b10",
        "colab": {
          "base_uri": "https://localhost:8080/"
        }
      },
      "outputs": [
        {
          "output_type": "execute_result",
          "data": {
            "text/plain": [
              "[15,\n",
              " 24,\n",
              " 34,\n",
              " 44,\n",
              " 53,\n",
              " 63,\n",
              " 73,\n",
              " 83,\n",
              " 92,\n",
              " 102,\n",
              " 112,\n",
              " 122,\n",
              " 131,\n",
              " 141,\n",
              " 151,\n",
              " 161,\n",
              " 170,\n",
              " 180,\n",
              " 190,\n",
              " 200]"
            ]
          },
          "metadata": {},
          "execution_count": 48
        }
      ],
      "source": [
        "n_estimators = [int(X) for X in np.linspace(start=15, stop=200, num=20)]\n",
        "n_estimators"
      ]
    },
    {
      "cell_type": "code",
      "execution_count": null,
      "id": "ce6421d2",
      "metadata": {
        "id": "ce6421d2",
        "outputId": "1bae095b-e443-4056-ce55-a3f0c4c60fb8",
        "colab": {
          "base_uri": "https://localhost:8080/"
        }
      },
      "outputs": [
        {
          "output_type": "execute_result",
          "data": {
            "text/plain": [
              "15"
            ]
          },
          "metadata": {},
          "execution_count": 49
        }
      ],
      "source": [
        "min_samples_split = np.random.randint(1,12,15)\n",
        "len(min_samples_split)"
      ]
    },
    {
      "cell_type": "code",
      "execution_count": null,
      "id": "f3185b29",
      "metadata": {
        "id": "f3185b29",
        "colab": {
          "base_uri": "https://localhost:8080/"
        },
        "outputId": "5fea6057-b8b9-4966-c179-f6a46fe77e71"
      },
      "outputs": [
        {
          "output_type": "execute_result",
          "data": {
            "text/plain": [
              "array([ 64,  97,  63, 125,  88, 147, 108, 110, 140, 124,  89, 149, 100,\n",
              "       129, 105, 140,  48, 115,  48,  87,  96,  80,  95, 103,  49,  77,\n",
              "        60, 100, 126, 136])"
            ]
          },
          "metadata": {},
          "execution_count": 50
        }
      ],
      "source": [
        "n_estimators = np.random.randint(15,150,30)\n",
        "n_estimators"
      ]
    },
    {
      "cell_type": "code",
      "execution_count": null,
      "id": "48ade3bd",
      "metadata": {
        "id": "48ade3bd"
      },
      "outputs": [],
      "source": [
        "#Assign Parameters\n",
        "n_estimators = np.random.randint(15,200,40)\n",
        "criterion = ['gini', 'entropy']\n",
        "max_features = ['auto', 'sqrt', 'log2']\n",
        "max_depth = np.random.randint(1,10,20)\n",
        "min_samples_split = np.random.randint(1,10,15) #[1,2,3,4]\n",
        "min_samples_leaf= np.random.randint(1,4,15)  #[ 1,2,3,4]\n",
        "\n",
        "parameters = {\n",
        "    'n_estimators'  : n_estimators,\n",
        "    'criterion' : criterion,\n",
        "    'max_features': max_features,\n",
        "    'max_depth' : max_depth,\n",
        "    'min_samples_split' : min_samples_split,\n",
        "    'min_samples_leaf': min_samples_leaf\n",
        "}\n"
      ]
    },
    {
      "cell_type": "code",
      "execution_count": null,
      "id": "bf6fbd9c",
      "metadata": {
        "id": "bf6fbd9c",
        "outputId": "50e377bb-dd75-4239-fc8a-7f3c68e77934",
        "colab": {
          "base_uri": "https://localhost:8080/"
        }
      },
      "outputs": [
        {
          "output_type": "stream",
          "name": "stdout",
          "text": [
            "{'n_estimators': array([140,  72, 106, 173, 168, 125,  91, 160,  55,  19,  97, 179,  86,\n",
            "        61, 132,  78, 162, 108,  67,  86, 195,  63, 142, 195, 117,  80,\n",
            "        56, 198,  63, 127, 163, 191,  98, 151,  49,  21, 175, 145,  93,\n",
            "        71]), 'criterion': ['gini', 'entropy'], 'max_features': ['auto', 'sqrt', 'log2'], 'max_depth': array([8, 5, 8, 5, 3, 5, 7, 3, 9, 2, 4, 4, 7, 6, 3, 5, 4, 8, 4, 9]), 'min_samples_split': array([6, 5, 5, 1, 4, 6, 7, 5, 9, 6, 9, 2, 2, 9, 8]), 'min_samples_leaf': array([2, 3, 1, 2, 3, 2, 1, 1, 1, 1, 2, 1, 2, 1, 2])}\n"
          ]
        }
      ],
      "source": [
        "print(parameters)"
      ]
    },
    {
      "cell_type": "code",
      "execution_count": null,
      "id": "724251c9",
      "metadata": {
        "id": "724251c9"
      },
      "outputs": [],
      "source": [
        "random_forest = RandomForestClassifier()"
      ]
    },
    {
      "cell_type": "code",
      "execution_count": null,
      "id": "ddef77be",
      "metadata": {
        "id": "ddef77be"
      },
      "outputs": [],
      "source": [
        "r = RandomizedSearchCV(random_forest , parameters, n_iter = 300, cv = 3) #cv = cross validation , clf=RandomForestClassifier()"
      ]
    },
    {
      "cell_type": "code",
      "execution_count": null,
      "id": "e53e0038",
      "metadata": {
        "id": "e53e0038",
        "outputId": "f4807eda-bbc1-48eb-e6e2-b1ecb31d9ba9",
        "colab": {
          "base_uri": "https://localhost:8080/"
        }
      },
      "outputs": [
        {
          "output_type": "execute_result",
          "data": {
            "text/plain": [
              "RandomizedSearchCV(cv=3, estimator=RandomForestClassifier(), n_iter=300,\n",
              "                   param_distributions={'criterion': ['gini', 'entropy'],\n",
              "                                        'max_depth': array([8, 5, 8, 5, 3, 5, 7, 3, 9, 2, 4, 4, 7, 6, 3, 5, 4, 8, 4, 9]),\n",
              "                                        'max_features': ['auto', 'sqrt',\n",
              "                                                         'log2'],\n",
              "                                        'min_samples_leaf': array([2, 3, 1, 2, 3, 2, 1, 1, 1, 1, 2, 1, 2, 1, 2]),\n",
              "                                        'min_samples_split': array([6, 5, 5, 1, 4, 6, 7, 5, 9, 6, 9, 2, 2, 9, 8]),\n",
              "                                        'n_estimators': array([140,  72, 106, 173, 168, 125,  91, 160,  55,  19,  97, 179,  86,\n",
              "        61, 132,  78, 162, 108,  67,  86, 195,  63, 142, 195, 117,  80,\n",
              "        56, 198,  63, 127, 163, 191,  98, 151,  49,  21, 175, 145,  93,\n",
              "        71])})"
            ]
          },
          "metadata": {},
          "execution_count": 383
        }
      ],
      "source": [
        "import warnings\n",
        "warnings.filterwarnings('ignore')\n",
        "r.fit(X_train, y_train)"
      ]
    },
    {
      "cell_type": "code",
      "execution_count": null,
      "id": "9dafb98e",
      "metadata": {
        "id": "9dafb98e"
      },
      "outputs": [],
      "source": [
        "r.cv_results_"
      ]
    },
    {
      "cell_type": "code",
      "execution_count": null,
      "id": "d96d5fe2",
      "metadata": {
        "id": "d96d5fe2"
      },
      "outputs": [],
      "source": [
        "result = pd.DataFrame(r.cv_results_)"
      ]
    },
    {
      "cell_type": "code",
      "execution_count": null,
      "id": "487f8735",
      "metadata": {
        "id": "487f8735",
        "outputId": "ce18e31d-b327-4e79-a770-40c43764b67d",
        "colab": {
          "base_uri": "https://localhost:8080/",
          "height": 496
        }
      },
      "outputs": [
        {
          "output_type": "execute_result",
          "data": {
            "text/plain": [
              "   mean_fit_time  std_fit_time  mean_score_time  std_score_time  \\\n",
              "0       0.156231      0.004593         0.014499        0.000153   \n",
              "1       0.227330      0.008891         0.021022        0.003028   \n",
              "2       0.188182      0.006686         0.017451        0.001316   \n",
              "3       0.096131      0.006788         0.009661        0.000343   \n",
              "4       0.103991      0.003124         0.010429        0.000308   \n",
              "\n",
              "  param_n_estimators param_min_samples_split param_min_samples_leaf  \\\n",
              "0                108                       5                      2   \n",
              "1                145                       4                      1   \n",
              "2                127                       6                      1   \n",
              "3                 63                       6                      2   \n",
              "4                 71                       6                      3   \n",
              "\n",
              "  param_max_features param_max_depth param_criterion  \\\n",
              "0               sqrt               9            gini   \n",
              "1               log2               7            gini   \n",
              "2               auto               3            gini   \n",
              "3               sqrt               5         entropy   \n",
              "4               sqrt               4            gini   \n",
              "\n",
              "                                              params  split0_test_score  \\\n",
              "0  {'n_estimators': 108, 'min_samples_split': 5, ...           0.828571   \n",
              "1  {'n_estimators': 145, 'min_samples_split': 4, ...           0.785714   \n",
              "2  {'n_estimators': 127, 'min_samples_split': 6, ...           0.828571   \n",
              "3  {'n_estimators': 63, 'min_samples_split': 6, '...           0.828571   \n",
              "4  {'n_estimators': 71, 'min_samples_split': 6, '...           0.814286   \n",
              "\n",
              "   split1_test_score  split2_test_score  mean_test_score  std_test_score  \\\n",
              "0           0.942857           0.869565         0.880331        0.047274   \n",
              "1           0.942857           0.855072         0.861215        0.064300   \n",
              "2           0.942857           0.855072         0.875500        0.048842   \n",
              "3           0.928571           0.826087         0.861077        0.047737   \n",
              "4           0.957143           0.855072         0.875500        0.060083   \n",
              "\n",
              "   rank_test_score  \n",
              "0               39  \n",
              "1              216  \n",
              "2               96  \n",
              "3              233  \n",
              "4               96  "
            ],
            "text/html": [
              "\n",
              "  <div id=\"df-01d6eeae-1ba2-4ca1-a7b5-eff0544feb8b\">\n",
              "    <div class=\"colab-df-container\">\n",
              "      <div>\n",
              "<style scoped>\n",
              "    .dataframe tbody tr th:only-of-type {\n",
              "        vertical-align: middle;\n",
              "    }\n",
              "\n",
              "    .dataframe tbody tr th {\n",
              "        vertical-align: top;\n",
              "    }\n",
              "\n",
              "    .dataframe thead th {\n",
              "        text-align: right;\n",
              "    }\n",
              "</style>\n",
              "<table border=\"1\" class=\"dataframe\">\n",
              "  <thead>\n",
              "    <tr style=\"text-align: right;\">\n",
              "      <th></th>\n",
              "      <th>mean_fit_time</th>\n",
              "      <th>std_fit_time</th>\n",
              "      <th>mean_score_time</th>\n",
              "      <th>std_score_time</th>\n",
              "      <th>param_n_estimators</th>\n",
              "      <th>param_min_samples_split</th>\n",
              "      <th>param_min_samples_leaf</th>\n",
              "      <th>param_max_features</th>\n",
              "      <th>param_max_depth</th>\n",
              "      <th>param_criterion</th>\n",
              "      <th>params</th>\n",
              "      <th>split0_test_score</th>\n",
              "      <th>split1_test_score</th>\n",
              "      <th>split2_test_score</th>\n",
              "      <th>mean_test_score</th>\n",
              "      <th>std_test_score</th>\n",
              "      <th>rank_test_score</th>\n",
              "    </tr>\n",
              "  </thead>\n",
              "  <tbody>\n",
              "    <tr>\n",
              "      <th>0</th>\n",
              "      <td>0.156231</td>\n",
              "      <td>0.004593</td>\n",
              "      <td>0.014499</td>\n",
              "      <td>0.000153</td>\n",
              "      <td>108</td>\n",
              "      <td>5</td>\n",
              "      <td>2</td>\n",
              "      <td>sqrt</td>\n",
              "      <td>9</td>\n",
              "      <td>gini</td>\n",
              "      <td>{'n_estimators': 108, 'min_samples_split': 5, ...</td>\n",
              "      <td>0.828571</td>\n",
              "      <td>0.942857</td>\n",
              "      <td>0.869565</td>\n",
              "      <td>0.880331</td>\n",
              "      <td>0.047274</td>\n",
              "      <td>39</td>\n",
              "    </tr>\n",
              "    <tr>\n",
              "      <th>1</th>\n",
              "      <td>0.227330</td>\n",
              "      <td>0.008891</td>\n",
              "      <td>0.021022</td>\n",
              "      <td>0.003028</td>\n",
              "      <td>145</td>\n",
              "      <td>4</td>\n",
              "      <td>1</td>\n",
              "      <td>log2</td>\n",
              "      <td>7</td>\n",
              "      <td>gini</td>\n",
              "      <td>{'n_estimators': 145, 'min_samples_split': 4, ...</td>\n",
              "      <td>0.785714</td>\n",
              "      <td>0.942857</td>\n",
              "      <td>0.855072</td>\n",
              "      <td>0.861215</td>\n",
              "      <td>0.064300</td>\n",
              "      <td>216</td>\n",
              "    </tr>\n",
              "    <tr>\n",
              "      <th>2</th>\n",
              "      <td>0.188182</td>\n",
              "      <td>0.006686</td>\n",
              "      <td>0.017451</td>\n",
              "      <td>0.001316</td>\n",
              "      <td>127</td>\n",
              "      <td>6</td>\n",
              "      <td>1</td>\n",
              "      <td>auto</td>\n",
              "      <td>3</td>\n",
              "      <td>gini</td>\n",
              "      <td>{'n_estimators': 127, 'min_samples_split': 6, ...</td>\n",
              "      <td>0.828571</td>\n",
              "      <td>0.942857</td>\n",
              "      <td>0.855072</td>\n",
              "      <td>0.875500</td>\n",
              "      <td>0.048842</td>\n",
              "      <td>96</td>\n",
              "    </tr>\n",
              "    <tr>\n",
              "      <th>3</th>\n",
              "      <td>0.096131</td>\n",
              "      <td>0.006788</td>\n",
              "      <td>0.009661</td>\n",
              "      <td>0.000343</td>\n",
              "      <td>63</td>\n",
              "      <td>6</td>\n",
              "      <td>2</td>\n",
              "      <td>sqrt</td>\n",
              "      <td>5</td>\n",
              "      <td>entropy</td>\n",
              "      <td>{'n_estimators': 63, 'min_samples_split': 6, '...</td>\n",
              "      <td>0.828571</td>\n",
              "      <td>0.928571</td>\n",
              "      <td>0.826087</td>\n",
              "      <td>0.861077</td>\n",
              "      <td>0.047737</td>\n",
              "      <td>233</td>\n",
              "    </tr>\n",
              "    <tr>\n",
              "      <th>4</th>\n",
              "      <td>0.103991</td>\n",
              "      <td>0.003124</td>\n",
              "      <td>0.010429</td>\n",
              "      <td>0.000308</td>\n",
              "      <td>71</td>\n",
              "      <td>6</td>\n",
              "      <td>3</td>\n",
              "      <td>sqrt</td>\n",
              "      <td>4</td>\n",
              "      <td>gini</td>\n",
              "      <td>{'n_estimators': 71, 'min_samples_split': 6, '...</td>\n",
              "      <td>0.814286</td>\n",
              "      <td>0.957143</td>\n",
              "      <td>0.855072</td>\n",
              "      <td>0.875500</td>\n",
              "      <td>0.060083</td>\n",
              "      <td>96</td>\n",
              "    </tr>\n",
              "  </tbody>\n",
              "</table>\n",
              "</div>\n",
              "      <button class=\"colab-df-convert\" onclick=\"convertToInteractive('df-01d6eeae-1ba2-4ca1-a7b5-eff0544feb8b')\"\n",
              "              title=\"Convert this dataframe to an interactive table.\"\n",
              "              style=\"display:none;\">\n",
              "        \n",
              "  <svg xmlns=\"http://www.w3.org/2000/svg\" height=\"24px\"viewBox=\"0 0 24 24\"\n",
              "       width=\"24px\">\n",
              "    <path d=\"M0 0h24v24H0V0z\" fill=\"none\"/>\n",
              "    <path d=\"M18.56 5.44l.94 2.06.94-2.06 2.06-.94-2.06-.94-.94-2.06-.94 2.06-2.06.94zm-11 1L8.5 8.5l.94-2.06 2.06-.94-2.06-.94L8.5 2.5l-.94 2.06-2.06.94zm10 10l.94 2.06.94-2.06 2.06-.94-2.06-.94-.94-2.06-.94 2.06-2.06.94z\"/><path d=\"M17.41 7.96l-1.37-1.37c-.4-.4-.92-.59-1.43-.59-.52 0-1.04.2-1.43.59L10.3 9.45l-7.72 7.72c-.78.78-.78 2.05 0 2.83L4 21.41c.39.39.9.59 1.41.59.51 0 1.02-.2 1.41-.59l7.78-7.78 2.81-2.81c.8-.78.8-2.07 0-2.86zM5.41 20L4 18.59l7.72-7.72 1.47 1.35L5.41 20z\"/>\n",
              "  </svg>\n",
              "      </button>\n",
              "      \n",
              "  <style>\n",
              "    .colab-df-container {\n",
              "      display:flex;\n",
              "      flex-wrap:wrap;\n",
              "      gap: 12px;\n",
              "    }\n",
              "\n",
              "    .colab-df-convert {\n",
              "      background-color: #E8F0FE;\n",
              "      border: none;\n",
              "      border-radius: 50%;\n",
              "      cursor: pointer;\n",
              "      display: none;\n",
              "      fill: #1967D2;\n",
              "      height: 32px;\n",
              "      padding: 0 0 0 0;\n",
              "      width: 32px;\n",
              "    }\n",
              "\n",
              "    .colab-df-convert:hover {\n",
              "      background-color: #E2EBFA;\n",
              "      box-shadow: 0px 1px 2px rgba(60, 64, 67, 0.3), 0px 1px 3px 1px rgba(60, 64, 67, 0.15);\n",
              "      fill: #174EA6;\n",
              "    }\n",
              "\n",
              "    [theme=dark] .colab-df-convert {\n",
              "      background-color: #3B4455;\n",
              "      fill: #D2E3FC;\n",
              "    }\n",
              "\n",
              "    [theme=dark] .colab-df-convert:hover {\n",
              "      background-color: #434B5C;\n",
              "      box-shadow: 0px 1px 3px 1px rgba(0, 0, 0, 0.15);\n",
              "      filter: drop-shadow(0px 1px 2px rgba(0, 0, 0, 0.3));\n",
              "      fill: #FFFFFF;\n",
              "    }\n",
              "  </style>\n",
              "\n",
              "      <script>\n",
              "        const buttonEl =\n",
              "          document.querySelector('#df-01d6eeae-1ba2-4ca1-a7b5-eff0544feb8b button.colab-df-convert');\n",
              "        buttonEl.style.display =\n",
              "          google.colab.kernel.accessAllowed ? 'block' : 'none';\n",
              "\n",
              "        async function convertToInteractive(key) {\n",
              "          const element = document.querySelector('#df-01d6eeae-1ba2-4ca1-a7b5-eff0544feb8b');\n",
              "          const dataTable =\n",
              "            await google.colab.kernel.invokeFunction('convertToInteractive',\n",
              "                                                     [key], {});\n",
              "          if (!dataTable) return;\n",
              "\n",
              "          const docLinkHtml = 'Like what you see? Visit the ' +\n",
              "            '<a target=\"_blank\" href=https://colab.research.google.com/notebooks/data_table.ipynb>data table notebook</a>'\n",
              "            + ' to learn more about interactive tables.';\n",
              "          element.innerHTML = '';\n",
              "          dataTable['output_type'] = 'display_data';\n",
              "          await google.colab.output.renderOutput(dataTable, element);\n",
              "          const docLink = document.createElement('div');\n",
              "          docLink.innerHTML = docLinkHtml;\n",
              "          element.appendChild(docLink);\n",
              "        }\n",
              "      </script>\n",
              "    </div>\n",
              "  </div>\n",
              "  "
            ]
          },
          "metadata": {},
          "execution_count": 386
        }
      ],
      "source": [
        "result.head(5)"
      ]
    },
    {
      "cell_type": "code",
      "execution_count": null,
      "id": "e6ecd4df",
      "metadata": {
        "id": "e6ecd4df",
        "outputId": "243fc10f-6c45-46cf-c578-ed7ceaba3125",
        "colab": {
          "base_uri": "https://localhost:8080/"
        }
      },
      "outputs": [
        {
          "output_type": "execute_result",
          "data": {
            "text/plain": [
              "0.8946859903381643"
            ]
          },
          "metadata": {},
          "execution_count": 387
        }
      ],
      "source": [
        "r.best_score_"
      ]
    },
    {
      "cell_type": "code",
      "execution_count": null,
      "id": "531591d2",
      "metadata": {
        "id": "531591d2"
      },
      "outputs": [],
      "source": [
        "new_r = r.best_estimator_"
      ]
    },
    {
      "cell_type": "code",
      "execution_count": null,
      "id": "b3f82919",
      "metadata": {
        "id": "b3f82919",
        "outputId": "fc483d33-b3a8-4cfd-a1e9-87315f623420",
        "colab": {
          "base_uri": "https://localhost:8080/"
        }
      },
      "outputs": [
        {
          "output_type": "execute_result",
          "data": {
            "text/plain": [
              "RandomForestClassifier(criterion='entropy', max_depth=5, max_features='sqrt',\n",
              "                       min_samples_leaf=2, min_samples_split=6,\n",
              "                       n_estimators=108)"
            ]
          },
          "metadata": {},
          "execution_count": 389
        }
      ],
      "source": [
        "new_r"
      ]
    },
    {
      "cell_type": "code",
      "execution_count": null,
      "id": "d2ea62c2",
      "metadata": {
        "id": "d2ea62c2",
        "outputId": "0509d030-af5d-4b34-9ddc-917d932d6138",
        "colab": {
          "base_uri": "https://localhost:8080/"
        }
      },
      "outputs": [
        {
          "output_type": "execute_result",
          "data": {
            "text/plain": [
              "RandomForestClassifier(criterion='entropy', max_depth=5, max_features='sqrt',\n",
              "                       min_samples_leaf=2, min_samples_split=6,\n",
              "                       n_estimators=108)"
            ]
          },
          "metadata": {},
          "execution_count": 390
        }
      ],
      "source": [
        "new_r.fit(X_train, y_train) # RandomForestClassifier(criterion='entropy', max_depth=7, min_samples_split=5,n_estimators=102)"
      ]
    },
    {
      "cell_type": "markdown",
      "source": [
        "**3. Accuracy of Random Forest using RandomizedSearchCV Optimizer**"
      ],
      "metadata": {
        "id": "ZKMdT-ZWf7Pi"
      },
      "id": "ZKMdT-ZWf7Pi"
    },
    {
      "cell_type": "code",
      "execution_count": null,
      "id": "fd2cf0b9",
      "metadata": {
        "id": "fd2cf0b9",
        "outputId": "e1398c1d-f566-4408-f587-800a90a76561",
        "colab": {
          "base_uri": "https://localhost:8080/"
        }
      },
      "outputs": [
        {
          "output_type": "execute_result",
          "data": {
            "text/plain": [
              "0.7666666666666667"
            ]
          },
          "metadata": {},
          "execution_count": 391
        }
      ],
      "source": [
        "new_r.score(X_test, y_test)"
      ]
    },
    {
      "cell_type": "markdown",
      "id": "481fbf7f",
      "metadata": {
        "id": "481fbf7f"
      },
      "source": [
        "# Tuning Random Forest using Grid Search CV"
      ]
    },
    {
      "cell_type": "code",
      "execution_count": null,
      "id": "d525dd9e",
      "metadata": {
        "id": "d525dd9e"
      },
      "outputs": [],
      "source": [
        "# https://scikit-learn.org/stable/modules/generated/sklearn.model_selection.GridSearchCV.html"
      ]
    },
    {
      "cell_type": "code",
      "source": [
        "from sklearn.model_selection import GridSearchCV\n"
      ],
      "metadata": {
        "id": "6MJWEV3QyOl2"
      },
      "id": "6MJWEV3QyOl2",
      "execution_count": null,
      "outputs": []
    },
    {
      "cell_type": "markdown",
      "source": [
        "**Parameters Tuning**"
      ],
      "metadata": {
        "id": "yMU6Y11nMb17"
      },
      "id": "yMU6Y11nMb17"
    },
    {
      "cell_type": "code",
      "source": [
        "param_grid = { \n",
        "    'n_estimators': [15, 200, 30],\n",
        "    'max_features': ['auto', 'sqrt', 'log2'],\n",
        "    'max_depth' : [2,3,4,5,6,7],\n",
        "    'criterion' :['gini', 'entropy']\n",
        "}"
      ],
      "metadata": {
        "id": "L4EUpZAIyrV5"
      },
      "id": "L4EUpZAIyrV5",
      "execution_count": 93,
      "outputs": []
    },
    {
      "cell_type": "code",
      "source": [
        "print(param_grid)"
      ],
      "metadata": {
        "colab": {
          "base_uri": "https://localhost:8080/"
        },
        "id": "v6cqkVabWsIC",
        "outputId": "97fec32c-6e4f-4365-f18b-e5196e6a31d6"
      },
      "id": "v6cqkVabWsIC",
      "execution_count": 94,
      "outputs": [
        {
          "output_type": "stream",
          "name": "stdout",
          "text": [
            "{'n_estimators': [15, 200, 30], 'max_features': ['auto', 'sqrt', 'log2'], 'max_depth': [2, 3, 4, 5, 6, 7], 'criterion': ['gini', 'entropy']}\n"
          ]
        }
      ]
    },
    {
      "cell_type": "code",
      "source": [
        "random_forest_01 = RandomForestClassifier()\n",
        "random_forest_01"
      ],
      "metadata": {
        "colab": {
          "base_uri": "https://localhost:8080/"
        },
        "id": "SAbgz24-W629",
        "outputId": "199b629a-0733-45b9-f92b-90a04748480f"
      },
      "id": "SAbgz24-W629",
      "execution_count": 95,
      "outputs": [
        {
          "output_type": "execute_result",
          "data": {
            "text/plain": [
              "RandomForestClassifier()"
            ]
          },
          "metadata": {},
          "execution_count": 95
        }
      ]
    },
    {
      "cell_type": "code",
      "source": [
        "r_02 = GridSearchCV(random_forest_01, param_grid, cv = 3)\n",
        "r_02"
      ],
      "metadata": {
        "colab": {
          "base_uri": "https://localhost:8080/"
        },
        "id": "4PD_p1BmXUbn",
        "outputId": "978c01be-41a7-4988-f64e-deef7e1b8661"
      },
      "id": "4PD_p1BmXUbn",
      "execution_count": 96,
      "outputs": [
        {
          "output_type": "execute_result",
          "data": {
            "text/plain": [
              "GridSearchCV(cv=3, estimator=RandomForestClassifier(),\n",
              "             param_grid={'criterion': ['gini', 'entropy'],\n",
              "                         'max_depth': [2, 3, 4, 5, 6, 7],\n",
              "                         'max_features': ['auto', 'sqrt', 'log2'],\n",
              "                         'n_estimators': [15, 200, 30]})"
            ]
          },
          "metadata": {},
          "execution_count": 96
        }
      ]
    },
    {
      "cell_type": "code",
      "source": [
        "import warnings\n",
        "warnings.filterwarnings('ignore')\n",
        "r_02.fit(X_train, y_train)"
      ],
      "metadata": {
        "colab": {
          "base_uri": "https://localhost:8080/"
        },
        "id": "r2-XK1WraAxq",
        "outputId": "0eca882c-2a16-435c-f539-8b28a18dacf1"
      },
      "id": "r2-XK1WraAxq",
      "execution_count": 97,
      "outputs": [
        {
          "output_type": "execute_result",
          "data": {
            "text/plain": [
              "GridSearchCV(cv=3, estimator=RandomForestClassifier(),\n",
              "             param_grid={'criterion': ['gini', 'entropy'],\n",
              "                         'max_depth': [2, 3, 4, 5, 6, 7],\n",
              "                         'max_features': ['auto', 'sqrt', 'log2'],\n",
              "                         'n_estimators': [15, 200, 30]})"
            ]
          },
          "metadata": {},
          "execution_count": 97
        }
      ]
    },
    {
      "cell_type": "code",
      "source": [
        "print(r_02.cv_results_)"
      ],
      "metadata": {
        "id": "4zjWKjLbbxOc",
        "colab": {
          "base_uri": "https://localhost:8080/"
        },
        "outputId": "e2ff1864-65c3-4ac5-845f-a5f88e06611b"
      },
      "id": "4zjWKjLbbxOc",
      "execution_count": 98,
      "outputs": [
        {
          "output_type": "stream",
          "name": "stdout",
          "text": [
            "{'mean_fit_time': array([0.02831086, 0.26934155, 0.0433898 , 0.02412717, 0.26943413,\n",
            "       0.04262408, 0.0225366 , 0.27281896, 0.04285757, 0.02305118,\n",
            "       0.27994466, 0.04399935, 0.02590362, 0.27661673, 0.04416823,\n",
            "       0.02351769, 0.27665591, 0.04419033, 0.02516039, 0.28394047,\n",
            "       0.04832586, 0.02512852, 0.28355153, 0.04315074, 0.02398841,\n",
            "       0.28756173, 0.04470833, 0.02402035, 0.27728701, 0.04464897,\n",
            "       0.02444911, 0.28337065, 0.04443463, 0.02294707, 0.28360923,\n",
            "       0.04332121, 0.02372805, 0.2842679 , 0.04472256, 0.02831229,\n",
            "       0.27883108, 0.04711278, 0.02437298, 0.28169354, 0.043329  ,\n",
            "       0.02459701, 0.27562912, 0.04494635, 0.02388136, 0.27947903,\n",
            "       0.04533203, 0.02329818, 0.28017958, 0.0454274 , 0.02275292,\n",
            "       0.27733517, 0.04349629, 0.0244592 , 0.27193077, 0.04506874,\n",
            "       0.02273591, 0.27136238, 0.04521918, 0.02623359, 0.28370738,\n",
            "       0.04927619, 0.02471534, 0.29025451, 0.04537026, 0.02321529,\n",
            "       0.27911162, 0.04441961, 0.02329405, 0.28338734, 0.04419295,\n",
            "       0.02618599, 0.28294667, 0.04520822, 0.02703961, 0.28587023,\n",
            "       0.04379765, 0.02486523, 0.28702315, 0.04762038, 0.02384456,\n",
            "       0.28615801, 0.04628833, 0.02361345, 0.28786214, 0.04544417,\n",
            "       0.02424558, 0.28911805, 0.04686403, 0.02435231, 0.28768746,\n",
            "       0.04594636, 0.0244813 , 0.28907712, 0.04699858, 0.02441827,\n",
            "       0.28920722, 0.04654415, 0.02682074, 0.29131619, 0.04505348,\n",
            "       0.02400255, 0.29472017, 0.04737043]), 'std_fit_time': array([7.00289596e-03, 8.12481681e-03, 1.15824533e-03, 1.89168285e-03,\n",
            "       4.28905614e-03, 2.05552154e-04, 3.52706443e-04, 4.26153921e-03,\n",
            "       8.71555116e-04, 4.16119332e-04, 9.66277130e-03, 1.90024905e-03,\n",
            "       4.43516681e-03, 5.34890097e-04, 3.62741312e-04, 9.88762471e-05,\n",
            "       4.73044991e-03, 7.65945561e-04, 2.27584891e-03, 6.10822041e-03,\n",
            "       3.51007271e-03, 1.24621762e-03, 8.46009480e-03, 2.90385760e-04,\n",
            "       6.18529798e-04, 1.01569083e-02, 1.19972081e-03, 8.84233223e-04,\n",
            "       6.14545132e-03, 7.84994522e-04, 1.34466668e-03, 8.95882836e-03,\n",
            "       1.69430494e-03, 4.21508944e-05, 7.10832357e-03, 2.52282484e-04,\n",
            "       5.64753590e-04, 5.23892614e-03, 8.04275761e-04, 3.32843956e-03,\n",
            "       1.54195063e-03, 4.70526874e-03, 2.17966601e-04, 3.84118939e-03,\n",
            "       1.86738324e-04, 2.08037138e-03, 7.02297588e-03, 1.51284218e-03,\n",
            "       4.96483143e-04, 1.55575496e-03, 5.64524997e-04, 6.20884991e-05,\n",
            "       6.38434110e-03, 1.00698450e-03, 1.80142272e-04, 5.70928679e-03,\n",
            "       7.53324147e-04, 2.74747547e-03, 2.93022025e-03, 2.90295582e-03,\n",
            "       3.16307473e-04, 2.38744669e-03, 2.81853170e-03, 3.72564488e-03,\n",
            "       4.09536806e-03, 3.51375741e-03, 5.40222211e-04, 4.45134207e-03,\n",
            "       4.29895489e-04, 1.56244895e-04, 6.39794680e-03, 1.73703433e-03,\n",
            "       1.42445385e-04, 3.67397286e-03, 3.67304454e-04, 1.66028852e-03,\n",
            "       6.60311678e-03, 1.12463003e-03, 3.55058799e-03, 3.61468745e-03,\n",
            "       2.03299373e-04, 1.03733627e-03, 5.87907806e-03, 2.01124418e-03,\n",
            "       1.42994092e-04, 2.66638087e-03, 1.78676024e-03, 1.46165303e-04,\n",
            "       4.68962667e-03, 9.41956803e-04, 3.68663709e-04, 3.63345090e-03,\n",
            "       2.73568799e-03, 4.86158965e-04, 4.29273493e-03, 5.83401673e-04,\n",
            "       1.02259099e-03, 3.53735915e-03, 1.04497913e-03, 2.56355253e-04,\n",
            "       4.75380487e-03, 1.86081338e-03, 3.68334274e-03, 3.34712532e-03,\n",
            "       2.62016703e-04, 2.50515724e-04, 2.65231267e-03, 2.96798211e-03]), 'mean_score_time': array([0.00421532, 0.0228765 , 0.00563375, 0.00428629, 0.02447351,\n",
            "       0.00558845, 0.00399367, 0.02341906, 0.00571307, 0.0041345 ,\n",
            "       0.0236721 , 0.00547568, 0.00416025, 0.02524821, 0.00590364,\n",
            "       0.00453917, 0.02701163, 0.00564019, 0.00495108, 0.02379171,\n",
            "       0.00564718, 0.00423368, 0.02444569, 0.00563447, 0.00427365,\n",
            "       0.02557389, 0.0075144 , 0.00442688, 0.02674262, 0.00591771,\n",
            "       0.00467062, 0.02564994, 0.00582449, 0.00398763, 0.02348399,\n",
            "       0.00604002, 0.00417495, 0.02455314, 0.00677141, 0.00442584,\n",
            "       0.02391235, 0.00583911, 0.00420984, 0.0251232 , 0.00555587,\n",
            "       0.00409826, 0.02483002, 0.00575415, 0.00411336, 0.02847306,\n",
            "       0.00569057, 0.00419664, 0.02640804, 0.00573929, 0.00440431,\n",
            "       0.02298323, 0.00560919, 0.00405995, 0.02472663, 0.00587336,\n",
            "       0.00397348, 0.02478449, 0.0056146 , 0.00405963, 0.02492237,\n",
            "       0.00723251, 0.00421063, 0.02866133, 0.00629799, 0.0039831 ,\n",
            "       0.02352985, 0.00554506, 0.00404088, 0.02635614, 0.00639606,\n",
            "       0.00401314, 0.02342478, 0.00608055, 0.00468914, 0.02515777,\n",
            "       0.0058984 , 0.00402101, 0.02429501, 0.00685946, 0.00399121,\n",
            "       0.02930419, 0.00588846, 0.00404867, 0.02341954, 0.00640249,\n",
            "       0.00410056, 0.02680461, 0.00570114, 0.00427365, 0.02667769,\n",
            "       0.0060451 , 0.0043993 , 0.0237213 , 0.00567508, 0.00449443,\n",
            "       0.02444569, 0.00670314, 0.00411534, 0.02716525, 0.00564766,\n",
            "       0.00403309, 0.02529669, 0.00567516]), 'std_score_time': array([2.16193320e-04, 2.01898825e-04, 1.62494034e-04, 2.46675871e-04,\n",
            "       9.01476261e-04, 4.15739537e-05, 5.71894341e-05, 1.06458724e-03,\n",
            "       2.86557599e-04, 2.31383508e-04, 5.21423704e-04, 7.79978242e-05,\n",
            "       1.71608976e-04, 4.42133925e-04, 1.04974473e-04, 5.01297627e-04,\n",
            "       1.26785773e-03, 1.27980276e-04, 1.23636544e-03, 3.55948976e-04,\n",
            "       4.45611064e-05, 1.30904948e-04, 7.80185456e-04, 1.34591787e-04,\n",
            "       3.35127372e-04, 1.52916054e-03, 9.71819287e-04, 5.69749384e-04,\n",
            "       2.49751003e-03, 3.30704379e-04, 6.19633971e-04, 2.75997107e-03,\n",
            "       3.84016740e-04, 4.08998871e-05, 2.85633485e-04, 7.25319485e-04,\n",
            "       1.12132290e-04, 1.10458670e-03, 1.57182435e-03, 4.58388652e-04,\n",
            "       5.25995923e-04, 1.88282459e-04, 1.17838502e-04, 1.95320638e-03,\n",
            "       1.36642484e-05, 1.20471838e-04, 1.44912316e-03, 8.77553841e-05,\n",
            "       1.06670638e-04, 5.00592669e-03, 3.84768488e-05, 1.26645083e-04,\n",
            "       1.78578286e-03, 9.27153693e-05, 4.84965934e-04, 1.95240637e-04,\n",
            "       5.04397906e-05, 2.92613414e-05, 2.20257110e-03, 5.03771982e-04,\n",
            "       6.05479930e-05, 2.57002255e-03, 1.07351979e-04, 6.01458877e-05,\n",
            "       1.47903912e-03, 9.41968369e-04, 3.84154081e-05, 5.31090966e-03,\n",
            "       7.58735687e-04, 7.75006680e-05, 5.30087144e-04, 3.96307494e-05,\n",
            "       1.15501000e-04, 2.08256007e-03, 6.26958393e-04, 5.07696613e-05,\n",
            "       2.22798672e-04, 5.38862922e-04, 7.92538510e-04, 1.25123879e-03,\n",
            "       3.46447728e-04, 3.18817934e-05, 5.83316682e-04, 1.46363248e-03,\n",
            "       2.31657592e-05, 3.42632748e-03, 3.64190031e-04, 4.98735095e-05,\n",
            "       2.28239052e-04, 9.99542077e-04, 4.87354636e-05, 3.39627984e-03,\n",
            "       3.11543747e-05, 3.21067422e-04, 3.17869115e-03, 4.14089627e-04,\n",
            "       2.89923854e-04, 1.61613839e-04, 7.81208105e-05, 6.97243955e-04,\n",
            "       1.02173850e-03, 1.34217052e-03, 1.12557981e-04, 2.96374511e-03,\n",
            "       7.45151196e-05, 3.25671983e-05, 1.04396493e-03, 1.14657332e-04]), 'param_criterion': masked_array(data=['gini', 'gini', 'gini', 'gini', 'gini', 'gini', 'gini',\n",
            "                   'gini', 'gini', 'gini', 'gini', 'gini', 'gini', 'gini',\n",
            "                   'gini', 'gini', 'gini', 'gini', 'gini', 'gini', 'gini',\n",
            "                   'gini', 'gini', 'gini', 'gini', 'gini', 'gini', 'gini',\n",
            "                   'gini', 'gini', 'gini', 'gini', 'gini', 'gini', 'gini',\n",
            "                   'gini', 'gini', 'gini', 'gini', 'gini', 'gini', 'gini',\n",
            "                   'gini', 'gini', 'gini', 'gini', 'gini', 'gini', 'gini',\n",
            "                   'gini', 'gini', 'gini', 'gini', 'gini', 'entropy',\n",
            "                   'entropy', 'entropy', 'entropy', 'entropy', 'entropy',\n",
            "                   'entropy', 'entropy', 'entropy', 'entropy', 'entropy',\n",
            "                   'entropy', 'entropy', 'entropy', 'entropy', 'entropy',\n",
            "                   'entropy', 'entropy', 'entropy', 'entropy', 'entropy',\n",
            "                   'entropy', 'entropy', 'entropy', 'entropy', 'entropy',\n",
            "                   'entropy', 'entropy', 'entropy', 'entropy', 'entropy',\n",
            "                   'entropy', 'entropy', 'entropy', 'entropy', 'entropy',\n",
            "                   'entropy', 'entropy', 'entropy', 'entropy', 'entropy',\n",
            "                   'entropy', 'entropy', 'entropy', 'entropy', 'entropy',\n",
            "                   'entropy', 'entropy', 'entropy', 'entropy', 'entropy',\n",
            "                   'entropy', 'entropy', 'entropy'],\n",
            "             mask=[False, False, False, False, False, False, False, False,\n",
            "                   False, False, False, False, False, False, False, False,\n",
            "                   False, False, False, False, False, False, False, False,\n",
            "                   False, False, False, False, False, False, False, False,\n",
            "                   False, False, False, False, False, False, False, False,\n",
            "                   False, False, False, False, False, False, False, False,\n",
            "                   False, False, False, False, False, False, False, False,\n",
            "                   False, False, False, False, False, False, False, False,\n",
            "                   False, False, False, False, False, False, False, False,\n",
            "                   False, False, False, False, False, False, False, False,\n",
            "                   False, False, False, False, False, False, False, False,\n",
            "                   False, False, False, False, False, False, False, False,\n",
            "                   False, False, False, False, False, False, False, False,\n",
            "                   False, False, False, False],\n",
            "       fill_value='?',\n",
            "            dtype=object), 'param_max_depth': masked_array(data=[2, 2, 2, 2, 2, 2, 2, 2, 2, 3, 3, 3, 3, 3, 3, 3, 3, 3,\n",
            "                   4, 4, 4, 4, 4, 4, 4, 4, 4, 5, 5, 5, 5, 5, 5, 5, 5, 5,\n",
            "                   6, 6, 6, 6, 6, 6, 6, 6, 6, 7, 7, 7, 7, 7, 7, 7, 7, 7,\n",
            "                   2, 2, 2, 2, 2, 2, 2, 2, 2, 3, 3, 3, 3, 3, 3, 3, 3, 3,\n",
            "                   4, 4, 4, 4, 4, 4, 4, 4, 4, 5, 5, 5, 5, 5, 5, 5, 5, 5,\n",
            "                   6, 6, 6, 6, 6, 6, 6, 6, 6, 7, 7, 7, 7, 7, 7, 7, 7, 7],\n",
            "             mask=[False, False, False, False, False, False, False, False,\n",
            "                   False, False, False, False, False, False, False, False,\n",
            "                   False, False, False, False, False, False, False, False,\n",
            "                   False, False, False, False, False, False, False, False,\n",
            "                   False, False, False, False, False, False, False, False,\n",
            "                   False, False, False, False, False, False, False, False,\n",
            "                   False, False, False, False, False, False, False, False,\n",
            "                   False, False, False, False, False, False, False, False,\n",
            "                   False, False, False, False, False, False, False, False,\n",
            "                   False, False, False, False, False, False, False, False,\n",
            "                   False, False, False, False, False, False, False, False,\n",
            "                   False, False, False, False, False, False, False, False,\n",
            "                   False, False, False, False, False, False, False, False,\n",
            "                   False, False, False, False],\n",
            "       fill_value='?',\n",
            "            dtype=object), 'param_max_features': masked_array(data=['auto', 'auto', 'auto', 'sqrt', 'sqrt', 'sqrt', 'log2',\n",
            "                   'log2', 'log2', 'auto', 'auto', 'auto', 'sqrt', 'sqrt',\n",
            "                   'sqrt', 'log2', 'log2', 'log2', 'auto', 'auto', 'auto',\n",
            "                   'sqrt', 'sqrt', 'sqrt', 'log2', 'log2', 'log2', 'auto',\n",
            "                   'auto', 'auto', 'sqrt', 'sqrt', 'sqrt', 'log2', 'log2',\n",
            "                   'log2', 'auto', 'auto', 'auto', 'sqrt', 'sqrt', 'sqrt',\n",
            "                   'log2', 'log2', 'log2', 'auto', 'auto', 'auto', 'sqrt',\n",
            "                   'sqrt', 'sqrt', 'log2', 'log2', 'log2', 'auto', 'auto',\n",
            "                   'auto', 'sqrt', 'sqrt', 'sqrt', 'log2', 'log2', 'log2',\n",
            "                   'auto', 'auto', 'auto', 'sqrt', 'sqrt', 'sqrt', 'log2',\n",
            "                   'log2', 'log2', 'auto', 'auto', 'auto', 'sqrt', 'sqrt',\n",
            "                   'sqrt', 'log2', 'log2', 'log2', 'auto', 'auto', 'auto',\n",
            "                   'sqrt', 'sqrt', 'sqrt', 'log2', 'log2', 'log2', 'auto',\n",
            "                   'auto', 'auto', 'sqrt', 'sqrt', 'sqrt', 'log2', 'log2',\n",
            "                   'log2', 'auto', 'auto', 'auto', 'sqrt', 'sqrt', 'sqrt',\n",
            "                   'log2', 'log2', 'log2'],\n",
            "             mask=[False, False, False, False, False, False, False, False,\n",
            "                   False, False, False, False, False, False, False, False,\n",
            "                   False, False, False, False, False, False, False, False,\n",
            "                   False, False, False, False, False, False, False, False,\n",
            "                   False, False, False, False, False, False, False, False,\n",
            "                   False, False, False, False, False, False, False, False,\n",
            "                   False, False, False, False, False, False, False, False,\n",
            "                   False, False, False, False, False, False, False, False,\n",
            "                   False, False, False, False, False, False, False, False,\n",
            "                   False, False, False, False, False, False, False, False,\n",
            "                   False, False, False, False, False, False, False, False,\n",
            "                   False, False, False, False, False, False, False, False,\n",
            "                   False, False, False, False, False, False, False, False,\n",
            "                   False, False, False, False],\n",
            "       fill_value='?',\n",
            "            dtype=object), 'param_n_estimators': masked_array(data=[15, 200, 30, 15, 200, 30, 15, 200, 30, 15, 200, 30, 15,\n",
            "                   200, 30, 15, 200, 30, 15, 200, 30, 15, 200, 30, 15,\n",
            "                   200, 30, 15, 200, 30, 15, 200, 30, 15, 200, 30, 15,\n",
            "                   200, 30, 15, 200, 30, 15, 200, 30, 15, 200, 30, 15,\n",
            "                   200, 30, 15, 200, 30, 15, 200, 30, 15, 200, 30, 15,\n",
            "                   200, 30, 15, 200, 30, 15, 200, 30, 15, 200, 30, 15,\n",
            "                   200, 30, 15, 200, 30, 15, 200, 30, 15, 200, 30, 15,\n",
            "                   200, 30, 15, 200, 30, 15, 200, 30, 15, 200, 30, 15,\n",
            "                   200, 30, 15, 200, 30, 15, 200, 30, 15, 200, 30],\n",
            "             mask=[False, False, False, False, False, False, False, False,\n",
            "                   False, False, False, False, False, False, False, False,\n",
            "                   False, False, False, False, False, False, False, False,\n",
            "                   False, False, False, False, False, False, False, False,\n",
            "                   False, False, False, False, False, False, False, False,\n",
            "                   False, False, False, False, False, False, False, False,\n",
            "                   False, False, False, False, False, False, False, False,\n",
            "                   False, False, False, False, False, False, False, False,\n",
            "                   False, False, False, False, False, False, False, False,\n",
            "                   False, False, False, False, False, False, False, False,\n",
            "                   False, False, False, False, False, False, False, False,\n",
            "                   False, False, False, False, False, False, False, False,\n",
            "                   False, False, False, False, False, False, False, False,\n",
            "                   False, False, False, False],\n",
            "       fill_value='?',\n",
            "            dtype=object), 'params': [{'criterion': 'gini', 'max_depth': 2, 'max_features': 'auto', 'n_estimators': 15}, {'criterion': 'gini', 'max_depth': 2, 'max_features': 'auto', 'n_estimators': 200}, {'criterion': 'gini', 'max_depth': 2, 'max_features': 'auto', 'n_estimators': 30}, {'criterion': 'gini', 'max_depth': 2, 'max_features': 'sqrt', 'n_estimators': 15}, {'criterion': 'gini', 'max_depth': 2, 'max_features': 'sqrt', 'n_estimators': 200}, {'criterion': 'gini', 'max_depth': 2, 'max_features': 'sqrt', 'n_estimators': 30}, {'criterion': 'gini', 'max_depth': 2, 'max_features': 'log2', 'n_estimators': 15}, {'criterion': 'gini', 'max_depth': 2, 'max_features': 'log2', 'n_estimators': 200}, {'criterion': 'gini', 'max_depth': 2, 'max_features': 'log2', 'n_estimators': 30}, {'criterion': 'gini', 'max_depth': 3, 'max_features': 'auto', 'n_estimators': 15}, {'criterion': 'gini', 'max_depth': 3, 'max_features': 'auto', 'n_estimators': 200}, {'criterion': 'gini', 'max_depth': 3, 'max_features': 'auto', 'n_estimators': 30}, {'criterion': 'gini', 'max_depth': 3, 'max_features': 'sqrt', 'n_estimators': 15}, {'criterion': 'gini', 'max_depth': 3, 'max_features': 'sqrt', 'n_estimators': 200}, {'criterion': 'gini', 'max_depth': 3, 'max_features': 'sqrt', 'n_estimators': 30}, {'criterion': 'gini', 'max_depth': 3, 'max_features': 'log2', 'n_estimators': 15}, {'criterion': 'gini', 'max_depth': 3, 'max_features': 'log2', 'n_estimators': 200}, {'criterion': 'gini', 'max_depth': 3, 'max_features': 'log2', 'n_estimators': 30}, {'criterion': 'gini', 'max_depth': 4, 'max_features': 'auto', 'n_estimators': 15}, {'criterion': 'gini', 'max_depth': 4, 'max_features': 'auto', 'n_estimators': 200}, {'criterion': 'gini', 'max_depth': 4, 'max_features': 'auto', 'n_estimators': 30}, {'criterion': 'gini', 'max_depth': 4, 'max_features': 'sqrt', 'n_estimators': 15}, {'criterion': 'gini', 'max_depth': 4, 'max_features': 'sqrt', 'n_estimators': 200}, {'criterion': 'gini', 'max_depth': 4, 'max_features': 'sqrt', 'n_estimators': 30}, {'criterion': 'gini', 'max_depth': 4, 'max_features': 'log2', 'n_estimators': 15}, {'criterion': 'gini', 'max_depth': 4, 'max_features': 'log2', 'n_estimators': 200}, {'criterion': 'gini', 'max_depth': 4, 'max_features': 'log2', 'n_estimators': 30}, {'criterion': 'gini', 'max_depth': 5, 'max_features': 'auto', 'n_estimators': 15}, {'criterion': 'gini', 'max_depth': 5, 'max_features': 'auto', 'n_estimators': 200}, {'criterion': 'gini', 'max_depth': 5, 'max_features': 'auto', 'n_estimators': 30}, {'criterion': 'gini', 'max_depth': 5, 'max_features': 'sqrt', 'n_estimators': 15}, {'criterion': 'gini', 'max_depth': 5, 'max_features': 'sqrt', 'n_estimators': 200}, {'criterion': 'gini', 'max_depth': 5, 'max_features': 'sqrt', 'n_estimators': 30}, {'criterion': 'gini', 'max_depth': 5, 'max_features': 'log2', 'n_estimators': 15}, {'criterion': 'gini', 'max_depth': 5, 'max_features': 'log2', 'n_estimators': 200}, {'criterion': 'gini', 'max_depth': 5, 'max_features': 'log2', 'n_estimators': 30}, {'criterion': 'gini', 'max_depth': 6, 'max_features': 'auto', 'n_estimators': 15}, {'criterion': 'gini', 'max_depth': 6, 'max_features': 'auto', 'n_estimators': 200}, {'criterion': 'gini', 'max_depth': 6, 'max_features': 'auto', 'n_estimators': 30}, {'criterion': 'gini', 'max_depth': 6, 'max_features': 'sqrt', 'n_estimators': 15}, {'criterion': 'gini', 'max_depth': 6, 'max_features': 'sqrt', 'n_estimators': 200}, {'criterion': 'gini', 'max_depth': 6, 'max_features': 'sqrt', 'n_estimators': 30}, {'criterion': 'gini', 'max_depth': 6, 'max_features': 'log2', 'n_estimators': 15}, {'criterion': 'gini', 'max_depth': 6, 'max_features': 'log2', 'n_estimators': 200}, {'criterion': 'gini', 'max_depth': 6, 'max_features': 'log2', 'n_estimators': 30}, {'criterion': 'gini', 'max_depth': 7, 'max_features': 'auto', 'n_estimators': 15}, {'criterion': 'gini', 'max_depth': 7, 'max_features': 'auto', 'n_estimators': 200}, {'criterion': 'gini', 'max_depth': 7, 'max_features': 'auto', 'n_estimators': 30}, {'criterion': 'gini', 'max_depth': 7, 'max_features': 'sqrt', 'n_estimators': 15}, {'criterion': 'gini', 'max_depth': 7, 'max_features': 'sqrt', 'n_estimators': 200}, {'criterion': 'gini', 'max_depth': 7, 'max_features': 'sqrt', 'n_estimators': 30}, {'criterion': 'gini', 'max_depth': 7, 'max_features': 'log2', 'n_estimators': 15}, {'criterion': 'gini', 'max_depth': 7, 'max_features': 'log2', 'n_estimators': 200}, {'criterion': 'gini', 'max_depth': 7, 'max_features': 'log2', 'n_estimators': 30}, {'criterion': 'entropy', 'max_depth': 2, 'max_features': 'auto', 'n_estimators': 15}, {'criterion': 'entropy', 'max_depth': 2, 'max_features': 'auto', 'n_estimators': 200}, {'criterion': 'entropy', 'max_depth': 2, 'max_features': 'auto', 'n_estimators': 30}, {'criterion': 'entropy', 'max_depth': 2, 'max_features': 'sqrt', 'n_estimators': 15}, {'criterion': 'entropy', 'max_depth': 2, 'max_features': 'sqrt', 'n_estimators': 200}, {'criterion': 'entropy', 'max_depth': 2, 'max_features': 'sqrt', 'n_estimators': 30}, {'criterion': 'entropy', 'max_depth': 2, 'max_features': 'log2', 'n_estimators': 15}, {'criterion': 'entropy', 'max_depth': 2, 'max_features': 'log2', 'n_estimators': 200}, {'criterion': 'entropy', 'max_depth': 2, 'max_features': 'log2', 'n_estimators': 30}, {'criterion': 'entropy', 'max_depth': 3, 'max_features': 'auto', 'n_estimators': 15}, {'criterion': 'entropy', 'max_depth': 3, 'max_features': 'auto', 'n_estimators': 200}, {'criterion': 'entropy', 'max_depth': 3, 'max_features': 'auto', 'n_estimators': 30}, {'criterion': 'entropy', 'max_depth': 3, 'max_features': 'sqrt', 'n_estimators': 15}, {'criterion': 'entropy', 'max_depth': 3, 'max_features': 'sqrt', 'n_estimators': 200}, {'criterion': 'entropy', 'max_depth': 3, 'max_features': 'sqrt', 'n_estimators': 30}, {'criterion': 'entropy', 'max_depth': 3, 'max_features': 'log2', 'n_estimators': 15}, {'criterion': 'entropy', 'max_depth': 3, 'max_features': 'log2', 'n_estimators': 200}, {'criterion': 'entropy', 'max_depth': 3, 'max_features': 'log2', 'n_estimators': 30}, {'criterion': 'entropy', 'max_depth': 4, 'max_features': 'auto', 'n_estimators': 15}, {'criterion': 'entropy', 'max_depth': 4, 'max_features': 'auto', 'n_estimators': 200}, {'criterion': 'entropy', 'max_depth': 4, 'max_features': 'auto', 'n_estimators': 30}, {'criterion': 'entropy', 'max_depth': 4, 'max_features': 'sqrt', 'n_estimators': 15}, {'criterion': 'entropy', 'max_depth': 4, 'max_features': 'sqrt', 'n_estimators': 200}, {'criterion': 'entropy', 'max_depth': 4, 'max_features': 'sqrt', 'n_estimators': 30}, {'criterion': 'entropy', 'max_depth': 4, 'max_features': 'log2', 'n_estimators': 15}, {'criterion': 'entropy', 'max_depth': 4, 'max_features': 'log2', 'n_estimators': 200}, {'criterion': 'entropy', 'max_depth': 4, 'max_features': 'log2', 'n_estimators': 30}, {'criterion': 'entropy', 'max_depth': 5, 'max_features': 'auto', 'n_estimators': 15}, {'criterion': 'entropy', 'max_depth': 5, 'max_features': 'auto', 'n_estimators': 200}, {'criterion': 'entropy', 'max_depth': 5, 'max_features': 'auto', 'n_estimators': 30}, {'criterion': 'entropy', 'max_depth': 5, 'max_features': 'sqrt', 'n_estimators': 15}, {'criterion': 'entropy', 'max_depth': 5, 'max_features': 'sqrt', 'n_estimators': 200}, {'criterion': 'entropy', 'max_depth': 5, 'max_features': 'sqrt', 'n_estimators': 30}, {'criterion': 'entropy', 'max_depth': 5, 'max_features': 'log2', 'n_estimators': 15}, {'criterion': 'entropy', 'max_depth': 5, 'max_features': 'log2', 'n_estimators': 200}, {'criterion': 'entropy', 'max_depth': 5, 'max_features': 'log2', 'n_estimators': 30}, {'criterion': 'entropy', 'max_depth': 6, 'max_features': 'auto', 'n_estimators': 15}, {'criterion': 'entropy', 'max_depth': 6, 'max_features': 'auto', 'n_estimators': 200}, {'criterion': 'entropy', 'max_depth': 6, 'max_features': 'auto', 'n_estimators': 30}, {'criterion': 'entropy', 'max_depth': 6, 'max_features': 'sqrt', 'n_estimators': 15}, {'criterion': 'entropy', 'max_depth': 6, 'max_features': 'sqrt', 'n_estimators': 200}, {'criterion': 'entropy', 'max_depth': 6, 'max_features': 'sqrt', 'n_estimators': 30}, {'criterion': 'entropy', 'max_depth': 6, 'max_features': 'log2', 'n_estimators': 15}, {'criterion': 'entropy', 'max_depth': 6, 'max_features': 'log2', 'n_estimators': 200}, {'criterion': 'entropy', 'max_depth': 6, 'max_features': 'log2', 'n_estimators': 30}, {'criterion': 'entropy', 'max_depth': 7, 'max_features': 'auto', 'n_estimators': 15}, {'criterion': 'entropy', 'max_depth': 7, 'max_features': 'auto', 'n_estimators': 200}, {'criterion': 'entropy', 'max_depth': 7, 'max_features': 'auto', 'n_estimators': 30}, {'criterion': 'entropy', 'max_depth': 7, 'max_features': 'sqrt', 'n_estimators': 15}, {'criterion': 'entropy', 'max_depth': 7, 'max_features': 'sqrt', 'n_estimators': 200}, {'criterion': 'entropy', 'max_depth': 7, 'max_features': 'sqrt', 'n_estimators': 30}, {'criterion': 'entropy', 'max_depth': 7, 'max_features': 'log2', 'n_estimators': 15}, {'criterion': 'entropy', 'max_depth': 7, 'max_features': 'log2', 'n_estimators': 200}, {'criterion': 'entropy', 'max_depth': 7, 'max_features': 'log2', 'n_estimators': 30}], 'split0_test_score': array([0.75714286, 0.82857143, 0.78571429, 0.75714286, 0.8       ,\n",
            "       0.82857143, 0.82857143, 0.82857143, 0.8       , 0.78571429,\n",
            "       0.82857143, 0.84285714, 0.82857143, 0.82857143, 0.81428571,\n",
            "       0.82857143, 0.81428571, 0.78571429, 0.81428571, 0.81428571,\n",
            "       0.78571429, 0.81428571, 0.81428571, 0.81428571, 0.84285714,\n",
            "       0.81428571, 0.81428571, 0.81428571, 0.8       , 0.81428571,\n",
            "       0.78571429, 0.78571429, 0.82857143, 0.82857143, 0.81428571,\n",
            "       0.81428571, 0.82857143, 0.81428571, 0.81428571, 0.84285714,\n",
            "       0.82857143, 0.85714286, 0.78571429, 0.81428571, 0.81428571,\n",
            "       0.81428571, 0.82857143, 0.81428571, 0.84285714, 0.78571429,\n",
            "       0.84285714, 0.84285714, 0.8       , 0.81428571, 0.72857143,\n",
            "       0.77142857, 0.75714286, 0.82857143, 0.82857143, 0.81428571,\n",
            "       0.8       , 0.82857143, 0.81428571, 0.81428571, 0.82857143,\n",
            "       0.81428571, 0.78571429, 0.82857143, 0.8       , 0.82857143,\n",
            "       0.82857143, 0.81428571, 0.82857143, 0.81428571, 0.82857143,\n",
            "       0.81428571, 0.81428571, 0.87142857, 0.84285714, 0.81428571,\n",
            "       0.81428571, 0.78571429, 0.81428571, 0.78571429, 0.85714286,\n",
            "       0.84285714, 0.82857143, 0.82857143, 0.82857143, 0.84285714,\n",
            "       0.81428571, 0.82857143, 0.82857143, 0.85714286, 0.81428571,\n",
            "       0.82857143, 0.81428571, 0.81428571, 0.8       , 0.81428571,\n",
            "       0.81428571, 0.82857143, 0.82857143, 0.84285714, 0.82857143,\n",
            "       0.82857143, 0.85714286, 0.81428571]), 'split1_test_score': array([0.87142857, 0.91428571, 0.8       , 0.9       , 0.9       ,\n",
            "       0.91428571, 0.9       , 0.9       , 0.85714286, 0.85714286,\n",
            "       0.94285714, 0.91428571, 0.94285714, 0.95714286, 0.92857143,\n",
            "       0.91428571, 0.95714286, 0.88571429, 0.84285714, 0.94285714,\n",
            "       0.92857143, 0.9       , 0.94285714, 0.92857143, 0.95714286,\n",
            "       0.94285714, 0.95714286, 0.92857143, 0.92857143, 0.94285714,\n",
            "       0.92857143, 0.94285714, 0.92857143, 0.92857143, 0.94285714,\n",
            "       0.91428571, 0.88571429, 0.95714286, 0.95714286, 0.92857143,\n",
            "       0.94285714, 0.88571429, 0.92857143, 0.91428571, 0.88571429,\n",
            "       0.95714286, 0.92857143, 0.92857143, 0.95714286, 0.94285714,\n",
            "       0.91428571, 0.91428571, 0.91428571, 0.95714286, 0.87142857,\n",
            "       0.94285714, 0.9       , 0.91428571, 0.92857143, 0.94285714,\n",
            "       0.88571429, 0.9       , 0.88571429, 0.88571429, 0.94285714,\n",
            "       0.9       , 0.95714286, 0.92857143, 0.94285714, 0.92857143,\n",
            "       0.94285714, 0.92857143, 0.91428571, 0.95714286, 0.91428571,\n",
            "       0.94285714, 0.95714286, 0.92857143, 0.91428571, 0.97142857,\n",
            "       0.91428571, 0.85714286, 0.92857143, 0.91428571, 0.94285714,\n",
            "       0.95714286, 0.9       , 0.88571429, 0.95714286, 0.94285714,\n",
            "       0.94285714, 0.94285714, 0.91428571, 0.91428571, 0.92857143,\n",
            "       0.94285714, 0.94285714, 0.95714286, 0.95714286, 0.88571429,\n",
            "       0.95714286, 0.91428571, 0.9       , 0.94285714, 0.92857143,\n",
            "       0.87142857, 0.95714286, 0.92857143]), 'split2_test_score': array([0.79710145, 0.8115942 , 0.84057971, 0.7826087 , 0.7826087 ,\n",
            "       0.82608696, 0.79710145, 0.7826087 , 0.79710145, 0.8115942 ,\n",
            "       0.86956522, 0.8115942 , 0.86956522, 0.84057971, 0.86956522,\n",
            "       0.86956522, 0.85507246, 0.85507246, 0.85507246, 0.85507246,\n",
            "       0.8115942 , 0.82608696, 0.85507246, 0.85507246, 0.86956522,\n",
            "       0.85507246, 0.84057971, 0.84057971, 0.84057971, 0.85507246,\n",
            "       0.8115942 , 0.84057971, 0.85507246, 0.86956522, 0.85507246,\n",
            "       0.84057971, 0.85507246, 0.86956522, 0.86956522, 0.85507246,\n",
            "       0.84057971, 0.86956522, 0.86956522, 0.85507246, 0.82608696,\n",
            "       0.82608696, 0.85507246, 0.82608696, 0.85507246, 0.85507246,\n",
            "       0.85507246, 0.84057971, 0.86956522, 0.79710145, 0.84057971,\n",
            "       0.85507246, 0.82608696, 0.76811594, 0.79710145, 0.88405797,\n",
            "       0.86956522, 0.82608696, 0.79710145, 0.82608696, 0.84057971,\n",
            "       0.79710145, 0.84057971, 0.86956522, 0.86956522, 0.85507246,\n",
            "       0.86956522, 0.8115942 , 0.82608696, 0.84057971, 0.85507246,\n",
            "       0.79710145, 0.84057971, 0.84057971, 0.79710145, 0.84057971,\n",
            "       0.86956522, 0.85507246, 0.85507246, 0.85507246, 0.86956522,\n",
            "       0.85507246, 0.84057971, 0.86956522, 0.85507246, 0.84057971,\n",
            "       0.85507246, 0.84057971, 0.85507246, 0.8115942 , 0.84057971,\n",
            "       0.85507246, 0.84057971, 0.84057971, 0.84057971, 0.86956522,\n",
            "       0.84057971, 0.82608696, 0.8115942 , 0.85507246, 0.82608696,\n",
            "       0.82608696, 0.86956522, 0.82608696]), 'mean_test_score': array([0.80855763, 0.85148378, 0.80876467, 0.81325052, 0.82753623,\n",
            "       0.8563147 , 0.84189096, 0.83706004, 0.81808144, 0.81815045,\n",
            "       0.88033126, 0.85624569, 0.88033126, 0.87543133, 0.87080745,\n",
            "       0.87080745, 0.87550035, 0.84216701, 0.83740511, 0.87073844,\n",
            "       0.84195997, 0.84679089, 0.87073844, 0.86597654, 0.88985507,\n",
            "       0.87073844, 0.87066943, 0.86114562, 0.85638371, 0.87073844,\n",
            "       0.84195997, 0.85638371, 0.87073844, 0.87556936, 0.87073844,\n",
            "       0.85638371, 0.85645273, 0.88033126, 0.88033126, 0.87550035,\n",
            "       0.87066943, 0.87080745, 0.86128364, 0.86121463, 0.84202899,\n",
            "       0.86583851, 0.87073844, 0.8563147 , 0.88502415, 0.86121463,\n",
            "       0.87073844, 0.86590752, 0.86128364, 0.85617667, 0.81352657,\n",
            "       0.85645273, 0.82774327, 0.83699103, 0.85141477, 0.88040028,\n",
            "       0.85175983, 0.8515528 , 0.83236715, 0.84202899, 0.87066943,\n",
            "       0.83712905, 0.86114562, 0.87556936, 0.87080745, 0.87073844,\n",
            "       0.88033126, 0.85148378, 0.8563147 , 0.87066943, 0.86597654,\n",
            "       0.85141477, 0.87066943, 0.88019324, 0.85141477, 0.87543133,\n",
            "       0.86604555, 0.8326432 , 0.86597654, 0.85169082, 0.88985507,\n",
            "       0.88502415, 0.85638371, 0.86128364, 0.88026225, 0.87543133,\n",
            "       0.87073844, 0.87066943, 0.86597654, 0.86100759, 0.86114562,\n",
            "       0.87550035, 0.86590752, 0.87066943, 0.86590752, 0.85652174,\n",
            "       0.87066943, 0.8563147 , 0.84672188, 0.88026225, 0.8610766 ,\n",
            "       0.84202899, 0.89461698, 0.8563147 ]), 'std_test_score': array([0.04735497, 0.04494529, 0.02324031, 0.06221592, 0.05172918,\n",
            "       0.04100424, 0.04305102, 0.04829922, 0.02764593, 0.02952681,\n",
            "       0.04727393, 0.04297927, 0.04727393, 0.05798638, 0.04666522,\n",
            "       0.03500373, 0.06008336, 0.04183231, 0.01709158, 0.05364526,\n",
            "       0.06214821, 0.03793173, 0.05364526, 0.04728975, 0.04881301,\n",
            "       0.05364526, 0.06208104, 0.04887074, 0.05366549, 0.05364526,\n",
            "       0.06214821, 0.06511935, 0.04230104, 0.04104499, 0.05364526,\n",
            "       0.0423267 , 0.02334888, 0.05881594, 0.05881594, 0.03785682,\n",
            "       0.0512793 , 0.01169726, 0.05861444, 0.0410552 , 0.03126363,\n",
            "       0.06474144, 0.04230104, 0.05131987, 0.05123888, 0.06430015,\n",
            "       0.03119377, 0.03422118, 0.047023  , 0.07173773, 0.06137831,\n",
            "       0.06999223, 0.05833294, 0.05996981, 0.05605029, 0.05255275,\n",
            "       0.03718878, 0.03427236, 0.03836893, 0.03126363, 0.0512793 ,\n",
            "       0.0450066 , 0.07148033, 0.04104499, 0.0583278 , 0.04230104,\n",
            "       0.04727393, 0.05452027, 0.04100424, 0.06208104, 0.0358321 ,\n",
            "       0.06503899, 0.06208104, 0.03645317, 0.04822145, 0.06872382,\n",
            "       0.04090062, 0.03319452, 0.04728975, 0.0525435 , 0.03781969,\n",
            "       0.05123888, 0.03122857, 0.02405223, 0.05542892, 0.04768631,\n",
            "       0.05364526, 0.0512793 , 0.0358321 , 0.04201261, 0.04887074,\n",
            "       0.04884178, 0.05546036, 0.06208104, 0.06660627, 0.03058441,\n",
            "       0.06208104, 0.04100424, 0.03830557, 0.04454132, 0.04773682,\n",
            "       0.02081338, 0.04450238, 0.05131987]), 'rank_test_score': array([108,  81, 107, 106, 102,  71,  94,  97, 104, 103,   7,  76,   7,\n",
            "        20,  23,  23,  17,  88,  95,  27,  92,  86,  27,  46,   2,  27,\n",
            "        37,  59,  67,  27,  92,  67,  27,  15,  27,  67,  65,   7,   7,\n",
            "        17,  37,  23,  54,  57,  90,  53,  27,  71,   4,  57,  27,  50,\n",
            "        54,  77, 105,  65, 101,  98,  83,   6,  78,  80, 100,  90,  37,\n",
            "        96,  59,  15,  23,  27,   7,  81,  71,  37,  46,  83,  37,  14,\n",
            "        83,  20,  45,  99,  46,  79,   3,   4,  67,  54,  12,  20,  27,\n",
            "        37,  46,  63,  59,  17,  50,  37,  50,  64,  37,  71,  87,  12,\n",
            "        62,  89,   1,  71], dtype=int32)}\n"
          ]
        }
      ]
    },
    {
      "cell_type": "code",
      "source": [
        "result_02 = pd.DataFrame(r_02.cv_results_)\n",
        "result_02.head(5)"
      ],
      "metadata": {
        "colab": {
          "base_uri": "https://localhost:8080/",
          "height": 617
        },
        "id": "yZo-CC0rb6Kp",
        "outputId": "88f705fd-d069-46d6-b4ef-e9a576772013"
      },
      "id": "yZo-CC0rb6Kp",
      "execution_count": 99,
      "outputs": [
        {
          "output_type": "execute_result",
          "data": {
            "text/plain": [
              "   mean_fit_time  std_fit_time  mean_score_time  std_score_time  \\\n",
              "0       0.028311      0.007003         0.004215        0.000216   \n",
              "1       0.269342      0.008125         0.022877        0.000202   \n",
              "2       0.043390      0.001158         0.005634        0.000162   \n",
              "3       0.024127      0.001892         0.004286        0.000247   \n",
              "4       0.269434      0.004289         0.024474        0.000901   \n",
              "\n",
              "  param_criterion param_max_depth param_max_features param_n_estimators  \\\n",
              "0            gini               2               auto                 15   \n",
              "1            gini               2               auto                200   \n",
              "2            gini               2               auto                 30   \n",
              "3            gini               2               sqrt                 15   \n",
              "4            gini               2               sqrt                200   \n",
              "\n",
              "                                              params  split0_test_score  \\\n",
              "0  {'criterion': 'gini', 'max_depth': 2, 'max_fea...           0.757143   \n",
              "1  {'criterion': 'gini', 'max_depth': 2, 'max_fea...           0.828571   \n",
              "2  {'criterion': 'gini', 'max_depth': 2, 'max_fea...           0.785714   \n",
              "3  {'criterion': 'gini', 'max_depth': 2, 'max_fea...           0.757143   \n",
              "4  {'criterion': 'gini', 'max_depth': 2, 'max_fea...           0.800000   \n",
              "\n",
              "   split1_test_score  split2_test_score  mean_test_score  std_test_score  \\\n",
              "0           0.871429           0.797101         0.808558        0.047355   \n",
              "1           0.914286           0.811594         0.851484        0.044945   \n",
              "2           0.800000           0.840580         0.808765        0.023240   \n",
              "3           0.900000           0.782609         0.813251        0.062216   \n",
              "4           0.900000           0.782609         0.827536        0.051729   \n",
              "\n",
              "   rank_test_score  \n",
              "0              108  \n",
              "1               81  \n",
              "2              107  \n",
              "3              106  \n",
              "4              102  "
            ],
            "text/html": [
              "\n",
              "  <div id=\"df-afb3bdc7-e212-40a9-bc1f-dda3c3667e5c\">\n",
              "    <div class=\"colab-df-container\">\n",
              "      <div>\n",
              "<style scoped>\n",
              "    .dataframe tbody tr th:only-of-type {\n",
              "        vertical-align: middle;\n",
              "    }\n",
              "\n",
              "    .dataframe tbody tr th {\n",
              "        vertical-align: top;\n",
              "    }\n",
              "\n",
              "    .dataframe thead th {\n",
              "        text-align: right;\n",
              "    }\n",
              "</style>\n",
              "<table border=\"1\" class=\"dataframe\">\n",
              "  <thead>\n",
              "    <tr style=\"text-align: right;\">\n",
              "      <th></th>\n",
              "      <th>mean_fit_time</th>\n",
              "      <th>std_fit_time</th>\n",
              "      <th>mean_score_time</th>\n",
              "      <th>std_score_time</th>\n",
              "      <th>param_criterion</th>\n",
              "      <th>param_max_depth</th>\n",
              "      <th>param_max_features</th>\n",
              "      <th>param_n_estimators</th>\n",
              "      <th>params</th>\n",
              "      <th>split0_test_score</th>\n",
              "      <th>split1_test_score</th>\n",
              "      <th>split2_test_score</th>\n",
              "      <th>mean_test_score</th>\n",
              "      <th>std_test_score</th>\n",
              "      <th>rank_test_score</th>\n",
              "    </tr>\n",
              "  </thead>\n",
              "  <tbody>\n",
              "    <tr>\n",
              "      <th>0</th>\n",
              "      <td>0.028311</td>\n",
              "      <td>0.007003</td>\n",
              "      <td>0.004215</td>\n",
              "      <td>0.000216</td>\n",
              "      <td>gini</td>\n",
              "      <td>2</td>\n",
              "      <td>auto</td>\n",
              "      <td>15</td>\n",
              "      <td>{'criterion': 'gini', 'max_depth': 2, 'max_fea...</td>\n",
              "      <td>0.757143</td>\n",
              "      <td>0.871429</td>\n",
              "      <td>0.797101</td>\n",
              "      <td>0.808558</td>\n",
              "      <td>0.047355</td>\n",
              "      <td>108</td>\n",
              "    </tr>\n",
              "    <tr>\n",
              "      <th>1</th>\n",
              "      <td>0.269342</td>\n",
              "      <td>0.008125</td>\n",
              "      <td>0.022877</td>\n",
              "      <td>0.000202</td>\n",
              "      <td>gini</td>\n",
              "      <td>2</td>\n",
              "      <td>auto</td>\n",
              "      <td>200</td>\n",
              "      <td>{'criterion': 'gini', 'max_depth': 2, 'max_fea...</td>\n",
              "      <td>0.828571</td>\n",
              "      <td>0.914286</td>\n",
              "      <td>0.811594</td>\n",
              "      <td>0.851484</td>\n",
              "      <td>0.044945</td>\n",
              "      <td>81</td>\n",
              "    </tr>\n",
              "    <tr>\n",
              "      <th>2</th>\n",
              "      <td>0.043390</td>\n",
              "      <td>0.001158</td>\n",
              "      <td>0.005634</td>\n",
              "      <td>0.000162</td>\n",
              "      <td>gini</td>\n",
              "      <td>2</td>\n",
              "      <td>auto</td>\n",
              "      <td>30</td>\n",
              "      <td>{'criterion': 'gini', 'max_depth': 2, 'max_fea...</td>\n",
              "      <td>0.785714</td>\n",
              "      <td>0.800000</td>\n",
              "      <td>0.840580</td>\n",
              "      <td>0.808765</td>\n",
              "      <td>0.023240</td>\n",
              "      <td>107</td>\n",
              "    </tr>\n",
              "    <tr>\n",
              "      <th>3</th>\n",
              "      <td>0.024127</td>\n",
              "      <td>0.001892</td>\n",
              "      <td>0.004286</td>\n",
              "      <td>0.000247</td>\n",
              "      <td>gini</td>\n",
              "      <td>2</td>\n",
              "      <td>sqrt</td>\n",
              "      <td>15</td>\n",
              "      <td>{'criterion': 'gini', 'max_depth': 2, 'max_fea...</td>\n",
              "      <td>0.757143</td>\n",
              "      <td>0.900000</td>\n",
              "      <td>0.782609</td>\n",
              "      <td>0.813251</td>\n",
              "      <td>0.062216</td>\n",
              "      <td>106</td>\n",
              "    </tr>\n",
              "    <tr>\n",
              "      <th>4</th>\n",
              "      <td>0.269434</td>\n",
              "      <td>0.004289</td>\n",
              "      <td>0.024474</td>\n",
              "      <td>0.000901</td>\n",
              "      <td>gini</td>\n",
              "      <td>2</td>\n",
              "      <td>sqrt</td>\n",
              "      <td>200</td>\n",
              "      <td>{'criterion': 'gini', 'max_depth': 2, 'max_fea...</td>\n",
              "      <td>0.800000</td>\n",
              "      <td>0.900000</td>\n",
              "      <td>0.782609</td>\n",
              "      <td>0.827536</td>\n",
              "      <td>0.051729</td>\n",
              "      <td>102</td>\n",
              "    </tr>\n",
              "  </tbody>\n",
              "</table>\n",
              "</div>\n",
              "      <button class=\"colab-df-convert\" onclick=\"convertToInteractive('df-afb3bdc7-e212-40a9-bc1f-dda3c3667e5c')\"\n",
              "              title=\"Convert this dataframe to an interactive table.\"\n",
              "              style=\"display:none;\">\n",
              "        \n",
              "  <svg xmlns=\"http://www.w3.org/2000/svg\" height=\"24px\"viewBox=\"0 0 24 24\"\n",
              "       width=\"24px\">\n",
              "    <path d=\"M0 0h24v24H0V0z\" fill=\"none\"/>\n",
              "    <path d=\"M18.56 5.44l.94 2.06.94-2.06 2.06-.94-2.06-.94-.94-2.06-.94 2.06-2.06.94zm-11 1L8.5 8.5l.94-2.06 2.06-.94-2.06-.94L8.5 2.5l-.94 2.06-2.06.94zm10 10l.94 2.06.94-2.06 2.06-.94-2.06-.94-.94-2.06-.94 2.06-2.06.94z\"/><path d=\"M17.41 7.96l-1.37-1.37c-.4-.4-.92-.59-1.43-.59-.52 0-1.04.2-1.43.59L10.3 9.45l-7.72 7.72c-.78.78-.78 2.05 0 2.83L4 21.41c.39.39.9.59 1.41.59.51 0 1.02-.2 1.41-.59l7.78-7.78 2.81-2.81c.8-.78.8-2.07 0-2.86zM5.41 20L4 18.59l7.72-7.72 1.47 1.35L5.41 20z\"/>\n",
              "  </svg>\n",
              "      </button>\n",
              "      \n",
              "  <style>\n",
              "    .colab-df-container {\n",
              "      display:flex;\n",
              "      flex-wrap:wrap;\n",
              "      gap: 12px;\n",
              "    }\n",
              "\n",
              "    .colab-df-convert {\n",
              "      background-color: #E8F0FE;\n",
              "      border: none;\n",
              "      border-radius: 50%;\n",
              "      cursor: pointer;\n",
              "      display: none;\n",
              "      fill: #1967D2;\n",
              "      height: 32px;\n",
              "      padding: 0 0 0 0;\n",
              "      width: 32px;\n",
              "    }\n",
              "\n",
              "    .colab-df-convert:hover {\n",
              "      background-color: #E2EBFA;\n",
              "      box-shadow: 0px 1px 2px rgba(60, 64, 67, 0.3), 0px 1px 3px 1px rgba(60, 64, 67, 0.15);\n",
              "      fill: #174EA6;\n",
              "    }\n",
              "\n",
              "    [theme=dark] .colab-df-convert {\n",
              "      background-color: #3B4455;\n",
              "      fill: #D2E3FC;\n",
              "    }\n",
              "\n",
              "    [theme=dark] .colab-df-convert:hover {\n",
              "      background-color: #434B5C;\n",
              "      box-shadow: 0px 1px 3px 1px rgba(0, 0, 0, 0.15);\n",
              "      filter: drop-shadow(0px 1px 2px rgba(0, 0, 0, 0.3));\n",
              "      fill: #FFFFFF;\n",
              "    }\n",
              "  </style>\n",
              "\n",
              "      <script>\n",
              "        const buttonEl =\n",
              "          document.querySelector('#df-afb3bdc7-e212-40a9-bc1f-dda3c3667e5c button.colab-df-convert');\n",
              "        buttonEl.style.display =\n",
              "          google.colab.kernel.accessAllowed ? 'block' : 'none';\n",
              "\n",
              "        async function convertToInteractive(key) {\n",
              "          const element = document.querySelector('#df-afb3bdc7-e212-40a9-bc1f-dda3c3667e5c');\n",
              "          const dataTable =\n",
              "            await google.colab.kernel.invokeFunction('convertToInteractive',\n",
              "                                                     [key], {});\n",
              "          if (!dataTable) return;\n",
              "\n",
              "          const docLinkHtml = 'Like what you see? Visit the ' +\n",
              "            '<a target=\"_blank\" href=https://colab.research.google.com/notebooks/data_table.ipynb>data table notebook</a>'\n",
              "            + ' to learn more about interactive tables.';\n",
              "          element.innerHTML = '';\n",
              "          dataTable['output_type'] = 'display_data';\n",
              "          await google.colab.output.renderOutput(dataTable, element);\n",
              "          const docLink = document.createElement('div');\n",
              "          docLink.innerHTML = docLinkHtml;\n",
              "          element.appendChild(docLink);\n",
              "        }\n",
              "      </script>\n",
              "    </div>\n",
              "  </div>\n",
              "  "
            ]
          },
          "metadata": {},
          "execution_count": 99
        }
      ]
    },
    {
      "cell_type": "code",
      "source": [
        "r_02.best_score_"
      ],
      "metadata": {
        "colab": {
          "base_uri": "https://localhost:8080/"
        },
        "id": "yT2wgVGNcFfQ",
        "outputId": "6b3b26f3-e04d-431d-a54f-90f9149ed5a9"
      },
      "id": "yT2wgVGNcFfQ",
      "execution_count": 100,
      "outputs": [
        {
          "output_type": "execute_result",
          "data": {
            "text/plain": [
              "0.8946169772256729"
            ]
          },
          "metadata": {},
          "execution_count": 100
        }
      ]
    },
    {
      "cell_type": "code",
      "source": [
        "new_r_02 = r_02.best_estimator_ #max_depth=7, max_features='log2', n_estimators=200\n",
        "new_r_02"
      ],
      "metadata": {
        "colab": {
          "base_uri": "https://localhost:8080/"
        },
        "id": "TNQcM6arcRd4",
        "outputId": "48cfa5d7-e926-4be8-c052-1eed90fb9876"
      },
      "id": "TNQcM6arcRd4",
      "execution_count": 101,
      "outputs": [
        {
          "output_type": "execute_result",
          "data": {
            "text/plain": [
              "RandomForestClassifier(criterion='entropy', max_depth=7, max_features='log2',\n",
              "                       n_estimators=200)"
            ]
          },
          "metadata": {},
          "execution_count": 101
        }
      ]
    },
    {
      "cell_type": "code",
      "source": [
        "new_r_02.fit(X_train, y_train) #max_depth=7, max_features='log2', n_estimators=15"
      ],
      "metadata": {
        "colab": {
          "base_uri": "https://localhost:8080/"
        },
        "id": "uSv9Hr0hcjm6",
        "outputId": "8fb5a011-8492-4dd9-87d7-654cb971c7ac"
      },
      "id": "uSv9Hr0hcjm6",
      "execution_count": 102,
      "outputs": [
        {
          "output_type": "execute_result",
          "data": {
            "text/plain": [
              "RandomForestClassifier(criterion='entropy', max_depth=7, max_features='log2',\n",
              "                       n_estimators=200)"
            ]
          },
          "metadata": {},
          "execution_count": 102
        }
      ]
    },
    {
      "cell_type": "markdown",
      "source": [
        "**4. Accuracy of Random Forest using GridSearchCV Optimizer**"
      ],
      "metadata": {
        "id": "dtg50xzFFfkw"
      },
      "id": "dtg50xzFFfkw"
    },
    {
      "cell_type": "code",
      "source": [
        "new_r_02.score(X_test, y_test)"
      ],
      "metadata": {
        "colab": {
          "base_uri": "https://localhost:8080/"
        },
        "id": "3j7qq5Mbc7WA",
        "outputId": "4a4edd39-cdd2-4029-890b-b736f0970ce4"
      },
      "id": "3j7qq5Mbc7WA",
      "execution_count": 103,
      "outputs": [
        {
          "output_type": "execute_result",
          "data": {
            "text/plain": [
              "0.7777777777777778"
            ]
          },
          "metadata": {},
          "execution_count": 103
        }
      ]
    },
    {
      "cell_type": "markdown",
      "source": [
        "#**Accuracy Comparision of Decision Tree, Random Forest and Random Forest with Tuning**"
      ],
      "metadata": {
        "id": "saCTrm1Pgs9Z"
      },
      "id": "saCTrm1Pgs9Z"
    },
    {
      "cell_type": "code",
      "source": [
        "d = 'Accuracy of Decision Tree'\n",
        "r = 'Accuracy of Random Forest'\n",
        "r_rs = 'Accuracy of Random Forest using RandomizedSearchCV'\n",
        "r_gs = 'Accuracy of Random Forest using GridSearchCV'\n",
        "\n",
        "df1=pd.DataFrame([[d,0.6777777777777778],[r, 0.7666666666666667],  [r_rs, 0.7888888888888889], [r_gs, 0.7777777777777778]],\n",
        "                 columns=['Accuracy', 'Value'])\n",
        "df1\n"
      ],
      "metadata": {
        "colab": {
          "base_uri": "https://localhost:8080/",
          "height": 175
        },
        "id": "gewcUtDPfgeR",
        "outputId": "245d52cd-feae-403d-c1c1-db2cd69fd447"
      },
      "id": "gewcUtDPfgeR",
      "execution_count": 104,
      "outputs": [
        {
          "output_type": "execute_result",
          "data": {
            "text/plain": [
              "                                            Accuracy     Value\n",
              "0                          Accuracy of Decision Tree  0.677778\n",
              "1                          Accuracy of Random Forest  0.766667\n",
              "2  Accuracy of Random Forest using RandomizedSear...  0.788889\n",
              "3       Accuracy of Random Forest using GridSearchCV  0.777778"
            ],
            "text/html": [
              "\n",
              "  <div id=\"df-a1d156cc-cf7b-455c-9c22-5b2196eb4305\">\n",
              "    <div class=\"colab-df-container\">\n",
              "      <div>\n",
              "<style scoped>\n",
              "    .dataframe tbody tr th:only-of-type {\n",
              "        vertical-align: middle;\n",
              "    }\n",
              "\n",
              "    .dataframe tbody tr th {\n",
              "        vertical-align: top;\n",
              "    }\n",
              "\n",
              "    .dataframe thead th {\n",
              "        text-align: right;\n",
              "    }\n",
              "</style>\n",
              "<table border=\"1\" class=\"dataframe\">\n",
              "  <thead>\n",
              "    <tr style=\"text-align: right;\">\n",
              "      <th></th>\n",
              "      <th>Accuracy</th>\n",
              "      <th>Value</th>\n",
              "    </tr>\n",
              "  </thead>\n",
              "  <tbody>\n",
              "    <tr>\n",
              "      <th>0</th>\n",
              "      <td>Accuracy of Decision Tree</td>\n",
              "      <td>0.677778</td>\n",
              "    </tr>\n",
              "    <tr>\n",
              "      <th>1</th>\n",
              "      <td>Accuracy of Random Forest</td>\n",
              "      <td>0.766667</td>\n",
              "    </tr>\n",
              "    <tr>\n",
              "      <th>2</th>\n",
              "      <td>Accuracy of Random Forest using RandomizedSear...</td>\n",
              "      <td>0.788889</td>\n",
              "    </tr>\n",
              "    <tr>\n",
              "      <th>3</th>\n",
              "      <td>Accuracy of Random Forest using GridSearchCV</td>\n",
              "      <td>0.777778</td>\n",
              "    </tr>\n",
              "  </tbody>\n",
              "</table>\n",
              "</div>\n",
              "      <button class=\"colab-df-convert\" onclick=\"convertToInteractive('df-a1d156cc-cf7b-455c-9c22-5b2196eb4305')\"\n",
              "              title=\"Convert this dataframe to an interactive table.\"\n",
              "              style=\"display:none;\">\n",
              "        \n",
              "  <svg xmlns=\"http://www.w3.org/2000/svg\" height=\"24px\"viewBox=\"0 0 24 24\"\n",
              "       width=\"24px\">\n",
              "    <path d=\"M0 0h24v24H0V0z\" fill=\"none\"/>\n",
              "    <path d=\"M18.56 5.44l.94 2.06.94-2.06 2.06-.94-2.06-.94-.94-2.06-.94 2.06-2.06.94zm-11 1L8.5 8.5l.94-2.06 2.06-.94-2.06-.94L8.5 2.5l-.94 2.06-2.06.94zm10 10l.94 2.06.94-2.06 2.06-.94-2.06-.94-.94-2.06-.94 2.06-2.06.94z\"/><path d=\"M17.41 7.96l-1.37-1.37c-.4-.4-.92-.59-1.43-.59-.52 0-1.04.2-1.43.59L10.3 9.45l-7.72 7.72c-.78.78-.78 2.05 0 2.83L4 21.41c.39.39.9.59 1.41.59.51 0 1.02-.2 1.41-.59l7.78-7.78 2.81-2.81c.8-.78.8-2.07 0-2.86zM5.41 20L4 18.59l7.72-7.72 1.47 1.35L5.41 20z\"/>\n",
              "  </svg>\n",
              "      </button>\n",
              "      \n",
              "  <style>\n",
              "    .colab-df-container {\n",
              "      display:flex;\n",
              "      flex-wrap:wrap;\n",
              "      gap: 12px;\n",
              "    }\n",
              "\n",
              "    .colab-df-convert {\n",
              "      background-color: #E8F0FE;\n",
              "      border: none;\n",
              "      border-radius: 50%;\n",
              "      cursor: pointer;\n",
              "      display: none;\n",
              "      fill: #1967D2;\n",
              "      height: 32px;\n",
              "      padding: 0 0 0 0;\n",
              "      width: 32px;\n",
              "    }\n",
              "\n",
              "    .colab-df-convert:hover {\n",
              "      background-color: #E2EBFA;\n",
              "      box-shadow: 0px 1px 2px rgba(60, 64, 67, 0.3), 0px 1px 3px 1px rgba(60, 64, 67, 0.15);\n",
              "      fill: #174EA6;\n",
              "    }\n",
              "\n",
              "    [theme=dark] .colab-df-convert {\n",
              "      background-color: #3B4455;\n",
              "      fill: #D2E3FC;\n",
              "    }\n",
              "\n",
              "    [theme=dark] .colab-df-convert:hover {\n",
              "      background-color: #434B5C;\n",
              "      box-shadow: 0px 1px 3px 1px rgba(0, 0, 0, 0.15);\n",
              "      filter: drop-shadow(0px 1px 2px rgba(0, 0, 0, 0.3));\n",
              "      fill: #FFFFFF;\n",
              "    }\n",
              "  </style>\n",
              "\n",
              "      <script>\n",
              "        const buttonEl =\n",
              "          document.querySelector('#df-a1d156cc-cf7b-455c-9c22-5b2196eb4305 button.colab-df-convert');\n",
              "        buttonEl.style.display =\n",
              "          google.colab.kernel.accessAllowed ? 'block' : 'none';\n",
              "\n",
              "        async function convertToInteractive(key) {\n",
              "          const element = document.querySelector('#df-a1d156cc-cf7b-455c-9c22-5b2196eb4305');\n",
              "          const dataTable =\n",
              "            await google.colab.kernel.invokeFunction('convertToInteractive',\n",
              "                                                     [key], {});\n",
              "          if (!dataTable) return;\n",
              "\n",
              "          const docLinkHtml = 'Like what you see? Visit the ' +\n",
              "            '<a target=\"_blank\" href=https://colab.research.google.com/notebooks/data_table.ipynb>data table notebook</a>'\n",
              "            + ' to learn more about interactive tables.';\n",
              "          element.innerHTML = '';\n",
              "          dataTable['output_type'] = 'display_data';\n",
              "          await google.colab.output.renderOutput(dataTable, element);\n",
              "          const docLink = document.createElement('div');\n",
              "          docLink.innerHTML = docLinkHtml;\n",
              "          element.appendChild(docLink);\n",
              "        }\n",
              "      </script>\n",
              "    </div>\n",
              "  </div>\n",
              "  "
            ]
          },
          "metadata": {},
          "execution_count": 104
        }
      ]
    },
    {
      "cell_type": "code",
      "source": [
        "sns.set()\n",
        "sns.barplot(x=\"Value\", y=\"Accuracy\",  data=df1, palette=\"Set2\")"
      ],
      "metadata": {
        "colab": {
          "base_uri": "https://localhost:8080/",
          "height": 302
        },
        "id": "Vbet75zToqmw",
        "outputId": "fe0e302f-7abf-4fe5-90d3-a330968539af"
      },
      "id": "Vbet75zToqmw",
      "execution_count": 105,
      "outputs": [
        {
          "output_type": "execute_result",
          "data": {
            "text/plain": [
              "<matplotlib.axes._subplots.AxesSubplot at 0x7f5aec7d2890>"
            ]
          },
          "metadata": {},
          "execution_count": 105
        },
        {
          "output_type": "display_data",
          "data": {
            "text/plain": [
              "<Figure size 432x288 with 1 Axes>"
            ],
            "image/png": "[encoded data removed]"
          },
          "metadata": {}
        }
      ]
    }
  ],
  "metadata": {
    "kernelspec": {
      "display_name": "Python 3",
      "language": "python",
      "name": "python3"
    },
    "language_info": {
      "codemirror_mode": {
        "name": "ipython",
        "version": 3
      },
      "file_extension": ".py",
      "mimetype": "text/x-python",
      "name": "python",
      "nbconvert_exporter": "python",
      "pygments_lexer": "ipython3",
      "version": "3.8.8"
    },
    "colab": {
      "name": "HW5 Decision Tree and Random Forest-v1.ipynb",
      "provenance": [],
      "collapsed_sections": [
        "eaab2a87",
        "10d883c4"
      ],
      "include_colab_link": true
    }
  },
  "nbformat": 4,
  "nbformat_minor": 5
}